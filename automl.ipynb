{
  "cells": [
    {
      "cell_type": "markdown",
      "source": [
        "# Automated ML"
      ],
      "metadata": {}
    },
    {
      "cell_type": "markdown",
      "source": [
        "### Import libraries"
      ],
      "metadata": {
        "nteract": {
          "transient": {
            "deleting": false
          }
        }
      }
    },
    {
      "cell_type": "code",
      "source": [
        "from azureml.core import Workspace, Experiment"
      ],
      "outputs": [],
      "execution_count": 1,
      "metadata": {
        "gather": {
          "logged": 1664083819085
        },
        "jupyter": {
          "outputs_hidden": false,
          "source_hidden": false
        },
        "nteract": {
          "transient": {
            "deleting": false
          }
        }
      }
    },
    {
      "cell_type": "markdown",
      "source": [
        "### Create workspace and experiment instances"
      ],
      "metadata": {
        "nteract": {
          "transient": {
            "deleting": false
          }
        }
      }
    },
    {
      "cell_type": "code",
      "source": [
        "ws = Workspace.from_config()\n",
        "\n",
        "# choose a name for experiment\n",
        "experiment_name = 'capstone-spam-classification-experiment'\n",
        "\n",
        "experiment=Experiment(ws, experiment_name)"
      ],
      "outputs": [],
      "execution_count": 2,
      "metadata": {
        "gather": {
          "logged": 1664083821560
        },
        "jupyter": {
          "outputs_hidden": false,
          "source_hidden": false
        },
        "nteract": {
          "transient": {
            "deleting": false
          }
        }
      }
    },
    {
      "cell_type": "markdown",
      "source": [
        "###  Dataset Overview\n",
        "The dataset we are using is a spam classification dataset obtained from kaggle. We are going to perform multi-class text classification. "
      ],
      "metadata": {}
    },
    {
      "cell_type": "markdown",
      "source": [
        "### Get data"
      ],
      "metadata": {
        "nteract": {
          "transient": {
            "deleting": false
          }
        }
      }
    },
    {
      "cell_type": "code",
      "source": [
        "from azureml.core import Dataset\n",
        "training_dataset = Dataset.get_by_name(ws, name='capstone-spam-dataset')"
      ],
      "outputs": [],
      "execution_count": 3,
      "metadata": {
        "gather": {
          "logged": 1664083821698
        },
        "jupyter": {
          "outputs_hidden": false,
          "source_hidden": false
        },
        "nteract": {
          "transient": {
            "deleting": false
          }
        }
      }
    },
    {
      "cell_type": "code",
      "source": [
        "training_dataset.to_pandas_dataframe()"
      ],
      "outputs": [
        {
          "output_type": "execute_result",
          "execution_count": 81,
          "data": {
            "text/plain": "     Category                                            Message Column3\n0         ham  Go until jurong point, crazy.. Available only ...    None\n1         ham                      Ok lar... Joking wif u oni...    None\n2        spam  Free entry in 2 a wkly comp to win FA Cup fina...    None\n3         ham  U dun say so early hor... U c already then say...    None\n4         ham  Nah I don't think he goes to usf, he lives aro...    None\n...       ...                                                ...     ...\n5569     spam  This is the 2nd time we have tried 2 contact u...    None\n5570      ham               Will ü b going to esplanade fr home?    None\n5571      ham  Pity, * was in mood for that. So...any other s...    None\n5572      ham  The guy did some bitching but I acted like i'd...    None\n5573      ham                         Rofl. Its true to its name    None\n\n[5574 rows x 3 columns]",
            "text/html": "<div>\n<style scoped>\n    .dataframe tbody tr th:only-of-type {\n        vertical-align: middle;\n    }\n\n    .dataframe tbody tr th {\n        vertical-align: top;\n    }\n\n    .dataframe thead th {\n        text-align: right;\n    }\n</style>\n<table border=\"1\" class=\"dataframe\">\n  <thead>\n    <tr style=\"text-align: right;\">\n      <th></th>\n      <th>Category</th>\n      <th>Message</th>\n      <th>Column3</th>\n    </tr>\n  </thead>\n  <tbody>\n    <tr>\n      <th>0</th>\n      <td>ham</td>\n      <td>Go until jurong point, crazy.. Available only ...</td>\n      <td>None</td>\n    </tr>\n    <tr>\n      <th>1</th>\n      <td>ham</td>\n      <td>Ok lar... Joking wif u oni...</td>\n      <td>None</td>\n    </tr>\n    <tr>\n      <th>2</th>\n      <td>spam</td>\n      <td>Free entry in 2 a wkly comp to win FA Cup fina...</td>\n      <td>None</td>\n    </tr>\n    <tr>\n      <th>3</th>\n      <td>ham</td>\n      <td>U dun say so early hor... U c already then say...</td>\n      <td>None</td>\n    </tr>\n    <tr>\n      <th>4</th>\n      <td>ham</td>\n      <td>Nah I don't think he goes to usf, he lives aro...</td>\n      <td>None</td>\n    </tr>\n    <tr>\n      <th>...</th>\n      <td>...</td>\n      <td>...</td>\n      <td>...</td>\n    </tr>\n    <tr>\n      <th>5569</th>\n      <td>spam</td>\n      <td>This is the 2nd time we have tried 2 contact u...</td>\n      <td>None</td>\n    </tr>\n    <tr>\n      <th>5570</th>\n      <td>ham</td>\n      <td>Will ü b going to esplanade fr home?</td>\n      <td>None</td>\n    </tr>\n    <tr>\n      <th>5571</th>\n      <td>ham</td>\n      <td>Pity, * was in mood for that. So...any other s...</td>\n      <td>None</td>\n    </tr>\n    <tr>\n      <th>5572</th>\n      <td>ham</td>\n      <td>The guy did some bitching but I acted like i'd...</td>\n      <td>None</td>\n    </tr>\n    <tr>\n      <th>5573</th>\n      <td>ham</td>\n      <td>Rofl. Its true to its name</td>\n      <td>None</td>\n    </tr>\n  </tbody>\n</table>\n<p>5574 rows × 3 columns</p>\n</div>"
          },
          "metadata": {}
        }
      ],
      "execution_count": 81,
      "metadata": {
        "jupyter": {
          "source_hidden": false,
          "outputs_hidden": false
        },
        "nteract": {
          "transient": {
            "deleting": false
          }
        },
        "gather": {
          "logged": 1664103736141
        }
      }
    },
    {
      "cell_type": "markdown",
      "source": [
        "### Connect to compute target"
      ],
      "metadata": {
        "nteract": {
          "transient": {
            "deleting": false
          }
        }
      }
    },
    {
      "cell_type": "code",
      "source": [
        "from azureml.core.compute import ComputeTarget, AmlCompute\n",
        "from azureml.core.compute_target import ComputeTargetException\n",
        "\n",
        "# TODO: Create compute cluster\n",
        "cluster_name = \"capstone-compute-cluster\"\n",
        "\n",
        "# Verify that cluster does not exist already\n",
        "try:\n",
        "    compute_target = ComputeTarget(workspace=ws, name=cluster_name)\n",
        "    print('Found existing cluster, use it.')\n",
        "except ComputeTargetException:\n",
        "    # To use a different region for the compute, add a location='<region>' parameter\n",
        "    compute_config = AmlCompute.provisioning_configuration(vm_size='STANDARD_D2_V2', max_nodes=4)\n",
        "    compute_target = ComputeTarget.create(ws, cluster_name, compute_config)\n",
        "\n",
        "compute_target.wait_for_completion(show_output=True)"
      ],
      "outputs": [
        {
          "output_type": "stream",
          "name": "stdout",
          "text": "InProgress.\nSucceededProvisioning operation finished, operation \"Succeeded\"\nSucceeded\nAmlCompute wait for completion finished\n\nMinimum number of nodes requested have been provisioned\n"
        }
      ],
      "execution_count": 4,
      "metadata": {
        "gather": {
          "logged": 1664083828263
        },
        "jupyter": {
          "outputs_hidden": false,
          "source_hidden": false
        },
        "nteract": {
          "transient": {
            "deleting": false
          }
        }
      }
    },
    {
      "cell_type": "markdown",
      "source": [
        "## AutoML Configuration\n",
        "\n",
        "TODO: Explain why you chose the automl settings and cofiguration you used below."
      ],
      "metadata": {}
    },
    {
      "cell_type": "code",
      "source": [
        "from azureml.train.automl import AutoMLConfig\n",
        "\n",
        "automl_settings = {\n",
        "    \"n_cross_validations\": 2,\n",
        "    \"primary_metric\": 'accuracy',\n",
        "    \"enable_early_stopping\": True,\n",
        "    \"max_concurrent_iterations\": 5,\n",
        "    \"experiment_timeout_hours\": 0.25,\n",
        "    \"featurization\": 'auto',\n",
        "}\n",
        "\n",
        "automl_config = AutoMLConfig(\n",
        "    task = 'classification',\n",
        "    compute_target = compute_target,\n",
        "    training_data = training_dataset,\n",
        "    label_column_name = 'Category',\n",
        "    **automl_settings\n",
        ")"
      ],
      "outputs": [],
      "execution_count": 5,
      "metadata": {
        "gather": {
          "logged": 1664083841073
        },
        "jupyter": {
          "outputs_hidden": false,
          "source_hidden": false
        },
        "nteract": {
          "transient": {
            "deleting": false
          }
        }
      }
    },
    {
      "cell_type": "code",
      "source": [
        "# TODO: Submit your experiment\n",
        "remote_run = experiment.submit(automl_config)"
      ],
      "outputs": [
        {
          "output_type": "stream",
          "name": "stdout",
          "text": "Submitting remote run.\n"
        },
        {
          "output_type": "display_data",
          "data": {
            "text/plain": "<IPython.core.display.HTML object>",
            "text/html": "<table style=\"width:100%\"><tr><th>Experiment</th><th>Id</th><th>Type</th><th>Status</th><th>Details Page</th><th>Docs Page</th></tr><tr><td>capstone-spam-classification-experiment</td><td>AutoML_d7b359dc-ccf1-4169-99c2-f8682c16f9cb</td><td>automl</td><td>NotStarted</td><td><a href=\"https://ml.azure.com/runs/AutoML_d7b359dc-ccf1-4169-99c2-f8682c16f9cb?wsid=/subscriptions/a0a76bad-11a1-4a2d-9887-97a29122c8ed/resourcegroups/aml-quickstarts-208718/workspaces/quick-starts-ws-208718&amp;tid=660b3398-b80e-49d2-bc5b-ac1dc93b5254\" target=\"_blank\" rel=\"noopener\">Link to Azure Machine Learning studio</a></td><td><a href=\"https://docs.microsoft.com/en-us/python/api/overview/azure/ml/intro?view=azure-ml-py\" target=\"_blank\" rel=\"noopener\">Link to Documentation</a></td></tr></table>"
          },
          "metadata": {}
        }
      ],
      "execution_count": 6,
      "metadata": {
        "gather": {
          "logged": 1664083846258
        },
        "jupyter": {
          "outputs_hidden": false,
          "source_hidden": false
        },
        "nteract": {
          "transient": {
            "deleting": false
          }
        }
      }
    },
    {
      "cell_type": "markdown",
      "source": [
        "### Run Details"
      ],
      "metadata": {}
    },
    {
      "cell_type": "code",
      "source": [
        "from azureml.widgets import RunDetails\n",
        "RunDetails(remote_run).show()"
      ],
      "outputs": [
        {
          "output_type": "display_data",
          "data": {
            "text/plain": "_AutoMLWidget(widget_settings={'childWidgetDisplay': 'popup', 'send_telemetry': False, 'log_level': 'INFO', 's…",
            "application/vnd.jupyter.widget-view+json": {
              "version_major": 2,
              "version_minor": 0,
              "model_id": "8f9db86bf9b445b8be0e1a1e6e5ff430"
            }
          },
          "metadata": {}
        },
        {
          "output_type": "display_data",
          "data": {
            "application/aml.mini.widget.v1": "{\"status\": \"Completed\", \"workbench_run_details_uri\": \"https://ml.azure.com/runs/AutoML_d7b359dc-ccf1-4169-99c2-f8682c16f9cb?wsid=/subscriptions/a0a76bad-11a1-4a2d-9887-97a29122c8ed/resourcegroups/aml-quickstarts-208718/workspaces/quick-starts-ws-208718&tid=660b3398-b80e-49d2-bc5b-ac1dc93b5254\", \"run_id\": \"AutoML_d7b359dc-ccf1-4169-99c2-f8682c16f9cb\", \"run_properties\": {\"run_id\": \"AutoML_d7b359dc-ccf1-4169-99c2-f8682c16f9cb\", \"created_utc\": \"2022-09-25T05:30:44.137033Z\", \"properties\": {\"num_iterations\": \"1000\", \"training_type\": \"TrainFull\", \"acquisition_function\": \"EI\", \"primary_metric\": \"accuracy\", \"train_split\": \"0\", \"acquisition_parameter\": \"0\", \"num_cross_validation\": \"2\", \"target\": \"capstone-compute-cluster\", \"AMLSettingsJsonString\": \"{\\\"path\\\":null,\\\"name\\\":\\\"capstone-spam-classification-experiment\\\",\\\"subscription_id\\\":\\\"a0a76bad-11a1-4a2d-9887-97a29122c8ed\\\",\\\"resource_group\\\":\\\"aml-quickstarts-208718\\\",\\\"workspace_name\\\":\\\"quick-starts-ws-208718\\\",\\\"region\\\":\\\"southcentralus\\\",\\\"compute_target\\\":\\\"capstone-compute-cluster\\\",\\\"spark_service\\\":null,\\\"azure_service\\\":\\\"remote\\\",\\\"many_models\\\":false,\\\"pipeline_fetch_max_batch_size\\\":1,\\\"enable_batch_run\\\":true,\\\"enable_run_restructure\\\":false,\\\"start_auxiliary_runs_before_parent_complete\\\":false,\\\"enable_code_generation\\\":true,\\\"iterations\\\":1000,\\\"primary_metric\\\":\\\"accuracy\\\",\\\"task_type\\\":\\\"classification\\\",\\\"positive_label\\\":null,\\\"data_script\\\":null,\\\"test_size\\\":0.0,\\\"test_include_predictions_only\\\":false,\\\"validation_size\\\":0.0,\\\"n_cross_validations\\\":2,\\\"y_min\\\":null,\\\"y_max\\\":null,\\\"num_classes\\\":null,\\\"featurization\\\":\\\"auto\\\",\\\"_ignore_package_version_incompatibilities\\\":false,\\\"is_timeseries\\\":false,\\\"max_cores_per_iteration\\\":1,\\\"max_concurrent_iterations\\\":5,\\\"iteration_timeout_minutes\\\":null,\\\"mem_in_mb\\\":null,\\\"enforce_time_on_windows\\\":false,\\\"experiment_timeout_minutes\\\":15,\\\"experiment_exit_score\\\":null,\\\"partition_column_names\\\":null,\\\"whitelist_models\\\":null,\\\"blacklist_algos\\\":[\\\"TensorFlowLinearClassifier\\\",\\\"TensorFlowDNN\\\"],\\\"supported_models\\\":[\\\"MultinomialNaiveBayes\\\",\\\"TensorFlowLinearClassifier\\\",\\\"TabnetClassifier\\\",\\\"ExtremeRandomTrees\\\",\\\"LightGBM\\\",\\\"AveragedPerceptronClassifier\\\",\\\"LinearSVM\\\",\\\"RandomForest\\\",\\\"GradientBoosting\\\",\\\"SGD\\\",\\\"KNN\\\",\\\"XGBoostClassifier\\\",\\\"SVM\\\",\\\"DecisionTree\\\",\\\"LogisticRegression\\\",\\\"TensorFlowDNN\\\",\\\"BernoulliNaiveBayes\\\"],\\\"private_models\\\":[],\\\"auto_blacklist\\\":true,\\\"blacklist_samples_reached\\\":false,\\\"exclude_nan_labels\\\":true,\\\"verbosity\\\":20,\\\"_debug_log\\\":\\\"azureml_automl.log\\\",\\\"show_warnings\\\":false,\\\"model_explainability\\\":true,\\\"service_url\\\":null,\\\"sdk_url\\\":null,\\\"sdk_packages\\\":null,\\\"enable_onnx_compatible_models\\\":false,\\\"enable_split_onnx_featurizer_estimator_models\\\":false,\\\"vm_type\\\":\\\"STANDARD_D2_V2\\\",\\\"telemetry_verbosity\\\":20,\\\"send_telemetry\\\":true,\\\"enable_dnn\\\":false,\\\"scenario\\\":\\\"AutoML\\\",\\\"environment_label\\\":null,\\\"save_mlflow\\\":false,\\\"enable_categorical_indicators\\\":false,\\\"force_text_dnn\\\":false,\\\"enable_feature_sweeping\\\":true,\\\"enable_early_stopping\\\":true,\\\"early_stopping_n_iters\\\":10,\\\"arguments\\\":null,\\\"dataset_id\\\":\\\"8d6ef96b-0e4e-4d5f-b5eb-bda3397b0c95\\\",\\\"hyperdrive_config\\\":null,\\\"validation_dataset_id\\\":null,\\\"run_source\\\":null,\\\"metrics\\\":null,\\\"enable_metric_confidence\\\":false,\\\"enable_ensembling\\\":true,\\\"enable_stack_ensembling\\\":true,\\\"ensemble_iterations\\\":15,\\\"enable_tf\\\":false,\\\"enable_subsampling\\\":null,\\\"subsample_seed\\\":null,\\\"enable_nimbusml\\\":false,\\\"enable_streaming\\\":false,\\\"force_streaming\\\":false,\\\"track_child_runs\\\":true,\\\"allowed_private_models\\\":[],\\\"label_column_name\\\":\\\"Category\\\",\\\"weight_column_name\\\":null,\\\"cv_split_column_names\\\":null,\\\"enable_local_managed\\\":false,\\\"_local_managed_run_id\\\":null,\\\"cost_mode\\\":1,\\\"lag_length\\\":0,\\\"metric_operation\\\":\\\"maximize\\\",\\\"preprocess\\\":true}\", \"DataPrepJsonString\": \"{\\\\\\\"training_data\\\\\\\": {\\\\\\\"datasetId\\\\\\\": \\\\\\\"8d6ef96b-0e4e-4d5f-b5eb-bda3397b0c95\\\\\\\"}, \\\\\\\"datasets\\\\\\\": 0}\", \"EnableSubsampling\": null, \"runTemplate\": \"AutoML\", \"azureml.runsource\": \"automl\", \"display_task_type\": \"classification\", \"dependencies_versions\": \"{\\\"azureml-widgets\\\": \\\"1.44.0\\\", \\\"azureml-training-tabular\\\": \\\"1.44.0\\\", \\\"azureml-train\\\": \\\"1.44.0\\\", \\\"azureml-train-restclients-hyperdrive\\\": \\\"1.44.0\\\", \\\"azureml-train-core\\\": \\\"1.44.0\\\", \\\"azureml-train-automl\\\": \\\"1.44.0\\\", \\\"azureml-train-automl-runtime\\\": \\\"1.44.0\\\", \\\"azureml-train-automl-client\\\": \\\"1.44.0\\\", \\\"azureml-tensorboard\\\": \\\"1.44.0\\\", \\\"azureml-telemetry\\\": \\\"1.44.0\\\", \\\"azureml-sdk\\\": \\\"1.44.0\\\", \\\"azureml-samples\\\": \\\"0+unknown\\\", \\\"azureml-responsibleai\\\": \\\"1.44.0\\\", \\\"azureml-pipeline\\\": \\\"1.44.0\\\", \\\"azureml-pipeline-steps\\\": \\\"1.44.0\\\", \\\"azureml-pipeline-core\\\": \\\"1.44.0\\\", \\\"azureml-opendatasets\\\": \\\"1.44.0\\\", \\\"azureml-mlflow\\\": \\\"1.44.0\\\", \\\"azureml-interpret\\\": \\\"1.44.0\\\", \\\"azureml-inference-server-http\\\": \\\"0.7.4\\\", \\\"azureml-explain-model\\\": \\\"1.44.0\\\", \\\"azureml-defaults\\\": \\\"1.44.0\\\", \\\"azureml-dataset-runtime\\\": \\\"1.44.0\\\", \\\"azureml-dataprep\\\": \\\"4.2.2\\\", \\\"azureml-dataprep-rslex\\\": \\\"2.8.1\\\", \\\"azureml-dataprep-native\\\": \\\"38.0.0\\\", \\\"azureml-datadrift\\\": \\\"1.44.0\\\", \\\"azureml-core\\\": \\\"1.44.0\\\", \\\"azureml-contrib-services\\\": \\\"1.44.0\\\", \\\"azureml-contrib-server\\\": \\\"1.44.0\\\", \\\"azureml-contrib-reinforcementlearning\\\": \\\"1.44.0\\\", \\\"azureml-contrib-pipeline-steps\\\": \\\"1.44.0\\\", \\\"azureml-contrib-notebook\\\": \\\"1.44.0\\\", \\\"azureml-contrib-fairness\\\": \\\"1.44.0\\\", \\\"azureml-contrib-dataset\\\": \\\"1.44.0\\\", \\\"azureml-contrib-automl-pipeline-steps\\\": \\\"1.44.0\\\", \\\"azureml-cli-common\\\": \\\"1.44.0\\\", \\\"azureml-automl-runtime\\\": \\\"1.44.0\\\", \\\"azureml-automl-dnn-nlp\\\": \\\"1.44.0\\\", \\\"azureml-automl-core\\\": \\\"1.44.0\\\", \\\"azureml-accel-models\\\": \\\"1.44.0\\\"}\", \"_aml_system_scenario_identification\": \"Remote.Parent\", \"ClientType\": \"SDK\", \"environment_cpu_name\": \"AzureML-AutoML\", \"environment_cpu_label\": \"prod\", \"environment_gpu_name\": \"AzureML-AutoML-GPU\", \"environment_gpu_label\": \"prod\", \"root_attribution\": \"automl\", \"attribution\": \"AutoML\", \"Orchestrator\": \"AutoML\", \"CancelUri\": \"https://southcentralus.api.azureml.ms/jasmine/v1.0/subscriptions/a0a76bad-11a1-4a2d-9887-97a29122c8ed/resourceGroups/aml-quickstarts-208718/providers/Microsoft.MachineLearningServices/workspaces/quick-starts-ws-208718/experimentids/aff805af-aa50-454c-9ead-9cb8747200b9/cancel/AutoML_d7b359dc-ccf1-4169-99c2-f8682c16f9cb\", \"ClientSdkVersion\": \"1.45.0\", \"snapshotId\": \"00000000-0000-0000-0000-000000000000\", \"SetupRunId\": \"AutoML_d7b359dc-ccf1-4169-99c2-f8682c16f9cb_setup\", \"SetupRunContainerId\": \"dcid.AutoML_d7b359dc-ccf1-4169-99c2-f8682c16f9cb_setup\", \"FeaturizationRunJsonPath\": \"featurizer_container.json\", \"FeaturizationRunId\": \"AutoML_d7b359dc-ccf1-4169-99c2-f8682c16f9cb_featurize\", \"ProblemInfoJsonString\": \"{\\\"dataset_num_categorical\\\": 0, \\\"is_sparse\\\": true, \\\"subsampling\\\": false, \\\"has_extra_col\\\": true, \\\"dataset_classes\\\": 4, \\\"dataset_features\\\": 64518, \\\"dataset_samples\\\": 5574, \\\"single_frequency_class_detected\\\": true}\", \"ModelExplainRunId\": \"AutoML_d7b359dc-ccf1-4169-99c2-f8682c16f9cb_ModelExplain\"}, \"tags\": {\"model_explain_run\": \"best_run\", \"_aml_system_automl_run_workspace_id\": \"471837e2-7146-425d-8873-11d1e0097851\", \"_aml_system_azureml.automlComponent\": \"AutoML\", \"pipeline_id\": \"\", \"score\": \"\", \"predicted_cost\": \"\", \"fit_time\": \"\", \"training_percent\": \"\", \"iteration\": \"\", \"run_preprocessor\": \"\", \"run_algorithm\": \"\", \"dynamic_allowlisting_iterations\": \"<25>;<30>;<35>;\", \"_aml_system_azureml.automl_early_exit_message\": \"No scores improved over last 10 iterations, so experiment stopped early. This early stopping behavior can be disabled by setting enable_early_stopping = False in AutoMLConfig for notebook/python SDK runs.\", \"automl_best_child_run_id\": \"AutoML_d7b359dc-ccf1-4169-99c2-f8682c16f9cb_39\", \"model_explain_best_run_child_id\": \"AutoML_d7b359dc-ccf1-4169-99c2-f8682c16f9cb_39\"}, \"end_time_utc\": \"2022-09-25T05:50:13.121438Z\", \"status\": \"Completed\", \"log_files\": {}, \"log_groups\": [], \"run_duration\": \"0:19:28\", \"run_number\": \"1664083844\", \"run_queued_details\": {\"status\": \"Completed\", \"details\": null}}, \"child_runs\": [{\"run_id\": \"AutoML_d7b359dc-ccf1-4169-99c2-f8682c16f9cb_setup\", \"run_number\": 1664083857, \"metric\": null, \"status\": \"Completed\", \"run_type\": \"azureml.scriptrun\", \"training_percent\": null, \"start_time\": \"2022-09-25T05:33:56.200149Z\", \"end_time\": \"2022-09-25T05:36:24.004634Z\", \"created_time\": \"2022-09-25T05:30:57.825665Z\", \"created_time_dt\": \"2022-09-25T05:30:57.825665Z\", \"duration\": \"0:05:26\", \"iteration\": null, \"goal\": null, \"run_name\": \"Completed\", \"run_properties\": null}, {\"run_id\": \"AutoML_d7b359dc-ccf1-4169-99c2-f8682c16f9cb_featurize\", \"run_number\": 1664084184, \"metric\": null, \"status\": \"Completed\", \"run_type\": \"automl.featurization\", \"training_percent\": null, \"start_time\": \"2022-09-25T05:36:24.64922Z\", \"end_time\": \"2022-09-25T05:37:29.458953Z\", \"created_time\": \"2022-09-25T05:36:24.307249Z\", \"created_time_dt\": \"2022-09-25T05:36:24.307249Z\", \"duration\": \"0:01:05\", \"iteration\": null, \"goal\": null, \"run_name\": \"Completed\", \"run_properties\": null}, {\"run_id\": \"AutoML_d7b359dc-ccf1-4169-99c2-f8682c16f9cb_0\", \"run_number\": 1664084250, \"metric\": null, \"status\": \"Completed\", \"run_type\": null, \"training_percent\": \"100\", \"start_time\": \"2022-09-25T05:37:49.800086Z\", \"end_time\": \"2022-09-25T05:38:42.753523Z\", \"created_time\": \"2022-09-25T05:37:30.687646Z\", \"created_time_dt\": \"2022-09-25T05:37:30.687646Z\", \"duration\": \"0:01:12\", \"iteration\": \"0\", \"goal\": \"accuracy_max\", \"run_name\": \"MaxAbsScaler, LightGBM\", \"run_properties\": \"copy=True\", \"primary_metric\": 0.98403301, \"best_metric\": 0.98403301}, {\"run_id\": \"AutoML_d7b359dc-ccf1-4169-99c2-f8682c16f9cb_1\", \"run_number\": 1664084251, \"metric\": null, \"status\": \"Completed\", \"run_type\": null, \"training_percent\": \"100\", \"start_time\": \"2022-09-25T05:38:43.198787Z\", \"end_time\": \"2022-09-25T05:40:14.433677Z\", \"created_time\": \"2022-09-25T05:37:31.314994Z\", \"created_time_dt\": \"2022-09-25T05:37:31.314994Z\", \"duration\": \"0:02:43\", \"iteration\": \"1\", \"goal\": \"accuracy_max\", \"run_name\": \"MaxAbsScaler, XGBoostClassifier\", \"run_properties\": \"copy=True\", \"primary_metric\": 0.98026552, \"best_metric\": 0.98403301}, {\"run_id\": \"AutoML_d7b359dc-ccf1-4169-99c2-f8682c16f9cb_3\", \"run_number\": 1664084252, \"metric\": null, \"status\": \"Completed\", \"run_type\": null, \"training_percent\": \"100\", \"start_time\": \"2022-09-25T05:40:38.167881Z\", \"end_time\": \"2022-09-25T05:41:09.208888Z\", \"created_time\": \"2022-09-25T05:37:32.610604Z\", \"created_time_dt\": \"2022-09-25T05:37:32.610604Z\", \"duration\": \"0:03:36\", \"iteration\": \"3\", \"goal\": \"accuracy_max\", \"run_name\": \"SparseNormalizer, XGBoostClassifier\", \"run_properties\": \"copy=True, norm='l2'\", \"primary_metric\": 0.97470398, \"best_metric\": 0.98403301}, {\"run_id\": \"AutoML_d7b359dc-ccf1-4169-99c2-f8682c16f9cb_worker_0\", \"run_number\": 1664084253, \"metric\": null, \"status\": \"Completed\", \"run_type\": \"azureml.scriptrun\", \"training_percent\": null, \"start_time\": \"2022-09-25T05:37:39.821186Z\", \"end_time\": \"2022-09-25T05:41:14.569178Z\", \"created_time\": \"2022-09-25T05:37:33.059083Z\", \"created_time_dt\": \"2022-09-25T05:37:33.059083Z\", \"duration\": \"0:03:41\", \"iteration\": null, \"goal\": null, \"run_name\": \"Completed\", \"run_properties\": null}, {\"run_id\": \"AutoML_d7b359dc-ccf1-4169-99c2-f8682c16f9cb_6\", \"run_number\": 1664084254, \"metric\": null, \"status\": \"Completed\", \"run_type\": null, \"training_percent\": \"100\", \"start_time\": \"2022-09-25T05:41:51.498872Z\", \"end_time\": \"2022-09-25T05:42:20.364731Z\", \"created_time\": \"2022-09-25T05:37:34.586258Z\", \"created_time_dt\": \"2022-09-25T05:37:34.586258Z\", \"duration\": \"0:04:45\", \"iteration\": \"6\", \"goal\": \"accuracy_max\", \"run_name\": \"StandardScalerWrapper, XGBoostClassifier\", \"run_properties\": \"copy=True, with_mean=False, with_std=False\", \"primary_metric\": 0.98026552, \"best_metric\": 0.98403301}, {\"run_id\": \"AutoML_d7b359dc-ccf1-4169-99c2-f8682c16f9cb_worker_1\", \"run_number\": 1664084255, \"metric\": null, \"status\": \"Completed\", \"run_type\": \"azureml.scriptrun\", \"training_percent\": null, \"start_time\": \"2022-09-25T05:39:38.814471Z\", \"end_time\": \"2022-09-25T05:42:54.30812Z\", \"created_time\": \"2022-09-25T05:37:35.693941Z\", \"created_time_dt\": \"2022-09-25T05:37:35.693941Z\", \"duration\": \"0:05:18\", \"iteration\": null, \"goal\": null, \"run_name\": \"Completed\", \"run_properties\": null}, {\"run_id\": \"AutoML_d7b359dc-ccf1-4169-99c2-f8682c16f9cb_9\", \"run_number\": 1664084256, \"metric\": null, \"status\": \"Completed\", \"run_type\": null, \"training_percent\": \"100\", \"start_time\": \"2022-09-25T05:41:37.313645Z\", \"end_time\": \"2022-09-25T05:42:03.639731Z\", \"created_time\": \"2022-09-25T05:37:36.591374Z\", \"created_time_dt\": \"2022-09-25T05:37:36.591374Z\", \"duration\": \"0:04:27\", \"iteration\": \"9\", \"goal\": \"accuracy_max\", \"run_name\": \"StandardScalerWrapper, XGBoostClassifier\", \"run_properties\": \"copy=True, with_mean=False, with_std=False\", \"primary_metric\": 0.98044492, \"best_metric\": 0.98403301}, {\"run_id\": \"AutoML_d7b359dc-ccf1-4169-99c2-f8682c16f9cb_10\", \"run_number\": 1664084257, \"metric\": null, \"status\": \"Completed\", \"run_type\": null, \"training_percent\": \"100\", \"start_time\": \"2022-09-25T05:42:04.090219Z\", \"end_time\": \"2022-09-25T05:42:26.709809Z\", \"created_time\": \"2022-09-25T05:37:37.198767Z\", \"created_time_dt\": \"2022-09-25T05:37:37.198767Z\", \"duration\": \"0:04:49\", \"iteration\": \"10\", \"goal\": \"accuracy_max\", \"run_name\": \"SparseNormalizer, LightGBM\", \"run_properties\": \"copy=True, norm='l1'\", \"primary_metric\": 0.9589164, \"best_metric\": 0.98403301}, {\"run_id\": \"AutoML_d7b359dc-ccf1-4169-99c2-f8682c16f9cb_worker_2\", \"run_number\": 1664084258, \"metric\": null, \"status\": \"Completed\", \"run_type\": \"azureml.scriptrun\", \"training_percent\": null, \"start_time\": \"2022-09-25T05:39:41.302628Z\", \"end_time\": \"2022-09-25T05:43:00.497538Z\", \"created_time\": \"2022-09-25T05:37:38.319424Z\", \"created_time_dt\": \"2022-09-25T05:37:38.319424Z\", \"duration\": \"0:05:22\", \"iteration\": null, \"goal\": null, \"run_name\": \"Completed\", \"run_properties\": null}, {\"run_id\": \"AutoML_d7b359dc-ccf1-4169-99c2-f8682c16f9cb_13\", \"run_number\": 1664084259, \"metric\": null, \"status\": \"Completed\", \"run_type\": null, \"training_percent\": \"100\", \"start_time\": \"2022-09-25T05:41:35.231669Z\", \"end_time\": \"2022-09-25T05:42:08.35407Z\", \"created_time\": \"2022-09-25T05:37:39.121642Z\", \"created_time_dt\": \"2022-09-25T05:37:39.121642Z\", \"duration\": \"0:04:29\", \"iteration\": \"13\", \"goal\": \"accuracy_max\", \"run_name\": \"StandardScalerWrapper, XGBoostClassifier\", \"run_properties\": \"copy=True, with_mean=False, with_std=False\", \"primary_metric\": 0.97703624, \"best_metric\": 0.98403301}, {\"run_id\": \"AutoML_d7b359dc-ccf1-4169-99c2-f8682c16f9cb_worker_3\", \"run_number\": 1664084260, \"metric\": null, \"status\": \"Completed\", \"run_type\": \"azureml.scriptrun\", \"training_percent\": null, \"start_time\": \"2022-09-25T05:39:41.763353Z\", \"end_time\": \"2022-09-25T05:43:06.731463Z\", \"created_time\": \"2022-09-25T05:37:40.802807Z\", \"created_time_dt\": \"2022-09-25T05:37:40.802807Z\", \"duration\": \"0:05:25\", \"iteration\": null, \"goal\": null, \"run_name\": \"Completed\", \"run_properties\": null}, {\"run_id\": \"AutoML_d7b359dc-ccf1-4169-99c2-f8682c16f9cb_16\", \"run_number\": 1664084261, \"metric\": null, \"status\": \"Completed\", \"run_type\": null, \"training_percent\": \"100\", \"start_time\": \"2022-09-25T05:41:34.304938Z\", \"end_time\": \"2022-09-25T05:42:06.162248Z\", \"created_time\": \"2022-09-25T05:37:41.012747Z\", \"created_time_dt\": \"2022-09-25T05:37:41.012747Z\", \"duration\": \"0:04:25\", \"iteration\": \"16\", \"goal\": \"accuracy_max\", \"run_name\": \"StandardScalerWrapper, RandomForest\", \"run_properties\": \"copy=True, with_mean=False, with_std=False\", \"primary_metric\": 0.9711159, \"best_metric\": 0.98403301}, {\"run_id\": \"AutoML_d7b359dc-ccf1-4169-99c2-f8682c16f9cb_18\", \"run_number\": 1664084262, \"metric\": null, \"status\": \"Completed\", \"run_type\": null, \"training_percent\": \"100\", \"start_time\": \"2022-09-25T05:42:55.335543Z\", \"end_time\": \"2022-09-25T05:43:45.317012Z\", \"created_time\": \"2022-09-25T05:37:42.259467Z\", \"created_time_dt\": \"2022-09-25T05:37:42.259467Z\", \"duration\": \"0:06:03\", \"iteration\": \"18\", \"goal\": \"accuracy_max\", \"run_name\": \"TruncatedSVDWrapper, RandomForest\", \"run_properties\": \"n_components=0.8015789473684211, random_state=None\", \"primary_metric\": 0.94994618, \"best_metric\": 0.98403301}, {\"run_id\": \"AutoML_d7b359dc-ccf1-4169-99c2-f8682c16f9cb_worker_4\", \"run_number\": 1664084263, \"metric\": null, \"status\": \"Completed\", \"run_type\": \"azureml.scriptrun\", \"training_percent\": null, \"start_time\": \"2022-09-25T05:41:24.325956Z\", \"end_time\": \"2022-09-25T05:44:38.966383Z\", \"created_time\": \"2022-09-25T05:37:43.277913Z\", \"created_time_dt\": \"2022-09-25T05:37:43.277913Z\", \"duration\": \"0:06:55\", \"iteration\": null, \"goal\": null, \"run_name\": \"Completed\", \"run_properties\": null}, {\"run_id\": \"AutoML_d7b359dc-ccf1-4169-99c2-f8682c16f9cb_21\", \"run_number\": 1664084577, \"metric\": null, \"status\": \"Completed\", \"run_type\": \"azureml.scriptrun\", \"training_percent\": \"100\", \"start_time\": \"2022-09-25T05:43:04.858146Z\", \"end_time\": \"2022-09-25T05:43:58.15105Z\", \"created_time\": \"2022-09-25T05:42:57.312108Z\", \"created_time_dt\": \"2022-09-25T05:42:57.312108Z\", \"duration\": \"0:01:00\", \"iteration\": \"21\", \"goal\": \"accuracy_max\", \"run_name\": \"SparseNormalizer, XGBoostClassifier\", \"run_properties\": \"copy=True, norm='l1'\", \"primary_metric\": 0.9752422, \"best_metric\": 0.98403301}, {\"run_id\": \"AutoML_d7b359dc-ccf1-4169-99c2-f8682c16f9cb_22\", \"run_number\": 1664084583, \"metric\": null, \"status\": \"Completed\", \"run_type\": \"azureml.scriptrun\", \"training_percent\": \"100\", \"start_time\": \"2022-09-25T05:43:14.161Z\", \"end_time\": \"2022-09-25T05:44:01.403673Z\", \"created_time\": \"2022-09-25T05:43:03.444402Z\", \"created_time_dt\": \"2022-09-25T05:43:03.444402Z\", \"duration\": \"0:00:57\", \"iteration\": \"22\", \"goal\": \"accuracy_max\", \"run_name\": \"StandardScalerWrapper, LogisticRegression\", \"run_properties\": \"copy=True, with_mean=False, with_std=True\", \"primary_metric\": 0.97506279, \"best_metric\": 0.98403301}, {\"run_id\": \"AutoML_d7b359dc-ccf1-4169-99c2-f8682c16f9cb_23\", \"run_number\": 1664084628, \"metric\": null, \"status\": \"Completed\", \"run_type\": \"azureml.scriptrun\", \"training_percent\": \"100\", \"start_time\": \"2022-09-25T05:44:05.379745Z\", \"end_time\": \"2022-09-25T05:44:39.3677Z\", \"created_time\": \"2022-09-25T05:43:48.029432Z\", \"created_time_dt\": \"2022-09-25T05:43:48.029432Z\", \"duration\": \"0:00:51\", \"iteration\": \"23\", \"goal\": \"accuracy_max\", \"run_name\": \"StandardScalerWrapper, RandomForest\", \"run_properties\": \"copy=True, with_mean=False, with_std=False\", \"primary_metric\": 0.86562612, \"best_metric\": 0.98403301}, {\"run_id\": \"AutoML_d7b359dc-ccf1-4169-99c2-f8682c16f9cb_24\", \"run_number\": 1664084640, \"metric\": null, \"status\": \"Completed\", \"run_type\": \"azureml.scriptrun\", \"training_percent\": \"100\", \"start_time\": \"2022-09-25T05:44:08.541809Z\", \"end_time\": \"2022-09-25T05:45:16.272621Z\", \"created_time\": \"2022-09-25T05:44:00.956555Z\", \"created_time_dt\": \"2022-09-25T05:44:00.956555Z\", \"duration\": \"0:01:15\", \"iteration\": \"24\", \"goal\": \"accuracy_max\", \"run_name\": \"SparseNormalizer, XGBoostClassifier\", \"run_properties\": \"copy=True, norm='max'\", \"primary_metric\": 0.98170075, \"best_metric\": 0.98403301}, {\"run_id\": \"AutoML_d7b359dc-ccf1-4169-99c2-f8682c16f9cb_25\", \"run_number\": 1664084644, \"metric\": null, \"status\": \"Completed\", \"run_type\": \"azureml.scriptrun\", \"training_percent\": \"100\", \"start_time\": \"2022-09-25T05:44:09.503816Z\", \"end_time\": \"2022-09-25T05:48:21.648153Z\", \"created_time\": \"2022-09-25T05:44:04.227116Z\", \"created_time_dt\": \"2022-09-25T05:44:04.227116Z\", \"duration\": \"0:04:17\", \"iteration\": \"25\", \"goal\": \"accuracy_max\", \"run_name\": \"StandardScalerWrapper, LogisticRegression\", \"run_properties\": \"copy=True, with_mean=False, with_std=False\", \"primary_metric\": 0.98636527, \"best_metric\": 0.98636527}, {\"run_id\": \"AutoML_d7b359dc-ccf1-4169-99c2-f8682c16f9cb_28\", \"run_number\": 1664084680, \"metric\": null, \"status\": \"Completed\", \"run_type\": \"azureml.scriptrun\", \"training_percent\": \"100\", \"start_time\": \"2022-09-25T05:44:45.926641Z\", \"end_time\": \"2022-09-25T05:46:15.622014Z\", \"created_time\": \"2022-09-25T05:44:40.875091Z\", \"created_time_dt\": \"2022-09-25T05:44:40.875091Z\", \"duration\": \"0:01:34\", \"iteration\": \"28\", \"goal\": \"accuracy_max\", \"run_name\": \"SparseNormalizer, XGBoostClassifier\", \"run_properties\": \"copy=True, norm='l1'\", \"primary_metric\": 0.97793326, \"best_metric\": 0.98636527}, {\"run_id\": \"AutoML_d7b359dc-ccf1-4169-99c2-f8682c16f9cb_29\", \"run_number\": 1664084717, \"metric\": null, \"status\": \"Completed\", \"run_type\": \"azureml.scriptrun\", \"training_percent\": \"100\", \"start_time\": \"2022-09-25T05:46:13.468162Z\", \"end_time\": \"2022-09-25T05:46:48.931223Z\", \"created_time\": \"2022-09-25T05:45:17.728104Z\", \"created_time_dt\": \"2022-09-25T05:45:17.728104Z\", \"duration\": \"0:01:31\", \"iteration\": \"29\", \"goal\": \"accuracy_max\", \"run_name\": \"MaxAbsScaler, LogisticRegression\", \"run_properties\": \"copy=True\", \"primary_metric\": 0.98546825, \"best_metric\": 0.98636527}, {\"run_id\": \"AutoML_d7b359dc-ccf1-4169-99c2-f8682c16f9cb_30\", \"run_number\": 1664084767, \"metric\": null, \"status\": \"Completed\", \"run_type\": \"azureml.scriptrun\", \"training_percent\": \"100\", \"start_time\": \"2022-09-25T05:46:22.670173Z\", \"end_time\": \"2022-09-25T05:47:05.584545Z\", \"created_time\": \"2022-09-25T05:46:07.014162Z\", \"created_time_dt\": \"2022-09-25T05:46:07.014162Z\", \"duration\": \"0:00:58\", \"iteration\": \"30\", \"goal\": \"accuracy_max\", \"run_name\": \"MaxAbsScaler, LogisticRegression\", \"run_properties\": \"copy=True\", \"primary_metric\": 0.98528884, \"best_metric\": 0.98636527}, {\"run_id\": \"AutoML_d7b359dc-ccf1-4169-99c2-f8682c16f9cb_31\", \"run_number\": 1664084777, \"metric\": null, \"status\": \"Completed\", \"run_type\": \"azureml.scriptrun\", \"training_percent\": \"100\", \"start_time\": \"2022-09-25T05:46:55.731449Z\", \"end_time\": \"2022-09-25T05:47:37.473167Z\", \"created_time\": \"2022-09-25T05:46:17.158007Z\", \"created_time_dt\": \"2022-09-25T05:46:17.158007Z\", \"duration\": \"0:01:20\", \"iteration\": \"31\", \"goal\": \"accuracy_max\", \"run_name\": \"MaxAbsScaler, LogisticRegression\", \"run_properties\": \"copy=True\", \"primary_metric\": 0.98672408, \"best_metric\": 0.98672408}, {\"run_id\": \"AutoML_d7b359dc-ccf1-4169-99c2-f8682c16f9cb_32\", \"run_number\": 1664084810, \"metric\": null, \"status\": \"Completed\", \"run_type\": \"azureml.scriptrun\", \"training_percent\": \"100\", \"start_time\": \"2022-09-25T05:47:12.088473Z\", \"end_time\": \"2022-09-25T05:48:36.26748Z\", \"created_time\": \"2022-09-25T05:46:50.560684Z\", \"created_time_dt\": \"2022-09-25T05:46:50.560684Z\", \"duration\": \"0:01:45\", \"iteration\": \"32\", \"goal\": \"accuracy_max\", \"run_name\": \"SparseNormalizer, XGBoostClassifier\", \"run_properties\": \"copy=True, norm='l1'\", \"primary_metric\": 0.9752422, \"best_metric\": 0.98672408}, {\"run_id\": \"AutoML_d7b359dc-ccf1-4169-99c2-f8682c16f9cb_33\", \"run_number\": 1664084827, \"metric\": null, \"status\": \"Completed\", \"run_type\": \"azureml.scriptrun\", \"training_percent\": \"100\", \"start_time\": \"2022-09-25T05:47:45.348371Z\", \"end_time\": \"2022-09-25T05:48:50.910064Z\", \"created_time\": \"2022-09-25T05:47:07.106974Z\", \"created_time_dt\": \"2022-09-25T05:47:07.106974Z\", \"duration\": \"0:01:43\", \"iteration\": \"33\", \"goal\": \"accuracy_max\", \"run_name\": \"SparseNormalizer, XGBoostClassifier\", \"run_properties\": \"copy=True, norm='l1'\", \"primary_metric\": 0.98044492, \"best_metric\": 0.98672408}, {\"run_id\": \"AutoML_d7b359dc-ccf1-4169-99c2-f8682c16f9cb_34\", \"run_number\": 1664084858, \"metric\": null, \"status\": \"Canceled\", \"run_type\": \"azureml.scriptrun\", \"training_percent\": \"100\", \"start_time\": \"2022-09-25T05:48:12.480837Z\", \"end_time\": \"2022-09-25T05:48:51.751191Z\", \"created_time\": \"2022-09-25T05:47:38.904609Z\", \"created_time_dt\": \"2022-09-25T05:47:38.904609Z\", \"duration\": \"0:01:12\", \"iteration\": \"34\", \"goal\": \"accuracy_max\", \"run_name\": \"StandardScalerWrapper, LogisticRegression\", \"run_properties\": \"copy=True, with_mean=False, with_std=True\", \"primary_metric\": 0.97775386, \"best_metric\": 0.98672408}, {\"run_id\": \"AutoML_d7b359dc-ccf1-4169-99c2-f8682c16f9cb_35\", \"run_number\": 1664084888, \"metric\": null, \"status\": \"Canceled\", \"run_type\": \"azureml.scriptrun\", \"training_percent\": \"100\", \"start_time\": \"2022-09-25T05:48:28.416307Z\", \"end_time\": \"2022-09-25T05:48:53.918444Z\", \"created_time\": \"2022-09-25T05:48:08.151071Z\", \"created_time_dt\": \"2022-09-25T05:48:08.151071Z\", \"duration\": \"0:00:45\", \"iteration\": \"35\", \"goal\": \"accuracy_max\", \"run_name\": \"SparseNormalizer, LogisticRegression\", \"run_properties\": \"copy=True, norm='l1'\", \"primary_metric\": 0.86562612, \"best_metric\": 0.98672408}, {\"run_id\": \"AutoML_d7b359dc-ccf1-4169-99c2-f8682c16f9cb_36\", \"run_number\": 1664084903, \"metric\": null, \"status\": \"Canceled\", \"run_type\": \"azureml.scriptrun\", \"training_percent\": \"100\", \"start_time\": \"2022-09-25T05:48:43.678119Z\", \"end_time\": \"2022-09-25T05:48:51.620504Z\", \"created_time\": \"2022-09-25T05:48:23.010234Z\", \"created_time_dt\": \"2022-09-25T05:48:23.010234Z\", \"duration\": \"0:00:28\", \"iteration\": \"36\", \"goal\": null, \"run_name\": \"Canceled\", \"run_properties\": null}, {\"run_id\": \"AutoML_d7b359dc-ccf1-4169-99c2-f8682c16f9cb_37\", \"run_number\": 1664084918, \"metric\": null, \"status\": \"Canceled\", \"run_type\": \"azureml.scriptrun\", \"training_percent\": \"100\", \"start_time\": \"2022-09-25T05:48:51.498537Z\", \"end_time\": \"2022-09-25T05:48:51.777266Z\", \"created_time\": \"2022-09-25T05:48:38.613132Z\", \"created_time_dt\": \"2022-09-25T05:48:38.613132Z\", \"duration\": \"0:00:13\", \"iteration\": \"37\", \"goal\": null, \"run_name\": \"Canceled\", \"run_properties\": null}, {\"run_id\": \"AutoML_d7b359dc-ccf1-4169-99c2-f8682c16f9cb_39\", \"run_number\": 1664084934, \"metric\": null, \"status\": \"Completed\", \"run_type\": \"azureml.scriptrun\", \"training_percent\": \"100\", \"start_time\": \"2022-09-25T05:49:00.689789Z\", \"end_time\": \"2022-09-25T05:50:11.898293Z\", \"created_time\": \"2022-09-25T05:48:54.460459Z\", \"created_time_dt\": \"2022-09-25T05:48:54.460459Z\", \"duration\": \"0:01:17\", \"iteration\": \"39\", \"goal\": \"accuracy_max\", \"run_name\": \"StackEnsemble\", \"run_properties\": \"base_learners=[('15', Pipeline(memory=None, steps=[('standardscalerwrapper', StandardScalerWrapper(copy=True, with_mean=False, with_std=False\", \"primary_metric\": 0.98833872, \"best_metric\": 0.98833872}], \"children_metrics\": {\"categories\": [0], \"series\": {\"precision_score_macro\": [{\"categories\": [\"0\", \"1\", \"3\", \"6\", \"9\", \"10\", \"13\", \"16\", \"18\", \"21\", \"22\", \"23\", \"24\", \"25\", \"28\", \"29\", \"30\", \"31\", \"32\", \"33\", \"34\", \"35\", \"39\"], \"mode\": \"markers\", \"name\": \"precision_score_macro\", \"stepped\": false, \"type\": \"scatter\", \"data\": [0.6593551853239622, 0.6570314674150505, 0.6505000067245588, 0.6549403318401119, 0.65882879315212, 0.651070910313466, 0.6557061022568116, 0.6549036874704514, 0.5864816955044317, 0.6549946835602334, 0.6573371124590209, 0.2885420404257864, 0.6579964369455755, 0.6558638497252696, 0.6566227532062374, 0.6603434161168626, 0.6602696366436485, 0.6608237756796416, 0.6550751708680711, 0.6571714122740668, 0.6583177609472974, 0.2885420404257864, 0.6598322082264922]}, {\"categories\": [\"0\", \"1\", \"3\", \"6\", \"9\", \"10\", \"13\", \"16\", \"18\", \"21\", \"22\", \"23\", \"24\", \"25\", \"28\", \"29\", \"30\", \"31\", \"32\", \"33\", \"34\", \"35\", \"39\"], \"mode\": \"lines\", \"name\": \"precision_score_macro_max\", \"stepped\": true, \"type\": \"scatter\", \"data\": [0.6593551853239622, 0.6593551853239622, 0.6593551853239622, 0.6593551853239622, 0.6593551853239622, 0.6593551853239622, 0.6593551853239622, 0.6593551853239622, 0.6593551853239622, 0.6593551853239622, 0.6593551853239622, 0.6593551853239622, 0.6593551853239622, 0.6593551853239622, 0.6593551853239622, 0.6603434161168626, 0.6603434161168626, 0.6608237756796416, 0.6608237756796416, 0.6608237756796416, 0.6608237756796416, 0.6608237756796416, 0.6608237756796416]}], \"average_precision_score_weighted\": [{\"categories\": [\"0\", \"1\", \"3\", \"6\", \"9\", \"10\", \"13\", \"16\", \"18\", \"21\", \"22\", \"23\", \"24\", \"25\", \"28\", \"29\", \"30\", \"31\", \"32\", \"33\", \"34\", \"35\", \"39\"], \"mode\": \"markers\", \"name\": \"average_precision_score_weighted\", \"stepped\": false, \"type\": \"scatter\", \"data\": [0.9951378213146298, 0.9929261214107641, 0.9818841996413716, 0.9920038229428221, 0.9901255077830555, 0.9846091815003211, 0.9909880371352318, 0.9909311630819753, 0.9840674213691369, 0.9873364484372614, 0.9974604396713813, 0.7800364536165509, 0.9929344749705603, 0.9962331871473923, 0.9918643579546395, 0.9970255447457463, 0.995917378912996, 0.9970551064713868, 0.9909101458986151, 0.9921744697162896, 0.9973469931220753, 0.7672796284044184, 0.9962879420638737]}, {\"categories\": [\"0\", \"1\", \"3\", \"6\", \"9\", \"10\", \"13\", \"16\", \"18\", \"21\", \"22\", \"23\", \"24\", \"25\", \"28\", \"29\", \"30\", \"31\", \"32\", \"33\", \"34\", \"35\", \"39\"], \"mode\": \"lines\", \"name\": \"average_precision_score_weighted_max\", \"stepped\": true, \"type\": \"scatter\", \"data\": [0.9951378213146298, 0.9951378213146298, 0.9951378213146298, 0.9951378213146298, 0.9951378213146298, 0.9951378213146298, 0.9951378213146298, 0.9951378213146298, 0.9951378213146298, 0.9951378213146298, 0.9974604396713813, 0.9974604396713813, 0.9974604396713813, 0.9974604396713813, 0.9974604396713813, 0.9974604396713813, 0.9974604396713813, 0.9974604396713813, 0.9974604396713813, 0.9974604396713813, 0.9974604396713813, 0.9974604396713813, 0.9974604396713813]}], \"f1_score_weighted\": [{\"categories\": [\"0\", \"1\", \"3\", \"6\", \"9\", \"10\", \"13\", \"16\", \"18\", \"21\", \"22\", \"23\", \"24\", \"25\", \"28\", \"29\", \"30\", \"31\", \"32\", \"33\", \"34\", \"35\", \"39\"], \"mode\": \"markers\", \"name\": \"f1_score_weighted\", \"stepped\": false, \"type\": \"scatter\", \"data\": [0.983444875070018, 0.9794440262708158, 0.9736695491290891, 0.9795339242172227, 0.9796025472102867, 0.9554210555362939, 0.9760132377386967, 0.9695018940011121, 0.9510081474708817, 0.9739688768977739, 0.9738021840336151, 0.8032800742815642, 0.9809709753878915, 0.986007108318919, 0.9769105980034043, 0.9849621803700535, 0.9847782412526185, 0.9862736841834545, 0.9740218305328556, 0.9796391601365324, 0.9767318772743374, 0.8032800742815642, 0.9879859923328818]}, {\"categories\": [\"0\", \"1\", \"3\", \"6\", \"9\", \"10\", \"13\", \"16\", \"18\", \"21\", \"22\", \"23\", \"24\", \"25\", \"28\", \"29\", \"30\", \"31\", \"32\", \"33\", \"34\", \"35\", \"39\"], \"mode\": \"lines\", \"name\": \"f1_score_weighted_max\", \"stepped\": true, \"type\": \"scatter\", \"data\": [0.983444875070018, 0.983444875070018, 0.983444875070018, 0.983444875070018, 0.983444875070018, 0.983444875070018, 0.983444875070018, 0.983444875070018, 0.983444875070018, 0.983444875070018, 0.983444875070018, 0.983444875070018, 0.983444875070018, 0.986007108318919, 0.986007108318919, 0.986007108318919, 0.986007108318919, 0.9862736841834545, 0.9862736841834545, 0.9862736841834545, 0.9862736841834545, 0.9862736841834545, 0.9879859923328818]}], \"recall_score_weighted\": [{\"categories\": [\"0\", \"1\", \"3\", \"6\", \"9\", \"10\", \"13\", \"16\", \"18\", \"21\", \"22\", \"23\", \"24\", \"25\", \"28\", \"29\", \"30\", \"31\", \"32\", \"33\", \"34\", \"35\", \"39\"], \"mode\": \"markers\", \"name\": \"recall_score_weighted\", \"stepped\": false, \"type\": \"scatter\", \"data\": [0.9840330104054539, 0.9802655184786508, 0.9747039827771797, 0.9802655184786508, 0.9804449228561177, 0.9589163975601005, 0.9770362396842482, 0.9711158952278436, 0.94994617868676, 0.9752421959095803, 0.9750627915321134, 0.8656261212773592, 0.9817007534983853, 0.9863652673125224, 0.9779332615715823, 0.9854682454251884, 0.9852888410477215, 0.986724076067456, 0.9752421959095803, 0.9804449228561177, 0.9777538571941156, 0.8656261212773592, 0.9883387154646573]}, {\"categories\": [\"0\", \"1\", \"3\", \"6\", \"9\", \"10\", \"13\", \"16\", \"18\", \"21\", \"22\", \"23\", \"24\", \"25\", \"28\", \"29\", \"30\", \"31\", \"32\", \"33\", \"34\", \"35\", \"39\"], \"mode\": \"lines\", \"name\": \"recall_score_weighted_max\", \"stepped\": true, \"type\": \"scatter\", \"data\": [0.9840330104054539, 0.9840330104054539, 0.9840330104054539, 0.9840330104054539, 0.9840330104054539, 0.9840330104054539, 0.9840330104054539, 0.9840330104054539, 0.9840330104054539, 0.9840330104054539, 0.9840330104054539, 0.9840330104054539, 0.9840330104054539, 0.9863652673125224, 0.9863652673125224, 0.9863652673125224, 0.9863652673125224, 0.986724076067456, 0.986724076067456, 0.986724076067456, 0.986724076067456, 0.986724076067456, 0.9883387154646573]}], \"average_precision_score_micro\": [{\"categories\": [\"0\", \"1\", \"3\", \"6\", \"9\", \"10\", \"13\", \"16\", \"18\", \"21\", \"22\", \"23\", \"24\", \"25\", \"28\", \"29\", \"30\", \"31\", \"32\", \"33\", \"34\", \"35\", \"39\"], \"mode\": \"markers\", \"name\": \"average_precision_score_micro\", \"stepped\": false, \"type\": \"scatter\", \"data\": [0.9963891877680132, 0.9947131921278073, 0.9841985159274331, 0.9936033188814107, 0.9921365630380656, 0.986929056475099, 0.9922521465826437, 0.9925804047724697, 0.9863716959397273, 0.988917869939412, 0.9965480939228383, 0.8309447588315347, 0.994911908307348, 0.9976401092402317, 0.9939529692575585, 0.9975066958577192, 0.9968161811031657, 0.9976616309016808, 0.9932543448178466, 0.9943727079016075, 0.997035208035968, 0.8163872155423542, 0.9969792778978809]}, {\"categories\": [\"0\", \"1\", \"3\", \"6\", \"9\", \"10\", \"13\", \"16\", \"18\", \"21\", \"22\", \"23\", \"24\", \"25\", \"28\", \"29\", \"30\", \"31\", \"32\", \"33\", \"34\", \"35\", \"39\"], \"mode\": \"lines\", \"name\": \"average_precision_score_micro_max\", \"stepped\": true, \"type\": \"scatter\", \"data\": [0.9963891877680132, 0.9963891877680132, 0.9963891877680132, 0.9963891877680132, 0.9963891877680132, 0.9963891877680132, 0.9963891877680132, 0.9963891877680132, 0.9963891877680132, 0.9963891877680132, 0.9965480939228383, 0.9965480939228383, 0.9965480939228383, 0.9976401092402317, 0.9976401092402317, 0.9976401092402317, 0.9976401092402317, 0.9976616309016808, 0.9976616309016808, 0.9976616309016808, 0.9976616309016808, 0.9976616309016808, 0.9976616309016808]}], \"recall_score_macro\": [{\"categories\": [\"0\", \"1\", \"3\", \"6\", \"9\", \"10\", \"13\", \"16\", \"18\", \"21\", \"22\", \"23\", \"24\", \"25\", \"28\", \"29\", \"30\", \"31\", \"32\", \"33\", \"34\", \"35\", \"39\"], \"mode\": \"markers\", \"name\": \"recall_score_macro\", \"stepped\": false, \"type\": \"scatter\", \"data\": [0.6288092418712359, 0.6201202326606458, 0.6101711298799977, 0.6220604477505549, 0.6190966920953656, 0.5654082850222628, 0.6121637236287721, 0.5963638135820865, 0.6131891458949525, 0.607529180868602, 0.6054137387064391, 0.3333333333333333, 0.6233373599429863, 0.6388698767426242, 0.6139089557380896, 0.6320726052278517, 0.6316495448521167, 0.6351893890129274, 0.6076064891738634, 0.6205739929951628, 0.612132511114298, 0.3333333333333333, 0.6407387195299261]}, {\"categories\": [\"0\", \"1\", \"3\", \"6\", \"9\", \"10\", \"13\", \"16\", \"18\", \"21\", \"22\", \"23\", \"24\", \"25\", \"28\", \"29\", \"30\", \"31\", \"32\", \"33\", \"34\", \"35\", \"39\"], \"mode\": \"lines\", \"name\": \"recall_score_macro_max\", \"stepped\": true, \"type\": \"scatter\", \"data\": [0.6288092418712359, 0.6288092418712359, 0.6288092418712359, 0.6288092418712359, 0.6288092418712359, 0.6288092418712359, 0.6288092418712359, 0.6288092418712359, 0.6288092418712359, 0.6288092418712359, 0.6288092418712359, 0.6288092418712359, 0.6288092418712359, 0.6388698767426242, 0.6388698767426242, 0.6388698767426242, 0.6388698767426242, 0.6388698767426242, 0.6388698767426242, 0.6388698767426242, 0.6388698767426242, 0.6388698767426242, 0.6407387195299261]}], \"AUC_macro\": [{\"categories\": [\"0\", \"1\", \"3\", \"6\", \"9\", \"10\", \"13\", \"16\", \"18\", \"21\", \"22\", \"23\", \"24\", \"25\", \"28\", \"29\", \"30\", \"31\", \"32\", \"33\", \"34\", \"35\", \"39\"], \"mode\": \"markers\", \"name\": \"AUC_macro\", \"stepped\": false, \"type\": \"scatter\", \"data\": [0.8273029575949615, 0.8238706927328476, 0.8102013614752209, 0.8237557097985035, 0.8206346139192986, 0.8142569776780073, 0.8223029880551345, 0.8221280675361127, 0.8151586368940027, 0.8175997234938177, 0.8306916311963544, 0.5292021117911097, 0.8239598923556166, 0.8292175324880493, 0.8227960750746867, 0.8299124499831717, 0.828451156075914, 0.8299277591894891, 0.8217033935529202, 0.8234490899428537, 0.8306848358456995, 0.5, 0.8287535097769344]}, {\"categories\": [\"0\", \"1\", \"3\", \"6\", \"9\", \"10\", \"13\", \"16\", \"18\", \"21\", \"22\", \"23\", \"24\", \"25\", \"28\", \"29\", \"30\", \"31\", \"32\", \"33\", \"34\", \"35\", \"39\"], \"mode\": \"lines\", \"name\": \"AUC_macro_max\", \"stepped\": true, \"type\": \"scatter\", \"data\": [0.8273029575949615, 0.8273029575949615, 0.8273029575949615, 0.8273029575949615, 0.8273029575949615, 0.8273029575949615, 0.8273029575949615, 0.8273029575949615, 0.8273029575949615, 0.8273029575949615, 0.8306916311963544, 0.8306916311963544, 0.8306916311963544, 0.8306916311963544, 0.8306916311963544, 0.8306916311963544, 0.8306916311963544, 0.8306916311963544, 0.8306916311963544, 0.8306916311963544, 0.8306916311963544, 0.8306916311963544, 0.8306916311963544]}], \"f1_score_macro\": [{\"categories\": [\"0\", \"1\", \"3\", \"6\", \"9\", \"10\", \"13\", \"16\", \"18\", \"21\", \"22\", \"23\", \"24\", \"25\", \"28\", \"29\", \"30\", \"31\", \"32\", \"33\", \"34\", \"35\", \"39\"], \"mode\": \"markers\", \"name\": \"f1_score_macro\", \"stepped\": false, \"type\": \"scatter\", \"data\": [0.6429259930987699, 0.6368131978188962, 0.6283031493850026, 0.6371076363934289, 0.6370251887938934, 0.5986107805268738, 0.6316369522758808, 0.6215079683606205, 0.5988174707626657, 0.6282610691970963, 0.6281628152495389, 0.3093240560910514, 0.6391440841379379, 0.6470076732332638, 0.6328803063990075, 0.6452622315863308, 0.645003840350326, 0.6472211437208651, 0.6284595694880066, 0.6371273906586472, 0.6327143171993563, 0.3093240560910514, 0.6498394428538288]}, {\"categories\": [\"0\", \"1\", \"3\", \"6\", \"9\", \"10\", \"13\", \"16\", \"18\", \"21\", \"22\", \"23\", \"24\", \"25\", \"28\", \"29\", \"30\", \"31\", \"32\", \"33\", \"34\", \"35\", \"39\"], \"mode\": \"lines\", \"name\": \"f1_score_macro_max\", \"stepped\": true, \"type\": \"scatter\", \"data\": [0.6429259930987699, 0.6429259930987699, 0.6429259930987699, 0.6429259930987699, 0.6429259930987699, 0.6429259930987699, 0.6429259930987699, 0.6429259930987699, 0.6429259930987699, 0.6429259930987699, 0.6429259930987699, 0.6429259930987699, 0.6429259930987699, 0.6470076732332638, 0.6470076732332638, 0.6470076732332638, 0.6470076732332638, 0.6472211437208651, 0.6472211437208651, 0.6472211437208651, 0.6472211437208651, 0.6472211437208651, 0.6498394428538288]}], \"balanced_accuracy\": [{\"categories\": [\"0\", \"1\", \"3\", \"6\", \"9\", \"10\", \"13\", \"16\", \"18\", \"21\", \"22\", \"23\", \"24\", \"25\", \"28\", \"29\", \"30\", \"31\", \"32\", \"33\", \"34\", \"35\", \"39\"], \"mode\": \"markers\", \"name\": \"balanced_accuracy\", \"stepped\": false, \"type\": \"scatter\", \"data\": [0.6288092418712359, 0.6201202326606458, 0.6101711298799977, 0.6220604477505549, 0.6190966920953656, 0.5654082850222628, 0.6121637236287721, 0.5963638135820865, 0.6131891458949525, 0.607529180868602, 0.6054137387064391, 0.3333333333333333, 0.6233373599429863, 0.6388698767426242, 0.6139089557380896, 0.6320726052278517, 0.6316495448521167, 0.6351893890129274, 0.6076064891738634, 0.6205739929951628, 0.612132511114298, 0.3333333333333333, 0.6407387195299261]}, {\"categories\": [\"0\", \"1\", \"3\", \"6\", \"9\", \"10\", \"13\", \"16\", \"18\", \"21\", \"22\", \"23\", \"24\", \"25\", \"28\", \"29\", \"30\", \"31\", \"32\", \"33\", \"34\", \"35\", \"39\"], \"mode\": \"lines\", \"name\": \"balanced_accuracy_max\", \"stepped\": true, \"type\": \"scatter\", \"data\": [0.6288092418712359, 0.6288092418712359, 0.6288092418712359, 0.6288092418712359, 0.6288092418712359, 0.6288092418712359, 0.6288092418712359, 0.6288092418712359, 0.6288092418712359, 0.6288092418712359, 0.6288092418712359, 0.6288092418712359, 0.6288092418712359, 0.6388698767426242, 0.6388698767426242, 0.6388698767426242, 0.6388698767426242, 0.6388698767426242, 0.6388698767426242, 0.6388698767426242, 0.6388698767426242, 0.6388698767426242, 0.6407387195299261]}], \"matthews_correlation\": [{\"categories\": [\"0\", \"1\", \"3\", \"6\", \"9\", \"10\", \"13\", \"16\", \"18\", \"21\", \"22\", \"23\", \"24\", \"25\", \"28\", \"29\", \"30\", \"31\", \"32\", \"33\", \"34\", \"35\", \"39\"], \"mode\": \"markers\", \"name\": \"matthews_correlation\", \"stepped\": false, \"type\": \"scatter\", \"data\": [0.9297758488178696, 0.9126220506818675, 0.8876523292772242, 0.9127985075154751, 0.9135946475880354, 0.8129363412239876, 0.8981464452244866, 0.8712803561200585, 0.7974420935595963, 0.8893549363654375, 0.8894807695671918, 0.0, 0.919147834128543, 0.9404687730867634, 0.9020245924254056, 0.9363724030309654, 0.9356184761746165, 0.9419315618319481, 0.889728336577833, 0.9135287597300494, 0.9017814631536253, 0.0, 0.9491200751191275]}, {\"categories\": [\"0\", \"1\", \"3\", \"6\", \"9\", \"10\", \"13\", \"16\", \"18\", \"21\", \"22\", \"23\", \"24\", \"25\", \"28\", \"29\", \"30\", \"31\", \"32\", \"33\", \"34\", \"35\", \"39\"], \"mode\": \"lines\", \"name\": \"matthews_correlation_max\", \"stepped\": true, \"type\": \"scatter\", \"data\": [0.9297758488178696, 0.9297758488178696, 0.9297758488178696, 0.9297758488178696, 0.9297758488178696, 0.9297758488178696, 0.9297758488178696, 0.9297758488178696, 0.9297758488178696, 0.9297758488178696, 0.9297758488178696, 0.9297758488178696, 0.9297758488178696, 0.9404687730867634, 0.9404687730867634, 0.9404687730867634, 0.9404687730867634, 0.9419315618319481, 0.9419315618319481, 0.9419315618319481, 0.9419315618319481, 0.9419315618319481, 0.9491200751191275]}], \"norm_macro_recall\": [{\"categories\": [\"0\", \"1\", \"3\", \"6\", \"9\", \"10\", \"13\", \"16\", \"18\", \"21\", \"22\", \"23\", \"24\", \"25\", \"28\", \"29\", \"30\", \"31\", \"32\", \"33\", \"34\", \"35\", \"39\"], \"mode\": \"markers\", \"name\": \"norm_macro_recall\", \"stepped\": false, \"type\": \"scatter\", \"data\": [0.4432138628068537, 0.43018034899096863, 0.4152566948199964, 0.4330906716258325, 0.4286450381430482, 0.3481124275333941, 0.4182455854431582, 0.3945457203731297, 0.4197837188424287, 0.41129377130290296, 0.40812060805965866, 0.0, 0.4350060399144796, 0.4583048151139363, 0.42086343360713435, 0.44810890784177754, 0.4474743172781751, 0.45278408351939115, 0.4114097337607951, 0.4308609894927442, 0.418198766671447, 0.0, 0.4611080792948893]}, {\"categories\": [\"0\", \"1\", \"3\", \"6\", \"9\", \"10\", \"13\", \"16\", \"18\", \"21\", \"22\", \"23\", \"24\", \"25\", \"28\", \"29\", \"30\", \"31\", \"32\", \"33\", \"34\", \"35\", \"39\"], \"mode\": \"lines\", \"name\": \"norm_macro_recall_max\", \"stepped\": true, \"type\": \"scatter\", \"data\": [0.4432138628068537, 0.4432138628068537, 0.4432138628068537, 0.4432138628068537, 0.4432138628068537, 0.4432138628068537, 0.4432138628068537, 0.4432138628068537, 0.4432138628068537, 0.4432138628068537, 0.4432138628068537, 0.4432138628068537, 0.4432138628068537, 0.4583048151139363, 0.4583048151139363, 0.4583048151139363, 0.4583048151139363, 0.4583048151139363, 0.4583048151139363, 0.4583048151139363, 0.4583048151139363, 0.4583048151139363, 0.4611080792948893]}], \"precision_score_weighted\": [{\"categories\": [\"0\", \"1\", \"3\", \"6\", \"9\", \"10\", \"13\", \"16\", \"18\", \"21\", \"22\", \"23\", \"24\", \"25\", \"28\", \"29\", \"30\", \"31\", \"32\", \"33\", \"34\", \"35\", \"39\"], \"mode\": \"markers\", \"name\": \"precision_score_weighted\", \"stepped\": false, \"type\": \"scatter\", \"data\": [0.9838898987010162, 0.9801903192221586, 0.9744502876500842, 0.9800442853109319, 0.9804873376844776, 0.9603896750984924, 0.9770423132663941, 0.9715654218927932, 0.953024541584555, 0.9753523260444248, 0.9754077078353889, 0.7493140212599658, 0.9815983002896902, 0.9859728924463176, 0.9780037685347753, 0.985305068428078, 0.9851269233778055, 0.9865283312200002, 0.9753589111047181, 0.9803848110435043, 0.9779556575184489, 0.7493140212599658, 0.9880346261102722]}, {\"categories\": [\"0\", \"1\", \"3\", \"6\", \"9\", \"10\", \"13\", \"16\", \"18\", \"21\", \"22\", \"23\", \"24\", \"25\", \"28\", \"29\", \"30\", \"31\", \"32\", \"33\", \"34\", \"35\", \"39\"], \"mode\": \"lines\", \"name\": \"precision_score_weighted_max\", \"stepped\": true, \"type\": \"scatter\", \"data\": [0.9838898987010162, 0.9838898987010162, 0.9838898987010162, 0.9838898987010162, 0.9838898987010162, 0.9838898987010162, 0.9838898987010162, 0.9838898987010162, 0.9838898987010162, 0.9838898987010162, 0.9838898987010162, 0.9838898987010162, 0.9838898987010162, 0.9859728924463176, 0.9859728924463176, 0.9859728924463176, 0.9859728924463176, 0.9865283312200002, 0.9865283312200002, 0.9865283312200002, 0.9865283312200002, 0.9865283312200002, 0.9880346261102722]}], \"weighted_accuracy\": [{\"categories\": [\"0\", \"1\", \"3\", \"6\", \"9\", \"10\", \"13\", \"16\", \"18\", \"21\", \"22\", \"23\", \"24\", \"25\", \"28\", \"29\", \"30\", \"31\", \"32\", \"33\", \"34\", \"35\", \"39\"], \"mode\": \"markers\", \"name\": \"weighted_accuracy\", \"stepped\": false, \"type\": \"scatter\", \"data\": [0.9967735519890721, 0.9957794845424549, 0.993084968509051, 0.9949183122804452, 0.9964923607763863, 0.9927420122543869, 0.9952092581312149, 0.9946824509927193, 0.9595006881416535, 0.9949109388661745, 0.9957153885103267, 0.9765812329143235, 0.9961995545070642, 0.9952878971174286, 0.9955455337217418, 0.9971888039277415, 0.9971554115200763, 0.9974088566230856, 0.9949033820085722, 0.9958094283400113, 0.9961834086453552, 0.9765812329143235, 0.997003885565013]}, {\"categories\": [\"0\", \"1\", \"3\", \"6\", \"9\", \"10\", \"13\", \"16\", \"18\", \"21\", \"22\", \"23\", \"24\", \"25\", \"28\", \"29\", \"30\", \"31\", \"32\", \"33\", \"34\", \"35\", \"39\"], \"mode\": \"lines\", \"name\": \"weighted_accuracy_max\", \"stepped\": true, \"type\": \"scatter\", \"data\": [0.9967735519890721, 0.9967735519890721, 0.9967735519890721, 0.9967735519890721, 0.9967735519890721, 0.9967735519890721, 0.9967735519890721, 0.9967735519890721, 0.9967735519890721, 0.9967735519890721, 0.9967735519890721, 0.9967735519890721, 0.9967735519890721, 0.9967735519890721, 0.9967735519890721, 0.9971888039277415, 0.9971888039277415, 0.9974088566230856, 0.9974088566230856, 0.9974088566230856, 0.9974088566230856, 0.9974088566230856, 0.9974088566230856]}], \"precision_score_micro\": [{\"categories\": [\"0\", \"1\", \"3\", \"6\", \"9\", \"10\", \"13\", \"16\", \"18\", \"21\", \"22\", \"23\", \"24\", \"25\", \"28\", \"29\", \"30\", \"31\", \"32\", \"33\", \"34\", \"35\", \"39\"], \"mode\": \"markers\", \"name\": \"precision_score_micro\", \"stepped\": false, \"type\": \"scatter\", \"data\": [0.9840330104054539, 0.9802655184786508, 0.9747039827771797, 0.9802655184786508, 0.9804449228561177, 0.9589163975601005, 0.9770362396842482, 0.9711158952278436, 0.94994617868676, 0.9752421959095803, 0.9750627915321134, 0.8656261212773592, 0.9817007534983853, 0.9863652673125224, 0.9779332615715823, 0.9854682454251884, 0.9852888410477215, 0.986724076067456, 0.9752421959095803, 0.9804449228561177, 0.9777538571941156, 0.8656261212773592, 0.9883387154646573]}, {\"categories\": [\"0\", \"1\", \"3\", \"6\", \"9\", \"10\", \"13\", \"16\", \"18\", \"21\", \"22\", \"23\", \"24\", \"25\", \"28\", \"29\", \"30\", \"31\", \"32\", \"33\", \"34\", \"35\", \"39\"], \"mode\": \"lines\", \"name\": \"precision_score_micro_max\", \"stepped\": true, \"type\": \"scatter\", \"data\": [0.9840330104054539, 0.9840330104054539, 0.9840330104054539, 0.9840330104054539, 0.9840330104054539, 0.9840330104054539, 0.9840330104054539, 0.9840330104054539, 0.9840330104054539, 0.9840330104054539, 0.9840330104054539, 0.9840330104054539, 0.9840330104054539, 0.9863652673125224, 0.9863652673125224, 0.9863652673125224, 0.9863652673125224, 0.986724076067456, 0.986724076067456, 0.986724076067456, 0.986724076067456, 0.986724076067456, 0.9883387154646573]}], \"accuracy\": [{\"categories\": [\"0\", \"1\", \"3\", \"6\", \"9\", \"10\", \"13\", \"16\", \"18\", \"21\", \"22\", \"23\", \"24\", \"25\", \"28\", \"29\", \"30\", \"31\", \"32\", \"33\", \"34\", \"35\", \"39\"], \"mode\": \"markers\", \"name\": \"accuracy\", \"stepped\": false, \"type\": \"scatter\", \"data\": [0.9840330104054539, 0.9802655184786508, 0.9747039827771797, 0.9802655184786508, 0.9804449228561177, 0.9589163975601005, 0.9770362396842482, 0.9711158952278436, 0.94994617868676, 0.9752421959095803, 0.9750627915321134, 0.8656261212773592, 0.9817007534983853, 0.9863652673125224, 0.9779332615715823, 0.9854682454251884, 0.9852888410477215, 0.986724076067456, 0.9752421959095803, 0.9804449228561177, 0.9777538571941156, 0.8656261212773592, 0.9883387154646573]}, {\"categories\": [\"0\", \"1\", \"3\", \"6\", \"9\", \"10\", \"13\", \"16\", \"18\", \"21\", \"22\", \"23\", \"24\", \"25\", \"28\", \"29\", \"30\", \"31\", \"32\", \"33\", \"34\", \"35\", \"39\"], \"mode\": \"lines\", \"name\": \"accuracy_max\", \"stepped\": true, \"type\": \"scatter\", \"data\": [0.9840330104054539, 0.9840330104054539, 0.9840330104054539, 0.9840330104054539, 0.9840330104054539, 0.9840330104054539, 0.9840330104054539, 0.9840330104054539, 0.9840330104054539, 0.9840330104054539, 0.9840330104054539, 0.9840330104054539, 0.9840330104054539, 0.9863652673125224, 0.9863652673125224, 0.9863652673125224, 0.9863652673125224, 0.986724076067456, 0.986724076067456, 0.986724076067456, 0.986724076067456, 0.986724076067456, 0.9883387154646573]}], \"log_loss\": [{\"categories\": [\"0\", \"1\", \"3\", \"6\", \"9\", \"10\", \"13\", \"16\", \"18\", \"21\", \"22\", \"23\", \"24\", \"25\", \"28\", \"29\", \"30\", \"31\", \"32\", \"33\", \"34\", \"35\", \"39\"], \"mode\": \"markers\", \"name\": \"log_loss\", \"stepped\": false, \"type\": \"scatter\", \"data\": [0.1088762523245495, 0.08471473998007503, 0.9846040271653784, 0.11184622166650016, 0.09343845594866804, 0.14399379568599682, 0.12651839697070658, 0.1222704196643333, 0.4200660798395344, 0.1930299384756311, 0.13925822410181016, 0.4050564005342345, 0.07603482783746868, 0.05995036510925691, 0.09204508436290985, 0.0578331138723061, 0.059608085566950186, 0.08564376639263216, 0.09516028647060697, 0.08057965390762654, 0.07259844209734506, 0.42842124308774693, 0.06150898727805547]}, {\"categories\": [\"0\", \"1\", \"3\", \"6\", \"9\", \"10\", \"13\", \"16\", \"18\", \"21\", \"22\", \"23\", \"24\", \"25\", \"28\", \"29\", \"30\", \"31\", \"32\", \"33\", \"34\", \"35\", \"39\"], \"mode\": \"lines\", \"name\": \"log_loss_min\", \"stepped\": true, \"type\": \"scatter\", \"data\": [0.1088762523245495, 0.08471473998007503, 0.08471473998007503, 0.08471473998007503, 0.08471473998007503, 0.08471473998007503, 0.08471473998007503, 0.08471473998007503, 0.08471473998007503, 0.08471473998007503, 0.08471473998007503, 0.08471473998007503, 0.07603482783746868, 0.05995036510925691, 0.05995036510925691, 0.0578331138723061, 0.0578331138723061, 0.0578331138723061, 0.0578331138723061, 0.0578331138723061, 0.0578331138723061, 0.0578331138723061, 0.0578331138723061]}], \"recall_score_micro\": [{\"categories\": [\"0\", \"1\", \"3\", \"6\", \"9\", \"10\", \"13\", \"16\", \"18\", \"21\", \"22\", \"23\", \"24\", \"25\", \"28\", \"29\", \"30\", \"31\", \"32\", \"33\", \"34\", \"35\", \"39\"], \"mode\": \"markers\", \"name\": \"recall_score_micro\", \"stepped\": false, \"type\": \"scatter\", \"data\": [0.9840330104054539, 0.9802655184786508, 0.9747039827771797, 0.9802655184786508, 0.9804449228561177, 0.9589163975601005, 0.9770362396842482, 0.9711158952278436, 0.94994617868676, 0.9752421959095803, 0.9750627915321134, 0.8656261212773592, 0.9817007534983853, 0.9863652673125224, 0.9779332615715823, 0.9854682454251884, 0.9852888410477215, 0.986724076067456, 0.9752421959095803, 0.9804449228561177, 0.9777538571941156, 0.8656261212773592, 0.9883387154646573]}, {\"categories\": [\"0\", \"1\", \"3\", \"6\", \"9\", \"10\", \"13\", \"16\", \"18\", \"21\", \"22\", \"23\", \"24\", \"25\", \"28\", \"29\", \"30\", \"31\", \"32\", \"33\", \"34\", \"35\", \"39\"], \"mode\": \"lines\", \"name\": \"recall_score_micro_max\", \"stepped\": true, \"type\": \"scatter\", \"data\": [0.9840330104054539, 0.9840330104054539, 0.9840330104054539, 0.9840330104054539, 0.9840330104054539, 0.9840330104054539, 0.9840330104054539, 0.9840330104054539, 0.9840330104054539, 0.9840330104054539, 0.9840330104054539, 0.9840330104054539, 0.9840330104054539, 0.9863652673125224, 0.9863652673125224, 0.9863652673125224, 0.9863652673125224, 0.986724076067456, 0.986724076067456, 0.986724076067456, 0.986724076067456, 0.986724076067456, 0.9883387154646573]}], \"f1_score_micro\": [{\"categories\": [\"0\", \"1\", \"3\", \"6\", \"9\", \"10\", \"13\", \"16\", \"18\", \"21\", \"22\", \"23\", \"24\", \"25\", \"28\", \"29\", \"30\", \"31\", \"32\", \"33\", \"34\", \"35\", \"39\"], \"mode\": \"markers\", \"name\": \"f1_score_micro\", \"stepped\": false, \"type\": \"scatter\", \"data\": [0.9840330104054539, 0.9802655184786508, 0.9747039827771797, 0.9802655184786508, 0.9804449228561177, 0.9589163975601005, 0.9770362396842482, 0.9711158952278436, 0.9499461786867599, 0.9752421959095803, 0.9750627915321134, 0.8656261212773593, 0.9817007534983853, 0.9863652673125224, 0.9779332615715823, 0.9854682454251884, 0.9852888410477215, 0.986724076067456, 0.9752421959095803, 0.9804449228561177, 0.9777538571941156, 0.8656261212773593, 0.9883387154646573]}, {\"categories\": [\"0\", \"1\", \"3\", \"6\", \"9\", \"10\", \"13\", \"16\", \"18\", \"21\", \"22\", \"23\", \"24\", \"25\", \"28\", \"29\", \"30\", \"31\", \"32\", \"33\", \"34\", \"35\", \"39\"], \"mode\": \"lines\", \"name\": \"f1_score_micro_max\", \"stepped\": true, \"type\": \"scatter\", \"data\": [0.9840330104054539, 0.9840330104054539, 0.9840330104054539, 0.9840330104054539, 0.9840330104054539, 0.9840330104054539, 0.9840330104054539, 0.9840330104054539, 0.9840330104054539, 0.9840330104054539, 0.9840330104054539, 0.9840330104054539, 0.9840330104054539, 0.9863652673125224, 0.9863652673125224, 0.9863652673125224, 0.9863652673125224, 0.986724076067456, 0.986724076067456, 0.986724076067456, 0.986724076067456, 0.986724076067456, 0.9883387154646573]}], \"AUC_weighted\": [{\"categories\": [\"0\", \"1\", \"3\", \"6\", \"9\", \"10\", \"13\", \"16\", \"18\", \"21\", \"22\", \"23\", \"24\", \"25\", \"28\", \"29\", \"30\", \"31\", \"32\", \"33\", \"34\", \"35\", \"39\"], \"mode\": \"markers\", \"name\": \"AUC_weighted\", \"stepped\": false, \"type\": \"scatter\", \"data\": [0.99026514396537, 0.9853250288483595, 0.9648977584911888, 0.9850050235336056, 0.9801219943861267, 0.9711081636760202, 0.982935095645644, 0.9824815333929611, 0.9704954842179587, 0.9761632984355608, 0.9952117444472104, 0.5440053750611803, 0.9854189467522447, 0.9935074209383804, 0.9835472169361003, 0.9941382379419983, 0.9919925847492694, 0.9941247193386735, 0.9818133098978166, 0.9844834625586456, 0.9951820209105953, 0.5, 0.9927306350988643]}, {\"categories\": [\"0\", \"1\", \"3\", \"6\", \"9\", \"10\", \"13\", \"16\", \"18\", \"21\", \"22\", \"23\", \"24\", \"25\", \"28\", \"29\", \"30\", \"31\", \"32\", \"33\", \"34\", \"35\", \"39\"], \"mode\": \"lines\", \"name\": \"AUC_weighted_max\", \"stepped\": true, \"type\": \"scatter\", \"data\": [0.99026514396537, 0.99026514396537, 0.99026514396537, 0.99026514396537, 0.99026514396537, 0.99026514396537, 0.99026514396537, 0.99026514396537, 0.99026514396537, 0.99026514396537, 0.9952117444472104, 0.9952117444472104, 0.9952117444472104, 0.9952117444472104, 0.9952117444472104, 0.9952117444472104, 0.9952117444472104, 0.9952117444472104, 0.9952117444472104, 0.9952117444472104, 0.9952117444472104, 0.9952117444472104, 0.9952117444472104]}], \"average_precision_score_macro\": [{\"categories\": [\"0\", \"1\", \"3\", \"6\", \"9\", \"10\", \"13\", \"16\", \"18\", \"21\", \"22\", \"23\", \"24\", \"25\", \"28\", \"29\", \"30\", \"31\", \"32\", \"33\", \"34\", \"35\", \"39\"], \"mode\": \"markers\", \"name\": \"average_precision_score_macro\", \"stepped\": false, \"type\": \"scatter\", \"data\": [0.6591151455790679, 0.6561329550177517, 0.6415006863154733, 0.6549556140623363, 0.6521368348443775, 0.641710554293376, 0.6531196151621006, 0.652022388740187, 0.6396511711760083, 0.6481140591255883, 0.6635783318181909, 0.34530449024100773, 0.655857164171967, 0.6604261912060782, 0.6540170545371633, 0.6625935010982832, 0.6610175515420316, 0.6627028618566801, 0.6523990949675103, 0.6553358564580507, 0.6635969632372729, 0.3333333333333333, 0.6609334133159324]}, {\"categories\": [\"0\", \"1\", \"3\", \"6\", \"9\", \"10\", \"13\", \"16\", \"18\", \"21\", \"22\", \"23\", \"24\", \"25\", \"28\", \"29\", \"30\", \"31\", \"32\", \"33\", \"34\", \"35\", \"39\"], \"mode\": \"lines\", \"name\": \"average_precision_score_macro_max\", \"stepped\": true, \"type\": \"scatter\", \"data\": [0.6591151455790679, 0.6591151455790679, 0.6591151455790679, 0.6591151455790679, 0.6591151455790679, 0.6591151455790679, 0.6591151455790679, 0.6591151455790679, 0.6591151455790679, 0.6591151455790679, 0.6635783318181909, 0.6635783318181909, 0.6635783318181909, 0.6635783318181909, 0.6635783318181909, 0.6635783318181909, 0.6635783318181909, 0.6635783318181909, 0.6635783318181909, 0.6635783318181909, 0.6635969632372729, 0.6635969632372729, 0.6635969632372729]}], \"AUC_micro\": [{\"categories\": [\"0\", \"1\", \"3\", \"6\", \"9\", \"10\", \"13\", \"16\", \"18\", \"21\", \"22\", \"23\", \"24\", \"25\", \"28\", \"29\", \"30\", \"31\", \"32\", \"33\", \"34\", \"35\", \"39\"], \"mode\": \"markers\", \"name\": \"AUC_micro\", \"stepped\": false, \"type\": \"scatter\", \"data\": [0.9986416035253808, 0.9981155674034112, 0.9958024718537253, 0.997893098250729, 0.9974251148190161, 0.9958416528599753, 0.9973616334351223, 0.997520352987822, 0.9955143970457264, 0.9965497433343687, 0.998739942272173, 0.9583572850300618, 0.9981817845914105, 0.9990039527326864, 0.997880138049319, 0.9990205606729039, 0.9988199779530664, 0.9990633250460998, 0.9976339478657444, 0.9981072848905896, 0.9989279295644811, 0.9549695012558306, 0.9988605107684039]}, {\"categories\": [\"0\", \"1\", \"3\", \"6\", \"9\", \"10\", \"13\", \"16\", \"18\", \"21\", \"22\", \"23\", \"24\", \"25\", \"28\", \"29\", \"30\", \"31\", \"32\", \"33\", \"34\", \"35\", \"39\"], \"mode\": \"lines\", \"name\": \"AUC_micro_max\", \"stepped\": true, \"type\": \"scatter\", \"data\": [0.9986416035253808, 0.9986416035253808, 0.9986416035253808, 0.9986416035253808, 0.9986416035253808, 0.9986416035253808, 0.9986416035253808, 0.9986416035253808, 0.9986416035253808, 0.9986416035253808, 0.998739942272173, 0.998739942272173, 0.998739942272173, 0.9990039527326864, 0.9990039527326864, 0.9990205606729039, 0.9990205606729039, 0.9990633250460998, 0.9990633250460998, 0.9990633250460998, 0.9990633250460998, 0.9990633250460998, 0.9990633250460998]}]}, \"metricName\": null, \"primaryMetricName\": \"accuracy\", \"showLegend\": false}, \"run_metrics\": [{\"name\": \"experiment_status\", \"run_id\": \"AutoML_d7b359dc-ccf1-4169-99c2-f8682c16f9cb\", \"categories\": [0, 1, 2, 3, 4, 5, 6, 7, 8, 9, 10, 11, 12, 13, 14], \"series\": [{\"data\": [\"DatasetEvaluation\", \"FeaturesGeneration\", \"DatasetFeaturization\", \"DatasetFeaturizationCompleted\", \"DatasetBalancing\", \"DatasetCrossValidationSplit\", \"ModelSelection\", \"BestRunExplainModel\", \"ModelExplanationDataSetSetup\", \"PickSurrogateModel\", \"EngineeredFeatureExplanations\", \"EngineeredFeatureExplanations\", \"RawFeaturesExplanations\", \"RawFeaturesExplanations\", \"BestRunExplainModel\"]}]}, {\"name\": \"experiment_status_description\", \"run_id\": \"AutoML_d7b359dc-ccf1-4169-99c2-f8682c16f9cb\", \"categories\": [0, 1, 2, 3, 4, 5, 6, 7, 8, 9, 10, 11, 12, 13, 14], \"series\": [{\"data\": [\"Gathering dataset statistics.\", \"Generating features for the dataset.\", \"Beginning to fit featurizers and featurize the dataset.\", \"Completed fit featurizers and featurizing the dataset.\", \"Performing class balancing sweeping\", \"Generating individually featurized CV splits.\", \"Beginning model selection.\", \"Best run model explanations started\", \"Model explanations data setup completed\", \"Choosing LightGBM as the surrogate model for explanations\", \"Computation of engineered features started\", \"Computation of engineered features completed\", \"Computation of raw features started\", \"Computation of raw features completed\", \"Best run model explanations completed\"]}]}, {\"name\": \"AUC_micro\", \"run_id\": \"AutoML_d7b359dc-ccf1-4169-99c2-f8682c16f9cb\", \"categories\": [0], \"series\": [{\"data\": [0.9988605107684039]}]}, {\"name\": \"weighted_accuracy\", \"run_id\": \"AutoML_d7b359dc-ccf1-4169-99c2-f8682c16f9cb\", \"categories\": [0], \"series\": [{\"data\": [0.997003885565013]}]}, {\"name\": \"average_precision_score_macro\", \"run_id\": \"AutoML_d7b359dc-ccf1-4169-99c2-f8682c16f9cb\", \"categories\": [0], \"series\": [{\"data\": [0.6609334133159324]}]}, {\"name\": \"matthews_correlation\", \"run_id\": \"AutoML_d7b359dc-ccf1-4169-99c2-f8682c16f9cb\", \"categories\": [0], \"series\": [{\"data\": [0.9491200751191275]}]}, {\"name\": \"recall_score_macro\", \"run_id\": \"AutoML_d7b359dc-ccf1-4169-99c2-f8682c16f9cb\", \"categories\": [0], \"series\": [{\"data\": [0.6407387195299261]}]}, {\"name\": \"accuracy\", \"run_id\": \"AutoML_d7b359dc-ccf1-4169-99c2-f8682c16f9cb\", \"categories\": [0], \"series\": [{\"data\": [0.9883387154646573]}]}, {\"name\": \"recall_score_micro\", \"run_id\": \"AutoML_d7b359dc-ccf1-4169-99c2-f8682c16f9cb\", \"categories\": [0], \"series\": [{\"data\": [0.9883387154646573]}]}, {\"name\": \"f1_score_weighted\", \"run_id\": \"AutoML_d7b359dc-ccf1-4169-99c2-f8682c16f9cb\", \"categories\": [0], \"series\": [{\"data\": [0.9879859923328818]}]}, {\"name\": \"f1_score_macro\", \"run_id\": \"AutoML_d7b359dc-ccf1-4169-99c2-f8682c16f9cb\", \"categories\": [0], \"series\": [{\"data\": [0.6498394428538288]}]}, {\"name\": \"balanced_accuracy\", \"run_id\": \"AutoML_d7b359dc-ccf1-4169-99c2-f8682c16f9cb\", \"categories\": [0], \"series\": [{\"data\": [0.6407387195299261]}]}, {\"name\": \"norm_macro_recall\", \"run_id\": \"AutoML_d7b359dc-ccf1-4169-99c2-f8682c16f9cb\", \"categories\": [0], \"series\": [{\"data\": [0.4611080792948893]}]}, {\"name\": \"precision_score_weighted\", \"run_id\": \"AutoML_d7b359dc-ccf1-4169-99c2-f8682c16f9cb\", \"categories\": [0], \"series\": [{\"data\": [0.9880346261102722]}]}, {\"name\": \"precision_score_macro\", \"run_id\": \"AutoML_d7b359dc-ccf1-4169-99c2-f8682c16f9cb\", \"categories\": [0], \"series\": [{\"data\": [0.6598322082264922]}]}, {\"name\": \"precision_score_micro\", \"run_id\": \"AutoML_d7b359dc-ccf1-4169-99c2-f8682c16f9cb\", \"categories\": [0], \"series\": [{\"data\": [0.9883387154646573]}]}, {\"name\": \"AUC_macro\", \"run_id\": \"AutoML_d7b359dc-ccf1-4169-99c2-f8682c16f9cb\", \"categories\": [0], \"series\": [{\"data\": [0.8287535097769344]}]}, {\"name\": \"recall_score_weighted\", \"run_id\": \"AutoML_d7b359dc-ccf1-4169-99c2-f8682c16f9cb\", \"categories\": [0], \"series\": [{\"data\": [0.9883387154646573]}]}, {\"name\": \"average_precision_score_micro\", \"run_id\": \"AutoML_d7b359dc-ccf1-4169-99c2-f8682c16f9cb\", \"categories\": [0], \"series\": [{\"data\": [0.9969792778978809]}]}, {\"name\": \"AUC_weighted\", \"run_id\": \"AutoML_d7b359dc-ccf1-4169-99c2-f8682c16f9cb\", \"categories\": [0], \"series\": [{\"data\": [0.9927306350988643]}]}, {\"name\": \"average_precision_score_weighted\", \"run_id\": \"AutoML_d7b359dc-ccf1-4169-99c2-f8682c16f9cb\", \"categories\": [0], \"series\": [{\"data\": [0.9962879420638737]}]}, {\"name\": \"log_loss\", \"run_id\": \"AutoML_d7b359dc-ccf1-4169-99c2-f8682c16f9cb\", \"categories\": [0], \"series\": [{\"data\": [0.06150898727805547]}]}, {\"name\": \"f1_score_micro\", \"run_id\": \"AutoML_d7b359dc-ccf1-4169-99c2-f8682c16f9cb\", \"categories\": [0], \"series\": [{\"data\": [0.9883387154646573]}]}], \"run_logs\": \"\\nRun is completed.\", \"graph\": {}, \"widget_settings\": {\"childWidgetDisplay\": \"popup\", \"send_telemetry\": false, \"log_level\": \"INFO\", \"sdk_version\": \"1.44.0\"}, \"loading\": false}"
          },
          "metadata": {}
        }
      ],
      "execution_count": 7,
      "metadata": {
        "gather": {
          "logged": 1664083884223
        },
        "jupyter": {
          "outputs_hidden": false,
          "source_hidden": false
        },
        "nteract": {
          "transient": {
            "deleting": false
          }
        }
      }
    },
    {
      "cell_type": "code",
      "source": [
        "remote_run.wait_for_completion()"
      ],
      "outputs": [
        {
          "output_type": "execute_result",
          "execution_count": 8,
          "data": {
            "text/plain": "{'runId': 'AutoML_d7b359dc-ccf1-4169-99c2-f8682c16f9cb',\n 'target': 'capstone-compute-cluster',\n 'status': 'Completed',\n 'startTimeUtc': '2022-09-25T05:30:59.316793Z',\n 'endTimeUtc': '2022-09-25T05:50:13.121438Z',\n 'services': {},\n 'warnings': [{'source': 'JasmineService',\n   'message': 'No scores improved over last 10 iterations, so experiment stopped early. This early stopping behavior can be disabled by setting enable_early_stopping = False in AutoMLConfig for notebook/python SDK runs.'}],\n 'properties': {'num_iterations': '1000',\n  'training_type': 'TrainFull',\n  'acquisition_function': 'EI',\n  'primary_metric': 'accuracy',\n  'train_split': '0',\n  'acquisition_parameter': '0',\n  'num_cross_validation': '2',\n  'target': 'capstone-compute-cluster',\n  'AMLSettingsJsonString': '{\"path\":null,\"name\":\"capstone-spam-classification-experiment\",\"subscription_id\":\"a0a76bad-11a1-4a2d-9887-97a29122c8ed\",\"resource_group\":\"aml-quickstarts-208718\",\"workspace_name\":\"quick-starts-ws-208718\",\"region\":\"southcentralus\",\"compute_target\":\"capstone-compute-cluster\",\"spark_service\":null,\"azure_service\":\"remote\",\"many_models\":false,\"pipeline_fetch_max_batch_size\":1,\"enable_batch_run\":true,\"enable_run_restructure\":false,\"start_auxiliary_runs_before_parent_complete\":false,\"enable_code_generation\":true,\"iterations\":1000,\"primary_metric\":\"accuracy\",\"task_type\":\"classification\",\"positive_label\":null,\"data_script\":null,\"test_size\":0.0,\"test_include_predictions_only\":false,\"validation_size\":0.0,\"n_cross_validations\":2,\"y_min\":null,\"y_max\":null,\"num_classes\":null,\"featurization\":\"auto\",\"_ignore_package_version_incompatibilities\":false,\"is_timeseries\":false,\"max_cores_per_iteration\":1,\"max_concurrent_iterations\":5,\"iteration_timeout_minutes\":null,\"mem_in_mb\":null,\"enforce_time_on_windows\":false,\"experiment_timeout_minutes\":15,\"experiment_exit_score\":null,\"partition_column_names\":null,\"whitelist_models\":null,\"blacklist_algos\":[\"TensorFlowLinearClassifier\",\"TensorFlowDNN\"],\"supported_models\":[\"MultinomialNaiveBayes\",\"TensorFlowLinearClassifier\",\"TabnetClassifier\",\"ExtremeRandomTrees\",\"LightGBM\",\"AveragedPerceptronClassifier\",\"LinearSVM\",\"RandomForest\",\"GradientBoosting\",\"SGD\",\"KNN\",\"XGBoostClassifier\",\"SVM\",\"DecisionTree\",\"LogisticRegression\",\"TensorFlowDNN\",\"BernoulliNaiveBayes\"],\"private_models\":[],\"auto_blacklist\":true,\"blacklist_samples_reached\":false,\"exclude_nan_labels\":true,\"verbosity\":20,\"_debug_log\":\"azureml_automl.log\",\"show_warnings\":false,\"model_explainability\":true,\"service_url\":null,\"sdk_url\":null,\"sdk_packages\":null,\"enable_onnx_compatible_models\":false,\"enable_split_onnx_featurizer_estimator_models\":false,\"vm_type\":\"STANDARD_D2_V2\",\"telemetry_verbosity\":20,\"send_telemetry\":true,\"enable_dnn\":false,\"scenario\":\"AutoML\",\"environment_label\":null,\"save_mlflow\":false,\"enable_categorical_indicators\":false,\"force_text_dnn\":false,\"enable_feature_sweeping\":true,\"enable_early_stopping\":true,\"early_stopping_n_iters\":10,\"arguments\":null,\"dataset_id\":\"8d6ef96b-0e4e-4d5f-b5eb-bda3397b0c95\",\"hyperdrive_config\":null,\"validation_dataset_id\":null,\"run_source\":null,\"metrics\":null,\"enable_metric_confidence\":false,\"enable_ensembling\":true,\"enable_stack_ensembling\":true,\"ensemble_iterations\":15,\"enable_tf\":false,\"enable_subsampling\":null,\"subsample_seed\":null,\"enable_nimbusml\":false,\"enable_streaming\":false,\"force_streaming\":false,\"track_child_runs\":true,\"allowed_private_models\":[],\"label_column_name\":\"Category\",\"weight_column_name\":null,\"cv_split_column_names\":null,\"enable_local_managed\":false,\"_local_managed_run_id\":null,\"cost_mode\":1,\"lag_length\":0,\"metric_operation\":\"maximize\",\"preprocess\":true}',\n  'DataPrepJsonString': '{\\\\\"training_data\\\\\": {\\\\\"datasetId\\\\\": \\\\\"8d6ef96b-0e4e-4d5f-b5eb-bda3397b0c95\\\\\"}, \\\\\"datasets\\\\\": 0}',\n  'EnableSubsampling': None,\n  'runTemplate': 'AutoML',\n  'azureml.runsource': 'automl',\n  'display_task_type': 'classification',\n  'dependencies_versions': '{\"azureml-widgets\": \"1.44.0\", \"azureml-training-tabular\": \"1.44.0\", \"azureml-train\": \"1.44.0\", \"azureml-train-restclients-hyperdrive\": \"1.44.0\", \"azureml-train-core\": \"1.44.0\", \"azureml-train-automl\": \"1.44.0\", \"azureml-train-automl-runtime\": \"1.44.0\", \"azureml-train-automl-client\": \"1.44.0\", \"azureml-tensorboard\": \"1.44.0\", \"azureml-telemetry\": \"1.44.0\", \"azureml-sdk\": \"1.44.0\", \"azureml-samples\": \"0+unknown\", \"azureml-responsibleai\": \"1.44.0\", \"azureml-pipeline\": \"1.44.0\", \"azureml-pipeline-steps\": \"1.44.0\", \"azureml-pipeline-core\": \"1.44.0\", \"azureml-opendatasets\": \"1.44.0\", \"azureml-mlflow\": \"1.44.0\", \"azureml-interpret\": \"1.44.0\", \"azureml-inference-server-http\": \"0.7.4\", \"azureml-explain-model\": \"1.44.0\", \"azureml-defaults\": \"1.44.0\", \"azureml-dataset-runtime\": \"1.44.0\", \"azureml-dataprep\": \"4.2.2\", \"azureml-dataprep-rslex\": \"2.8.1\", \"azureml-dataprep-native\": \"38.0.0\", \"azureml-datadrift\": \"1.44.0\", \"azureml-core\": \"1.44.0\", \"azureml-contrib-services\": \"1.44.0\", \"azureml-contrib-server\": \"1.44.0\", \"azureml-contrib-reinforcementlearning\": \"1.44.0\", \"azureml-contrib-pipeline-steps\": \"1.44.0\", \"azureml-contrib-notebook\": \"1.44.0\", \"azureml-contrib-fairness\": \"1.44.0\", \"azureml-contrib-dataset\": \"1.44.0\", \"azureml-contrib-automl-pipeline-steps\": \"1.44.0\", \"azureml-cli-common\": \"1.44.0\", \"azureml-automl-runtime\": \"1.44.0\", \"azureml-automl-dnn-nlp\": \"1.44.0\", \"azureml-automl-core\": \"1.44.0\", \"azureml-accel-models\": \"1.44.0\"}',\n  '_aml_system_scenario_identification': 'Remote.Parent',\n  'ClientType': 'SDK',\n  'environment_cpu_name': 'AzureML-AutoML',\n  'environment_cpu_label': 'prod',\n  'environment_gpu_name': 'AzureML-AutoML-GPU',\n  'environment_gpu_label': 'prod',\n  'root_attribution': 'automl',\n  'attribution': 'AutoML',\n  'Orchestrator': 'AutoML',\n  'CancelUri': 'https://southcentralus.api.azureml.ms/jasmine/v1.0/subscriptions/a0a76bad-11a1-4a2d-9887-97a29122c8ed/resourceGroups/aml-quickstarts-208718/providers/Microsoft.MachineLearningServices/workspaces/quick-starts-ws-208718/experimentids/aff805af-aa50-454c-9ead-9cb8747200b9/cancel/AutoML_d7b359dc-ccf1-4169-99c2-f8682c16f9cb',\n  'ClientSdkVersion': '1.45.0',\n  'snapshotId': '00000000-0000-0000-0000-000000000000',\n  'SetupRunId': 'AutoML_d7b359dc-ccf1-4169-99c2-f8682c16f9cb_setup',\n  'SetupRunContainerId': 'dcid.AutoML_d7b359dc-ccf1-4169-99c2-f8682c16f9cb_setup',\n  'FeaturizationRunJsonPath': 'featurizer_container.json',\n  'FeaturizationRunId': 'AutoML_d7b359dc-ccf1-4169-99c2-f8682c16f9cb_featurize',\n  'ProblemInfoJsonString': '{\"dataset_num_categorical\": 0, \"is_sparse\": true, \"subsampling\": false, \"has_extra_col\": true, \"dataset_classes\": 4, \"dataset_features\": 64518, \"dataset_samples\": 5574, \"single_frequency_class_detected\": true}',\n  'ModelExplainRunId': 'AutoML_d7b359dc-ccf1-4169-99c2-f8682c16f9cb_ModelExplain'},\n 'inputDatasets': [{'dataset': {'id': '8d6ef96b-0e4e-4d5f-b5eb-bda3397b0c95'}, 'consumptionDetails': {'type': 'RunInput', 'inputName': 'training_data', 'mechanism': 'Direct'}}],\n 'outputDatasets': [],\n 'logFiles': {},\n 'submittedBy': 'ODL_User 208718'}"
          },
          "metadata": {}
        }
      ],
      "execution_count": 8,
      "metadata": {
        "gather": {
          "logged": 1664085018116
        },
        "jupyter": {
          "outputs_hidden": false,
          "source_hidden": false
        },
        "nteract": {
          "transient": {
            "deleting": false
          }
        }
      }
    },
    {
      "cell_type": "markdown",
      "source": [
        "### Get the best model and display its properties"
      ],
      "metadata": {}
    },
    {
      "cell_type": "code",
      "source": [
        "best_run, fitted_model = remote_run.get_output()\n",
        "\n",
        "# Get best_run metrics\n",
        "best_run_metrics = best_run.get_metrics()\n",
        "for name, value in best_run_metrics.items():\n",
        "    print(f\"{name}: {value}\")"
      ],
      "outputs": [
        {
          "output_type": "stream",
          "name": "stderr",
          "text": "WARNING:root:The version of the SDK does not match the version the model was trained on.\nWARNING:root:The consistency in the result may not be guaranteed.\nWARNING:root:Package:azureml-automl-core, training version:1.45.0, current version:1.44.0\nPackage:azureml-automl-runtime, training version:1.45.0, current version:1.44.0\nPackage:azureml-core, training version:1.45.0, current version:1.44.0\nPackage:azureml-dataset-runtime, training version:1.45.0, current version:1.44.0\nPackage:azureml-defaults, training version:1.45.0, current version:1.44.0\nPackage:azureml-interpret, training version:1.45.0, current version:1.44.0\nPackage:azureml-mlflow, training version:1.45.0, current version:1.44.0\nPackage:azureml-pipeline-core, training version:1.45.0, current version:1.44.0\nPackage:azureml-responsibleai, training version:1.45.0, current version:1.44.0\nPackage:azureml-telemetry, training version:1.45.0, current version:1.44.0\nPackage:azureml-train-automl-client, training version:1.45.0, current version:1.44.0\nPackage:azureml-train-automl-runtime, training version:1.45.0, current version:1.44.0\nPackage:azureml-train-core, training version:1.45.0, current version:1.44.0\nPackage:azureml-train-restclients-hyperdrive, training version:1.45.0, current version:1.44.0\nPackage:azureml-training-tabular, training version:1.45.0, current version:1.44.0\nWARNING:root:Please ensure the version of your local conda dependencies match the version on which your model was trained in order to properly retrieve your model.\n"
        },
        {
          "output_type": "stream",
          "name": "stdout",
          "text": "f1_score_micro: 0.9883387154646573\nprecision_score_weighted: 0.9880346261102722\nlog_loss: 0.06150898727805547\naverage_precision_score_macro: 0.6609334133159324\naccuracy: 0.9883387154646573\nf1_score_macro: 0.6498394428538288\nweighted_accuracy: 0.997003885565013\nAUC_micro: 0.9988605107684039\nnorm_macro_recall: 0.4611080792948893\nf1_score_weighted: 0.9879859923328818\nmatthews_correlation: 0.9491200751191275\nrecall_score_macro: 0.6407387195299261\nrecall_score_micro: 0.9883387154646573\naverage_precision_score_micro: 0.9969792778978809\nprecision_score_micro: 0.9883387154646573\nbalanced_accuracy: 0.6407387195299261\nAUC_weighted: 0.9927306350988643\naverage_precision_score_weighted: 0.9962879420638737\nAUC_macro: 0.8287535097769344\nrecall_score_weighted: 0.9883387154646573\nprecision_score_macro: 0.6598322082264922\nconfusion_matrix: aml://artifactId/ExperimentRun/dcid.AutoML_d7b359dc-ccf1-4169-99c2-f8682c16f9cb_39/confusion_matrix\naccuracy_table: aml://artifactId/ExperimentRun/dcid.AutoML_d7b359dc-ccf1-4169-99c2-f8682c16f9cb_39/accuracy_table\n"
        }
      ],
      "execution_count": 9,
      "metadata": {
        "gather": {
          "logged": 1664085030239
        },
        "jupyter": {
          "outputs_hidden": false,
          "source_hidden": false
        },
        "nteract": {
          "transient": {
            "deleting": false
          }
        }
      }
    },
    {
      "cell_type": "code",
      "source": [
        "best_run.get_file_names()"
      ],
      "outputs": [
        {
          "output_type": "execute_result",
          "execution_count": 10,
          "data": {
            "text/plain": "['accuracy_table',\n 'automl_driver.py',\n 'confusion_matrix',\n 'logs/azureml/azureml_automl.log',\n 'outputs/conda_env_v_1_0_0.yml',\n 'outputs/engineered_feature_names.json',\n 'outputs/env_dependencies.json',\n 'outputs/featurization_summary.json',\n 'outputs/generated_code/conda_environment.yaml',\n 'outputs/generated_code/script.py',\n 'outputs/generated_code/script_run_notebook.ipynb',\n 'outputs/internal_cross_validated_models.pkl',\n 'outputs/model.pkl',\n 'outputs/pipeline_graph.json',\n 'outputs/run_id.txt',\n 'outputs/scoring_file_pbi_v_1_0_0.py',\n 'outputs/scoring_file_v_1_0_0.py',\n 'outputs/scoring_file_v_2_0_0.py',\n 'system_logs/cs_capability/cs-capability.log',\n 'system_logs/hosttools_capability/hosttools-capability.log',\n 'system_logs/lifecycler/execution-wrapper.log',\n 'system_logs/lifecycler/lifecycler.log',\n 'system_logs/metrics_capability/metrics-capability.log',\n 'system_logs/snapshot_capability/snapshot-capability.log',\n 'user_logs/std_log.txt']"
          },
          "metadata": {}
        }
      ],
      "execution_count": 10,
      "metadata": {
        "gather": {
          "logged": 1664085030353
        },
        "jupyter": {
          "outputs_hidden": false,
          "source_hidden": false
        },
        "nteract": {
          "transient": {
            "deleting": false
          }
        }
      }
    },
    {
      "cell_type": "markdown",
      "source": [
        "### Save the model"
      ],
      "metadata": {
        "nteract": {
          "transient": {
            "deleting": false
          }
        }
      }
    },
    {
      "cell_type": "code",
      "source": [
        "import joblib\n",
        "joblib.dump(fitted_model, 'best-automl-model.pkl')"
      ],
      "outputs": [
        {
          "output_type": "execute_result",
          "execution_count": 11,
          "data": {
            "text/plain": "['best-automl-model.pkl']"
          },
          "metadata": {}
        }
      ],
      "execution_count": 11,
      "metadata": {
        "gather": {
          "logged": 1664085112404
        },
        "jupyter": {
          "outputs_hidden": false,
          "source_hidden": false
        },
        "nteract": {
          "transient": {
            "deleting": false
          }
        }
      }
    },
    {
      "cell_type": "markdown",
      "source": [
        "### Register the best model"
      ],
      "metadata": {
        "nteract": {
          "transient": {
            "deleting": false
          }
        }
      }
    },
    {
      "cell_type": "code",
      "source": [
        "from azureml.core import Model\n",
        "model = Model.register(\n",
        "    workspace=ws, \n",
        "    model_name='best-automl-model', \n",
        "    model_path='./best-automl-model.pkl'\n",
        ")"
      ],
      "outputs": [
        {
          "output_type": "stream",
          "name": "stdout",
          "text": "Registering model best-automl-model\n"
        }
      ],
      "execution_count": 26,
      "metadata": {
        "gather": {
          "logged": 1664095036345
        },
        "jupyter": {
          "outputs_hidden": false,
          "source_hidden": false
        },
        "nteract": {
          "transient": {
            "deleting": false
          }
        }
      }
    },
    {
      "cell_type": "markdown",
      "source": [
        "# Model Deployment"
      ],
      "metadata": {}
    },
    {
      "cell_type": "markdown",
      "source": [
        "### Create an inference config"
      ],
      "metadata": {
        "nteract": {
          "transient": {
            "deleting": false
          }
        }
      }
    },
    {
      "cell_type": "code",
      "source": [
        "from azureml.core import Environment\n",
        "from azureml.core.model import InferenceConfig\n",
        "\n",
        "# Get the environment\n",
        "from azureml.automl.core.shared import constants\n",
        "\n",
        "best_run.download_file(constants.CONDA_ENV_FILE_PATH, 'conda_dependencies.yml')\n",
        "env = Environment.from_conda_specification(name='deployment-env', file_path='conda_dependencies.yml')\n",
        "\n",
        "inference_config = InferenceConfig(\n",
        "    environment=env,\n",
        "    source_directory=\".\",\n",
        "    entry_script=\"./automl_score.py\",\n",
        ")"
      ],
      "outputs": [],
      "execution_count": 70,
      "metadata": {
        "gather": {
          "logged": 1664102396392
        },
        "jupyter": {
          "outputs_hidden": false,
          "source_hidden": false
        },
        "nteract": {
          "transient": {
            "deleting": false
          }
        }
      }
    },
    {
      "cell_type": "markdown",
      "source": [
        "### Define the deployment config - we deploy on Azure Container Instance (ACI)"
      ],
      "metadata": {
        "nteract": {
          "transient": {
            "deleting": false
          }
        }
      }
    },
    {
      "cell_type": "code",
      "source": [
        "from azureml.core.webservice import AciWebservice\n",
        "\n",
        "deployment_config = AciWebservice.deploy_configuration(\n",
        "    cpu_cores=1, memory_gb=2, auth_enabled=True, enable_app_insights=True\n",
        ")"
      ],
      "outputs": [],
      "execution_count": 71,
      "metadata": {
        "gather": {
          "logged": 1664102396453
        },
        "jupyter": {
          "outputs_hidden": false,
          "source_hidden": false
        },
        "nteract": {
          "transient": {
            "deleting": false
          }
        }
      }
    },
    {
      "cell_type": "markdown",
      "source": [
        "### Deploy the model as a web service"
      ],
      "metadata": {
        "nteract": {
          "transient": {
            "deleting": false
          }
        }
      }
    },
    {
      "cell_type": "code",
      "source": [
        "from azureml.core.model import Model\n",
        "service = Model.deploy(\n",
        "    ws,\n",
        "    \"automl-service\",\n",
        "    [model],\n",
        "    inference_config,\n",
        "    deployment_config,\n",
        "    overwrite=True,\n",
        ")\n",
        "service.wait_for_deployment(show_output=True)"
      ],
      "outputs": [
        {
          "output_type": "stream",
          "name": "stdout",
          "text": "Tips: You can try get_logs(): https://aka.ms/debugimage#dockerlog or local deployment: https://aka.ms/debugimage#debug-locally to debug if deployment takes longer than 10 minutes.\nRunning\n2022-09-25 10:40:02+00:00 Creating Container Registry if not exists.\n2022-09-25 10:40:02+00:00 Registering the environment.\n2022-09-25 10:40:03+00:00 Use the existing image.\n2022-09-25 10:40:03+00:00 Generating deployment configuration.\n2022-09-25 10:40:04+00:00 Submitting deployment to compute.\n2022-09-25 10:40:05+00:00 Checking the status of deployment automl-service..\n2022-09-25 10:41:57+00:00 Checking the status of inference endpoint automl-service.\nSucceeded\nACI service creation operation finished, operation \"Succeeded\"\n"
        }
      ],
      "execution_count": 72,
      "metadata": {
        "gather": {
          "logged": 1664102522198
        },
        "jupyter": {
          "outputs_hidden": false,
          "source_hidden": false
        },
        "nteract": {
          "transient": {
            "deleting": false
          }
        }
      }
    },
    {
      "cell_type": "markdown",
      "source": [
        "### Send a request to the web service you deployed to test it"
      ],
      "metadata": {
        "collapsed": true,
        "gather": {
          "logged": 1598431657736
        },
        "jupyter": {
          "outputs_hidden": false,
          "source_hidden": false
        },
        "nteract": {
          "transient": {
            "deleting": false
          }
        }
      }
    },
    {
      "cell_type": "code",
      "source": [
        "import requests\n",
        "import json\n",
        "from azureml.core import Webservice\n",
        "\n",
        "service = Webservice(workspace=ws, name=\"automl-service\")\n",
        "scoring_uri = service.scoring_uri\n",
        "\n",
        "# If the service is authenticated, set the key or token\n",
        "key, _ = service.get_keys()\n",
        "\n",
        "# Set the appropriate headers\n",
        "headers = {\"Content-Type\": \"application/json\"}\n",
        "headers[\"Authorization\"] = f\"Bearer {key}\"\n",
        "\n",
        "# Make the request and display the response and logs\n",
        "data =  {\n",
        "  \"Inputs\": {\n",
        "    \"data\": [\n",
        "      {\n",
        "        \"Column3\": \"\",\n",
        "        \"Message\": \"oh my god!\",\n",
        "      }\n",
        "    ]\n",
        "  },\n",
        "  \"GlobalParameters\": {\n",
        "    \"method\": \"predict\"\n",
        "  }\n",
        "}\n",
        "\n",
        "input_data = json.dumps(data)\n",
        "resp = requests.post(scoring_uri, data=input_data, headers=headers)\n",
        "print(resp.text)"
      ],
      "outputs": [
        {
          "output_type": "stream",
          "name": "stdout",
          "text": "An unexpected internal error occurred. Encountered Exception: Traceback (most recent call last):\n  File \"/azureml-envs/azureml_944df6c9e2b12a3bdcde13b5b8baccf0/lib/python3.7/site-packages/flask/app.py\", line 1950, in full_dispatch_request\n    rv = self.dispatch_request()\n  File \"/azureml-envs/azureml_944df6c9e2b12a3bdcde13b5b8baccf0/lib/python3.7/site-packages/flask/app.py\", line 1936, in dispatch_request\n    return self.view_functions[rule.endpoint](**req.view_args)\n  File \"/azureml-envs/azureml_944df6c9e2b12a3bdcde13b5b8baccf0/lib/python3.7/site-packages/azureml_inference_server_http/server/routes.py\", line 244, in handle_score\n    response = wrap_response(response)\n  File \"/azureml-envs/azureml_944df6c9e2b12a3bdcde13b5b8baccf0/lib/python3.7/site-packages/azureml_inference_server_http/server/routes.py\", line 44, in wrap_response\n    return AMLResponse(response_body, response_status_code, response_headers, json_str=True)\n  File \"/azureml-envs/azureml_944df6c9e2b12a3bdcde13b5b8baccf0/lib/python3.7/site-packages/azureml_inference_server_http/server/azureml_contrib_services/aml_response.py\", line 17, in __init__\n    super().__init__(json.dumps(message), status=status_code, mimetype=\"application/json\")\n  File \"/azureml-envs/azureml_944df6c9e2b12a3bdcde13b5b8baccf0/lib/python3.7/json/__init__.py\", line 231, in dumps\n    return _default_encoder.encode(obj)\n  File \"/azureml-envs/azureml_944df6c9e2b12a3bdcde13b5b8baccf0/lib/python3.7/json/encoder.py\", line 199, in encode\n    chunks = self.iterencode(o, _one_shot=True)\n  File \"/azureml-envs/azureml_944df6c9e2b12a3bdcde13b5b8baccf0/lib/python3.7/json/encoder.py\", line 257, in iterencode\n    return _iterencode(o, 0)\n  File \"/azureml-envs/azureml_944df6c9e2b12a3bdcde13b5b8baccf0/lib/python3.7/json/encoder.py\", line 179, in default\n    raise TypeError(f'Object of type {o.__class__.__name__} '\nTypeError: Object of type ndarray is not JSON serializable\n\n"
        }
      ],
      "execution_count": 89,
      "metadata": {
        "gather": {
          "logged": 1664104363008
        },
        "jupyter": {
          "outputs_hidden": false,
          "source_hidden": false
        },
        "nteract": {
          "transient": {
            "deleting": false
          }
        }
      }
    },
    {
      "cell_type": "markdown",
      "source": [
        "### Print the logs of the web service"
      ],
      "metadata": {
        "collapsed": true,
        "gather": {
          "logged": 1598432765711
        },
        "jupyter": {
          "outputs_hidden": false,
          "source_hidden": false
        },
        "nteract": {
          "transient": {
            "deleting": false
          }
        }
      }
    },
    {
      "cell_type": "code",
      "source": [
        "print(service.get_logs())"
      ],
      "outputs": [
        {
          "output_type": "stream",
          "name": "stdout",
          "text": "None\n"
        }
      ],
      "execution_count": 9,
      "metadata": {
        "gather": {
          "logged": 1664016648952
        },
        "jupyter": {
          "outputs_hidden": false,
          "source_hidden": false
        },
        "nteract": {
          "transient": {
            "deleting": false
          }
        }
      }
    },
    {
      "cell_type": "markdown",
      "source": [
        "### Delete the web service"
      ],
      "metadata": {
        "nteract": {
          "transient": {
            "deleting": false
          }
        }
      }
    },
    {
      "cell_type": "code",
      "source": [
        "service.delete()"
      ],
      "outputs": [],
      "execution_count": null,
      "metadata": {
        "gather": {
          "logged": 1664010258106
        },
        "jupyter": {
          "outputs_hidden": false,
          "source_hidden": false
        },
        "nteract": {
          "transient": {
            "deleting": false
          }
        }
      }
    },
    {
      "cell_type": "markdown",
      "source": [
        "### Shutdown the computes"
      ],
      "metadata": {
        "nteract": {
          "transient": {
            "deleting": false
          }
        }
      }
    },
    {
      "cell_type": "code",
      "source": [
        "try:\n",
        "    instance = ComputeTarget(workspace=ws, name=compute_target)\n",
        "\n",
        "    instance.delete()\n",
        "    instance.wait_for_completion(show_output=True)\n",
        "    print('Deleted compute resource')\n",
        "\n",
        "except ComputeTargetException:\n",
        "    print('Already deleted!')"
      ],
      "outputs": [],
      "execution_count": null,
      "metadata": {
        "gather": {
          "logged": 1664010258111
        },
        "jupyter": {
          "outputs_hidden": false,
          "source_hidden": false
        },
        "nteract": {
          "transient": {
            "deleting": false
          }
        }
      }
    },
    {
      "cell_type": "markdown",
      "source": [
        "**Submission Checklist**\n",
        "- I have registered the model.\n",
        "- I have deployed the model with the best accuracy as a webservice.\n",
        "- I have tested the webservice by sending a request to the model endpoint.\n",
        "- I have deleted the webservice and shutdown all the computes that I have used.\n",
        "- I have taken a screenshot showing the model endpoint as active.\n",
        "- The project includes a file containing the environment details.\n"
      ],
      "metadata": {}
    },
    {
      "cell_type": "markdown",
      "source": [],
      "metadata": {}
    }
  ],
  "metadata": {
    "kernel_info": {
      "name": "python3"
    },
    "kernelspec": {
      "name": "python3",
      "language": "python",
      "display_name": "Python 3 (ipykernel)"
    },
    "language_info": {
      "name": "python",
      "version": "3.8.5",
      "mimetype": "text/x-python",
      "codemirror_mode": {
        "name": "ipython",
        "version": 3
      },
      "pygments_lexer": "ipython3",
      "nbconvert_exporter": "python",
      "file_extension": ".py"
    },
    "microsoft": {
      "host": {
        "AzureML": {
          "notebookHasBeenCompleted": true
        }
      }
    },
    "nteract": {
      "version": "nteract-front-end@1.0.0"
    },
    "vscode": {
      "interpreter": {
        "hash": "31f2aee4e71d21fbe5cf8b01ff0e069b9275f58929596ceb00d14d90e3e16cd6"
      }
    }
  },
  "nbformat": 4,
  "nbformat_minor": 2
}