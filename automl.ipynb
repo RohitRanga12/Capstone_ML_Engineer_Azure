{
  "cells": [
    {
      "cell_type": "markdown",
      "source": [
        "# Automated ML"
      ],
      "metadata": {}
    },
    {
      "cell_type": "markdown",
      "source": [
        "### Create workspace and experiment instances"
      ],
      "metadata": {
        "nteract": {
          "transient": {
            "deleting": false
          }
        }
      }
    },
    {
      "cell_type": "code",
      "source": [
        "from azureml.core import Workspace, Experiment\n",
        "ws = Workspace.from_config()\n",
        "\n",
        "# choose a name for experiment\n",
        "experiment_name = 'capstone-spam-classification-experiment'\n",
        "\n",
        "experiment=Experiment(ws, experiment_name)"
      ],
      "outputs": [],
      "execution_count": 2,
      "metadata": {
        "gather": {
          "logged": 1664083821560
        },
        "jupyter": {
          "outputs_hidden": false,
          "source_hidden": false
        },
        "nteract": {
          "transient": {
            "deleting": false
          }
        }
      }
    },
    {
      "cell_type": "markdown",
      "source": [
        "###  Dataset Overview\n",
        "The dataset we are using is a spam classification dataset obtained from kaggle. We are going to perform multi-class text classification. "
      ],
      "metadata": {}
    },
    {
      "cell_type": "markdown",
      "source": [
        "### Get data"
      ],
      "metadata": {
        "nteract": {
          "transient": {
            "deleting": false
          }
        }
      }
    },
    {
      "cell_type": "code",
      "source": [
        "from azureml.core import Dataset\n",
        "training_dataset = Dataset.get_by_name(ws, name='capstone-spam-dataset')"
      ],
      "outputs": [],
      "execution_count": 3,
      "metadata": {
        "gather": {
          "logged": 1664083821698
        },
        "jupyter": {
          "outputs_hidden": false,
          "source_hidden": false
        },
        "nteract": {
          "transient": {
            "deleting": false
          }
        }
      }
    },
    {
      "cell_type": "markdown",
      "source": [
        "### View the dataset"
      ],
      "metadata": {
        "nteract": {
          "transient": {
            "deleting": false
          }
        }
      }
    },
    {
      "cell_type": "code",
      "source": [
        "training_dataset.to_pandas_dataframe()"
      ],
      "outputs": [
        {
          "output_type": "execute_result",
          "execution_count": 4,
          "data": {
            "text/plain": "     Category                                            Message Column3\n0         ham  Go until jurong point, crazy.. Available only ...    None\n1         ham                      Ok lar... Joking wif u oni...    None\n2        spam  Free entry in 2 a wkly comp to win FA Cup fina...    None\n3         ham  U dun say so early hor... U c already then say...    None\n4         ham  Nah I don't think he goes to usf, he lives aro...    None\n...       ...                                                ...     ...\n5569     spam  This is the 2nd time we have tried 2 contact u...    None\n5570      ham               Will ü b going to esplanade fr home?    None\n5571      ham  Pity, * was in mood for that. So...any other s...    None\n5572      ham  The guy did some bitching but I acted like i'd...    None\n5573      ham                         Rofl. Its true to its name    None\n\n[5574 rows x 3 columns]",
            "text/html": "<div>\n<style scoped>\n    .dataframe tbody tr th:only-of-type {\n        vertical-align: middle;\n    }\n\n    .dataframe tbody tr th {\n        vertical-align: top;\n    }\n\n    .dataframe thead th {\n        text-align: right;\n    }\n</style>\n<table border=\"1\" class=\"dataframe\">\n  <thead>\n    <tr style=\"text-align: right;\">\n      <th></th>\n      <th>Category</th>\n      <th>Message</th>\n      <th>Column3</th>\n    </tr>\n  </thead>\n  <tbody>\n    <tr>\n      <th>0</th>\n      <td>ham</td>\n      <td>Go until jurong point, crazy.. Available only ...</td>\n      <td>None</td>\n    </tr>\n    <tr>\n      <th>1</th>\n      <td>ham</td>\n      <td>Ok lar... Joking wif u oni...</td>\n      <td>None</td>\n    </tr>\n    <tr>\n      <th>2</th>\n      <td>spam</td>\n      <td>Free entry in 2 a wkly comp to win FA Cup fina...</td>\n      <td>None</td>\n    </tr>\n    <tr>\n      <th>3</th>\n      <td>ham</td>\n      <td>U dun say so early hor... U c already then say...</td>\n      <td>None</td>\n    </tr>\n    <tr>\n      <th>4</th>\n      <td>ham</td>\n      <td>Nah I don't think he goes to usf, he lives aro...</td>\n      <td>None</td>\n    </tr>\n    <tr>\n      <th>...</th>\n      <td>...</td>\n      <td>...</td>\n      <td>...</td>\n    </tr>\n    <tr>\n      <th>5569</th>\n      <td>spam</td>\n      <td>This is the 2nd time we have tried 2 contact u...</td>\n      <td>None</td>\n    </tr>\n    <tr>\n      <th>5570</th>\n      <td>ham</td>\n      <td>Will ü b going to esplanade fr home?</td>\n      <td>None</td>\n    </tr>\n    <tr>\n      <th>5571</th>\n      <td>ham</td>\n      <td>Pity, * was in mood for that. So...any other s...</td>\n      <td>None</td>\n    </tr>\n    <tr>\n      <th>5572</th>\n      <td>ham</td>\n      <td>The guy did some bitching but I acted like i'd...</td>\n      <td>None</td>\n    </tr>\n    <tr>\n      <th>5573</th>\n      <td>ham</td>\n      <td>Rofl. Its true to its name</td>\n      <td>None</td>\n    </tr>\n  </tbody>\n</table>\n<p>5574 rows × 3 columns</p>\n</div>"
          },
          "metadata": {}
        }
      ],
      "execution_count": 4,
      "metadata": {
        "jupyter": {
          "source_hidden": false,
          "outputs_hidden": false
        },
        "nteract": {
          "transient": {
            "deleting": false
          }
        },
        "gather": {
          "logged": 1664173685209
        }
      }
    },
    {
      "cell_type": "markdown",
      "source": [
        "### Connect to compute target"
      ],
      "metadata": {
        "nteract": {
          "transient": {
            "deleting": false
          }
        }
      }
    },
    {
      "cell_type": "code",
      "source": [
        "from azureml.core.compute import ComputeTarget, AmlCompute\n",
        "from azureml.core.compute_target import ComputeTargetException\n",
        "\n",
        "# TODO: Create compute cluster\n",
        "cluster_name = \"capstone-compute-cluster\"\n",
        "\n",
        "# Verify that cluster does not exist already\n",
        "try:\n",
        "    compute_target = ComputeTarget(workspace=ws, name=cluster_name)\n",
        "    print('Found existing cluster, use it.')\n",
        "except ComputeTargetException:\n",
        "    # To use a different region for the compute, add a location='<region>' parameter\n",
        "    compute_config = AmlCompute.provisioning_configuration(vm_size='STANDARD_D2_V2', max_nodes=4)\n",
        "    compute_target = ComputeTarget.create(ws, cluster_name, compute_config)\n",
        "\n",
        "compute_target.wait_for_completion(show_output=True)"
      ],
      "outputs": [
        {
          "output_type": "stream",
          "name": "stdout",
          "text": "InProgress.\nSucceededProvisioning operation finished, operation \"Succeeded\"\nSucceeded\nAmlCompute wait for completion finished\n\nMinimum number of nodes requested have been provisioned\n"
        }
      ],
      "execution_count": 5,
      "metadata": {
        "gather": {
          "logged": 1664173698555
        },
        "jupyter": {
          "outputs_hidden": false,
          "source_hidden": false
        },
        "nteract": {
          "transient": {
            "deleting": false
          }
        }
      }
    },
    {
      "cell_type": "markdown",
      "source": [
        "### AutoML Configuration\n",
        "\n",
        "- task: \"classification\" because we are performing multi-class classification\n",
        "- label_column_name: \"Category\" because we want to predict that \n",
        "- experiment_timeout_hours: 0.25 because we want the experiment to run for max 15 min"
      ],
      "metadata": {}
    },
    {
      "cell_type": "code",
      "source": [
        "from azureml.train.automl import AutoMLConfig\n",
        "\n",
        "automl_settings = {\n",
        "    \"n_cross_validations\": 2,\n",
        "    \"primary_metric\": 'accuracy',\n",
        "    \"enable_early_stopping\": True,\n",
        "    \"max_concurrent_iterations\": 5,\n",
        "    \"experiment_timeout_hours\": 0.25,\n",
        "    \"featurization\": 'auto',\n",
        "}\n",
        "\n",
        "automl_config = AutoMLConfig(\n",
        "    task = 'classification',\n",
        "    compute_target = compute_target,\n",
        "    training_data = training_dataset,\n",
        "    label_column_name = 'Category',\n",
        "    **automl_settings\n",
        ")"
      ],
      "outputs": [],
      "execution_count": 7,
      "metadata": {
        "gather": {
          "logged": 1664173940108
        },
        "jupyter": {
          "outputs_hidden": false,
          "source_hidden": false
        },
        "nteract": {
          "transient": {
            "deleting": false
          }
        }
      }
    },
    {
      "cell_type": "markdown",
      "source": [
        "### Submit the experiment\n"
      ],
      "metadata": {
        "nteract": {
          "transient": {
            "deleting": false
          }
        }
      }
    },
    {
      "cell_type": "code",
      "source": [
        "remote_run = experiment.submit(automl_config)"
      ],
      "outputs": [
        {
          "output_type": "stream",
          "name": "stdout",
          "text": "Submitting remote run.\n"
        },
        {
          "output_type": "display_data",
          "data": {
            "text/plain": "<IPython.core.display.HTML object>",
            "text/html": "<table style=\"width:100%\"><tr><th>Experiment</th><th>Id</th><th>Type</th><th>Status</th><th>Details Page</th><th>Docs Page</th></tr><tr><td>capstone-spam-classification-experiment</td><td>AutoML_39e48925-bae5-4099-b09d-e950f0036c93</td><td>automl</td><td>NotStarted</td><td><a href=\"https://ml.azure.com/runs/AutoML_39e48925-bae5-4099-b09d-e950f0036c93?wsid=/subscriptions/d4ad7261-832d-46b2-b093-22156001df5b/resourcegroups/aml-quickstarts-208897/workspaces/quick-starts-ws-208897&amp;tid=660b3398-b80e-49d2-bc5b-ac1dc93b5254\" target=\"_blank\" rel=\"noopener\">Link to Azure Machine Learning studio</a></td><td><a href=\"https://docs.microsoft.com/en-us/python/api/overview/azure/ml/intro?view=azure-ml-py\" target=\"_blank\" rel=\"noopener\">Link to Documentation</a></td></tr></table>"
          },
          "metadata": {}
        }
      ],
      "execution_count": 8,
      "metadata": {
        "gather": {
          "logged": 1664173945803
        },
        "jupyter": {
          "outputs_hidden": false,
          "source_hidden": false
        },
        "nteract": {
          "transient": {
            "deleting": false
          }
        }
      }
    },
    {
      "cell_type": "markdown",
      "source": [
        "### Run Details"
      ],
      "metadata": {}
    },
    {
      "cell_type": "code",
      "source": [
        "from azureml.widgets import RunDetails\n",
        "RunDetails(remote_run).show()"
      ],
      "outputs": [
        {
          "output_type": "display_data",
          "data": {
            "text/plain": "_AutoMLWidget(widget_settings={'childWidgetDisplay': 'popup', 'send_telemetry': False, 'log_level': 'INFO', 's…",
            "application/vnd.jupyter.widget-view+json": {
              "version_major": 2,
              "version_minor": 0,
              "model_id": "48fedd2f08244bc59b0748fc8c118f15"
            }
          },
          "metadata": {}
        },
        {
          "output_type": "display_data",
          "data": {
            "application/aml.mini.widget.v1": "{\"status\": \"Completed\", \"workbench_run_details_uri\": \"https://ml.azure.com/runs/AutoML_39e48925-bae5-4099-b09d-e950f0036c93?wsid=/subscriptions/d4ad7261-832d-46b2-b093-22156001df5b/resourcegroups/aml-quickstarts-208897/workspaces/quick-starts-ws-208897&tid=660b3398-b80e-49d2-bc5b-ac1dc93b5254\", \"run_id\": \"AutoML_39e48925-bae5-4099-b09d-e950f0036c93\", \"run_properties\": {\"run_id\": \"AutoML_39e48925-bae5-4099-b09d-e950f0036c93\", \"created_utc\": \"2022-09-26T06:32:24.388641Z\", \"properties\": {\"num_iterations\": \"1000\", \"training_type\": \"TrainFull\", \"acquisition_function\": \"EI\", \"primary_metric\": \"accuracy\", \"train_split\": \"0\", \"acquisition_parameter\": \"0\", \"num_cross_validation\": \"2\", \"target\": \"capstone-compute-cluster\", \"AMLSettingsJsonString\": \"{\\\"path\\\":null,\\\"name\\\":\\\"capstone-spam-classification-experiment\\\",\\\"subscription_id\\\":\\\"d4ad7261-832d-46b2-b093-22156001df5b\\\",\\\"resource_group\\\":\\\"aml-quickstarts-208897\\\",\\\"workspace_name\\\":\\\"quick-starts-ws-208897\\\",\\\"region\\\":\\\"southcentralus\\\",\\\"compute_target\\\":\\\"capstone-compute-cluster\\\",\\\"spark_service\\\":null,\\\"azure_service\\\":\\\"remote\\\",\\\"many_models\\\":false,\\\"pipeline_fetch_max_batch_size\\\":1,\\\"enable_batch_run\\\":true,\\\"enable_run_restructure\\\":false,\\\"start_auxiliary_runs_before_parent_complete\\\":false,\\\"enable_code_generation\\\":true,\\\"iterations\\\":1000,\\\"primary_metric\\\":\\\"accuracy\\\",\\\"task_type\\\":\\\"classification\\\",\\\"positive_label\\\":null,\\\"data_script\\\":null,\\\"test_size\\\":0.0,\\\"test_include_predictions_only\\\":false,\\\"validation_size\\\":0.0,\\\"n_cross_validations\\\":2,\\\"y_min\\\":null,\\\"y_max\\\":null,\\\"num_classes\\\":null,\\\"featurization\\\":\\\"auto\\\",\\\"_ignore_package_version_incompatibilities\\\":false,\\\"is_timeseries\\\":false,\\\"max_cores_per_iteration\\\":1,\\\"max_concurrent_iterations\\\":5,\\\"iteration_timeout_minutes\\\":null,\\\"mem_in_mb\\\":null,\\\"enforce_time_on_windows\\\":false,\\\"experiment_timeout_minutes\\\":15,\\\"experiment_exit_score\\\":null,\\\"partition_column_names\\\":null,\\\"whitelist_models\\\":null,\\\"blacklist_algos\\\":[\\\"TensorFlowLinearClassifier\\\",\\\"TensorFlowDNN\\\"],\\\"supported_models\\\":[\\\"ExtremeRandomTrees\\\",\\\"MultinomialNaiveBayes\\\",\\\"SVM\\\",\\\"KNN\\\",\\\"LogisticRegression\\\",\\\"SGD\\\",\\\"BernoulliNaiveBayes\\\",\\\"TensorFlowLinearClassifier\\\",\\\"LightGBM\\\",\\\"AveragedPerceptronClassifier\\\",\\\"TabnetClassifier\\\",\\\"DecisionTree\\\",\\\"RandomForest\\\",\\\"TensorFlowDNN\\\",\\\"XGBoostClassifier\\\",\\\"GradientBoosting\\\",\\\"LinearSVM\\\"],\\\"private_models\\\":[],\\\"auto_blacklist\\\":true,\\\"blacklist_samples_reached\\\":false,\\\"exclude_nan_labels\\\":true,\\\"verbosity\\\":20,\\\"_debug_log\\\":\\\"azureml_automl.log\\\",\\\"show_warnings\\\":false,\\\"model_explainability\\\":true,\\\"service_url\\\":null,\\\"sdk_url\\\":null,\\\"sdk_packages\\\":null,\\\"enable_onnx_compatible_models\\\":false,\\\"enable_split_onnx_featurizer_estimator_models\\\":false,\\\"vm_type\\\":\\\"STANDARD_D2_V2\\\",\\\"telemetry_verbosity\\\":20,\\\"send_telemetry\\\":true,\\\"enable_dnn\\\":false,\\\"scenario\\\":\\\"AutoML\\\",\\\"environment_label\\\":null,\\\"save_mlflow\\\":false,\\\"enable_categorical_indicators\\\":false,\\\"force_text_dnn\\\":false,\\\"enable_feature_sweeping\\\":true,\\\"enable_early_stopping\\\":true,\\\"early_stopping_n_iters\\\":10,\\\"arguments\\\":null,\\\"dataset_id\\\":\\\"bf22fd68-4f43-4a95-a0c7-63c91e293b65\\\",\\\"hyperdrive_config\\\":null,\\\"validation_dataset_id\\\":null,\\\"run_source\\\":null,\\\"metrics\\\":null,\\\"enable_metric_confidence\\\":false,\\\"enable_ensembling\\\":true,\\\"enable_stack_ensembling\\\":true,\\\"ensemble_iterations\\\":15,\\\"enable_tf\\\":false,\\\"enable_subsampling\\\":null,\\\"subsample_seed\\\":null,\\\"enable_nimbusml\\\":false,\\\"enable_streaming\\\":false,\\\"force_streaming\\\":false,\\\"track_child_runs\\\":true,\\\"allowed_private_models\\\":[],\\\"label_column_name\\\":\\\"Category\\\",\\\"weight_column_name\\\":null,\\\"cv_split_column_names\\\":null,\\\"enable_local_managed\\\":false,\\\"_local_managed_run_id\\\":null,\\\"cost_mode\\\":1,\\\"lag_length\\\":0,\\\"metric_operation\\\":\\\"maximize\\\",\\\"preprocess\\\":true}\", \"DataPrepJsonString\": \"{\\\\\\\"training_data\\\\\\\": {\\\\\\\"datasetId\\\\\\\": \\\\\\\"bf22fd68-4f43-4a95-a0c7-63c91e293b65\\\\\\\"}, \\\\\\\"datasets\\\\\\\": 0}\", \"EnableSubsampling\": null, \"runTemplate\": \"AutoML\", \"azureml.runsource\": \"automl\", \"display_task_type\": \"classification\", \"dependencies_versions\": \"{\\\"azureml-widgets\\\": \\\"1.44.0\\\", \\\"azureml-training-tabular\\\": \\\"1.44.0\\\", \\\"azureml-train\\\": \\\"1.44.0\\\", \\\"azureml-train-restclients-hyperdrive\\\": \\\"1.44.0\\\", \\\"azureml-train-core\\\": \\\"1.44.0\\\", \\\"azureml-train-automl\\\": \\\"1.44.0\\\", \\\"azureml-train-automl-runtime\\\": \\\"1.44.0\\\", \\\"azureml-train-automl-client\\\": \\\"1.44.0\\\", \\\"azureml-tensorboard\\\": \\\"1.44.0\\\", \\\"azureml-telemetry\\\": \\\"1.44.0\\\", \\\"azureml-sdk\\\": \\\"1.44.0\\\", \\\"azureml-samples\\\": \\\"0+unknown\\\", \\\"azureml-responsibleai\\\": \\\"1.44.0\\\", \\\"azureml-pipeline\\\": \\\"1.44.0\\\", \\\"azureml-pipeline-steps\\\": \\\"1.44.0\\\", \\\"azureml-pipeline-core\\\": \\\"1.44.0\\\", \\\"azureml-opendatasets\\\": \\\"1.44.0\\\", \\\"azureml-mlflow\\\": \\\"1.44.0\\\", \\\"azureml-interpret\\\": \\\"1.44.0\\\", \\\"azureml-inference-server-http\\\": \\\"0.7.4\\\", \\\"azureml-explain-model\\\": \\\"1.44.0\\\", \\\"azureml-defaults\\\": \\\"1.44.0\\\", \\\"azureml-dataset-runtime\\\": \\\"1.44.0\\\", \\\"azureml-dataprep\\\": \\\"4.2.2\\\", \\\"azureml-dataprep-rslex\\\": \\\"2.8.1\\\", \\\"azureml-dataprep-native\\\": \\\"38.0.0\\\", \\\"azureml-datadrift\\\": \\\"1.44.0\\\", \\\"azureml-core\\\": \\\"1.44.0\\\", \\\"azureml-contrib-services\\\": \\\"1.44.0\\\", \\\"azureml-contrib-server\\\": \\\"1.44.0\\\", \\\"azureml-contrib-reinforcementlearning\\\": \\\"1.44.0\\\", \\\"azureml-contrib-pipeline-steps\\\": \\\"1.44.0\\\", \\\"azureml-contrib-notebook\\\": \\\"1.44.0\\\", \\\"azureml-contrib-fairness\\\": \\\"1.44.0\\\", \\\"azureml-contrib-dataset\\\": \\\"1.44.0\\\", \\\"azureml-contrib-automl-pipeline-steps\\\": \\\"1.44.0\\\", \\\"azureml-cli-common\\\": \\\"1.44.0\\\", \\\"azureml-automl-runtime\\\": \\\"1.44.0\\\", \\\"azureml-automl-dnn-nlp\\\": \\\"1.44.0\\\", \\\"azureml-automl-core\\\": \\\"1.44.0\\\", \\\"azureml-accel-models\\\": \\\"1.44.0\\\"}\", \"_aml_system_scenario_identification\": \"Remote.Parent\", \"ClientType\": \"SDK\", \"environment_cpu_name\": \"AzureML-AutoML\", \"environment_cpu_label\": \"prod\", \"environment_gpu_name\": \"AzureML-AutoML-GPU\", \"environment_gpu_label\": \"prod\", \"root_attribution\": \"automl\", \"attribution\": \"AutoML\", \"Orchestrator\": \"AutoML\", \"CancelUri\": \"https://southcentralus.api.azureml.ms/jasmine/v1.0/subscriptions/d4ad7261-832d-46b2-b093-22156001df5b/resourceGroups/aml-quickstarts-208897/providers/Microsoft.MachineLearningServices/workspaces/quick-starts-ws-208897/experimentids/0e03adb9-d0fa-4e56-9526-3f60ade5daf5/cancel/AutoML_39e48925-bae5-4099-b09d-e950f0036c93\", \"ClientSdkVersion\": \"1.45.0\", \"snapshotId\": \"00000000-0000-0000-0000-000000000000\", \"SetupRunId\": \"AutoML_39e48925-bae5-4099-b09d-e950f0036c93_setup\", \"SetupRunContainerId\": \"dcid.AutoML_39e48925-bae5-4099-b09d-e950f0036c93_setup\", \"FeaturizationRunJsonPath\": \"featurizer_container.json\", \"FeaturizationRunId\": \"AutoML_39e48925-bae5-4099-b09d-e950f0036c93_featurize\", \"ProblemInfoJsonString\": \"{\\\"dataset_num_categorical\\\": 0, \\\"is_sparse\\\": true, \\\"subsampling\\\": false, \\\"has_extra_col\\\": true, \\\"dataset_classes\\\": 4, \\\"dataset_features\\\": 64518, \\\"dataset_samples\\\": 5574, \\\"single_frequency_class_detected\\\": true}\", \"ModelExplainRunId\": \"AutoML_39e48925-bae5-4099-b09d-e950f0036c93_ModelExplain\"}, \"tags\": {\"model_explain_run\": \"best_run\", \"_aml_system_automl_run_workspace_id\": \"b218629a-2f6a-424b-8429-07c0c6573f6c\", \"_aml_system_azureml.automlComponent\": \"AutoML\", \"pipeline_id\": \"\", \"score\": \"\", \"predicted_cost\": \"\", \"fit_time\": \"\", \"training_percent\": \"\", \"iteration\": \"\", \"run_preprocessor\": \"\", \"run_algorithm\": \"\", \"dynamic_allowlisting_iterations\": \"<25>;<30>;<35>;\", \"_aml_system_azureml.automl_early_exit_message\": \"No scores improved over last 10 iterations, so experiment stopped early. This early stopping behavior can be disabled by setting enable_early_stopping = False in AutoMLConfig for notebook/python SDK runs.\", \"automl_best_child_run_id\": \"AutoML_39e48925-bae5-4099-b09d-e950f0036c93_39\", \"model_explain_best_run_child_id\": \"AutoML_39e48925-bae5-4099-b09d-e950f0036c93_39\"}, \"end_time_utc\": \"2022-09-26T06:52:00.06843Z\", \"status\": \"Completed\", \"log_files\": {}, \"log_groups\": [], \"run_duration\": \"0:19:35\", \"run_number\": \"1664173944\", \"run_queued_details\": {\"status\": \"Completed\", \"details\": null}}, \"child_runs\": [{\"run_id\": \"AutoML_39e48925-bae5-4099-b09d-e950f0036c93_setup\", \"run_number\": 1664173957, \"metric\": null, \"status\": \"Completed\", \"run_type\": \"azureml.scriptrun\", \"training_percent\": null, \"start_time\": \"2022-09-26T06:36:17.131885Z\", \"end_time\": \"2022-09-26T06:38:34.064447Z\", \"created_time\": \"2022-09-26T06:32:37.052515Z\", \"created_time_dt\": \"2022-09-26T06:32:37.052515Z\", \"duration\": \"0:05:57\", \"iteration\": null, \"goal\": null, \"run_name\": \"Completed\", \"run_properties\": null}, {\"run_id\": \"AutoML_39e48925-bae5-4099-b09d-e950f0036c93_featurize\", \"run_number\": 1664174314, \"metric\": null, \"status\": \"Completed\", \"run_type\": \"automl.featurization\", \"training_percent\": null, \"start_time\": \"2022-09-26T06:38:34.761988Z\", \"end_time\": \"2022-09-26T06:39:46.001898Z\", \"created_time\": \"2022-09-26T06:38:34.438531Z\", \"created_time_dt\": \"2022-09-26T06:38:34.438531Z\", \"duration\": \"0:01:11\", \"iteration\": null, \"goal\": null, \"run_name\": \"Completed\", \"run_properties\": null}, {\"run_id\": \"AutoML_39e48925-bae5-4099-b09d-e950f0036c93_0\", \"run_number\": 1664174387, \"metric\": null, \"status\": \"Completed\", \"run_type\": null, \"training_percent\": \"100\", \"start_time\": \"2022-09-26T06:43:17.770977Z\", \"end_time\": \"2022-09-26T06:44:09.08776Z\", \"created_time\": \"2022-09-26T06:39:47.242998Z\", \"created_time_dt\": \"2022-09-26T06:39:47.242998Z\", \"duration\": \"0:04:21\", \"iteration\": \"0\", \"goal\": \"accuracy_max\", \"run_name\": \"MaxAbsScaler, LightGBM\", \"run_properties\": \"copy=True\", \"primary_metric\": 0.98403301, \"best_metric\": 0.98403301}, {\"run_id\": \"AutoML_39e48925-bae5-4099-b09d-e950f0036c93_2\", \"run_number\": 1664174388, \"metric\": null, \"status\": \"Completed\", \"run_type\": null, \"training_percent\": \"100\", \"start_time\": \"2022-09-26T06:45:29.657717Z\", \"end_time\": \"2022-09-26T06:45:52.195642Z\", \"created_time\": \"2022-09-26T06:39:48.262979Z\", \"created_time_dt\": \"2022-09-26T06:39:48.262979Z\", \"duration\": \"0:06:03\", \"iteration\": \"2\", \"goal\": \"accuracy_max\", \"run_name\": \"MaxAbsScaler, ExtremeRandomTrees\", \"run_properties\": \"copy=True\", \"primary_metric\": 0.95999282, \"best_metric\": 0.98403301}, {\"run_id\": \"AutoML_39e48925-bae5-4099-b09d-e950f0036c93_4\", \"run_number\": 1664174389, \"metric\": null, \"status\": \"Completed\", \"run_type\": null, \"training_percent\": \"100\", \"start_time\": \"2022-09-26T06:40:07.445181Z\", \"end_time\": \"2022-09-26T06:40:28.191636Z\", \"created_time\": \"2022-09-26T06:39:49.402509Z\", \"created_time_dt\": \"2022-09-26T06:39:49.402509Z\", \"duration\": \"0:00:38\", \"iteration\": \"4\", \"goal\": \"accuracy_max\", \"run_name\": \"MaxAbsScaler, LightGBM\", \"run_properties\": \"copy=True\", \"primary_metric\": 0.97739505, \"best_metric\": 0.98403301}, {\"run_id\": \"AutoML_39e48925-bae5-4099-b09d-e950f0036c93_5\", \"run_number\": 1664174390, \"metric\": null, \"status\": \"Completed\", \"run_type\": null, \"training_percent\": \"100\", \"start_time\": \"2022-09-26T06:40:28.630094Z\", \"end_time\": \"2022-09-26T06:40:54.488552Z\", \"created_time\": \"2022-09-26T06:39:50.030893Z\", \"created_time_dt\": \"2022-09-26T06:39:50.030893Z\", \"duration\": \"0:01:04\", \"iteration\": \"5\", \"goal\": \"accuracy_max\", \"run_name\": \"MaxAbsScaler, LightGBM\", \"run_properties\": \"copy=True\", \"primary_metric\": 0.95837818, \"best_metric\": 0.98403301}, {\"run_id\": \"AutoML_39e48925-bae5-4099-b09d-e950f0036c93_worker_1\", \"run_number\": 1664174391, \"metric\": null, \"status\": \"Completed\", \"run_type\": \"azureml.scriptrun\", \"training_percent\": null, \"start_time\": \"2022-09-26T06:39:57.206516Z\", \"end_time\": \"2022-09-26T06:41:55.38109Z\", \"created_time\": \"2022-09-26T06:39:51.643574Z\", \"created_time_dt\": \"2022-09-26T06:39:51.643574Z\", \"duration\": \"0:02:03\", \"iteration\": null, \"goal\": null, \"run_name\": \"Completed\", \"run_properties\": null}, {\"run_id\": \"AutoML_39e48925-bae5-4099-b09d-e950f0036c93_9\", \"run_number\": 1664174392, \"metric\": null, \"status\": \"Completed\", \"run_type\": null, \"training_percent\": \"100\", \"start_time\": \"2022-09-26T06:43:24.5097Z\", \"end_time\": \"2022-09-26T06:43:48.633164Z\", \"created_time\": \"2022-09-26T06:39:52.310354Z\", \"created_time_dt\": \"2022-09-26T06:39:52.310354Z\", \"duration\": \"0:03:56\", \"iteration\": \"9\", \"goal\": \"accuracy_max\", \"run_name\": \"StandardScalerWrapper, XGBoostClassifier\", \"run_properties\": \"copy=True, with_mean=False, with_std=False\", \"primary_metric\": 0.98044492, \"best_metric\": 0.98403301}, {\"run_id\": \"AutoML_39e48925-bae5-4099-b09d-e950f0036c93_worker_2\", \"run_number\": 1664174393, \"metric\": null, \"status\": \"Completed\", \"run_type\": \"azureml.scriptrun\", \"training_percent\": null, \"start_time\": \"2022-09-26T06:41:41.322288Z\", \"end_time\": \"2022-09-26T06:44:41.207085Z\", \"created_time\": \"2022-09-26T06:39:53.774642Z\", \"created_time_dt\": \"2022-09-26T06:39:53.774642Z\", \"duration\": \"0:04:47\", \"iteration\": null, \"goal\": null, \"run_name\": \"Completed\", \"run_properties\": null}, {\"run_id\": \"AutoML_39e48925-bae5-4099-b09d-e950f0036c93_13\", \"run_number\": 1664174394, \"metric\": null, \"status\": \"Completed\", \"run_type\": null, \"training_percent\": \"100\", \"start_time\": \"2022-09-26T06:43:46.606072Z\", \"end_time\": \"2022-09-26T06:44:21.816674Z\", \"created_time\": \"2022-09-26T06:39:54.438213Z\", \"created_time_dt\": \"2022-09-26T06:39:54.438213Z\", \"duration\": \"0:04:27\", \"iteration\": \"13\", \"goal\": \"accuracy_max\", \"run_name\": \"StandardScalerWrapper, XGBoostClassifier\", \"run_properties\": \"copy=True, with_mean=False, with_std=False\", \"primary_metric\": 0.97703624, \"best_metric\": 0.98403301}, {\"run_id\": \"AutoML_39e48925-bae5-4099-b09d-e950f0036c93_worker_3\", \"run_number\": 1664174395, \"metric\": null, \"status\": \"Completed\", \"run_type\": \"azureml.scriptrun\", \"training_percent\": null, \"start_time\": \"2022-09-26T06:41:45.262058Z\", \"end_time\": \"2022-09-26T06:45:18.054806Z\", \"created_time\": \"2022-09-26T06:39:55.961246Z\", \"created_time_dt\": \"2022-09-26T06:39:55.961246Z\", \"duration\": \"0:05:22\", \"iteration\": null, \"goal\": null, \"run_name\": \"Completed\", \"run_properties\": null}, {\"run_id\": \"AutoML_39e48925-bae5-4099-b09d-e950f0036c93_16\", \"run_number\": 1664174396, \"metric\": null, \"status\": \"Completed\", \"run_type\": null, \"training_percent\": \"100\", \"start_time\": \"2022-09-26T06:42:14.607703Z\", \"end_time\": \"2022-09-26T06:42:42.819575Z\", \"created_time\": \"2022-09-26T06:39:56.119316Z\", \"created_time_dt\": \"2022-09-26T06:39:56.119316Z\", \"duration\": \"0:02:46\", \"iteration\": \"16\", \"goal\": \"accuracy_max\", \"run_name\": \"StandardScalerWrapper, RandomForest\", \"run_properties\": \"copy=True, with_mean=False, with_std=False\", \"primary_metric\": 0.9712953, \"best_metric\": 0.98403301}, {\"run_id\": \"AutoML_39e48925-bae5-4099-b09d-e950f0036c93_18\", \"run_number\": 1664174397, \"metric\": null, \"status\": \"Completed\", \"run_type\": null, \"training_percent\": \"100\", \"start_time\": \"2022-09-26T06:43:32.357949Z\", \"end_time\": \"2022-09-26T06:44:22.87734Z\", \"created_time\": \"2022-09-26T06:39:57.229704Z\", \"created_time_dt\": \"2022-09-26T06:39:57.229704Z\", \"duration\": \"0:04:25\", \"iteration\": \"18\", \"goal\": \"accuracy_max\", \"run_name\": \"TruncatedSVDWrapper, RandomForest\", \"run_properties\": \"n_components=0.8015789473684211, random_state=None\", \"primary_metric\": 0.95156082, \"best_metric\": 0.98403301}, {\"run_id\": \"AutoML_39e48925-bae5-4099-b09d-e950f0036c93_worker_4\", \"run_number\": 1664174398, \"metric\": null, \"status\": \"Completed\", \"run_type\": \"azureml.scriptrun\", \"training_percent\": null, \"start_time\": \"2022-09-26T06:42:04.150874Z\", \"end_time\": \"2022-09-26T06:45:17.193007Z\", \"created_time\": \"2022-09-26T06:39:58.163145Z\", \"created_time_dt\": \"2022-09-26T06:39:58.163145Z\", \"duration\": \"0:05:19\", \"iteration\": null, \"goal\": null, \"run_name\": \"Completed\", \"run_properties\": null}, {\"run_id\": \"AutoML_39e48925-bae5-4099-b09d-e950f0036c93_21\", \"run_number\": 1664174718, \"metric\": null, \"status\": \"Completed\", \"run_type\": \"azureml.scriptrun\", \"training_percent\": \"100\", \"start_time\": \"2022-09-26T06:45:27.35641Z\", \"end_time\": \"2022-09-26T06:46:15.087694Z\", \"created_time\": \"2022-09-26T06:45:18.340209Z\", \"created_time_dt\": \"2022-09-26T06:45:18.340209Z\", \"duration\": \"0:00:56\", \"iteration\": \"21\", \"goal\": \"accuracy_max\", \"run_name\": \"SparseNormalizer, XGBoostClassifier\", \"run_properties\": \"copy=True, norm='l1'\", \"primary_metric\": 0.9752422, \"best_metric\": 0.98403301}, {\"run_id\": \"AutoML_39e48925-bae5-4099-b09d-e950f0036c93_22\", \"run_number\": 1664174731, \"metric\": null, \"status\": \"Completed\", \"run_type\": \"azureml.scriptrun\", \"training_percent\": \"100\", \"start_time\": \"2022-09-26T06:45:40.634416Z\", \"end_time\": \"2022-09-26T06:46:23.334521Z\", \"created_time\": \"2022-09-26T06:45:31.762843Z\", \"created_time_dt\": \"2022-09-26T06:45:31.762843Z\", \"duration\": \"0:00:51\", \"iteration\": \"22\", \"goal\": \"accuracy_max\", \"run_name\": \"StandardScalerWrapper, LogisticRegression\", \"run_properties\": \"copy=True, with_mean=False, with_std=True\", \"primary_metric\": 0.97506279, \"best_metric\": 0.98403301}, {\"run_id\": \"AutoML_39e48925-bae5-4099-b09d-e950f0036c93_24\", \"run_number\": 1664174778, \"metric\": null, \"status\": \"Canceled\", \"run_type\": \"azureml.scriptrun\", \"training_percent\": \"100\", \"start_time\": \"2022-09-26T06:46:26.042065Z\", \"end_time\": \"2022-09-26T06:50:41.903925Z\", \"created_time\": \"2022-09-26T06:46:18.605935Z\", \"created_time_dt\": \"2022-09-26T06:46:18.605935Z\", \"duration\": \"0:04:23\", \"iteration\": \"24\", \"goal\": null, \"run_name\": \"StandardScalerWrapper, XGBoostClassifier\", \"run_properties\": null}, {\"run_id\": \"AutoML_39e48925-bae5-4099-b09d-e950f0036c93_25\", \"run_number\": 1664174783, \"metric\": null, \"status\": \"Completed\", \"run_type\": \"azureml.scriptrun\", \"training_percent\": \"100\", \"start_time\": \"2022-09-26T06:46:32.03234Z\", \"end_time\": \"2022-09-26T06:47:14.539554Z\", \"created_time\": \"2022-09-26T06:46:23.659905Z\", \"created_time_dt\": \"2022-09-26T06:46:23.659905Z\", \"duration\": \"0:00:50\", \"iteration\": \"25\", \"goal\": \"accuracy_max\", \"run_name\": \"MaxAbsScaler, LogisticRegression\", \"run_properties\": \"copy=True\", \"primary_metric\": 0.98259778, \"best_metric\": 0.98403301}, {\"run_id\": \"AutoML_39e48925-bae5-4099-b09d-e950f0036c93_26\", \"run_number\": 1664174785, \"metric\": null, \"status\": \"Completed\", \"run_type\": \"azureml.scriptrun\", \"training_percent\": \"100\", \"start_time\": \"2022-09-26T06:46:35.089765Z\", \"end_time\": \"2022-09-26T06:49:53.345535Z\", \"created_time\": \"2022-09-26T06:46:25.887218Z\", \"created_time_dt\": \"2022-09-26T06:46:25.887218Z\", \"duration\": \"0:03:27\", \"iteration\": \"26\", \"goal\": \"accuracy_max\", \"run_name\": \"SparseNormalizer, XGBoostClassifier\", \"run_properties\": \"copy=True, norm='max'\", \"primary_metric\": 0.98188016, \"best_metric\": 0.98403301}, {\"run_id\": \"AutoML_39e48925-bae5-4099-b09d-e950f0036c93_28\", \"run_number\": 1664174819, \"metric\": null, \"status\": \"Completed\", \"run_type\": \"azureml.scriptrun\", \"training_percent\": \"100\", \"start_time\": \"2022-09-26T06:47:05.038891Z\", \"end_time\": \"2022-09-26T06:48:25.092079Z\", \"created_time\": \"2022-09-26T06:46:59.987885Z\", \"created_time_dt\": \"2022-09-26T06:46:59.987885Z\", \"duration\": \"0:01:25\", \"iteration\": \"28\", \"goal\": \"accuracy_max\", \"run_name\": \"SparseNormalizer, XGBoostClassifier\", \"run_properties\": \"copy=True, norm='l1'\", \"primary_metric\": 0.97793326, \"best_metric\": 0.98403301}, {\"run_id\": \"AutoML_39e48925-bae5-4099-b09d-e950f0036c93_29\", \"run_number\": 1664174836, \"metric\": null, \"status\": \"Completed\", \"run_type\": \"azureml.scriptrun\", \"training_percent\": \"100\", \"start_time\": \"2022-09-26T06:48:09.951331Z\", \"end_time\": \"2022-09-26T06:48:49.149552Z\", \"created_time\": \"2022-09-26T06:47:16.064899Z\", \"created_time_dt\": \"2022-09-26T06:47:16.064899Z\", \"duration\": \"0:01:33\", \"iteration\": \"29\", \"goal\": \"accuracy_max\", \"run_name\": \"MaxAbsScaler, LogisticRegression\", \"run_properties\": \"copy=True\", \"primary_metric\": 0.98528884, \"best_metric\": 0.98528884}, {\"run_id\": \"AutoML_39e48925-bae5-4099-b09d-e950f0036c93_30\", \"run_number\": 1664174884, \"metric\": null, \"status\": \"Completed\", \"run_type\": \"azureml.scriptrun\", \"training_percent\": \"100\", \"start_time\": \"2022-09-26T06:48:32.735835Z\", \"end_time\": \"2022-09-26T06:49:11.594942Z\", \"created_time\": \"2022-09-26T06:48:04.045166Z\", \"created_time_dt\": \"2022-09-26T06:48:04.045166Z\", \"duration\": \"0:01:07\", \"iteration\": \"30\", \"goal\": \"accuracy_max\", \"run_name\": \"StandardScalerWrapper, LogisticRegression\", \"run_properties\": \"copy=True, with_mean=False, with_std=True\", \"primary_metric\": 0.96914245, \"best_metric\": 0.98528884}, {\"run_id\": \"AutoML_39e48925-bae5-4099-b09d-e950f0036c93_31\", \"run_number\": 1664174906, \"metric\": null, \"status\": \"Completed\", \"run_type\": \"azureml.scriptrun\", \"training_percent\": \"100\", \"start_time\": \"2022-09-26T06:48:57.229805Z\", \"end_time\": \"2022-09-26T06:49:36.570549Z\", \"created_time\": \"2022-09-26T06:48:26.562395Z\", \"created_time_dt\": \"2022-09-26T06:48:26.562395Z\", \"duration\": \"0:01:10\", \"iteration\": \"31\", \"goal\": \"accuracy_max\", \"run_name\": \"MaxAbsScaler, LogisticRegression\", \"run_properties\": \"copy=True\", \"primary_metric\": 0.98546825, \"best_metric\": 0.98546825}, {\"run_id\": \"AutoML_39e48925-bae5-4099-b09d-e950f0036c93_32\", \"run_number\": 1664174930, \"metric\": null, \"status\": \"Completed\", \"run_type\": \"azureml.scriptrun\", \"training_percent\": \"100\", \"start_time\": \"2022-09-26T06:49:18.204934Z\", \"end_time\": \"2022-09-26T06:49:55.605092Z\", \"created_time\": \"2022-09-26T06:48:50.621131Z\", \"created_time_dt\": \"2022-09-26T06:48:50.621131Z\", \"duration\": \"0:01:04\", \"iteration\": \"32\", \"goal\": \"accuracy_max\", \"run_name\": \"MaxAbsScaler, LogisticRegression\", \"run_properties\": \"copy=True\", \"primary_metric\": 0.98672408, \"best_metric\": 0.98672408}, {\"run_id\": \"AutoML_39e48925-bae5-4099-b09d-e950f0036c93_33\", \"run_number\": 1664174953, \"metric\": null, \"status\": \"Completed\", \"run_type\": \"azureml.scriptrun\", \"training_percent\": \"100\", \"start_time\": \"2022-09-26T06:49:45.651194Z\", \"end_time\": \"2022-09-26T06:50:39.426947Z\", \"created_time\": \"2022-09-26T06:49:13.152783Z\", \"created_time_dt\": \"2022-09-26T06:49:13.152783Z\", \"duration\": \"0:01:26\", \"iteration\": \"33\", \"goal\": \"accuracy_max\", \"run_name\": \"SparseNormalizer, RandomForest\", \"run_properties\": \"copy=True, norm='l2'\", \"primary_metric\": 0.96573376, \"best_metric\": 0.98672408}, {\"run_id\": \"AutoML_39e48925-bae5-4099-b09d-e950f0036c93_34\", \"run_number\": 1664174978, \"metric\": null, \"status\": \"Canceled\", \"run_type\": \"azureml.scriptrun\", \"training_percent\": \"100\", \"start_time\": \"2022-09-26T06:50:00.73001Z\", \"end_time\": \"2022-09-26T06:50:41.945915Z\", \"created_time\": \"2022-09-26T06:49:38.852128Z\", \"created_time_dt\": \"2022-09-26T06:49:38.852128Z\", \"duration\": \"0:01:03\", \"iteration\": \"34\", \"goal\": null, \"run_name\": \"SparseNormalizer, XGBoostClassifier\", \"run_properties\": null}, {\"run_id\": \"AutoML_39e48925-bae5-4099-b09d-e950f0036c93_35\", \"run_number\": 1664174995, \"metric\": null, \"status\": \"Completed\", \"run_type\": \"azureml.scriptrun\", \"training_percent\": \"100\", \"start_time\": \"2022-09-26T06:50:03.471241Z\", \"end_time\": \"2022-09-26T06:50:38.382827Z\", \"created_time\": \"2022-09-26T06:49:55.943747Z\", \"created_time_dt\": \"2022-09-26T06:49:55.943747Z\", \"duration\": \"0:00:42\", \"iteration\": \"35\", \"goal\": \"accuracy_max\", \"run_name\": \"SparseNormalizer, LogisticRegression\", \"run_properties\": \"copy=True, norm='l1'\", \"primary_metric\": 0.86562612, \"best_metric\": 0.98672408}, {\"run_id\": \"AutoML_39e48925-bae5-4099-b09d-e950f0036c93_36\", \"run_number\": 1664174998, \"metric\": null, \"status\": \"Canceled\", \"run_type\": \"azureml.scriptrun\", \"training_percent\": \"100\", \"start_time\": \"2022-09-26T06:50:41.683343Z\", \"end_time\": \"2022-09-26T06:50:41.901549Z\", \"created_time\": \"2022-09-26T06:49:58.156654Z\", \"created_time_dt\": \"2022-09-26T06:49:58.156654Z\", \"duration\": \"0:00:43\", \"iteration\": \"36\", \"goal\": \"accuracy_max\", \"run_name\": \"StandardScalerWrapper, LogisticRegression\", \"run_properties\": \"copy=True, with_mean=False, with_std=False\", \"primary_metric\": 0.98672408, \"best_metric\": 0.98672408}, {\"run_id\": \"AutoML_39e48925-bae5-4099-b09d-e950f0036c93_37\", \"run_number\": 1664175039, \"metric\": null, \"status\": \"Canceled\", \"run_type\": \"azureml.scriptrun\", \"training_percent\": \"100\", \"start_time\": \"2022-09-26T06:50:41.698791Z\", \"end_time\": \"2022-09-26T06:50:42.571093Z\", \"created_time\": \"2022-09-26T06:50:39.815984Z\", \"created_time_dt\": \"2022-09-26T06:50:39.815984Z\", \"duration\": \"0:00:02\", \"iteration\": \"37\", \"goal\": null, \"run_name\": \"Canceled\", \"run_properties\": null}, {\"run_id\": \"AutoML_39e48925-bae5-4099-b09d-e950f0036c93_39\", \"run_number\": 1664175042, \"metric\": null, \"status\": \"Completed\", \"run_type\": \"azureml.scriptrun\", \"training_percent\": \"100\", \"start_time\": \"2022-09-26T06:50:49.062664Z\", \"end_time\": \"2022-09-26T06:51:58.609506Z\", \"created_time\": \"2022-09-26T06:50:42.947641Z\", \"created_time_dt\": \"2022-09-26T06:50:42.947641Z\", \"duration\": \"0:01:15\", \"iteration\": \"39\", \"goal\": \"accuracy_max\", \"run_name\": \"StackEnsemble\", \"run_properties\": \"base_learners=[('15', Pipeline(memory=None, steps=[('standardscalerwrapper', StandardScalerWrapper(copy=True, with_mean=False, with_std=False\", \"primary_metric\": 0.98797991, \"best_metric\": 0.98797991}], \"children_metrics\": {\"categories\": [0], \"series\": {\"norm_macro_recall\": [{\"categories\": [\"0\", \"2\", \"4\", \"5\", \"9\", \"13\", \"16\", \"18\", \"21\", \"22\", \"25\", \"26\", \"28\", \"29\", \"30\", \"31\", \"32\", \"33\", \"35\", \"36\", \"39\"], \"mode\": \"markers\", \"name\": \"norm_macro_recall\", \"stepped\": false, \"type\": \"scatter\", \"data\": [0.4432138628068537, 0.4302730075361939, 0.41896022032463315, 0.3458411013910799, 0.4286450381430482, 0.4182455854431582, 0.3945331064063496, 0.42119681376352996, 0.41129377130290296, 0.40812060805965866, 0.4373961586663868, 0.436264530835225, 0.42086343360713435, 0.4474976214514147, 0.3866611153291779, 0.44810890784177754, 0.45278408351939115, 0.37494283257867095, 0.0, 0.4562256482267455, 0.45972237730148613]}, {\"categories\": [\"0\", \"2\", \"4\", \"5\", \"9\", \"13\", \"16\", \"18\", \"21\", \"22\", \"25\", \"26\", \"28\", \"29\", \"30\", \"31\", \"32\", \"33\", \"35\", \"36\", \"39\"], \"mode\": \"lines\", \"name\": \"norm_macro_recall_max\", \"stepped\": true, \"type\": \"scatter\", \"data\": [0.4432138628068537, 0.4432138628068537, 0.4432138628068537, 0.4432138628068537, 0.4432138628068537, 0.4432138628068537, 0.4432138628068537, 0.4432138628068537, 0.4432138628068537, 0.4432138628068537, 0.4432138628068537, 0.4432138628068537, 0.4432138628068537, 0.4474976214514147, 0.4474976214514147, 0.44810890784177754, 0.45278408351939115, 0.45278408351939115, 0.45278408351939115, 0.4562256482267455, 0.45972237730148613]}], \"AUC_macro\": [{\"categories\": [\"0\", \"2\", \"4\", \"5\", \"9\", \"13\", \"16\", \"18\", \"21\", \"22\", \"25\", \"26\", \"28\", \"29\", \"30\", \"31\", \"32\", \"33\", \"35\", \"36\", \"39\"], \"mode\": \"markers\", \"name\": \"AUC_macro\", \"stepped\": false, \"type\": \"scatter\", \"data\": [0.8273029575949615, 0.8158434148656244, 0.8214464956972274, 0.8176037662920899, 0.8206346139192986, 0.8223029880551345, 0.822122812203211, 0.8149578637995294, 0.8175997234938177, 0.8306916311963544, 0.8282134715494593, 0.8235191475469651, 0.8227960750746867, 0.8284804993598124, 0.8309545093043104, 0.8299124499831717, 0.8299277591894891, 0.8207847586621473, 0.8004675275071156, 0.8291630539529211, 0.8296948996035933]}, {\"categories\": [\"0\", \"2\", \"4\", \"5\", \"9\", \"13\", \"16\", \"18\", \"21\", \"22\", \"25\", \"26\", \"28\", \"29\", \"30\", \"31\", \"32\", \"33\", \"35\", \"36\", \"39\"], \"mode\": \"lines\", \"name\": \"AUC_macro_max\", \"stepped\": true, \"type\": \"scatter\", \"data\": [0.8273029575949615, 0.8273029575949615, 0.8273029575949615, 0.8273029575949615, 0.8273029575949615, 0.8273029575949615, 0.8273029575949615, 0.8273029575949615, 0.8273029575949615, 0.8306916311963544, 0.8306916311963544, 0.8306916311963544, 0.8306916311963544, 0.8306916311963544, 0.8309545093043104, 0.8309545093043104, 0.8309545093043104, 0.8309545093043104, 0.8309545093043104, 0.8309545093043104, 0.8309545093043104]}], \"precision_score_weighted\": [{\"categories\": [\"0\", \"2\", \"4\", \"5\", \"9\", \"13\", \"16\", \"18\", \"21\", \"22\", \"25\", \"26\", \"28\", \"29\", \"30\", \"31\", \"32\", \"33\", \"35\", \"36\", \"39\"], \"mode\": \"markers\", \"name\": \"precision_score_weighted\", \"stepped\": false, \"type\": \"scatter\", \"data\": [0.9838898987010162, 0.9629352621456393, 0.9774441239538072, 0.9599346373464711, 0.9804873376844776, 0.9770423132663941, 0.9717979914032226, 0.9543209608248278, 0.9753523260444248, 0.9754077078353889, 0.982525013187648, 0.9817453186543376, 0.9780037685347753, 0.985124686745833, 0.9700087874123282, 0.985305068428078, 0.9865283312200002, 0.9664864226754492, 0.7493140212599658, 0.9864064207344267, 0.9876886557153359]}, {\"categories\": [\"0\", \"2\", \"4\", \"5\", \"9\", \"13\", \"16\", \"18\", \"21\", \"22\", \"25\", \"26\", \"28\", \"29\", \"30\", \"31\", \"32\", \"33\", \"35\", \"36\", \"39\"], \"mode\": \"lines\", \"name\": \"precision_score_weighted_max\", \"stepped\": true, \"type\": \"scatter\", \"data\": [0.9838898987010162, 0.9838898987010162, 0.9838898987010162, 0.9838898987010162, 0.9838898987010162, 0.9838898987010162, 0.9838898987010162, 0.9838898987010162, 0.9838898987010162, 0.9838898987010162, 0.9838898987010162, 0.9838898987010162, 0.9838898987010162, 0.985124686745833, 0.985124686745833, 0.985305068428078, 0.9865283312200002, 0.9865283312200002, 0.9865283312200002, 0.9865283312200002, 0.9876886557153359]}], \"recall_score_macro\": [{\"categories\": [\"0\", \"2\", \"4\", \"5\", \"9\", \"13\", \"16\", \"18\", \"21\", \"22\", \"25\", \"26\", \"28\", \"29\", \"30\", \"31\", \"32\", \"33\", \"35\", \"36\", \"39\"], \"mode\": \"markers\", \"name\": \"recall_score_macro\", \"stepped\": false, \"type\": \"scatter\", \"data\": [0.6288092418712359, 0.6201820050241293, 0.6126401468830888, 0.5638940675940532, 0.6190966920953656, 0.6121637236287721, 0.5963554042708997, 0.6141312091756866, 0.607529180868602, 0.6054137387064391, 0.6249307724442579, 0.6241763538901499, 0.6139089557380896, 0.6316650809676099, 0.5166729736500567, 0.6320726052278517, 0.6351893890129274, 0.583295221719114, 0.3333333333333333, 0.6374837654844969, 0.6398149182009907]}, {\"categories\": [\"0\", \"2\", \"4\", \"5\", \"9\", \"13\", \"16\", \"18\", \"21\", \"22\", \"25\", \"26\", \"28\", \"29\", \"30\", \"31\", \"32\", \"33\", \"35\", \"36\", \"39\"], \"mode\": \"lines\", \"name\": \"recall_score_macro_max\", \"stepped\": true, \"type\": \"scatter\", \"data\": [0.6288092418712359, 0.6288092418712359, 0.6288092418712359, 0.6288092418712359, 0.6288092418712359, 0.6288092418712359, 0.6288092418712359, 0.6288092418712359, 0.6288092418712359, 0.6288092418712359, 0.6288092418712359, 0.6288092418712359, 0.6288092418712359, 0.6316650809676099, 0.6316650809676099, 0.6320726052278517, 0.6351893890129274, 0.6351893890129274, 0.6351893890129274, 0.6374837654844969, 0.6398149182009907]}], \"balanced_accuracy\": [{\"categories\": [\"0\", \"2\", \"4\", \"5\", \"9\", \"13\", \"16\", \"18\", \"21\", \"22\", \"25\", \"26\", \"28\", \"29\", \"30\", \"31\", \"32\", \"33\", \"35\", \"36\", \"39\"], \"mode\": \"markers\", \"name\": \"balanced_accuracy\", \"stepped\": false, \"type\": \"scatter\", \"data\": [0.6288092418712359, 0.6201820050241293, 0.6126401468830888, 0.5638940675940532, 0.6190966920953656, 0.6121637236287721, 0.5963554042708997, 0.6141312091756866, 0.607529180868602, 0.6054137387064391, 0.6249307724442579, 0.6241763538901499, 0.6139089557380896, 0.6316650809676099, 0.5166729736500567, 0.6320726052278517, 0.6351893890129274, 0.583295221719114, 0.3333333333333333, 0.6374837654844969, 0.6398149182009907]}, {\"categories\": [\"0\", \"2\", \"4\", \"5\", \"9\", \"13\", \"16\", \"18\", \"21\", \"22\", \"25\", \"26\", \"28\", \"29\", \"30\", \"31\", \"32\", \"33\", \"35\", \"36\", \"39\"], \"mode\": \"lines\", \"name\": \"balanced_accuracy_max\", \"stepped\": true, \"type\": \"scatter\", \"data\": [0.6288092418712359, 0.6288092418712359, 0.6288092418712359, 0.6288092418712359, 0.6288092418712359, 0.6288092418712359, 0.6288092418712359, 0.6288092418712359, 0.6288092418712359, 0.6288092418712359, 0.6288092418712359, 0.6288092418712359, 0.6288092418712359, 0.6316650809676099, 0.6316650809676099, 0.6320726052278517, 0.6351893890129274, 0.6351893890129274, 0.6351893890129274, 0.6374837654844969, 0.6398149182009907]}], \"f1_score_macro\": [{\"categories\": [\"0\", \"2\", \"4\", \"5\", \"9\", \"13\", \"16\", \"18\", \"21\", \"22\", \"25\", \"26\", \"28\", \"29\", \"30\", \"31\", \"32\", \"33\", \"35\", \"36\", \"39\"], \"mode\": \"markers\", \"name\": \"f1_score_macro\", \"stepped\": false, \"type\": \"scatter\", \"data\": [0.6429259930987699, 0.6120097351449073, 0.6321253596882658, 0.5980110108406597, 0.6370251887938934, 0.6316369522758808, 0.6216348523593247, 0.6007938565474009, 0.6282610691970963, 0.6281628152495389, 0.6407016034585378, 0.6394976443607434, 0.6328803063990075, 0.6450181460471194, 0.540586882415339, 0.6452622315863308, 0.6472211437208651, 0.6119418014190827, 0.3093240560910514, 0.6474002764112696, 0.6492553368057341]}, {\"categories\": [\"0\", \"2\", \"4\", \"5\", \"9\", \"13\", \"16\", \"18\", \"21\", \"22\", \"25\", \"26\", \"28\", \"29\", \"30\", \"31\", \"32\", \"33\", \"35\", \"36\", \"39\"], \"mode\": \"lines\", \"name\": \"f1_score_macro_max\", \"stepped\": true, \"type\": \"scatter\", \"data\": [0.6429259930987699, 0.6429259930987699, 0.6429259930987699, 0.6429259930987699, 0.6429259930987699, 0.6429259930987699, 0.6429259930987699, 0.6429259930987699, 0.6429259930987699, 0.6429259930987699, 0.6429259930987699, 0.6429259930987699, 0.6429259930987699, 0.6450181460471194, 0.6450181460471194, 0.6452622315863308, 0.6472211437208651, 0.6472211437208651, 0.6472211437208651, 0.6474002764112696, 0.6492553368057341]}], \"log_loss\": [{\"categories\": [\"0\", \"2\", \"4\", \"5\", \"9\", \"13\", \"16\", \"18\", \"21\", \"22\", \"25\", \"26\", \"28\", \"29\", \"30\", \"31\", \"32\", \"33\", \"35\", \"36\", \"39\"], \"mode\": \"markers\", \"name\": \"log_loss\", \"stepped\": false, \"type\": \"scatter\", \"data\": [0.1088762523245495, 0.8319226778612115, 0.09503709277270947, 0.18448989256190973, 0.09343845594866804, 0.12651839697070658, 0.12365010798024052, 0.4172690554027007, 0.1930299384756311, 0.13925822410181016, 0.06881249517014797, 0.08690616216519925, 0.09204508436290985, 0.05950464295913608, 0.09350350756332332, 0.057833113872306094, 0.08564376639263216, 0.12799127369647817, 0.4066974038655662, 0.06004424676519989, 0.060339494012040806]}, {\"categories\": [\"0\", \"2\", \"4\", \"5\", \"9\", \"13\", \"16\", \"18\", \"21\", \"22\", \"25\", \"26\", \"28\", \"29\", \"30\", \"31\", \"32\", \"33\", \"35\", \"36\", \"39\"], \"mode\": \"lines\", \"name\": \"log_loss_min\", \"stepped\": true, \"type\": \"scatter\", \"data\": [0.1088762523245495, 0.1088762523245495, 0.09503709277270947, 0.09503709277270947, 0.09343845594866804, 0.09343845594866804, 0.09343845594866804, 0.09343845594866804, 0.09343845594866804, 0.09343845594866804, 0.06881249517014797, 0.06881249517014797, 0.06881249517014797, 0.05950464295913608, 0.05950464295913608, 0.057833113872306094, 0.057833113872306094, 0.057833113872306094, 0.057833113872306094, 0.057833113872306094, 0.057833113872306094]}], \"weighted_accuracy\": [{\"categories\": [\"0\", \"2\", \"4\", \"5\", \"9\", \"13\", \"16\", \"18\", \"21\", \"22\", \"25\", \"26\", \"28\", \"29\", \"30\", \"31\", \"32\", \"33\", \"35\", \"36\", \"39\"], \"mode\": \"markers\", \"name\": \"weighted_accuracy\", \"stepped\": false, \"type\": \"scatter\", \"data\": [0.9967735519890721, 0.9692894389811659, 0.9954460662771925, 0.9928016128138353, 0.9964923607763863, 0.9952092581312149, 0.9948920541728032, 0.9611510606254923, 0.9949109388661745, 0.9957153885103267, 0.9966873913850476, 0.9960581055581419, 0.9955455337217418, 0.9971540421042451, 0.9945056990765179, 0.9971888039277415, 0.9974088566230856, 0.9935749678351222, 0.9765812329143235, 0.9963790304462599, 0.9969439478288387]}, {\"categories\": [\"0\", \"2\", \"4\", \"5\", \"9\", \"13\", \"16\", \"18\", \"21\", \"22\", \"25\", \"26\", \"28\", \"29\", \"30\", \"31\", \"32\", \"33\", \"35\", \"36\", \"39\"], \"mode\": \"lines\", \"name\": \"weighted_accuracy_max\", \"stepped\": true, \"type\": \"scatter\", \"data\": [0.9967735519890721, 0.9967735519890721, 0.9967735519890721, 0.9967735519890721, 0.9967735519890721, 0.9967735519890721, 0.9967735519890721, 0.9967735519890721, 0.9967735519890721, 0.9967735519890721, 0.9967735519890721, 0.9967735519890721, 0.9967735519890721, 0.9971540421042451, 0.9971540421042451, 0.9971888039277415, 0.9974088566230856, 0.9974088566230856, 0.9974088566230856, 0.9974088566230856, 0.9974088566230856]}], \"recall_score_weighted\": [{\"categories\": [\"0\", \"2\", \"4\", \"5\", \"9\", \"13\", \"16\", \"18\", \"21\", \"22\", \"25\", \"26\", \"28\", \"29\", \"30\", \"31\", \"32\", \"33\", \"35\", \"36\", \"39\"], \"mode\": \"markers\", \"name\": \"recall_score_weighted\", \"stepped\": false, \"type\": \"scatter\", \"data\": [0.9840330104054539, 0.9599928238249014, 0.9773950484391819, 0.9583781844277, 0.9804449228561177, 0.9770362396842482, 0.9712952996053104, 0.9515608180839612, 0.9752421959095803, 0.9750627915321134, 0.9825977753857194, 0.9818801578758523, 0.9779332615715823, 0.9852888410477216, 0.9691424470757086, 0.9854682454251884, 0.986724076067456, 0.9657337639038392, 0.8656261212773592, 0.986724076067456, 0.9879799067097237]}, {\"categories\": [\"0\", \"2\", \"4\", \"5\", \"9\", \"13\", \"16\", \"18\", \"21\", \"22\", \"25\", \"26\", \"28\", \"29\", \"30\", \"31\", \"32\", \"33\", \"35\", \"36\", \"39\"], \"mode\": \"lines\", \"name\": \"recall_score_weighted_max\", \"stepped\": true, \"type\": \"scatter\", \"data\": [0.9840330104054539, 0.9840330104054539, 0.9840330104054539, 0.9840330104054539, 0.9840330104054539, 0.9840330104054539, 0.9840330104054539, 0.9840330104054539, 0.9840330104054539, 0.9840330104054539, 0.9840330104054539, 0.9840330104054539, 0.9840330104054539, 0.9852888410477216, 0.9852888410477216, 0.9854682454251884, 0.986724076067456, 0.986724076067456, 0.986724076067456, 0.986724076067456, 0.9879799067097237]}], \"matthews_correlation\": [{\"categories\": [\"0\", \"2\", \"4\", \"5\", \"9\", \"13\", \"16\", \"18\", \"21\", \"22\", \"25\", \"26\", \"28\", \"29\", \"30\", \"31\", \"32\", \"33\", \"35\", \"36\", \"39\"], \"mode\": \"markers\", \"name\": \"matthews_correlation\", \"stepped\": false, \"type\": \"scatter\", \"data\": [0.9297758488178696, 0.838716155159788, 0.8997235690865056, 0.8111886436564748, 0.9135946475880354, 0.8981464452244866, 0.8719136001836325, 0.8031966283874266, 0.8893549363654375, 0.8894807695671918, 0.9235654229071716, 0.9200090288090169, 0.9020245924254056, 0.9356459021612388, 0.862302101791349, 0.9363724030309654, 0.9419315618319481, 0.8460584480191775, 0.0, 0.941968822399214, 0.9474790732094922]}, {\"categories\": [\"0\", \"2\", \"4\", \"5\", \"9\", \"13\", \"16\", \"18\", \"21\", \"22\", \"25\", \"26\", \"28\", \"29\", \"30\", \"31\", \"32\", \"33\", \"35\", \"36\", \"39\"], \"mode\": \"lines\", \"name\": \"matthews_correlation_max\", \"stepped\": true, \"type\": \"scatter\", \"data\": [0.9297758488178696, 0.9297758488178696, 0.9297758488178696, 0.9297758488178696, 0.9297758488178696, 0.9297758488178696, 0.9297758488178696, 0.9297758488178696, 0.9297758488178696, 0.9297758488178696, 0.9297758488178696, 0.9297758488178696, 0.9297758488178696, 0.9356459021612388, 0.9356459021612388, 0.9363724030309654, 0.9419315618319481, 0.9419315618319481, 0.9419315618319481, 0.941968822399214, 0.9474790732094922]}], \"accuracy\": [{\"categories\": [\"0\", \"2\", \"4\", \"5\", \"9\", \"13\", \"16\", \"18\", \"21\", \"22\", \"25\", \"26\", \"28\", \"29\", \"30\", \"31\", \"32\", \"33\", \"35\", \"36\", \"39\"], \"mode\": \"markers\", \"name\": \"accuracy\", \"stepped\": false, \"type\": \"scatter\", \"data\": [0.9840330104054539, 0.9599928238249014, 0.9773950484391819, 0.9583781844277, 0.9804449228561177, 0.9770362396842482, 0.9712952996053104, 0.9515608180839612, 0.9752421959095803, 0.9750627915321134, 0.9825977753857194, 0.9818801578758523, 0.9779332615715823, 0.9852888410477216, 0.9691424470757086, 0.9854682454251884, 0.986724076067456, 0.9657337639038392, 0.8656261212773592, 0.986724076067456, 0.9879799067097237]}, {\"categories\": [\"0\", \"2\", \"4\", \"5\", \"9\", \"13\", \"16\", \"18\", \"21\", \"22\", \"25\", \"26\", \"28\", \"29\", \"30\", \"31\", \"32\", \"33\", \"35\", \"36\", \"39\"], \"mode\": \"lines\", \"name\": \"accuracy_max\", \"stepped\": true, \"type\": \"scatter\", \"data\": [0.9840330104054539, 0.9840330104054539, 0.9840330104054539, 0.9840330104054539, 0.9840330104054539, 0.9840330104054539, 0.9840330104054539, 0.9840330104054539, 0.9840330104054539, 0.9840330104054539, 0.9840330104054539, 0.9840330104054539, 0.9840330104054539, 0.9852888410477216, 0.9852888410477216, 0.9854682454251884, 0.986724076067456, 0.986724076067456, 0.986724076067456, 0.986724076067456, 0.9879799067097237]}], \"AUC_weighted\": [{\"categories\": [\"0\", \"2\", \"4\", \"5\", \"9\", \"13\", \"16\", \"18\", \"21\", \"22\", \"25\", \"26\", \"28\", \"29\", \"30\", \"31\", \"32\", \"33\", \"35\", \"36\", \"39\"], \"mode\": \"markers\", \"name\": \"AUC_weighted\", \"stepped\": false, \"type\": \"scatter\", \"data\": [0.99026514396537, 0.9721181224975186, 0.981476057329415, 0.9759224978690125, 0.9801219943861267, 0.982935095645644, 0.9824601622045843, 0.9705765406400153, 0.9761632984355608, 0.9952117444472104, 0.9914989738322559, 0.9847577829897556, 0.9835472169361003, 0.9920252083304842, 0.9960854319187817, 0.9941382379419983, 0.9941247193386735, 0.9804725971377677, 0.9503686701271647, 0.9931194387871285, 0.9938788405432769]}, {\"categories\": [\"0\", \"2\", \"4\", \"5\", \"9\", \"13\", \"16\", \"18\", \"21\", \"22\", \"25\", \"26\", \"28\", \"29\", \"30\", \"31\", \"32\", \"33\", \"35\", \"36\", \"39\"], \"mode\": \"lines\", \"name\": \"AUC_weighted_max\", \"stepped\": true, \"type\": \"scatter\", \"data\": [0.99026514396537, 0.99026514396537, 0.99026514396537, 0.99026514396537, 0.99026514396537, 0.99026514396537, 0.99026514396537, 0.99026514396537, 0.99026514396537, 0.9952117444472104, 0.9952117444472104, 0.9952117444472104, 0.9952117444472104, 0.9952117444472104, 0.9960854319187817, 0.9960854319187817, 0.9960854319187817, 0.9960854319187817, 0.9960854319187817, 0.9960854319187817, 0.9960854319187817]}], \"recall_score_micro\": [{\"categories\": [\"0\", \"2\", \"4\", \"5\", \"9\", \"13\", \"16\", \"18\", \"21\", \"22\", \"25\", \"26\", \"28\", \"29\", \"30\", \"31\", \"32\", \"33\", \"35\", \"36\", \"39\"], \"mode\": \"markers\", \"name\": \"recall_score_micro\", \"stepped\": false, \"type\": \"scatter\", \"data\": [0.9840330104054539, 0.9599928238249014, 0.9773950484391819, 0.9583781844277, 0.9804449228561177, 0.9770362396842482, 0.9712952996053104, 0.9515608180839612, 0.9752421959095803, 0.9750627915321134, 0.9825977753857194, 0.9818801578758523, 0.9779332615715823, 0.9852888410477216, 0.9691424470757086, 0.9854682454251884, 0.986724076067456, 0.9657337639038392, 0.8656261212773592, 0.986724076067456, 0.9879799067097237]}, {\"categories\": [\"0\", \"2\", \"4\", \"5\", \"9\", \"13\", \"16\", \"18\", \"21\", \"22\", \"25\", \"26\", \"28\", \"29\", \"30\", \"31\", \"32\", \"33\", \"35\", \"36\", \"39\"], \"mode\": \"lines\", \"name\": \"recall_score_micro_max\", \"stepped\": true, \"type\": \"scatter\", \"data\": [0.9840330104054539, 0.9840330104054539, 0.9840330104054539, 0.9840330104054539, 0.9840330104054539, 0.9840330104054539, 0.9840330104054539, 0.9840330104054539, 0.9840330104054539, 0.9840330104054539, 0.9840330104054539, 0.9840330104054539, 0.9840330104054539, 0.9852888410477216, 0.9852888410477216, 0.9854682454251884, 0.986724076067456, 0.986724076067456, 0.986724076067456, 0.986724076067456, 0.9879799067097237]}], \"precision_score_micro\": [{\"categories\": [\"0\", \"2\", \"4\", \"5\", \"9\", \"13\", \"16\", \"18\", \"21\", \"22\", \"25\", \"26\", \"28\", \"29\", \"30\", \"31\", \"32\", \"33\", \"35\", \"36\", \"39\"], \"mode\": \"markers\", \"name\": \"precision_score_micro\", \"stepped\": false, \"type\": \"scatter\", \"data\": [0.9840330104054539, 0.9599928238249014, 0.9773950484391819, 0.9583781844277, 0.9804449228561177, 0.9770362396842482, 0.9712952996053104, 0.9515608180839612, 0.9752421959095803, 0.9750627915321134, 0.9825977753857194, 0.9818801578758523, 0.9779332615715823, 0.9852888410477216, 0.9691424470757086, 0.9854682454251884, 0.986724076067456, 0.9657337639038392, 0.8656261212773592, 0.986724076067456, 0.9879799067097237]}, {\"categories\": [\"0\", \"2\", \"4\", \"5\", \"9\", \"13\", \"16\", \"18\", \"21\", \"22\", \"25\", \"26\", \"28\", \"29\", \"30\", \"31\", \"32\", \"33\", \"35\", \"36\", \"39\"], \"mode\": \"lines\", \"name\": \"precision_score_micro_max\", \"stepped\": true, \"type\": \"scatter\", \"data\": [0.9840330104054539, 0.9840330104054539, 0.9840330104054539, 0.9840330104054539, 0.9840330104054539, 0.9840330104054539, 0.9840330104054539, 0.9840330104054539, 0.9840330104054539, 0.9840330104054539, 0.9840330104054539, 0.9840330104054539, 0.9840330104054539, 0.9852888410477216, 0.9852888410477216, 0.9854682454251884, 0.986724076067456, 0.986724076067456, 0.986724076067456, 0.986724076067456, 0.9879799067097237]}], \"average_precision_score_weighted\": [{\"categories\": [\"0\", \"2\", \"4\", \"5\", \"9\", \"13\", \"16\", \"18\", \"21\", \"22\", \"25\", \"26\", \"28\", \"29\", \"30\", \"31\", \"32\", \"33\", \"35\", \"36\", \"39\"], \"mode\": \"markers\", \"name\": \"average_precision_score_weighted\", \"stepped\": false, \"type\": \"scatter\", \"data\": [0.9951378213146298, 0.9842223140092157, 0.9909147777669692, 0.9876186871132364, 0.9901255077830555, 0.9909880371352318, 0.9909551951689586, 0.9840640715943109, 0.9873364484372614, 0.9974604396713813, 0.9956961036268571, 0.9927355693273237, 0.9918643579546395, 0.9959261379955666, 0.997777953064797, 0.9970255447457463, 0.9970551064713868, 0.98970661233059, 0.9621041907807033, 0.9962033173952844, 0.9967764838390141]}, {\"categories\": [\"0\", \"2\", \"4\", \"5\", \"9\", \"13\", \"16\", \"18\", \"21\", \"22\", \"25\", \"26\", \"28\", \"29\", \"30\", \"31\", \"32\", \"33\", \"35\", \"36\", \"39\"], \"mode\": \"lines\", \"name\": \"average_precision_score_weighted_max\", \"stepped\": true, \"type\": \"scatter\", \"data\": [0.9951378213146298, 0.9951378213146298, 0.9951378213146298, 0.9951378213146298, 0.9951378213146298, 0.9951378213146298, 0.9951378213146298, 0.9951378213146298, 0.9951378213146298, 0.9974604396713813, 0.9974604396713813, 0.9974604396713813, 0.9974604396713813, 0.9974604396713813, 0.997777953064797, 0.997777953064797, 0.997777953064797, 0.997777953064797, 0.997777953064797, 0.997777953064797, 0.997777953064797]}], \"f1_score_weighted\": [{\"categories\": [\"0\", \"2\", \"4\", \"5\", \"9\", \"13\", \"16\", \"18\", \"21\", \"22\", \"25\", \"26\", \"28\", \"29\", \"30\", \"31\", \"32\", \"33\", \"35\", \"36\", \"39\"], \"mode\": \"markers\", \"name\": \"f1_score_weighted\", \"stepped\": false, \"type\": \"scatter\", \"data\": [0.983444875070018, 0.9605675940402743, 0.976368457154315, 0.9549025925246061, 0.9796025472102867, 0.9760132377386967, 0.9696516928150284, 0.9524995993220153, 0.9739688768977739, 0.9738021840336151, 0.9819381334420254, 0.9811799325870403, 0.9769105980034043, 0.9847803808789687, 0.9673781234542955, 0.9849621803700535, 0.9862736841834545, 0.9634715708306922, 0.8032800742815642, 0.98632825123879, 0.9876087940526146]}, {\"categories\": [\"0\", \"2\", \"4\", \"5\", \"9\", \"13\", \"16\", \"18\", \"21\", \"22\", \"25\", \"26\", \"28\", \"29\", \"30\", \"31\", \"32\", \"33\", \"35\", \"36\", \"39\"], \"mode\": \"lines\", \"name\": \"f1_score_weighted_max\", \"stepped\": true, \"type\": \"scatter\", \"data\": [0.983444875070018, 0.983444875070018, 0.983444875070018, 0.983444875070018, 0.983444875070018, 0.983444875070018, 0.983444875070018, 0.983444875070018, 0.983444875070018, 0.983444875070018, 0.983444875070018, 0.983444875070018, 0.983444875070018, 0.9847803808789687, 0.9847803808789687, 0.9849621803700535, 0.9862736841834545, 0.9862736841834545, 0.9862736841834545, 0.98632825123879, 0.9876087940526146]}], \"AUC_micro\": [{\"categories\": [\"0\", \"2\", \"4\", \"5\", \"9\", \"13\", \"16\", \"18\", \"21\", \"22\", \"25\", \"26\", \"28\", \"29\", \"30\", \"31\", \"32\", \"33\", \"35\", \"36\", \"39\"], \"mode\": \"markers\", \"name\": \"AUC_micro\", \"stepped\": false, \"type\": \"scatter\", \"data\": [0.9986416035253808, 0.9923246640314543, 0.9975935759800605, 0.9955912463194853, 0.9974251148190161, 0.9973616334351223, 0.9975019104495573, 0.9956810879805849, 0.9965497433343687, 0.998739942272173, 0.998715287849292, 0.9980113493599527, 0.997880138049319, 0.9988214799631638, 0.9984976036716336, 0.9990205606729039, 0.9990633250460998, 0.9972309263707355, 0.989890849784528, 0.9989463613741023, 0.9989869585613008]}, {\"categories\": [\"0\", \"2\", \"4\", \"5\", \"9\", \"13\", \"16\", \"18\", \"21\", \"22\", \"25\", \"26\", \"28\", \"29\", \"30\", \"31\", \"32\", \"33\", \"35\", \"36\", \"39\"], \"mode\": \"lines\", \"name\": \"AUC_micro_max\", \"stepped\": true, \"type\": \"scatter\", \"data\": [0.9986416035253808, 0.9986416035253808, 0.9986416035253808, 0.9986416035253808, 0.9986416035253808, 0.9986416035253808, 0.9986416035253808, 0.9986416035253808, 0.9986416035253808, 0.998739942272173, 0.998739942272173, 0.998739942272173, 0.998739942272173, 0.9988214799631638, 0.9988214799631638, 0.9990205606729039, 0.9990633250460998, 0.9990633250460998, 0.9990633250460998, 0.9990633250460998, 0.9990633250460998]}], \"precision_score_macro\": [{\"categories\": [\"0\", \"2\", \"4\", \"5\", \"9\", \"13\", \"16\", \"18\", \"21\", \"22\", \"25\", \"26\", \"28\", \"29\", \"30\", \"31\", \"32\", \"33\", \"35\", \"36\", \"39\"], \"mode\": \"markers\", \"name\": \"precision_score_macro\", \"stepped\": false, \"type\": \"scatter\", \"data\": [0.6593551853239622, 0.6075790502601766, 0.65633086001378, 0.6513788238312063, 0.65882879315212, 0.6557061022568116, 0.6554419692110693, 0.5893228470730723, 0.6549946835602334, 0.6573371124590209, 0.6592539794433072, 0.6576574499363472, 0.6566227532062374, 0.6602660759518022, 0.5732974946596303, 0.6603434161168626, 0.6608237756796416, 0.6524936608915684, 0.2885420404257864, 0.6583696205448079, 0.6597012677998131]}, {\"categories\": [\"0\", \"2\", \"4\", \"5\", \"9\", \"13\", \"16\", \"18\", \"21\", \"22\", \"25\", \"26\", \"28\", \"29\", \"30\", \"31\", \"32\", \"33\", \"35\", \"36\", \"39\"], \"mode\": \"lines\", \"name\": \"precision_score_macro_max\", \"stepped\": true, \"type\": \"scatter\", \"data\": [0.6593551853239622, 0.6593551853239622, 0.6593551853239622, 0.6593551853239622, 0.6593551853239622, 0.6593551853239622, 0.6593551853239622, 0.6593551853239622, 0.6593551853239622, 0.6593551853239622, 0.6593551853239622, 0.6593551853239622, 0.6593551853239622, 0.6602660759518022, 0.6602660759518022, 0.6603434161168626, 0.6608237756796416, 0.6608237756796416, 0.6608237756796416, 0.6608237756796416, 0.6608237756796416]}], \"average_precision_score_macro\": [{\"categories\": [\"0\", \"2\", \"4\", \"5\", \"9\", \"13\", \"16\", \"18\", \"21\", \"22\", \"25\", \"26\", \"28\", \"29\", \"30\", \"31\", \"32\", \"33\", \"35\", \"36\", \"39\"], \"mode\": \"markers\", \"name\": \"average_precision_score_macro\", \"stepped\": false, \"type\": \"scatter\", \"data\": [0.6591151455790679, 0.6409182665179362, 0.6533155082167523, 0.6492452172832036, 0.6521368348443775, 0.6531196151621006, 0.652080752780982, 0.6397245953633475, 0.6481140591255883, 0.6635783318181909, 0.6608863782602461, 0.6558638199702307, 0.6540170545371633, 0.6610456203739219, 0.6636010990308381, 0.6625935010982832, 0.6627028618566801, 0.6496358235227755, 0.5961741149273202, 0.6606295893181767, 0.6619634418564038]}, {\"categories\": [\"0\", \"2\", \"4\", \"5\", \"9\", \"13\", \"16\", \"18\", \"21\", \"22\", \"25\", \"26\", \"28\", \"29\", \"30\", \"31\", \"32\", \"33\", \"35\", \"36\", \"39\"], \"mode\": \"lines\", \"name\": \"average_precision_score_macro_max\", \"stepped\": true, \"type\": \"scatter\", \"data\": [0.6591151455790679, 0.6591151455790679, 0.6591151455790679, 0.6591151455790679, 0.6591151455790679, 0.6591151455790679, 0.6591151455790679, 0.6591151455790679, 0.6591151455790679, 0.6635783318181909, 0.6635783318181909, 0.6635783318181909, 0.6635783318181909, 0.6635783318181909, 0.6636010990308381, 0.6636010990308381, 0.6636010990308381, 0.6636010990308381, 0.6636010990308381, 0.6636010990308381, 0.6636010990308381]}], \"f1_score_micro\": [{\"categories\": [\"0\", \"2\", \"4\", \"5\", \"9\", \"13\", \"16\", \"18\", \"21\", \"22\", \"25\", \"26\", \"28\", \"29\", \"30\", \"31\", \"32\", \"33\", \"35\", \"36\", \"39\"], \"mode\": \"markers\", \"name\": \"f1_score_micro\", \"stepped\": false, \"type\": \"scatter\", \"data\": [0.9840330104054539, 0.9599928238249014, 0.9773950484391819, 0.9583781844277, 0.9804449228561177, 0.9770362396842482, 0.9712952996053104, 0.9515608180839612, 0.9752421959095803, 0.9750627915321134, 0.9825977753857194, 0.9818801578758523, 0.9779332615715823, 0.9852888410477216, 0.9691424470757086, 0.9854682454251884, 0.986724076067456, 0.9657337639038392, 0.8656261212773593, 0.986724076067456, 0.9879799067097237]}, {\"categories\": [\"0\", \"2\", \"4\", \"5\", \"9\", \"13\", \"16\", \"18\", \"21\", \"22\", \"25\", \"26\", \"28\", \"29\", \"30\", \"31\", \"32\", \"33\", \"35\", \"36\", \"39\"], \"mode\": \"lines\", \"name\": \"f1_score_micro_max\", \"stepped\": true, \"type\": \"scatter\", \"data\": [0.9840330104054539, 0.9840330104054539, 0.9840330104054539, 0.9840330104054539, 0.9840330104054539, 0.9840330104054539, 0.9840330104054539, 0.9840330104054539, 0.9840330104054539, 0.9840330104054539, 0.9840330104054539, 0.9840330104054539, 0.9840330104054539, 0.9852888410477216, 0.9852888410477216, 0.9854682454251884, 0.986724076067456, 0.986724076067456, 0.986724076067456, 0.986724076067456, 0.9879799067097237]}], \"average_precision_score_micro\": [{\"categories\": [\"0\", \"2\", \"4\", \"5\", \"9\", \"13\", \"16\", \"18\", \"21\", \"22\", \"25\", \"26\", \"28\", \"29\", \"30\", \"31\", \"32\", \"33\", \"35\", \"36\", \"39\"], \"mode\": \"markers\", \"name\": \"average_precision_score_micro\", \"stepped\": false, \"type\": \"scatter\", \"data\": [0.9963891877680132, 0.9735544312684398, 0.9924767754165934, 0.9852292796633347, 0.9921365630380656, 0.9922521465826437, 0.9925147606843148, 0.9868881581131986, 0.988917869939412, 0.9965480939228383, 0.996346831374016, 0.9944501771916692, 0.9939529692575585, 0.9968123738998831, 0.9960890298623335, 0.9975066958577192, 0.9976616309016808, 0.9917169488806049, 0.9683562002712711, 0.9973760492208332, 0.997237013286955]}, {\"categories\": [\"0\", \"2\", \"4\", \"5\", \"9\", \"13\", \"16\", \"18\", \"21\", \"22\", \"25\", \"26\", \"28\", \"29\", \"30\", \"31\", \"32\", \"33\", \"35\", \"36\", \"39\"], \"mode\": \"lines\", \"name\": \"average_precision_score_micro_max\", \"stepped\": true, \"type\": \"scatter\", \"data\": [0.9963891877680132, 0.9963891877680132, 0.9963891877680132, 0.9963891877680132, 0.9963891877680132, 0.9963891877680132, 0.9963891877680132, 0.9963891877680132, 0.9963891877680132, 0.9965480939228383, 0.9965480939228383, 0.9965480939228383, 0.9965480939228383, 0.9968123738998831, 0.9968123738998831, 0.9975066958577192, 0.9976616309016808, 0.9976616309016808, 0.9976616309016808, 0.9976616309016808, 0.9976616309016808]}]}, \"metricName\": null, \"primaryMetricName\": \"accuracy\", \"showLegend\": false}, \"run_metrics\": [{\"name\": \"experiment_status\", \"run_id\": \"AutoML_39e48925-bae5-4099-b09d-e950f0036c93\", \"categories\": [0, 1, 2, 3, 4, 5, 6, 7, 8, 9, 10, 11, 12, 13, 14], \"series\": [{\"data\": [\"DatasetEvaluation\", \"FeaturesGeneration\", \"DatasetFeaturization\", \"DatasetFeaturizationCompleted\", \"DatasetBalancing\", \"DatasetCrossValidationSplit\", \"ModelSelection\", \"BestRunExplainModel\", \"ModelExplanationDataSetSetup\", \"PickSurrogateModel\", \"EngineeredFeatureExplanations\", \"EngineeredFeatureExplanations\", \"RawFeaturesExplanations\", \"RawFeaturesExplanations\", \"BestRunExplainModel\"]}]}, {\"name\": \"experiment_status_description\", \"run_id\": \"AutoML_39e48925-bae5-4099-b09d-e950f0036c93\", \"categories\": [0, 1, 2, 3, 4, 5, 6, 7, 8, 9, 10, 11, 12, 13, 14], \"series\": [{\"data\": [\"Gathering dataset statistics.\", \"Generating features for the dataset.\", \"Beginning to fit featurizers and featurize the dataset.\", \"Completed fit featurizers and featurizing the dataset.\", \"Performing class balancing sweeping\", \"Generating individually featurized CV splits.\", \"Beginning model selection.\", \"Best run model explanations started\", \"Model explanations data setup completed\", \"Choosing LightGBM as the surrogate model for explanations\", \"Computation of engineered features started\", \"Computation of engineered features completed\", \"Computation of raw features started\", \"Computation of raw features completed\", \"Best run model explanations completed\"]}]}, {\"name\": \"weighted_accuracy\", \"run_id\": \"AutoML_39e48925-bae5-4099-b09d-e950f0036c93\", \"categories\": [0], \"series\": [{\"data\": [0.9969439478288387]}]}, {\"name\": \"f1_score_weighted\", \"run_id\": \"AutoML_39e48925-bae5-4099-b09d-e950f0036c93\", \"categories\": [0], \"series\": [{\"data\": [0.9876087940526146]}]}, {\"name\": \"average_precision_score_weighted\", \"run_id\": \"AutoML_39e48925-bae5-4099-b09d-e950f0036c93\", \"categories\": [0], \"series\": [{\"data\": [0.9967764838390141]}]}, {\"name\": \"recall_score_micro\", \"run_id\": \"AutoML_39e48925-bae5-4099-b09d-e950f0036c93\", \"categories\": [0], \"series\": [{\"data\": [0.9879799067097237]}]}, {\"name\": \"precision_score_weighted\", \"run_id\": \"AutoML_39e48925-bae5-4099-b09d-e950f0036c93\", \"categories\": [0], \"series\": [{\"data\": [0.9876886557153359]}]}, {\"name\": \"f1_score_micro\", \"run_id\": \"AutoML_39e48925-bae5-4099-b09d-e950f0036c93\", \"categories\": [0], \"series\": [{\"data\": [0.9879799067097237]}]}, {\"name\": \"AUC_micro\", \"run_id\": \"AutoML_39e48925-bae5-4099-b09d-e950f0036c93\", \"categories\": [0], \"series\": [{\"data\": [0.9989869585613008]}]}, {\"name\": \"recall_score_macro\", \"run_id\": \"AutoML_39e48925-bae5-4099-b09d-e950f0036c93\", \"categories\": [0], \"series\": [{\"data\": [0.6398149182009907]}]}, {\"name\": \"precision_score_micro\", \"run_id\": \"AutoML_39e48925-bae5-4099-b09d-e950f0036c93\", \"categories\": [0], \"series\": [{\"data\": [0.9879799067097237]}]}, {\"name\": \"f1_score_macro\", \"run_id\": \"AutoML_39e48925-bae5-4099-b09d-e950f0036c93\", \"categories\": [0], \"series\": [{\"data\": [0.6492553368057341]}]}, {\"name\": \"accuracy\", \"run_id\": \"AutoML_39e48925-bae5-4099-b09d-e950f0036c93\", \"categories\": [0], \"series\": [{\"data\": [0.9879799067097237]}]}, {\"name\": \"average_precision_score_micro\", \"run_id\": \"AutoML_39e48925-bae5-4099-b09d-e950f0036c93\", \"categories\": [0], \"series\": [{\"data\": [0.997237013286955]}]}, {\"name\": \"balanced_accuracy\", \"run_id\": \"AutoML_39e48925-bae5-4099-b09d-e950f0036c93\", \"categories\": [0], \"series\": [{\"data\": [0.6398149182009907]}]}, {\"name\": \"precision_score_macro\", \"run_id\": \"AutoML_39e48925-bae5-4099-b09d-e950f0036c93\", \"categories\": [0], \"series\": [{\"data\": [0.6597012677998131]}]}, {\"name\": \"matthews_correlation\", \"run_id\": \"AutoML_39e48925-bae5-4099-b09d-e950f0036c93\", \"categories\": [0], \"series\": [{\"data\": [0.9474790732094922]}]}, {\"name\": \"norm_macro_recall\", \"run_id\": \"AutoML_39e48925-bae5-4099-b09d-e950f0036c93\", \"categories\": [0], \"series\": [{\"data\": [0.45972237730148613]}]}, {\"name\": \"recall_score_weighted\", \"run_id\": \"AutoML_39e48925-bae5-4099-b09d-e950f0036c93\", \"categories\": [0], \"series\": [{\"data\": [0.9879799067097237]}]}, {\"name\": \"average_precision_score_macro\", \"run_id\": \"AutoML_39e48925-bae5-4099-b09d-e950f0036c93\", \"categories\": [0], \"series\": [{\"data\": [0.6619634418564038]}]}, {\"name\": \"AUC_macro\", \"run_id\": \"AutoML_39e48925-bae5-4099-b09d-e950f0036c93\", \"categories\": [0], \"series\": [{\"data\": [0.8296948996035933]}]}, {\"name\": \"AUC_weighted\", \"run_id\": \"AutoML_39e48925-bae5-4099-b09d-e950f0036c93\", \"categories\": [0], \"series\": [{\"data\": [0.9938788405432769]}]}, {\"name\": \"log_loss\", \"run_id\": \"AutoML_39e48925-bae5-4099-b09d-e950f0036c93\", \"categories\": [0], \"series\": [{\"data\": [0.060339494012040806]}]}], \"run_logs\": \"\\nRun is completed.\", \"graph\": {}, \"widget_settings\": {\"childWidgetDisplay\": \"popup\", \"send_telemetry\": false, \"log_level\": \"INFO\", \"sdk_version\": \"1.44.0\"}, \"loading\": false}"
          },
          "metadata": {}
        }
      ],
      "execution_count": 9,
      "metadata": {
        "gather": {
          "logged": 1664173992257
        },
        "jupyter": {
          "outputs_hidden": false,
          "source_hidden": false
        },
        "nteract": {
          "transient": {
            "deleting": false
          }
        }
      }
    },
    {
      "cell_type": "code",
      "source": [
        "remote_run.wait_for_completion()"
      ],
      "outputs": [
        {
          "output_type": "execute_result",
          "execution_count": 10,
          "data": {
            "text/plain": "{'runId': 'AutoML_39e48925-bae5-4099-b09d-e950f0036c93',\n 'target': 'capstone-compute-cluster',\n 'status': 'Completed',\n 'startTimeUtc': '2022-09-26T06:32:38.09341Z',\n 'endTimeUtc': '2022-09-26T06:52:00.06843Z',\n 'services': {},\n 'warnings': [{'source': 'JasmineService',\n   'message': 'No scores improved over last 10 iterations, so experiment stopped early. This early stopping behavior can be disabled by setting enable_early_stopping = False in AutoMLConfig for notebook/python SDK runs.'}],\n 'properties': {'num_iterations': '1000',\n  'training_type': 'TrainFull',\n  'acquisition_function': 'EI',\n  'primary_metric': 'accuracy',\n  'train_split': '0',\n  'acquisition_parameter': '0',\n  'num_cross_validation': '2',\n  'target': 'capstone-compute-cluster',\n  'AMLSettingsJsonString': '{\"path\":null,\"name\":\"capstone-spam-classification-experiment\",\"subscription_id\":\"d4ad7261-832d-46b2-b093-22156001df5b\",\"resource_group\":\"aml-quickstarts-208897\",\"workspace_name\":\"quick-starts-ws-208897\",\"region\":\"southcentralus\",\"compute_target\":\"capstone-compute-cluster\",\"spark_service\":null,\"azure_service\":\"remote\",\"many_models\":false,\"pipeline_fetch_max_batch_size\":1,\"enable_batch_run\":true,\"enable_run_restructure\":false,\"start_auxiliary_runs_before_parent_complete\":false,\"enable_code_generation\":true,\"iterations\":1000,\"primary_metric\":\"accuracy\",\"task_type\":\"classification\",\"positive_label\":null,\"data_script\":null,\"test_size\":0.0,\"test_include_predictions_only\":false,\"validation_size\":0.0,\"n_cross_validations\":2,\"y_min\":null,\"y_max\":null,\"num_classes\":null,\"featurization\":\"auto\",\"_ignore_package_version_incompatibilities\":false,\"is_timeseries\":false,\"max_cores_per_iteration\":1,\"max_concurrent_iterations\":5,\"iteration_timeout_minutes\":null,\"mem_in_mb\":null,\"enforce_time_on_windows\":false,\"experiment_timeout_minutes\":15,\"experiment_exit_score\":null,\"partition_column_names\":null,\"whitelist_models\":null,\"blacklist_algos\":[\"TensorFlowLinearClassifier\",\"TensorFlowDNN\"],\"supported_models\":[\"ExtremeRandomTrees\",\"MultinomialNaiveBayes\",\"SVM\",\"KNN\",\"LogisticRegression\",\"SGD\",\"BernoulliNaiveBayes\",\"TensorFlowLinearClassifier\",\"LightGBM\",\"AveragedPerceptronClassifier\",\"TabnetClassifier\",\"DecisionTree\",\"RandomForest\",\"TensorFlowDNN\",\"XGBoostClassifier\",\"GradientBoosting\",\"LinearSVM\"],\"private_models\":[],\"auto_blacklist\":true,\"blacklist_samples_reached\":false,\"exclude_nan_labels\":true,\"verbosity\":20,\"_debug_log\":\"azureml_automl.log\",\"show_warnings\":false,\"model_explainability\":true,\"service_url\":null,\"sdk_url\":null,\"sdk_packages\":null,\"enable_onnx_compatible_models\":false,\"enable_split_onnx_featurizer_estimator_models\":false,\"vm_type\":\"STANDARD_D2_V2\",\"telemetry_verbosity\":20,\"send_telemetry\":true,\"enable_dnn\":false,\"scenario\":\"AutoML\",\"environment_label\":null,\"save_mlflow\":false,\"enable_categorical_indicators\":false,\"force_text_dnn\":false,\"enable_feature_sweeping\":true,\"enable_early_stopping\":true,\"early_stopping_n_iters\":10,\"arguments\":null,\"dataset_id\":\"bf22fd68-4f43-4a95-a0c7-63c91e293b65\",\"hyperdrive_config\":null,\"validation_dataset_id\":null,\"run_source\":null,\"metrics\":null,\"enable_metric_confidence\":false,\"enable_ensembling\":true,\"enable_stack_ensembling\":true,\"ensemble_iterations\":15,\"enable_tf\":false,\"enable_subsampling\":null,\"subsample_seed\":null,\"enable_nimbusml\":false,\"enable_streaming\":false,\"force_streaming\":false,\"track_child_runs\":true,\"allowed_private_models\":[],\"label_column_name\":\"Category\",\"weight_column_name\":null,\"cv_split_column_names\":null,\"enable_local_managed\":false,\"_local_managed_run_id\":null,\"cost_mode\":1,\"lag_length\":0,\"metric_operation\":\"maximize\",\"preprocess\":true}',\n  'DataPrepJsonString': '{\\\\\"training_data\\\\\": {\\\\\"datasetId\\\\\": \\\\\"bf22fd68-4f43-4a95-a0c7-63c91e293b65\\\\\"}, \\\\\"datasets\\\\\": 0}',\n  'EnableSubsampling': None,\n  'runTemplate': 'AutoML',\n  'azureml.runsource': 'automl',\n  'display_task_type': 'classification',\n  'dependencies_versions': '{\"azureml-widgets\": \"1.44.0\", \"azureml-training-tabular\": \"1.44.0\", \"azureml-train\": \"1.44.0\", \"azureml-train-restclients-hyperdrive\": \"1.44.0\", \"azureml-train-core\": \"1.44.0\", \"azureml-train-automl\": \"1.44.0\", \"azureml-train-automl-runtime\": \"1.44.0\", \"azureml-train-automl-client\": \"1.44.0\", \"azureml-tensorboard\": \"1.44.0\", \"azureml-telemetry\": \"1.44.0\", \"azureml-sdk\": \"1.44.0\", \"azureml-samples\": \"0+unknown\", \"azureml-responsibleai\": \"1.44.0\", \"azureml-pipeline\": \"1.44.0\", \"azureml-pipeline-steps\": \"1.44.0\", \"azureml-pipeline-core\": \"1.44.0\", \"azureml-opendatasets\": \"1.44.0\", \"azureml-mlflow\": \"1.44.0\", \"azureml-interpret\": \"1.44.0\", \"azureml-inference-server-http\": \"0.7.4\", \"azureml-explain-model\": \"1.44.0\", \"azureml-defaults\": \"1.44.0\", \"azureml-dataset-runtime\": \"1.44.0\", \"azureml-dataprep\": \"4.2.2\", \"azureml-dataprep-rslex\": \"2.8.1\", \"azureml-dataprep-native\": \"38.0.0\", \"azureml-datadrift\": \"1.44.0\", \"azureml-core\": \"1.44.0\", \"azureml-contrib-services\": \"1.44.0\", \"azureml-contrib-server\": \"1.44.0\", \"azureml-contrib-reinforcementlearning\": \"1.44.0\", \"azureml-contrib-pipeline-steps\": \"1.44.0\", \"azureml-contrib-notebook\": \"1.44.0\", \"azureml-contrib-fairness\": \"1.44.0\", \"azureml-contrib-dataset\": \"1.44.0\", \"azureml-contrib-automl-pipeline-steps\": \"1.44.0\", \"azureml-cli-common\": \"1.44.0\", \"azureml-automl-runtime\": \"1.44.0\", \"azureml-automl-dnn-nlp\": \"1.44.0\", \"azureml-automl-core\": \"1.44.0\", \"azureml-accel-models\": \"1.44.0\"}',\n  '_aml_system_scenario_identification': 'Remote.Parent',\n  'ClientType': 'SDK',\n  'environment_cpu_name': 'AzureML-AutoML',\n  'environment_cpu_label': 'prod',\n  'environment_gpu_name': 'AzureML-AutoML-GPU',\n  'environment_gpu_label': 'prod',\n  'root_attribution': 'automl',\n  'attribution': 'AutoML',\n  'Orchestrator': 'AutoML',\n  'CancelUri': 'https://southcentralus.api.azureml.ms/jasmine/v1.0/subscriptions/d4ad7261-832d-46b2-b093-22156001df5b/resourceGroups/aml-quickstarts-208897/providers/Microsoft.MachineLearningServices/workspaces/quick-starts-ws-208897/experimentids/0e03adb9-d0fa-4e56-9526-3f60ade5daf5/cancel/AutoML_39e48925-bae5-4099-b09d-e950f0036c93',\n  'ClientSdkVersion': '1.45.0',\n  'snapshotId': '00000000-0000-0000-0000-000000000000',\n  'SetupRunId': 'AutoML_39e48925-bae5-4099-b09d-e950f0036c93_setup',\n  'SetupRunContainerId': 'dcid.AutoML_39e48925-bae5-4099-b09d-e950f0036c93_setup',\n  'FeaturizationRunJsonPath': 'featurizer_container.json',\n  'FeaturizationRunId': 'AutoML_39e48925-bae5-4099-b09d-e950f0036c93_featurize',\n  'ProblemInfoJsonString': '{\"dataset_num_categorical\": 0, \"is_sparse\": true, \"subsampling\": false, \"has_extra_col\": true, \"dataset_classes\": 4, \"dataset_features\": 64518, \"dataset_samples\": 5574, \"single_frequency_class_detected\": true}',\n  'ModelExplainRunId': 'AutoML_39e48925-bae5-4099-b09d-e950f0036c93_ModelExplain'},\n 'inputDatasets': [{'dataset': {'id': 'bf22fd68-4f43-4a95-a0c7-63c91e293b65'}, 'consumptionDetails': {'type': 'RunInput', 'inputName': 'training_data', 'mechanism': 'Direct'}}],\n 'outputDatasets': [],\n 'logFiles': {},\n 'submittedBy': 'ODL_User 208897'}"
          },
          "metadata": {}
        }
      ],
      "execution_count": 10,
      "metadata": {
        "gather": {
          "logged": 1664175125474
        },
        "jupyter": {
          "outputs_hidden": false,
          "source_hidden": false
        },
        "nteract": {
          "transient": {
            "deleting": false
          }
        }
      }
    },
    {
      "cell_type": "markdown",
      "source": [
        "### Get the best model and display its properties"
      ],
      "metadata": {}
    },
    {
      "cell_type": "code",
      "source": [
        "best_run, fitted_model = remote_run.get_output()\n",
        "\n",
        "# Get best_run metrics\n",
        "best_run_metrics = best_run.get_metrics()\n",
        "for name, value in best_run_metrics.items():\n",
        "    print(f\"{name}: {value}\")"
      ],
      "outputs": [
        {
          "output_type": "stream",
          "name": "stderr",
          "text": "WARNING:root:The version of the SDK does not match the version the model was trained on.\nWARNING:root:The consistency in the result may not be guaranteed.\nWARNING:root:Package:azureml-automl-core, training version:1.45.0, current version:1.44.0\nPackage:azureml-automl-runtime, training version:1.45.0, current version:1.44.0\nPackage:azureml-core, training version:1.45.0, current version:1.44.0\nPackage:azureml-dataset-runtime, training version:1.45.0, current version:1.44.0\nPackage:azureml-defaults, training version:1.45.0, current version:1.44.0\nPackage:azureml-interpret, training version:1.45.0, current version:1.44.0\nPackage:azureml-mlflow, training version:1.45.0, current version:1.44.0\nPackage:azureml-pipeline-core, training version:1.45.0, current version:1.44.0\nPackage:azureml-responsibleai, training version:1.45.0, current version:1.44.0\nPackage:azureml-telemetry, training version:1.45.0, current version:1.44.0\nPackage:azureml-train-automl-client, training version:1.45.0, current version:1.44.0\nPackage:azureml-train-automl-runtime, training version:1.45.0, current version:1.44.0\nPackage:azureml-train-core, training version:1.45.0, current version:1.44.0\nPackage:azureml-train-restclients-hyperdrive, training version:1.45.0, current version:1.44.0\nPackage:azureml-training-tabular, training version:1.45.0, current version:1.44.0\nWARNING:root:Please ensure the version of your local conda dependencies match the version on which your model was trained in order to properly retrieve your model.\n"
        },
        {
          "output_type": "stream",
          "name": "stdout",
          "text": "log_loss: 0.060339494012040806\nmatthews_correlation: 0.9474790732094922\nprecision_score_macro: 0.6597012677998131\nAUC_weighted: 0.9938788405432769\nf1_score_micro: 0.9879799067097237\nprecision_score_micro: 0.9879799067097237\nAUC_micro: 0.9989869585613008\nbalanced_accuracy: 0.6398149182009907\naverage_precision_score_micro: 0.997237013286955\nAUC_macro: 0.8296948996035933\nnorm_macro_recall: 0.45972237730148613\nrecall_score_weighted: 0.9879799067097237\nrecall_score_macro: 0.6398149182009907\naccuracy: 0.9879799067097237\nf1_score_weighted: 0.9876087940526146\naverage_precision_score_weighted: 0.9967764838390141\nweighted_accuracy: 0.9969439478288387\nprecision_score_weighted: 0.9876886557153359\nf1_score_macro: 0.6492553368057341\nrecall_score_micro: 0.9879799067097237\naverage_precision_score_macro: 0.6619634418564038\naccuracy_table: aml://artifactId/ExperimentRun/dcid.AutoML_39e48925-bae5-4099-b09d-e950f0036c93_39/accuracy_table\nconfusion_matrix: aml://artifactId/ExperimentRun/dcid.AutoML_39e48925-bae5-4099-b09d-e950f0036c93_39/confusion_matrix\n"
        }
      ],
      "execution_count": 11,
      "metadata": {
        "gather": {
          "logged": 1664175142767
        },
        "jupyter": {
          "outputs_hidden": false,
          "source_hidden": false
        },
        "nteract": {
          "transient": {
            "deleting": false
          }
        }
      }
    },
    {
      "cell_type": "code",
      "source": [
        "best_run.get_file_names()"
      ],
      "outputs": [
        {
          "output_type": "execute_result",
          "execution_count": 12,
          "data": {
            "text/plain": "['accuracy_table',\n 'automl_driver.py',\n 'confusion_matrix',\n 'logs/azureml/azureml_automl.log',\n 'outputs/conda_env_v_1_0_0.yml',\n 'outputs/engineered_feature_names.json',\n 'outputs/env_dependencies.json',\n 'outputs/featurization_summary.json',\n 'outputs/generated_code/conda_environment.yaml',\n 'outputs/generated_code/script.py',\n 'outputs/generated_code/script_run_notebook.ipynb',\n 'outputs/internal_cross_validated_models.pkl',\n 'outputs/model.pkl',\n 'outputs/pipeline_graph.json',\n 'outputs/run_id.txt',\n 'outputs/scoring_file_pbi_v_1_0_0.py',\n 'outputs/scoring_file_v_1_0_0.py',\n 'outputs/scoring_file_v_2_0_0.py',\n 'system_logs/cs_capability/cs-capability.log',\n 'system_logs/hosttools_capability/hosttools-capability.log',\n 'system_logs/lifecycler/execution-wrapper.log',\n 'system_logs/lifecycler/lifecycler.log',\n 'system_logs/metrics_capability/metrics-capability.log',\n 'system_logs/snapshot_capability/snapshot-capability.log',\n 'user_logs/std_log.txt']"
          },
          "metadata": {}
        }
      ],
      "execution_count": 12,
      "metadata": {
        "gather": {
          "logged": 1664175142848
        },
        "jupyter": {
          "outputs_hidden": false,
          "source_hidden": false
        },
        "nteract": {
          "transient": {
            "deleting": false
          }
        }
      }
    },
    {
      "cell_type": "markdown",
      "source": [
        "### Save the model"
      ],
      "metadata": {
        "nteract": {
          "transient": {
            "deleting": false
          }
        }
      }
    },
    {
      "cell_type": "code",
      "source": [
        "import joblib\n",
        "joblib.dump(fitted_model, 'best-automl-model.pkl')"
      ],
      "outputs": [
        {
          "output_type": "execute_result",
          "execution_count": 13,
          "data": {
            "text/plain": "['best-automl-model.pkl']"
          },
          "metadata": {}
        }
      ],
      "execution_count": 13,
      "metadata": {
        "gather": {
          "logged": 1664175146913
        },
        "jupyter": {
          "outputs_hidden": false,
          "source_hidden": false
        },
        "nteract": {
          "transient": {
            "deleting": false
          }
        }
      }
    },
    {
      "cell_type": "markdown",
      "source": [
        "### Register the best model"
      ],
      "metadata": {
        "nteract": {
          "transient": {
            "deleting": false
          }
        }
      }
    },
    {
      "cell_type": "code",
      "source": [
        "from azureml.core import Model\n",
        "model = Model.register(\n",
        "    workspace=ws, \n",
        "    model_name='best-automl-model', \n",
        "    model_path='./best-automl-model.pkl'\n",
        ")"
      ],
      "outputs": [
        {
          "output_type": "stream",
          "name": "stdout",
          "text": "Registering model best-automl-model\n"
        }
      ],
      "execution_count": 14,
      "metadata": {
        "gather": {
          "logged": 1664175147997
        },
        "jupyter": {
          "outputs_hidden": false,
          "source_hidden": false
        },
        "nteract": {
          "transient": {
            "deleting": false
          }
        }
      }
    },
    {
      "cell_type": "markdown",
      "source": [
        "# Model Deployment"
      ],
      "metadata": {}
    },
    {
      "cell_type": "markdown",
      "source": [
        "### Create an inference config"
      ],
      "metadata": {
        "nteract": {
          "transient": {
            "deleting": false
          }
        }
      }
    },
    {
      "cell_type": "code",
      "source": [
        "from azureml.core import Environment\n",
        "from azureml.core.model import InferenceConfig\n",
        "\n",
        "# Get the environment\n",
        "from azureml.automl.core.shared import constants\n",
        "\n",
        "best_run.download_file(constants.CONDA_ENV_FILE_PATH, 'conda_dependencies.yml')\n",
        "env = Environment.from_conda_specification(name='deployment-env', file_path='conda_dependencies.yml')\n",
        "\n",
        "inference_config = InferenceConfig(\n",
        "    environment=env,\n",
        "    source_directory=\".\",\n",
        "    entry_script=\"./automl_score.py\",\n",
        ")"
      ],
      "outputs": [],
      "execution_count": 15,
      "metadata": {
        "gather": {
          "logged": 1664175148242
        },
        "jupyter": {
          "outputs_hidden": false,
          "source_hidden": false
        },
        "nteract": {
          "transient": {
            "deleting": false
          }
        }
      }
    },
    {
      "cell_type": "markdown",
      "source": [
        "### Define the deployment config - we deploy on Azure Container Instance (ACI)"
      ],
      "metadata": {
        "nteract": {
          "transient": {
            "deleting": false
          }
        }
      }
    },
    {
      "cell_type": "code",
      "source": [
        "from azureml.core.webservice import AciWebservice\n",
        "\n",
        "deployment_config = AciWebservice.deploy_configuration(\n",
        "    cpu_cores=1, memory_gb=2, auth_enabled=True, enable_app_insights=True\n",
        ")"
      ],
      "outputs": [],
      "execution_count": 16,
      "metadata": {
        "gather": {
          "logged": 1664175148320
        },
        "jupyter": {
          "outputs_hidden": false,
          "source_hidden": false
        },
        "nteract": {
          "transient": {
            "deleting": false
          }
        }
      }
    },
    {
      "cell_type": "markdown",
      "source": [
        "### Deploy the model as a web service"
      ],
      "metadata": {
        "nteract": {
          "transient": {
            "deleting": false
          }
        }
      }
    },
    {
      "cell_type": "code",
      "source": [
        "from azureml.core.model import Model\n",
        "service = Model.deploy(\n",
        "    ws,\n",
        "    \"automl-service\",\n",
        "    [model],\n",
        "    inference_config,\n",
        "    deployment_config,\n",
        "    overwrite=True,\n",
        ")\n",
        "service.wait_for_deployment(show_output=True)"
      ],
      "outputs": [
        {
          "output_type": "stream",
          "name": "stdout",
          "text": "Tips: You can try get_logs(): https://aka.ms/debugimage#dockerlog or local deployment: https://aka.ms/debugimage#debug-locally to debug if deployment takes longer than 10 minutes.\nRunning\n2022-09-26 06:52:34+00:00 Creating Container Registry if not exists..\n2022-09-26 07:02:34+00:00 Registering the environment.\n2022-09-26 07:02:35+00:00 Building image..\n2022-09-26 07:22:51+00:00 Generating deployment configuration.\n2022-09-26 07:22:51+00:00 Submitting deployment to compute..\n2022-09-26 07:22:55+00:00 Checking the status of deployment automl-service."
        }
      ],
      "execution_count": 17,
      "metadata": {
        "gather": {
          "logged": 1664128565584
        },
        "jupyter": {
          "outputs_hidden": false,
          "source_hidden": false
        },
        "nteract": {
          "transient": {
            "deleting": false
          }
        }
      }
    },
    {
      "cell_type": "markdown",
      "source": [
        "### Send a request to the web service you deployed to test it"
      ],
      "metadata": {
        "collapsed": true,
        "gather": {
          "logged": 1598431657736
        },
        "jupyter": {
          "outputs_hidden": false,
          "source_hidden": false
        },
        "nteract": {
          "transient": {
            "deleting": false
          }
        }
      }
    },
    {
      "cell_type": "code",
      "source": [
        "import requests\n",
        "import json\n",
        "from azureml.core import Webservice\n",
        "\n",
        "service = Webservice(workspace=ws, name=\"automl-service\")\n",
        "scoring_uri = service.scoring_uri\n",
        "\n",
        "# If the service is authenticated, set the key or token\n",
        "key, _ = service.get_keys()\n",
        "\n",
        "# Set the appropriate headers\n",
        "headers = {\"Content-Type\": \"application/json\"}\n",
        "headers[\"Authorization\"] = f\"Bearer {key}\"\n",
        "\n",
        "# Make the request and display the response and logs\n",
        "data =  {\n",
        "  \"Inputs\": {\n",
        "    \"data\": [\n",
        "      {\n",
        "        \"Message\": \"visit Taj mahal for 100 Rs\",\n",
        "        \"Column3\": \"\"\n",
        "     }\n",
        "    ]\n",
        "  }\n",
        "}\n",
        "\n",
        "input_data = json.dumps(data)\n",
        "resp = requests.post(scoring_uri, data=input_data, headers=headers)\n",
        "print(resp.json())"
      ],
      "outputs": [
        {
          "output_type": "stream",
          "name": "stdout",
          "text": "{\"result\": [\"ham\"]}\n"
        }
      ],
      "execution_count": 21,
      "metadata": {
        "gather": {
          "logged": 1664177442577
        },
        "jupyter": {
          "outputs_hidden": false,
          "source_hidden": false
        },
        "nteract": {
          "transient": {
            "deleting": false
          }
        }
      }
    },
    {
      "cell_type": "markdown",
      "source": [
        "### Print the logs of the web service"
      ],
      "metadata": {
        "collapsed": true,
        "gather": {
          "logged": 1598432765711
        },
        "jupyter": {
          "outputs_hidden": false,
          "source_hidden": false
        },
        "nteract": {
          "transient": {
            "deleting": false
          }
        }
      }
    },
    {
      "cell_type": "code",
      "source": [
        "print(service.get_logs())"
      ],
      "outputs": [
        {
          "output_type": "stream",
          "name": "stdout",
          "text": "/bin/bash: /azureml-envs/azureml_944df6c9e2b12a3bdcde13b5b8baccf0/lib/libtinfo.so.6: no version information available (required by /bin/bash)\n/bin/bash: /azureml-envs/azureml_944df6c9e2b12a3bdcde13b5b8baccf0/lib/libtinfo.so.6: no version information available (required by /bin/bash)\n/bin/bash: /azureml-envs/azureml_944df6c9e2b12a3bdcde13b5b8baccf0/lib/libtinfo.so.6: no version information available (required by /bin/bash)\n/bin/bash: /azureml-envs/azureml_944df6c9e2b12a3bdcde13b5b8baccf0/lib/libtinfo.so.6: no version information available (required by /bin/bash)\n2022-09-26T07:26:28,453535500+00:00 - iot-server/run \n2022-09-26T07:26:28,460346000+00:00 - rsyslog/run \nbash: /azureml-envs/azureml_944df6c9e2b12a3bdcde13b5b8baccf0/lib/libtinfo.so.6: no version information available (required by bash)\n2022-09-26T07:26:28,488064600+00:00 - gunicorn/run \n2022-09-26T07:26:28,491386500+00:00 - nginx/run \n2022-09-26T07:26:28,506808600+00:00 | gunicorn/run | \n2022-09-26T07:26:28,521812500+00:00 | gunicorn/run | ###############################################\nrsyslogd: /azureml-envs/azureml_944df6c9e2b12a3bdcde13b5b8baccf0/lib/libuuid.so.1: no version information available (required by rsyslogd)\n2022-09-26T07:26:28,551252400+00:00 | gunicorn/run | AzureML Container Runtime Information\n2022-09-26T07:26:28,555507400+00:00 | gunicorn/run | ###############################################\n2022-09-26T07:26:28,563877800+00:00 | gunicorn/run | \n2022-09-26T07:26:28,595100700+00:00 | gunicorn/run | \n2022-09-26T07:26:28,623813700+00:00 | gunicorn/run | AzureML image information: openmpi4.1.0-ubuntu20.04, Materializaton Build:20220708.v2\n2022-09-26T07:26:28,626858400+00:00 | gunicorn/run | \n2022-09-26T07:26:28,632387600+00:00 | gunicorn/run | \n2022-09-26T07:26:28,637930300+00:00 | gunicorn/run | PATH environment variable: /azureml-envs/azureml_944df6c9e2b12a3bdcde13b5b8baccf0/bin:/opt/miniconda/bin:/usr/local/sbin:/usr/local/bin:/usr/sbin:/usr/bin:/sbin:/bin\n2022-09-26T07:26:28,641489900+00:00 | gunicorn/run | PYTHONPATH environment variable: \n2022-09-26T07:26:28,642790200+00:00 | gunicorn/run | \n2022-09-26T07:26:28,644078300+00:00 | gunicorn/run | Pip Dependencies (before dynamic installation)\n\nEdgeHubConnectionString and IOTEDGE_IOTHUBHOSTNAME are not set. Exiting...\n/bin/bash: /azureml-envs/azureml_944df6c9e2b12a3bdcde13b5b8baccf0/lib/libtinfo.so.6: no version information available (required by /bin/bash)\n2022-09-26T07:26:28,849343700+00:00 - iot-server/finish 1 0\n2022-09-26T07:26:28,850949500+00:00 - Exit code 1 is normal. Not restarting iot-server.\nadal==1.2.7\napplicationinsights==0.11.10\nargcomplete==2.0.0\nattrs==22.1.0\nazure-common==1.1.28\nazure-core==1.25.1\nazure-graphrbac==0.61.1\nazure-identity==1.7.0\nazure-mgmt-authorization==2.0.0\nazure-mgmt-containerregistry==10.0.0\nazure-mgmt-core==1.3.2\nazure-mgmt-keyvault==10.1.0\nazure-mgmt-resource==21.1.0\nazure-mgmt-storage==20.0.0\nazure-storage-blob==12.13.0\nazure-storage-queue==12.4.0\nazureml-automl-core==1.45.0\nazureml-automl-runtime==1.45.0\nazureml-core==1.45.0.post2\nazureml-dataprep==4.2.2\nazureml-dataprep-native==38.0.0\nazureml-dataprep-rslex==2.8.1\nazureml-dataset-runtime==1.45.0\nazureml-defaults==1.45.0\nazureml-inference-server-http==0.7.6\nazureml-interpret==1.45.0\nazureml-mlflow==1.45.0\nazureml-telemetry==1.45.0\nazureml-train-automl-client==1.45.0\nazureml-train-automl-runtime==1.45.0\nazureml-train-core==1.45.0\nazureml-train-restclients-hyperdrive==1.45.0\nazureml-training-tabular==1.45.0\nbackports.tempfile==1.0\nbackports.weakref==1.0.post1\nbcrypt==4.0.0\nbokeh==2.4.3\nboto==2.49.0\nboto3==1.20.19\nbotocore==1.23.19\ncachetools==5.2.0\ncertifi @ file:///opt/conda/conda-bld/certifi_1655968806487/work/certifi\ncffi==1.15.1\ncharset-normalizer==2.1.1\nclick==7.1.2\ncloudpickle==2.2.0\nconfigparser==3.7.4\ncontextlib2==21.6.0\nconvertdate @ file:///tmp/build/80754af9/convertdate_1634070773133/work\ncryptography==37.0.4\ncycler @ file:///tmp/build/80754af9/cycler_1637851556182/work\nCython==0.29.17\ndask==2.30.0\ndatabricks-cli==0.17.3\ndataclasses==0.6\ndill==0.3.5.1\ndistributed==2.30.1\ndistro==1.7.0\ndocker==5.0.3\ndotnetcore2==3.1.23\nentrypoints==0.4\nephem @ file:///tmp/build/80754af9/ephem_1638960312619/work\nfbprophet @ file:///home/conda/feedstock_root/build_artifacts/fbprophet_1599365534439/work\nfire==0.4.0\nFlask==1.1.4\nFlask-Cors==3.0.10\nflatbuffers==2.0.7\nfonttools==4.25.0\nfsspec==2022.8.2\nfusepy==3.0.1\ngensim==3.8.3\ngitdb==4.0.9\nGitPython==3.1.27\ngoogle-api-core==2.10.1\ngoogle-auth==2.11.1\ngoogleapis-common-protos==1.56.4\ngunicorn==20.1.0\nHeapDict==1.0.1\nholidays @ file:///home/conda/feedstock_root/build_artifacts/holidays_1595448845196/work\nhumanfriendly==10.0\nidna==3.4\nimportlib-metadata==4.12.0\nimportlib-resources==5.9.0\ninference-schema==1.4.2.1\ninterpret-community==0.26.0\ninterpret-core==0.2.7\nisodate==0.6.1\nitsdangerous==1.1.0\njeepney==0.8.0\nJinja2==2.11.2\njmespath==0.10.0\njoblib==0.14.1\njson-logging-py==0.2\njsonpickle==2.2.0\njsonschema==4.16.0\nkeras2onnx==1.6.0\nkiwisolver @ file:///opt/conda/conda-bld/kiwisolver_1653292039266/work\nknack==0.9.0\nkorean-lunar-calendar @ file:///tmp/build/80754af9/korean_lunar_calendar_1634063020401/work\nlightgbm==3.2.1\nllvmlite==0.38.1\nlocket==1.0.0\nLunarCalendar @ file:///tmp/build/80754af9/lunarcalendar_1646383991234/work\nMarkupSafe==2.0.1\nmatplotlib @ file:///tmp/build/80754af9/matplotlib-suite_1647441664166/work\nml-wrappers==0.2.0\nmlflow-skinny==1.29.0\nmsal==1.19.0\nmsal-extensions==0.3.1\nmsgpack==1.0.4\nmsrest==0.7.1\nmsrestazure==0.6.4\nmunkres==1.1.4\nndg-httpsclient==0.5.1\nnimbusml==1.8.0\nnumba==0.55.2\nnumpy @ file:///home/conda/feedstock_root/build_artifacts/numpy_1649806299270/work\noauthlib==3.2.1\nonnx==1.12.0\nonnxconverter-common==1.6.0\nonnxmltools==1.4.1\nonnxruntime==1.11.1\nopencensus==0.11.0\nopencensus-context==0.1.3\nopencensus-ext-azure==1.1.7\npackaging @ file:///tmp/build/80754af9/packaging_1637314298585/work\npandas==1.1.5\nparamiko==2.11.0\npartd==1.3.0\npathspec==0.10.1\npatsy==0.5.2\nPillow==9.2.0\npkginfo==1.8.3\npkgutil_resolve_name==1.3.10\nply==3.11\npmdarima==1.7.1\nportalocker==2.5.1\nprotobuf==3.20.1\npsutil @ file:///opt/conda/conda-bld/psutil_1656431268089/work\npyarrow==6.0.0\npyasn1==0.4.8\npyasn1-modules==0.2.8\npycparser==2.21\nPygments==2.13.0\nPyJWT==2.5.0\nPyMeeus @ file:///tmp/build/80754af9/pymeeus_1634069098549/work\nPyNaCl==1.5.0\npyOpenSSL==22.0.0\npyparsing @ file:///tmp/build/80754af9/pyparsing_1635766073266/work\nPyQt5-sip==12.11.0\npyrsistent==0.18.1\nPySocks==1.7.1\npystan==2.17.1.0\npython-dateutil @ file:///tmp/build/80754af9/python-dateutil_1626374649649/work\npytz @ file:///opt/conda/conda-bld/pytz_1654762638606/work\nPyYAML==6.0\nrequests==2.28.1\nrequests-oauthlib==1.3.1\nrsa==4.9\ns3transfer==0.5.2\nscikit-learn==0.22.1\nscipy==1.5.3\nSecretStorage==3.3.3\nshap==0.39.0\nsip @ file:///tmp/abs_44cd77b_pu/croots/recipe/sip_1659012365470/work\nsix @ file:///tmp/build/80754af9/six_1644875935023/work\nskl2onnx==1.4.9\nsklearn-pandas==1.7.0\nslicer==0.0.7\nsmart-open==1.9.0\nsmmap==5.0.0\nsortedcontainers==2.4.0\nsqlparse==0.4.3\nstatsmodels==0.11.1\ntabulate==0.8.10\ntblib==1.7.0\ntermcolor==2.0.1\ntoml @ file:///tmp/build/80754af9/toml_1616166611790/work\ntoolz==0.12.0\ntornado @ file:///tmp/build/80754af9/tornado_1606942283357/work\ntqdm @ file:///opt/conda/conda-bld/tqdm_1650891076910/work\ntypes-cryptography==3.3.23\ntyping_extensions @ file:///tmp/abs_ben9emwtky/croots/recipe/typing_extensions_1659638822008/work\nurllib3==1.26.12\nwebsocket-client==1.4.1\nWerkzeug==1.0.1\nwrapt==1.12.1\nxgboost==1.3.3\nzict==2.2.0\nzipp==3.8.1\n\n2022-09-26T07:26:31,022903100+00:00 | gunicorn/run | \n2022-09-26T07:26:31,025242700+00:00 | gunicorn/run | ###############################################\n2022-09-26T07:26:31,027567300+00:00 | gunicorn/run | AzureML Inference Server\n2022-09-26T07:26:31,033944700+00:00 | gunicorn/run | ###############################################\n2022-09-26T07:26:31,036568300+00:00 | gunicorn/run | \n2022-09-26T07:26:35,053938300+00:00 | gunicorn/run | Starting AzureML Inference Server HTTP.\nValid Application Insights instrumentation key provided.\n\nAzure ML Inferencing HTTP server v0.7.6\n\n\nServer Settings\n---------------\nEntry Script Name: /var/azureml-app/odl_user_208897/automl_score.py\nModel Directory: /var/azureml-app/azureml-models/best-automl-model/1\nWorker Count: 1\nWorker Timeout (seconds): 300\nServer Port: 31311\nApplication Insights Enabled: true\nApplication Insights Key: AppInsights key provided\nInferencing HTTP server version: azmlinfsrv/0.7.6\nCORS for the specified origins: None\n\n\nServer Routes\n---------------\nLiveness Probe: GET   127.0.0.1:31311/\nScore:          POST  127.0.0.1:31311/score\n\nStarting gunicorn 20.1.0\nListening at: http://0.0.0.0:31311 (79)\nUsing worker: sync\nBooting worker with pid: 135\nInitializing logger\n2022-09-26 07:26:36,344 | root | INFO | Starting up app insights client\nDeprecationWarning: Explicitly using instrumentation key isdeprecated. Please use a connection string instead.\nDeprecationWarning: Explicitly using instrumentation key isdeprecated. Please use a connection string instead.\nDeprecationWarning: Explicitly using instrumentation key isdeprecated. Please use a connection string instead.\nlogging socket was found. logging is available.\nlogging socket was found. logging is available.\n2022-09-26 07:26:41,587 | root | INFO | Starting up app insight hooks\n2022-09-26 07:26:42,359 | root | INFO | Found user script at /var/azureml-app/odl_user_208897/automl_score.py\n2022-09-26 07:26:42,359 | root | INFO | run() is not decorated. Server will invoke it with the input in JSON string.\n2022-09-26 07:26:42,359 | root | INFO | Invoking user's init function\n2022-09-26 07:26:54,748 | root | INFO | Users's init has completed successfully\n2022-09-26 07:26:54,753 | root | INFO | Swaggers are prepared for the following versions: [2, 3].\n2022-09-26 07:26:54,754 | root | INFO | Scoring timeout is found from os.environ: 60000 ms\n2022-09-26 07:26:54,754 | root | INFO | AML_FLASK_ONE_COMPATIBILITY is set, but patching is not necessary.\n2022-09-26 07:27:06,345 | root | INFO | 200\n127.0.0.1 - - [26/Sep/2022:07:27:06 +0000] \"GET /swagger.json HTTP/1.0\" 200 2261 \"-\" \"Go-http-client/1.1\"\n2022-09-26 07:27:10,616 | root | INFO | 200\n127.0.0.1 - - [26/Sep/2022:07:27:10 +0000] \"GET /swagger.json HTTP/1.0\" 200 2261 \"-\" \"Go-http-client/1.1\"\n2022-09-26 07:27:11,062 | root | INFO | 200\n127.0.0.1 - - [26/Sep/2022:07:27:11 +0000] \"GET /swagger.json HTTP/1.0\" 200 2261 \"-\" \"Go-http-client/1.1\"\n2022-09-26 07:27:11,693 | root | INFO | 200\n127.0.0.1 - - [26/Sep/2022:07:27:11 +0000] \"POST /score HTTP/1.0\" 200 25 \"-\" \"python-requests/2.28.1\"\n2022-09-26 07:30:16,252 | root | INFO | 200\n127.0.0.1 - - [26/Sep/2022:07:30:16 +0000] \"GET /swagger.json HTTP/1.0\" 200 2261 \"-\" \"Go-http-client/1.1\"\n2022-09-26 07:30:31,927 | root | INFO | 200\n127.0.0.1 - - [26/Sep/2022:07:30:31 +0000] \"GET /swagger.json HTTP/1.0\" 200 2261 \"-\" \"Go-http-client/1.1\"\n2022-09-26 07:30:32,565 | root | INFO | 200\n127.0.0.1 - - [26/Sep/2022:07:30:32 +0000] \"POST /score HTTP/1.0\" 200 25 \"-\" \"python-requests/2.28.1\"\n2022-09-26 07:30:42,110 | root | INFO | 200\n127.0.0.1 - - [26/Sep/2022:07:30:42 +0000] \"GET /swagger.json HTTP/1.0\" 200 2261 \"-\" \"Go-http-client/1.1\"\n2022-09-26 07:30:42,505 | root | INFO | 200\n127.0.0.1 - - [26/Sep/2022:07:30:42 +0000] \"POST /score HTTP/1.0\" 200 25 \"-\" \"python-requests/2.28.1\"\n\n"
        }
      ],
      "execution_count": 22,
      "metadata": {
        "gather": {
          "logged": 1664177449099
        },
        "jupyter": {
          "outputs_hidden": false,
          "source_hidden": false
        },
        "nteract": {
          "transient": {
            "deleting": false
          }
        }
      }
    },
    {
      "cell_type": "markdown",
      "source": [
        "### Delete the web service"
      ],
      "metadata": {
        "nteract": {
          "transient": {
            "deleting": false
          }
        }
      }
    },
    {
      "cell_type": "code",
      "source": [
        "service.delete()"
      ],
      "outputs": [],
      "execution_count": 23,
      "metadata": {
        "gather": {
          "logged": 1664177641930
        },
        "jupyter": {
          "outputs_hidden": false,
          "source_hidden": false
        },
        "nteract": {
          "transient": {
            "deleting": false
          }
        }
      }
    },
    {
      "cell_type": "markdown",
      "source": [
        "### Shutdown the computes"
      ],
      "metadata": {
        "nteract": {
          "transient": {
            "deleting": false
          }
        }
      }
    },
    {
      "cell_type": "code",
      "source": [
        "try:\n",
        "    instance = ComputeTarget(workspace=ws, name=cluster_name)\n",
        "\n",
        "    instance.delete()\n",
        "    instance.wait_for_completion(show_output=True)\n",
        "    print('Deleted compute resource')\n",
        "\n",
        "except ComputeTargetException as e:\n",
        "    print('Already deleted!')"
      ],
      "outputs": [
        {
          "output_type": "stream",
          "name": "stdout",
          "text": "InProgress.....Current provisioning state of AmlCompute is \"Deleting\"\n\n..\nSucceededProvisioning operation finished, operation \"Succeeded\"\nComputeTargetException:\n\tMessage: ComputeTargetNotFound: Compute Target with name capstone-compute-cluster not found in provided workspace\n\tInnerException None\n\tErrorResponse \n{\n    \"error\": {\n        \"message\": \"ComputeTargetNotFound: Compute Target with name capstone-compute-cluster not found in provided workspace\"\n    }\n}\nAlready deleted!\n"
        }
      ],
      "execution_count": 26,
      "metadata": {
        "gather": {
          "logged": 1664181179221
        },
        "jupyter": {
          "outputs_hidden": false,
          "source_hidden": false
        },
        "nteract": {
          "transient": {
            "deleting": false
          }
        }
      }
    },
    {
      "cell_type": "markdown",
      "source": [
        "**Submission Checklist**\n",
        "- I have registered the model.\n",
        "- I have deployed the model with the best accuracy as a webservice.\n",
        "- I have tested the webservice by sending a request to the model endpoint.\n",
        "- I have deleted the webservice and shutdown all the computes that I have used.\n",
        "- I have taken a screenshot showing the model endpoint as active.\n",
        "- The project includes a file containing the environment details.\n"
      ],
      "metadata": {}
    },
    {
      "cell_type": "markdown",
      "source": [],
      "metadata": {}
    }
  ],
  "metadata": {
    "kernel_info": {
      "name": "python3"
    },
    "kernelspec": {
      "name": "python3",
      "language": "python",
      "display_name": "Python 3 (ipykernel)"
    },
    "language_info": {
      "name": "python",
      "version": "3.8.5",
      "mimetype": "text/x-python",
      "codemirror_mode": {
        "name": "ipython",
        "version": 3
      },
      "pygments_lexer": "ipython3",
      "nbconvert_exporter": "python",
      "file_extension": ".py"
    },
    "microsoft": {
      "host": {
        "AzureML": {
          "notebookHasBeenCompleted": true
        }
      }
    },
    "nteract": {
      "version": "nteract-front-end@1.0.0"
    },
    "vscode": {
      "interpreter": {
        "hash": "31f2aee4e71d21fbe5cf8b01ff0e069b9275f58929596ceb00d14d90e3e16cd6"
      }
    }
  },
  "nbformat": 4,
  "nbformat_minor": 2
}