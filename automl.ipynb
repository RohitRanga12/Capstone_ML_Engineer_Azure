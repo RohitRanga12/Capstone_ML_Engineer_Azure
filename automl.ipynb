{
  "cells": [
    {
      "cell_type": "markdown",
      "source": [
        "# Automated ML"
      ],
      "metadata": {}
    },
    {
      "cell_type": "markdown",
      "source": [
        "### Import libraries"
      ],
      "metadata": {
        "nteract": {
          "transient": {
            "deleting": false
          }
        }
      }
    },
    {
      "cell_type": "code",
      "source": [
        "from azureml.core import Workspace, Experiment"
      ],
      "outputs": [],
      "execution_count": 1,
      "metadata": {
        "gather": {
          "logged": 1664083819085
        },
        "jupyter": {
          "outputs_hidden": false,
          "source_hidden": false
        },
        "nteract": {
          "transient": {
            "deleting": false
          }
        }
      }
    },
    {
      "cell_type": "markdown",
      "source": [
        "### Create workspace and experiment instances"
      ],
      "metadata": {
        "nteract": {
          "transient": {
            "deleting": false
          }
        }
      }
    },
    {
      "cell_type": "code",
      "source": [
        "ws = Workspace.from_config()\n",
        "\n",
        "# choose a name for experiment\n",
        "experiment_name = 'capstone-spam-classification-experiment'\n",
        "\n",
        "experiment=Experiment(ws, experiment_name)"
      ],
      "outputs": [],
      "execution_count": 2,
      "metadata": {
        "gather": {
          "logged": 1664083821560
        },
        "jupyter": {
          "outputs_hidden": false,
          "source_hidden": false
        },
        "nteract": {
          "transient": {
            "deleting": false
          }
        }
      }
    },
    {
      "cell_type": "markdown",
      "source": [
        "###  Dataset Overview\n",
        "The dataset we are using is a spam classification dataset obtained from kaggle. We are going to perform multi-class text classification. "
      ],
      "metadata": {}
    },
    {
      "cell_type": "markdown",
      "source": [
        "### Get data"
      ],
      "metadata": {
        "nteract": {
          "transient": {
            "deleting": false
          }
        }
      }
    },
    {
      "cell_type": "code",
      "source": [
        "from azureml.core import Dataset\n",
        "training_dataset = Dataset.get_by_name(ws, name='capstone-spam-dataset')"
      ],
      "outputs": [],
      "execution_count": 3,
      "metadata": {
        "gather": {
          "logged": 1664083821698
        },
        "jupyter": {
          "outputs_hidden": false,
          "source_hidden": false
        },
        "nteract": {
          "transient": {
            "deleting": false
          }
        }
      }
    },
    {
      "cell_type": "code",
      "source": [
        "training_dataset.to_pandas_dataframe()"
      ],
      "outputs": [
        {
          "output_type": "execute_result",
          "execution_count": 4,
          "data": {
            "text/plain": "     Category                                            Message Column3\n0         ham  Go until jurong point, crazy.. Available only ...    None\n1         ham                      Ok lar... Joking wif u oni...    None\n2        spam  Free entry in 2 a wkly comp to win FA Cup fina...    None\n3         ham  U dun say so early hor... U c already then say...    None\n4         ham  Nah I don't think he goes to usf, he lives aro...    None\n...       ...                                                ...     ...\n5569     spam  This is the 2nd time we have tried 2 contact u...    None\n5570      ham               Will ü b going to esplanade fr home?    None\n5571      ham  Pity, * was in mood for that. So...any other s...    None\n5572      ham  The guy did some bitching but I acted like i'd...    None\n5573      ham                         Rofl. Its true to its name    None\n\n[5574 rows x 3 columns]",
            "text/html": "<div>\n<style scoped>\n    .dataframe tbody tr th:only-of-type {\n        vertical-align: middle;\n    }\n\n    .dataframe tbody tr th {\n        vertical-align: top;\n    }\n\n    .dataframe thead th {\n        text-align: right;\n    }\n</style>\n<table border=\"1\" class=\"dataframe\">\n  <thead>\n    <tr style=\"text-align: right;\">\n      <th></th>\n      <th>Category</th>\n      <th>Message</th>\n      <th>Column3</th>\n    </tr>\n  </thead>\n  <tbody>\n    <tr>\n      <th>0</th>\n      <td>ham</td>\n      <td>Go until jurong point, crazy.. Available only ...</td>\n      <td>None</td>\n    </tr>\n    <tr>\n      <th>1</th>\n      <td>ham</td>\n      <td>Ok lar... Joking wif u oni...</td>\n      <td>None</td>\n    </tr>\n    <tr>\n      <th>2</th>\n      <td>spam</td>\n      <td>Free entry in 2 a wkly comp to win FA Cup fina...</td>\n      <td>None</td>\n    </tr>\n    <tr>\n      <th>3</th>\n      <td>ham</td>\n      <td>U dun say so early hor... U c already then say...</td>\n      <td>None</td>\n    </tr>\n    <tr>\n      <th>4</th>\n      <td>ham</td>\n      <td>Nah I don't think he goes to usf, he lives aro...</td>\n      <td>None</td>\n    </tr>\n    <tr>\n      <th>...</th>\n      <td>...</td>\n      <td>...</td>\n      <td>...</td>\n    </tr>\n    <tr>\n      <th>5569</th>\n      <td>spam</td>\n      <td>This is the 2nd time we have tried 2 contact u...</td>\n      <td>None</td>\n    </tr>\n    <tr>\n      <th>5570</th>\n      <td>ham</td>\n      <td>Will ü b going to esplanade fr home?</td>\n      <td>None</td>\n    </tr>\n    <tr>\n      <th>5571</th>\n      <td>ham</td>\n      <td>Pity, * was in mood for that. So...any other s...</td>\n      <td>None</td>\n    </tr>\n    <tr>\n      <th>5572</th>\n      <td>ham</td>\n      <td>The guy did some bitching but I acted like i'd...</td>\n      <td>None</td>\n    </tr>\n    <tr>\n      <th>5573</th>\n      <td>ham</td>\n      <td>Rofl. Its true to its name</td>\n      <td>None</td>\n    </tr>\n  </tbody>\n</table>\n<p>5574 rows × 3 columns</p>\n</div>"
          },
          "metadata": {}
        }
      ],
      "execution_count": 4,
      "metadata": {
        "jupyter": {
          "source_hidden": false,
          "outputs_hidden": false
        },
        "nteract": {
          "transient": {
            "deleting": false
          }
        },
        "gather": {
          "logged": 1664121231596
        }
      }
    },
    {
      "cell_type": "markdown",
      "source": [
        "### Connect to compute target"
      ],
      "metadata": {
        "nteract": {
          "transient": {
            "deleting": false
          }
        }
      }
    },
    {
      "cell_type": "code",
      "source": [
        "from azureml.core.compute import ComputeTarget, AmlCompute\n",
        "from azureml.core.compute_target import ComputeTargetException\n",
        "\n",
        "# TODO: Create compute cluster\n",
        "cluster_name = \"capstone-compute-cluster\"\n",
        "\n",
        "# Verify that cluster does not exist already\n",
        "try:\n",
        "    compute_target = ComputeTarget(workspace=ws, name=cluster_name)\n",
        "    print('Found existing cluster, use it.')\n",
        "except ComputeTargetException:\n",
        "    # To use a different region for the compute, add a location='<region>' parameter\n",
        "    compute_config = AmlCompute.provisioning_configuration(vm_size='STANDARD_D2_V2', max_nodes=4)\n",
        "    compute_target = ComputeTarget.create(ws, cluster_name, compute_config)\n",
        "\n",
        "compute_target.wait_for_completion(show_output=True)"
      ],
      "outputs": [
        {
          "output_type": "stream",
          "name": "stdout",
          "text": "InProgress.\nSucceededProvisioning operation finished, operation \"Succeeded\"\nSucceeded\nAmlCompute wait for completion finished\n\nMinimum number of nodes requested have been provisioned\n"
        }
      ],
      "execution_count": 5,
      "metadata": {
        "gather": {
          "logged": 1664121246208
        },
        "jupyter": {
          "outputs_hidden": false,
          "source_hidden": false
        },
        "nteract": {
          "transient": {
            "deleting": false
          }
        }
      }
    },
    {
      "cell_type": "markdown",
      "source": [
        "## AutoML Configuration\n",
        "\n",
        "TODO: Explain why you chose the automl settings and cofiguration you used below."
      ],
      "metadata": {}
    },
    {
      "cell_type": "code",
      "source": [
        "from azureml.train.automl import AutoMLConfig\n",
        "\n",
        "automl_settings = {\n",
        "    \"n_cross_validations\": 2,\n",
        "    \"primary_metric\": 'accuracy',\n",
        "    \"enable_early_stopping\": True,\n",
        "    \"max_concurrent_iterations\": 5,\n",
        "    \"experiment_timeout_hours\": 0.25,\n",
        "    \"featurization\": 'auto',\n",
        "}\n",
        "\n",
        "automl_config = AutoMLConfig(\n",
        "    task = 'classification',\n",
        "    compute_target = compute_target,\n",
        "    training_data = training_dataset,\n",
        "    label_column_name = 'Category',\n",
        "    **automl_settings\n",
        ")"
      ],
      "outputs": [],
      "execution_count": 6,
      "metadata": {
        "gather": {
          "logged": 1664121246275
        },
        "jupyter": {
          "outputs_hidden": false,
          "source_hidden": false
        },
        "nteract": {
          "transient": {
            "deleting": false
          }
        }
      }
    },
    {
      "cell_type": "code",
      "source": [
        "# TODO: Submit your experiment\n",
        "remote_run = experiment.submit(automl_config)"
      ],
      "outputs": [
        {
          "output_type": "stream",
          "name": "stdout",
          "text": "Submitting remote run.\n"
        },
        {
          "output_type": "display_data",
          "data": {
            "text/plain": "<IPython.core.display.HTML object>",
            "text/html": "<table style=\"width:100%\"><tr><th>Experiment</th><th>Id</th><th>Type</th><th>Status</th><th>Details Page</th><th>Docs Page</th></tr><tr><td>capstone-spam-classification-experiment</td><td>AutoML_285b02e6-769e-41c8-9e6b-143c00ed73ff</td><td>automl</td><td>NotStarted</td><td><a href=\"https://ml.azure.com/runs/AutoML_285b02e6-769e-41c8-9e6b-143c00ed73ff?wsid=/subscriptions/9e65f93e-bdd8-437b-b1e8-0647cd6098f7/resourcegroups/aml-quickstarts-208799/workspaces/quick-starts-ws-208799&amp;tid=660b3398-b80e-49d2-bc5b-ac1dc93b5254\" target=\"_blank\" rel=\"noopener\">Link to Azure Machine Learning studio</a></td><td><a href=\"https://docs.microsoft.com/en-us/python/api/overview/azure/ml/intro?view=azure-ml-py\" target=\"_blank\" rel=\"noopener\">Link to Documentation</a></td></tr></table>"
          },
          "metadata": {}
        }
      ],
      "execution_count": 7,
      "metadata": {
        "gather": {
          "logged": 1664121249494
        },
        "jupyter": {
          "outputs_hidden": false,
          "source_hidden": false
        },
        "nteract": {
          "transient": {
            "deleting": false
          }
        }
      }
    },
    {
      "cell_type": "markdown",
      "source": [
        "### Run Details"
      ],
      "metadata": {}
    },
    {
      "cell_type": "code",
      "source": [
        "from azureml.widgets import RunDetails\n",
        "RunDetails(remote_run).show()"
      ],
      "outputs": [
        {
          "output_type": "display_data",
          "data": {
            "text/plain": "_AutoMLWidget(widget_settings={'childWidgetDisplay': 'popup', 'send_telemetry': False, 'log_level': 'INFO', 's…",
            "application/vnd.jupyter.widget-view+json": {
              "version_major": 2,
              "version_minor": 0,
              "model_id": "0bdfea043e154c1fac2c7bb97fed0fd0"
            }
          },
          "metadata": {}
        },
        {
          "output_type": "display_data",
          "data": {
            "application/aml.mini.widget.v1": "{\"status\": \"Running\", \"workbench_run_details_uri\": \"https://ml.azure.com/runs/AutoML_285b02e6-769e-41c8-9e6b-143c00ed73ff?wsid=/subscriptions/9e65f93e-bdd8-437b-b1e8-0647cd6098f7/resourcegroups/aml-quickstarts-208799/workspaces/quick-starts-ws-208799&tid=660b3398-b80e-49d2-bc5b-ac1dc93b5254\", \"run_id\": \"AutoML_285b02e6-769e-41c8-9e6b-143c00ed73ff\", \"run_properties\": {\"run_id\": \"AutoML_285b02e6-769e-41c8-9e6b-143c00ed73ff\", \"created_utc\": \"2022-09-25T15:54:08.07499Z\", \"properties\": {\"num_iterations\": \"1000\", \"training_type\": \"TrainFull\", \"acquisition_function\": \"EI\", \"primary_metric\": \"accuracy\", \"train_split\": \"0\", \"acquisition_parameter\": \"0\", \"num_cross_validation\": \"2\", \"target\": \"capstone-compute-cluster\", \"AMLSettingsJsonString\": \"{\\\"path\\\":null,\\\"name\\\":\\\"capstone-spam-classification-experiment\\\",\\\"subscription_id\\\":\\\"9e65f93e-bdd8-437b-b1e8-0647cd6098f7\\\",\\\"resource_group\\\":\\\"aml-quickstarts-208799\\\",\\\"workspace_name\\\":\\\"quick-starts-ws-208799\\\",\\\"region\\\":\\\"southcentralus\\\",\\\"compute_target\\\":\\\"capstone-compute-cluster\\\",\\\"spark_service\\\":null,\\\"azure_service\\\":\\\"remote\\\",\\\"many_models\\\":false,\\\"pipeline_fetch_max_batch_size\\\":1,\\\"enable_batch_run\\\":true,\\\"enable_run_restructure\\\":false,\\\"start_auxiliary_runs_before_parent_complete\\\":false,\\\"enable_code_generation\\\":true,\\\"iterations\\\":1000,\\\"primary_metric\\\":\\\"accuracy\\\",\\\"task_type\\\":\\\"classification\\\",\\\"positive_label\\\":null,\\\"data_script\\\":null,\\\"test_size\\\":0.0,\\\"test_include_predictions_only\\\":false,\\\"validation_size\\\":0.0,\\\"n_cross_validations\\\":2,\\\"y_min\\\":null,\\\"y_max\\\":null,\\\"num_classes\\\":null,\\\"featurization\\\":\\\"auto\\\",\\\"_ignore_package_version_incompatibilities\\\":false,\\\"is_timeseries\\\":false,\\\"max_cores_per_iteration\\\":1,\\\"max_concurrent_iterations\\\":5,\\\"iteration_timeout_minutes\\\":null,\\\"mem_in_mb\\\":null,\\\"enforce_time_on_windows\\\":false,\\\"experiment_timeout_minutes\\\":15,\\\"experiment_exit_score\\\":null,\\\"partition_column_names\\\":null,\\\"whitelist_models\\\":null,\\\"blacklist_algos\\\":[\\\"TensorFlowLinearClassifier\\\",\\\"TensorFlowDNN\\\"],\\\"supported_models\\\":[\\\"LinearSVM\\\",\\\"LogisticRegression\\\",\\\"RandomForest\\\",\\\"TabnetClassifier\\\",\\\"DecisionTree\\\",\\\"SGD\\\",\\\"AveragedPerceptronClassifier\\\",\\\"TensorFlowLinearClassifier\\\",\\\"TensorFlowDNN\\\",\\\"LightGBM\\\",\\\"XGBoostClassifier\\\",\\\"SVM\\\",\\\"KNN\\\",\\\"ExtremeRandomTrees\\\",\\\"MultinomialNaiveBayes\\\",\\\"GradientBoosting\\\",\\\"BernoulliNaiveBayes\\\"],\\\"private_models\\\":[],\\\"auto_blacklist\\\":true,\\\"blacklist_samples_reached\\\":false,\\\"exclude_nan_labels\\\":true,\\\"verbosity\\\":20,\\\"_debug_log\\\":\\\"azureml_automl.log\\\",\\\"show_warnings\\\":false,\\\"model_explainability\\\":true,\\\"service_url\\\":null,\\\"sdk_url\\\":null,\\\"sdk_packages\\\":null,\\\"enable_onnx_compatible_models\\\":false,\\\"enable_split_onnx_featurizer_estimator_models\\\":false,\\\"vm_type\\\":\\\"STANDARD_D2_V2\\\",\\\"telemetry_verbosity\\\":20,\\\"send_telemetry\\\":true,\\\"enable_dnn\\\":false,\\\"scenario\\\":\\\"AutoML\\\",\\\"environment_label\\\":null,\\\"save_mlflow\\\":false,\\\"enable_categorical_indicators\\\":false,\\\"force_text_dnn\\\":false,\\\"enable_feature_sweeping\\\":true,\\\"enable_early_stopping\\\":true,\\\"early_stopping_n_iters\\\":10,\\\"arguments\\\":null,\\\"dataset_id\\\":\\\"ec4b1c00-bb32-4dcf-8e20-9ee7c89f13ef\\\",\\\"hyperdrive_config\\\":null,\\\"validation_dataset_id\\\":null,\\\"run_source\\\":null,\\\"metrics\\\":null,\\\"enable_metric_confidence\\\":false,\\\"enable_ensembling\\\":true,\\\"enable_stack_ensembling\\\":true,\\\"ensemble_iterations\\\":15,\\\"enable_tf\\\":false,\\\"enable_subsampling\\\":null,\\\"subsample_seed\\\":null,\\\"enable_nimbusml\\\":false,\\\"enable_streaming\\\":false,\\\"force_streaming\\\":false,\\\"track_child_runs\\\":true,\\\"allowed_private_models\\\":[],\\\"label_column_name\\\":\\\"Category\\\",\\\"weight_column_name\\\":null,\\\"cv_split_column_names\\\":null,\\\"enable_local_managed\\\":false,\\\"_local_managed_run_id\\\":null,\\\"cost_mode\\\":1,\\\"lag_length\\\":0,\\\"metric_operation\\\":\\\"maximize\\\",\\\"preprocess\\\":true}\", \"DataPrepJsonString\": \"{\\\\\\\"training_data\\\\\\\": {\\\\\\\"datasetId\\\\\\\": \\\\\\\"ec4b1c00-bb32-4dcf-8e20-9ee7c89f13ef\\\\\\\"}, \\\\\\\"datasets\\\\\\\": 0}\", \"EnableSubsampling\": null, \"runTemplate\": \"AutoML\", \"azureml.runsource\": \"automl\", \"display_task_type\": \"classification\", \"dependencies_versions\": \"{\\\"azureml-widgets\\\": \\\"1.44.0\\\", \\\"azureml-training-tabular\\\": \\\"1.44.0\\\", \\\"azureml-train\\\": \\\"1.44.0\\\", \\\"azureml-train-restclients-hyperdrive\\\": \\\"1.44.0\\\", \\\"azureml-train-core\\\": \\\"1.44.0\\\", \\\"azureml-train-automl\\\": \\\"1.44.0\\\", \\\"azureml-train-automl-runtime\\\": \\\"1.44.0\\\", \\\"azureml-train-automl-client\\\": \\\"1.44.0\\\", \\\"azureml-tensorboard\\\": \\\"1.44.0\\\", \\\"azureml-telemetry\\\": \\\"1.44.0\\\", \\\"azureml-sdk\\\": \\\"1.44.0\\\", \\\"azureml-samples\\\": \\\"0+unknown\\\", \\\"azureml-responsibleai\\\": \\\"1.44.0\\\", \\\"azureml-pipeline\\\": \\\"1.44.0\\\", \\\"azureml-pipeline-steps\\\": \\\"1.44.0\\\", \\\"azureml-pipeline-core\\\": \\\"1.44.0\\\", \\\"azureml-opendatasets\\\": \\\"1.44.0\\\", \\\"azureml-mlflow\\\": \\\"1.44.0\\\", \\\"azureml-interpret\\\": \\\"1.44.0\\\", \\\"azureml-inference-server-http\\\": \\\"0.7.4\\\", \\\"azureml-explain-model\\\": \\\"1.44.0\\\", \\\"azureml-defaults\\\": \\\"1.44.0\\\", \\\"azureml-dataset-runtime\\\": \\\"1.44.0\\\", \\\"azureml-dataprep\\\": \\\"4.2.2\\\", \\\"azureml-dataprep-rslex\\\": \\\"2.8.1\\\", \\\"azureml-dataprep-native\\\": \\\"38.0.0\\\", \\\"azureml-datadrift\\\": \\\"1.44.0\\\", \\\"azureml-core\\\": \\\"1.44.0\\\", \\\"azureml-contrib-services\\\": \\\"1.44.0\\\", \\\"azureml-contrib-server\\\": \\\"1.44.0\\\", \\\"azureml-contrib-reinforcementlearning\\\": \\\"1.44.0\\\", \\\"azureml-contrib-pipeline-steps\\\": \\\"1.44.0\\\", \\\"azureml-contrib-notebook\\\": \\\"1.44.0\\\", \\\"azureml-contrib-fairness\\\": \\\"1.44.0\\\", \\\"azureml-contrib-dataset\\\": \\\"1.44.0\\\", \\\"azureml-contrib-automl-pipeline-steps\\\": \\\"1.44.0\\\", \\\"azureml-cli-common\\\": \\\"1.44.0\\\", \\\"azureml-automl-runtime\\\": \\\"1.44.0\\\", \\\"azureml-automl-dnn-nlp\\\": \\\"1.44.0\\\", \\\"azureml-automl-core\\\": \\\"1.44.0\\\", \\\"azureml-accel-models\\\": \\\"1.44.0\\\"}\", \"_aml_system_scenario_identification\": \"Remote.Parent\", \"ClientType\": \"SDK\", \"environment_cpu_name\": \"AzureML-AutoML\", \"environment_cpu_label\": \"prod\", \"environment_gpu_name\": \"AzureML-AutoML-GPU\", \"environment_gpu_label\": \"prod\", \"root_attribution\": \"automl\", \"attribution\": \"AutoML\", \"Orchestrator\": \"AutoML\", \"CancelUri\": \"https://southcentralus.api.azureml.ms/jasmine/v1.0/subscriptions/9e65f93e-bdd8-437b-b1e8-0647cd6098f7/resourceGroups/aml-quickstarts-208799/providers/Microsoft.MachineLearningServices/workspaces/quick-starts-ws-208799/experimentids/a6bb4259-57d8-41e2-b573-2d4aeab47508/cancel/AutoML_285b02e6-769e-41c8-9e6b-143c00ed73ff\", \"ClientSdkVersion\": \"1.45.0\", \"snapshotId\": \"00000000-0000-0000-0000-000000000000\", \"SetupRunId\": \"AutoML_285b02e6-769e-41c8-9e6b-143c00ed73ff_setup\", \"SetupRunContainerId\": \"dcid.AutoML_285b02e6-769e-41c8-9e6b-143c00ed73ff_setup\"}, \"tags\": {\"model_explain_run\": \"best_run\", \"_aml_system_automl_run_workspace_id\": \"de9f4544-6190-458d-8204-0915aceed1eb\", \"_aml_system_azureml.automlComponent\": \"AutoML\"}, \"end_time_utc\": null, \"status\": \"Running\", \"log_files\": {}, \"log_groups\": [], \"run_duration\": \"0:06:07\", \"run_number\": \"1664121248\", \"run_queued_details\": {\"status\": \"Running\", \"details\": null}}, \"child_runs\": [{\"run_id\": \"AutoML_285b02e6-769e-41c8-9e6b-143c00ed73ff_setup\", \"run_number\": 1664121261, \"metric\": null, \"status\": \"Running\", \"run_type\": \"azureml.scriptrun\", \"training_percent\": null, \"start_time\": \"2022-09-25T15:57:36.907631Z\", \"end_time\": \"\", \"created_time\": \"2022-09-25T15:54:21.234455Z\", \"created_time_dt\": \"2022-09-25T15:54:21.234455Z\", \"duration\": \"0:05:54\", \"iteration\": null, \"goal\": null, \"run_name\": \"Running\", \"run_properties\": null}], \"children_metrics\": {\"categories\": null, \"series\": null, \"metricName\": null}, \"run_metrics\": [{\"name\": \"experiment_status\", \"run_id\": \"AutoML_285b02e6-769e-41c8-9e6b-143c00ed73ff\", \"categories\": [0, 1], \"series\": [{\"data\": [\"DatasetEvaluation\", \"FeaturesGeneration\"]}]}, {\"name\": \"experiment_status_description\", \"run_id\": \"AutoML_285b02e6-769e-41c8-9e6b-143c00ed73ff\", \"categories\": [0, 1], \"series\": [{\"data\": [\"Gathering dataset statistics.\", \"Generating features for the dataset.\"]}]}], \"run_logs\": \"Your job is submitted in Azure cloud and we are monitoring to get logs...\", \"graph\": {}, \"widget_settings\": {\"childWidgetDisplay\": \"popup\", \"send_telemetry\": false, \"log_level\": \"INFO\", \"sdk_version\": \"1.44.0\"}, \"loading\": false}"
          },
          "metadata": {}
        }
      ],
      "execution_count": 8,
      "metadata": {
        "gather": {
          "logged": 1664121297580
        },
        "jupyter": {
          "outputs_hidden": false,
          "source_hidden": false
        },
        "nteract": {
          "transient": {
            "deleting": false
          }
        }
      }
    },
    {
      "cell_type": "code",
      "source": [
        "remote_run.wait_for_completion()"
      ],
      "outputs": [],
      "execution_count": 9,
      "metadata": {
        "gather": {
          "logged": 1664085018116
        },
        "jupyter": {
          "outputs_hidden": false,
          "source_hidden": false
        },
        "nteract": {
          "transient": {
            "deleting": false
          }
        }
      }
    },
    {
      "cell_type": "markdown",
      "source": [
        "### Get the best model and display its properties"
      ],
      "metadata": {}
    },
    {
      "cell_type": "code",
      "source": [
        "best_run, fitted_model = remote_run.get_output()\n",
        "\n",
        "# Get best_run metrics\n",
        "best_run_metrics = best_run.get_metrics()\n",
        "for name, value in best_run_metrics.items():\n",
        "    print(f\"{name}: {value}\")"
      ],
      "outputs": [],
      "execution_count": null,
      "metadata": {
        "gather": {
          "logged": 1664085030239
        },
        "jupyter": {
          "outputs_hidden": false,
          "source_hidden": false
        },
        "nteract": {
          "transient": {
            "deleting": false
          }
        }
      }
    },
    {
      "cell_type": "code",
      "source": [
        "best_run.get_file_names()"
      ],
      "outputs": [],
      "execution_count": null,
      "metadata": {
        "gather": {
          "logged": 1664085030353
        },
        "jupyter": {
          "outputs_hidden": false,
          "source_hidden": false
        },
        "nteract": {
          "transient": {
            "deleting": false
          }
        }
      }
    },
    {
      "cell_type": "markdown",
      "source": [
        "### Save the model"
      ],
      "metadata": {
        "nteract": {
          "transient": {
            "deleting": false
          }
        }
      }
    },
    {
      "cell_type": "code",
      "source": [
        "import joblib\n",
        "joblib.dump(fitted_model, 'best-automl-model.pkl')"
      ],
      "outputs": [],
      "execution_count": null,
      "metadata": {
        "gather": {
          "logged": 1664085112404
        },
        "jupyter": {
          "outputs_hidden": false,
          "source_hidden": false
        },
        "nteract": {
          "transient": {
            "deleting": false
          }
        }
      }
    },
    {
      "cell_type": "markdown",
      "source": [
        "### Register the best model"
      ],
      "metadata": {
        "nteract": {
          "transient": {
            "deleting": false
          }
        }
      }
    },
    {
      "cell_type": "code",
      "source": [
        "from azureml.core import Model\n",
        "model = Model.register(\n",
        "    workspace=ws, \n",
        "    model_name='best-automl-model', \n",
        "    model_path='./best-automl-model.pkl'\n",
        ")"
      ],
      "outputs": [],
      "execution_count": null,
      "metadata": {
        "gather": {
          "logged": 1664095036345
        },
        "jupyter": {
          "outputs_hidden": false,
          "source_hidden": false
        },
        "nteract": {
          "transient": {
            "deleting": false
          }
        }
      }
    },
    {
      "cell_type": "markdown",
      "source": [
        "# Model Deployment"
      ],
      "metadata": {}
    },
    {
      "cell_type": "markdown",
      "source": [
        "### Create an inference config"
      ],
      "metadata": {
        "nteract": {
          "transient": {
            "deleting": false
          }
        }
      }
    },
    {
      "cell_type": "code",
      "source": [
        "from azureml.core import Environment\n",
        "from azureml.core.model import InferenceConfig\n",
        "\n",
        "# Get the environment\n",
        "from azureml.automl.core.shared import constants\n",
        "\n",
        "best_run.download_file(constants.CONDA_ENV_FILE_PATH, 'conda_dependencies.yml')\n",
        "env = Environment.from_conda_specification(name='deployment-env', file_path='conda_dependencies.yml')\n",
        "\n",
        "inference_config = InferenceConfig(\n",
        "    environment=env,\n",
        "    source_directory=\".\",\n",
        "    entry_script=\"./automl_score.py\",\n",
        ")"
      ],
      "outputs": [],
      "execution_count": 81,
      "metadata": {
        "gather": {
          "logged": 1664128442553
        },
        "jupyter": {
          "outputs_hidden": false,
          "source_hidden": false
        },
        "nteract": {
          "transient": {
            "deleting": false
          }
        }
      }
    },
    {
      "cell_type": "markdown",
      "source": [
        "### Define the deployment config - we deploy on Azure Container Instance (ACI)"
      ],
      "metadata": {
        "nteract": {
          "transient": {
            "deleting": false
          }
        }
      }
    },
    {
      "cell_type": "code",
      "source": [
        "from azureml.core.webservice import AciWebservice\n",
        "\n",
        "deployment_config = AciWebservice.deploy_configuration(\n",
        "    cpu_cores=1, memory_gb=2, auth_enabled=True, enable_app_insights=True\n",
        ")"
      ],
      "outputs": [],
      "execution_count": 82,
      "metadata": {
        "gather": {
          "logged": 1664128442658
        },
        "jupyter": {
          "outputs_hidden": false,
          "source_hidden": false
        },
        "nteract": {
          "transient": {
            "deleting": false
          }
        }
      }
    },
    {
      "cell_type": "markdown",
      "source": [
        "### Deploy the model as a web service"
      ],
      "metadata": {
        "nteract": {
          "transient": {
            "deleting": false
          }
        }
      }
    },
    {
      "cell_type": "code",
      "source": [
        "from azureml.core.model import Model\n",
        "service = Model.deploy(\n",
        "    ws,\n",
        "    \"automl-service\",\n",
        "    [model],\n",
        "    inference_config,\n",
        "    deployment_config,\n",
        "    overwrite=True,\n",
        ")\n",
        "service.wait_for_deployment(show_output=True)"
      ],
      "outputs": [
        {
          "output_type": "stream",
          "name": "stdout",
          "text": "Tips: You can try get_logs(): https://aka.ms/debugimage#dockerlog or local deployment: https://aka.ms/debugimage#debug-locally to debug if deployment takes longer than 10 minutes.\nRunning\n2022-09-25 17:54:09+00:00 Creating Container Registry if not exists.\n2022-09-25 17:54:09+00:00 Registering the environment.\n2022-09-25 17:54:09+00:00 Use the existing image.\n2022-09-25 17:54:09+00:00 Generating deployment configuration.\n2022-09-25 17:54:10+00:00 Submitting deployment to compute.\n2022-09-25 17:54:11+00:00 Checking the status of deployment automl-service..\n2022-09-25 17:56:03+00:00 Checking the status of inference endpoint automl-service.\nSucceeded\nACI service creation operation finished, operation \"Succeeded\"\n"
        }
      ],
      "execution_count": 83,
      "metadata": {
        "gather": {
          "logged": 1664128565584
        },
        "jupyter": {
          "outputs_hidden": false,
          "source_hidden": false
        },
        "nteract": {
          "transient": {
            "deleting": false
          }
        }
      }
    },
    {
      "cell_type": "markdown",
      "source": [
        "### Send a request to the web service you deployed to test it"
      ],
      "metadata": {
        "collapsed": true,
        "gather": {
          "logged": 1598431657736
        },
        "jupyter": {
          "outputs_hidden": false,
          "source_hidden": false
        },
        "nteract": {
          "transient": {
            "deleting": false
          }
        }
      }
    },
    {
      "cell_type": "code",
      "source": [
        "import requests\n",
        "import json\n",
        "from azureml.core import Webservice\n",
        "\n",
        "service = Webservice(workspace=ws, name=\"automl-service\")\n",
        "scoring_uri = service.scoring_uri\n",
        "\n",
        "# If the service is authenticated, set the key or token\n",
        "key, _ = service.get_keys()\n",
        "\n",
        "# Set the appropriate headers\n",
        "headers = {\"Content-Type\": \"application/json\"}\n",
        "headers[\"Authorization\"] = f\"Bearer {key}\"\n",
        "\n",
        "# Make the request and display the response and logs\n",
        "data =  {\n",
        "  \"Inputs\": {\n",
        "    \"data\": [\n",
        "      {\n",
        "        \"Message\": \"\",\n",
        "        \"Column3\": \"\"\n",
        "     }\n",
        "    ]\n",
        "  }\n",
        "}\n",
        "\n",
        "input_data = json.dumps(data)\n",
        "resp = requests.post(scoring_uri, data=input_data, headers=headers)\n",
        "print(resp.json())"
      ],
      "outputs": [
        {
          "output_type": "stream",
          "name": "stdout",
          "text": "{\"result\": [\"ham\"]}\n"
        }
      ],
      "execution_count": 84,
      "metadata": {
        "gather": {
          "logged": 1664128567177
        },
        "jupyter": {
          "outputs_hidden": false,
          "source_hidden": false
        },
        "nteract": {
          "transient": {
            "deleting": false
          }
        }
      }
    },
    {
      "cell_type": "markdown",
      "source": [
        "### Print the logs of the web service"
      ],
      "metadata": {
        "collapsed": true,
        "gather": {
          "logged": 1598432765711
        },
        "jupyter": {
          "outputs_hidden": false,
          "source_hidden": false
        },
        "nteract": {
          "transient": {
            "deleting": false
          }
        }
      }
    },
    {
      "cell_type": "code",
      "source": [
        "print(service.get_logs())"
      ],
      "outputs": [
        {
          "output_type": "stream",
          "name": "stdout",
          "text": "/bin/bash: /azureml-envs/azureml_944df6c9e2b12a3bdcde13b5b8baccf0/lib/libtinfo.so.6: no version information available (required by /bin/bash)\n/bin/bash: /azureml-envs/azureml_944df6c9e2b12a3bdcde13b5b8baccf0/lib/libtinfo.so.6: no version information available (required by /bin/bash)\n/bin/bash: /azureml-envs/azureml_944df6c9e2b12a3bdcde13b5b8baccf0/lib/libtinfo.so.6: no version information available (required by /bin/bash)\n/bin/bash: /azureml-envs/azureml_944df6c9e2b12a3bdcde13b5b8baccf0/lib/libtinfo.so.6: no version information available (required by /bin/bash)\n2022-09-25T17:55:28,224582600+00:00 - rsyslog/run \nbash: /azureml-envs/azureml_944df6c9e2b12a3bdcde13b5b8baccf0/lib/libtinfo.so.6: no version information available (required by bash)\n2022-09-25T17:55:28,240078100+00:00 - gunicorn/run \n2022-09-25T17:55:28,241451000+00:00 - iot-server/run \n2022-09-25T17:55:28,241645200+00:00 - nginx/run \n2022-09-25T17:55:28,248657700+00:00 | gunicorn/run | \n2022-09-25T17:55:28,258713100+00:00 | gunicorn/run | ###############################################\n2022-09-25T17:55:28,261503400+00:00 | gunicorn/run | AzureML Container Runtime Information\n2022-09-25T17:55:28,266787200+00:00 | gunicorn/run | ###############################################\nrsyslogd: /azureml-envs/azureml_944df6c9e2b12a3bdcde13b5b8baccf0/lib/libuuid.so.1: no version information available (required by rsyslogd)\n2022-09-25T17:55:28,292525100+00:00 | gunicorn/run | \n2022-09-25T17:55:28,299556300+00:00 | gunicorn/run | \n2022-09-25T17:55:28,311691700+00:00 | gunicorn/run | AzureML image information: openmpi4.1.0-ubuntu20.04, Materializaton Build:20220708.v2\n2022-09-25T17:55:28,314515800+00:00 | gunicorn/run | \n2022-09-25T17:55:28,317523900+00:00 | gunicorn/run | \n2022-09-25T17:55:28,322404300+00:00 | gunicorn/run | PATH environment variable: /azureml-envs/azureml_944df6c9e2b12a3bdcde13b5b8baccf0/bin:/opt/miniconda/bin:/usr/local/sbin:/usr/local/bin:/usr/sbin:/usr/bin:/sbin:/bin\n2022-09-25T17:55:28,325018600+00:00 | gunicorn/run | PYTHONPATH environment variable: \n2022-09-25T17:55:28,331504100+00:00 | gunicorn/run | \n2022-09-25T17:55:28,334084800+00:00 | gunicorn/run | Pip Dependencies (before dynamic installation)\n\nEdgeHubConnectionString and IOTEDGE_IOTHUBHOSTNAME are not set. Exiting...\n/bin/bash: /azureml-envs/azureml_944df6c9e2b12a3bdcde13b5b8baccf0/lib/libtinfo.so.6: no version information available (required by /bin/bash)\n2022-09-25T17:55:28,628549900+00:00 - iot-server/finish 1 0\n2022-09-25T17:55:28,634745500+00:00 - Exit code 1 is normal. Not restarting iot-server.\nadal==1.2.7\napplicationinsights==0.11.10\nargcomplete==2.0.0\nattrs==22.1.0\nazure-common==1.1.28\nazure-core==1.25.1\nazure-graphrbac==0.61.1\nazure-identity==1.7.0\nazure-mgmt-authorization==2.0.0\nazure-mgmt-containerregistry==10.0.0\nazure-mgmt-core==1.3.2\nazure-mgmt-keyvault==10.1.0\nazure-mgmt-resource==21.1.0\nazure-mgmt-storage==20.0.0\nazure-storage-blob==12.13.0\nazure-storage-queue==12.4.0\nazureml-automl-core==1.45.0\nazureml-automl-runtime==1.45.0\nazureml-core==1.45.0.post2\nazureml-dataprep==4.2.2\nazureml-dataprep-native==38.0.0\nazureml-dataprep-rslex==2.8.1\nazureml-dataset-runtime==1.45.0\nazureml-defaults==1.45.0\nazureml-inference-server-http==0.7.6\nazureml-interpret==1.45.0\nazureml-mlflow==1.45.0\nazureml-telemetry==1.45.0\nazureml-train-automl-client==1.45.0\nazureml-train-automl-runtime==1.45.0\nazureml-train-core==1.45.0\nazureml-train-restclients-hyperdrive==1.45.0\nazureml-training-tabular==1.45.0\nbackports.tempfile==1.0\nbackports.weakref==1.0.post1\nbcrypt==4.0.0\nbokeh==2.4.3\nboto==2.49.0\nboto3==1.20.19\nbotocore==1.23.19\ncachetools==5.2.0\ncertifi @ file:///opt/conda/conda-bld/certifi_1655968806487/work/certifi\ncffi==1.15.1\ncharset-normalizer==2.1.1\nclick==7.1.2\ncloudpickle==2.2.0\nconfigparser==3.7.4\ncontextlib2==21.6.0\nconvertdate @ file:///tmp/build/80754af9/convertdate_1634070773133/work\ncryptography==37.0.4\ncycler @ file:///tmp/build/80754af9/cycler_1637851556182/work\nCython==0.29.17\ndask==2.30.0\ndatabricks-cli==0.17.3\ndataclasses==0.6\ndill==0.3.5.1\ndistributed==2.30.1\ndistro==1.7.0\ndocker==5.0.3\ndotnetcore2==3.1.23\nentrypoints==0.4\nephem @ file:///tmp/build/80754af9/ephem_1638960312619/work\nfbprophet @ file:///home/conda/feedstock_root/build_artifacts/fbprophet_1599365534439/work\nfire==0.4.0\nFlask==1.1.4\nFlask-Cors==3.0.10\nflatbuffers==2.0.7\nfonttools==4.25.0\nfsspec==2022.8.2\nfusepy==3.0.1\ngensim==3.8.3\ngitdb==4.0.9\nGitPython==3.1.27\ngoogle-api-core==2.10.1\ngoogle-auth==2.11.1\ngoogleapis-common-protos==1.56.4\ngunicorn==20.1.0\nHeapDict==1.0.1\nholidays @ file:///home/conda/feedstock_root/build_artifacts/holidays_1595448845196/work\nhumanfriendly==10.0\nidna==3.4\nimportlib-metadata==4.12.0\nimportlib-resources==5.9.0\ninference-schema==1.4.2.1\ninterpret-community==0.26.0\ninterpret-core==0.2.7\nisodate==0.6.1\nitsdangerous==1.1.0\njeepney==0.8.0\nJinja2==2.11.2\njmespath==0.10.0\njoblib==0.14.1\njson-logging-py==0.2\njsonpickle==2.2.0\njsonschema==4.16.0\nkeras2onnx==1.6.0\nkiwisolver @ file:///opt/conda/conda-bld/kiwisolver_1653292039266/work\nknack==0.9.0\nkorean-lunar-calendar @ file:///tmp/build/80754af9/korean_lunar_calendar_1634063020401/work\nlightgbm==3.2.1\nllvmlite==0.38.1\nlocket==1.0.0\nLunarCalendar @ file:///tmp/build/80754af9/lunarcalendar_1646383991234/work\nMarkupSafe==2.0.1\nmatplotlib @ file:///tmp/build/80754af9/matplotlib-suite_1647441664166/work\nml-wrappers==0.2.0\nmlflow-skinny==1.29.0\nmsal==1.19.0\nmsal-extensions==0.3.1\nmsgpack==1.0.4\nmsrest==0.7.1\nmsrestazure==0.6.4\nmunkres==1.1.4\nndg-httpsclient==0.5.1\nnimbusml==1.8.0\nnumba==0.55.2\nnumpy @ file:///home/conda/feedstock_root/build_artifacts/numpy_1649806299270/work\noauthlib==3.2.1\nonnx==1.12.0\nonnxconverter-common==1.6.0\nonnxmltools==1.4.1\nonnxruntime==1.11.1\nopencensus==0.11.0\nopencensus-context==0.1.3\nopencensus-ext-azure==1.1.7\npackaging @ file:///tmp/build/80754af9/packaging_1637314298585/work\npandas==1.1.5\nparamiko==2.11.0\npartd==1.3.0\npathspec==0.10.1\npatsy==0.5.2\nPillow==9.2.0\npkginfo==1.8.3\npkgutil_resolve_name==1.3.10\nply==3.11\npmdarima==1.7.1\nportalocker==2.5.1\nprotobuf==3.20.1\npsutil @ file:///opt/conda/conda-bld/psutil_1656431268089/work\npyarrow==6.0.0\npyasn1==0.4.8\npyasn1-modules==0.2.8\npycparser==2.21\nPygments==2.13.0\nPyJWT==2.5.0\nPyMeeus @ file:///tmp/build/80754af9/pymeeus_1634069098549/work\nPyNaCl==1.5.0\npyOpenSSL==22.0.0\npyparsing @ file:///tmp/build/80754af9/pyparsing_1635766073266/work\nPyQt5-sip==12.11.0\npyrsistent==0.18.1\nPySocks==1.7.1\npystan==2.17.1.0\npython-dateutil @ file:///tmp/build/80754af9/python-dateutil_1626374649649/work\npytz @ file:///opt/conda/conda-bld/pytz_1654762638606/work\nPyYAML==6.0\nrequests==2.28.1\nrequests-oauthlib==1.3.1\nrsa==4.9\ns3transfer==0.5.2\nscikit-learn==0.22.1\nscipy==1.5.3\nSecretStorage==3.3.3\nshap==0.39.0\nsip @ file:///tmp/abs_44cd77b_pu/croots/recipe/sip_1659012365470/work\nsix @ file:///tmp/build/80754af9/six_1644875935023/work\nskl2onnx==1.4.9\nsklearn-pandas==1.7.0\nslicer==0.0.7\nsmart-open==1.9.0\nsmmap==5.0.0\nsortedcontainers==2.4.0\nsqlparse==0.4.3\nstatsmodels==0.11.1\ntabulate==0.8.10\ntblib==1.7.0\ntermcolor==2.0.1\ntoml @ file:///tmp/build/80754af9/toml_1616166611790/work\ntoolz==0.12.0\ntornado @ file:///tmp/build/80754af9/tornado_1606942283357/work\ntqdm @ file:///opt/conda/conda-bld/tqdm_1650891076910/work\ntypes-cryptography==3.3.23\ntyping_extensions @ file:///tmp/abs_ben9emwtky/croots/recipe/typing_extensions_1659638822008/work\nurllib3==1.26.12\nwebsocket-client==1.4.1\nWerkzeug==1.0.1\nwrapt==1.12.1\nxgboost==1.3.3\nzict==2.2.0\nzipp==3.8.1\n\n2022-09-25T17:55:30,523448600+00:00 | gunicorn/run | \n2022-09-25T17:55:30,525594500+00:00 | gunicorn/run | ###############################################\n2022-09-25T17:55:30,527720600+00:00 | gunicorn/run | AzureML Inference Server\n2022-09-25T17:55:30,533159300+00:00 | gunicorn/run | ###############################################\n2022-09-25T17:55:30,534800400+00:00 | gunicorn/run | \n2022-09-25T17:55:34,166788913+00:00 | gunicorn/run | Starting AzureML Inference Server HTTP.\nValid Application Insights instrumentation key provided.\n\nAzure ML Inferencing HTTP server v0.7.6\n\n\nServer Settings\n---------------\nEntry Script Name: /var/azureml-app/odl_user_208799/automl_score.py\nModel Directory: /var/azureml-app/azureml-models/best-automl-model/1\nWorker Count: 1\nWorker Timeout (seconds): 300\nServer Port: 31311\nApplication Insights Enabled: true\nApplication Insights Key: AppInsights key provided\nInferencing HTTP server version: azmlinfsrv/0.7.6\nCORS for the specified origins: None\n\n\nServer Routes\n---------------\nLiveness Probe: GET   127.0.0.1:31311/\nScore:          POST  127.0.0.1:31311/score\n\nStarting gunicorn 20.1.0\nListening at: http://0.0.0.0:31311 (77)\nUsing worker: sync\nBooting worker with pid: 134\nInitializing logger\n2022-09-25 17:55:35,364 | root | INFO | Starting up app insights client\nDeprecationWarning: Explicitly using instrumentation key isdeprecated. Please use a connection string instead.\nDeprecationWarning: Explicitly using instrumentation key isdeprecated. Please use a connection string instead.\nDeprecationWarning: Explicitly using instrumentation key isdeprecated. Please use a connection string instead.\nlogging socket was found. logging is available.\nlogging socket was found. logging is available.\n2022-09-25 17:55:40,599 | root | INFO | Starting up app insight hooks\n2022-09-25 17:55:41,406 | root | INFO | Found user script at /var/azureml-app/odl_user_208799/automl_score.py\n2022-09-25 17:55:41,406 | root | INFO | run() is not decorated. Server will invoke it with the input in JSON string.\n2022-09-25 17:55:41,407 | root | INFO | Invoking user's init function\n2022-09-25 17:55:53,141 | root | INFO | Users's init has completed successfully\n2022-09-25 17:55:53,146 | root | INFO | Swaggers are prepared for the following versions: [2, 3].\n2022-09-25 17:55:53,147 | root | INFO | Scoring timeout is found from os.environ: 60000 ms\n2022-09-25 17:55:53,148 | root | INFO | AML_FLASK_ONE_COMPATIBILITY is set, but patching is not necessary.\n2022-09-25 17:56:03,073 | root | INFO | 200\n127.0.0.1 - - [25/Sep/2022:17:56:03 +0000] \"GET /swagger.json HTTP/1.0\" 200 2261 \"-\" \"Go-http-client/1.1\"\n2022-09-25 17:56:05,370 | root | INFO | 200\n127.0.0.1 - - [25/Sep/2022:17:56:05 +0000] \"GET /swagger.json HTTP/1.0\" 200 2261 \"-\" \"Go-http-client/1.1\"\n2022-09-25 17:56:05,843 | root | INFO | 200\n127.0.0.1 - - [25/Sep/2022:17:56:05 +0000] \"GET /swagger.json HTTP/1.0\" 200 2261 \"-\" \"Go-http-client/1.1\"\n2022-09-25 17:56:06,669 | root | INFO | 200\n127.0.0.1 - - [25/Sep/2022:17:56:06 +0000] \"POST /score HTTP/1.0\" 200 25 \"-\" \"python-requests/2.28.1\"\n\n"
        }
      ],
      "execution_count": 85,
      "metadata": {
        "gather": {
          "logged": 1664128871273
        },
        "jupyter": {
          "outputs_hidden": false,
          "source_hidden": false
        },
        "nteract": {
          "transient": {
            "deleting": false
          }
        }
      }
    },
    {
      "cell_type": "markdown",
      "source": [
        "### Delete the web service"
      ],
      "metadata": {
        "nteract": {
          "transient": {
            "deleting": false
          }
        }
      }
    },
    {
      "cell_type": "code",
      "source": [
        "service.delete()"
      ],
      "outputs": [],
      "execution_count": null,
      "metadata": {
        "gather": {
          "logged": 1664010258106
        },
        "jupyter": {
          "outputs_hidden": false,
          "source_hidden": false
        },
        "nteract": {
          "transient": {
            "deleting": false
          }
        }
      }
    },
    {
      "cell_type": "markdown",
      "source": [
        "### Shutdown the computes"
      ],
      "metadata": {
        "nteract": {
          "transient": {
            "deleting": false
          }
        }
      }
    },
    {
      "cell_type": "code",
      "source": [
        "try:\n",
        "    instance = ComputeTarget(workspace=ws, name=compute_target)\n",
        "\n",
        "    instance.delete()\n",
        "    instance.wait_for_completion(show_output=True)\n",
        "    print('Deleted compute resource')\n",
        "\n",
        "except ComputeTargetException:\n",
        "    print('Already deleted!')"
      ],
      "outputs": [],
      "execution_count": null,
      "metadata": {
        "gather": {
          "logged": 1664010258111
        },
        "jupyter": {
          "outputs_hidden": false,
          "source_hidden": false
        },
        "nteract": {
          "transient": {
            "deleting": false
          }
        }
      }
    },
    {
      "cell_type": "markdown",
      "source": [
        "**Submission Checklist**\n",
        "- I have registered the model.\n",
        "- I have deployed the model with the best accuracy as a webservice.\n",
        "- I have tested the webservice by sending a request to the model endpoint.\n",
        "- I have deleted the webservice and shutdown all the computes that I have used.\n",
        "- I have taken a screenshot showing the model endpoint as active.\n",
        "- The project includes a file containing the environment details.\n"
      ],
      "metadata": {}
    },
    {
      "cell_type": "markdown",
      "source": [],
      "metadata": {}
    }
  ],
  "metadata": {
    "kernel_info": {
      "name": "python3"
    },
    "kernelspec": {
      "name": "python3",
      "language": "python",
      "display_name": "Python 3 (ipykernel)"
    },
    "language_info": {
      "name": "python",
      "version": "3.8.5",
      "mimetype": "text/x-python",
      "codemirror_mode": {
        "name": "ipython",
        "version": 3
      },
      "pygments_lexer": "ipython3",
      "nbconvert_exporter": "python",
      "file_extension": ".py"
    },
    "microsoft": {
      "host": {
        "AzureML": {
          "notebookHasBeenCompleted": true
        }
      }
    },
    "nteract": {
      "version": "nteract-front-end@1.0.0"
    },
    "vscode": {
      "interpreter": {
        "hash": "31f2aee4e71d21fbe5cf8b01ff0e069b9275f58929596ceb00d14d90e3e16cd6"
      }
    }
  },
  "nbformat": 4,
  "nbformat_minor": 2
}