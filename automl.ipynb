{
  "cells": [
    {
      "cell_type": "markdown",
      "source": [
        "# Automated ML"
      ],
      "metadata": {}
    },
    {
      "cell_type": "markdown",
      "source": [
        "### Import libraries"
      ],
      "metadata": {
        "nteract": {
          "transient": {
            "deleting": false
          }
        }
      }
    },
    {
      "cell_type": "code",
      "source": [
        "from azureml.core import Workspace, Experiment"
      ],
      "outputs": [],
      "execution_count": 1,
      "metadata": {
        "gather": {
          "logged": 1663835960443
        },
        "jupyter": {
          "outputs_hidden": false,
          "source_hidden": false
        },
        "nteract": {
          "transient": {
            "deleting": false
          }
        }
      }
    },
    {
      "cell_type": "markdown",
      "source": [
        "### Create workspace and experiment instances"
      ],
      "metadata": {
        "nteract": {
          "transient": {
            "deleting": false
          }
        }
      }
    },
    {
      "cell_type": "code",
      "source": [
        "ws = Workspace.from_config()\n",
        "\n",
        "# choose a name for experiment\n",
        "experiment_name = 'capstone-spam-classification-experiment'\n",
        "\n",
        "experiment=Experiment(ws, experiment_name)"
      ],
      "outputs": [],
      "execution_count": 2,
      "metadata": {
        "gather": {
          "logged": 1663835962078
        },
        "jupyter": {
          "outputs_hidden": false,
          "source_hidden": false
        },
        "nteract": {
          "transient": {
            "deleting": false
          }
        }
      }
    },
    {
      "cell_type": "markdown",
      "source": [
        "###  Dataset Overview\n",
        "The dataset we are using is a spam classification dataset obtained from kaggle. We are going to perform multi-class text classification. "
      ],
      "metadata": {}
    },
    {
      "cell_type": "markdown",
      "source": [
        "### Get data"
      ],
      "metadata": {
        "nteract": {
          "transient": {
            "deleting": false
          }
        }
      }
    },
    {
      "cell_type": "code",
      "source": [
        "from azureml.core import Dataset\n",
        "training_dataset = Dataset.get_by_name(ws, name='capstone-spam-dataset')"
      ],
      "outputs": [],
      "execution_count": 3,
      "metadata": {
        "jupyter": {
          "source_hidden": false,
          "outputs_hidden": false
        },
        "nteract": {
          "transient": {
            "deleting": false
          }
        },
        "gather": {
          "logged": 1663835962285
        }
      }
    },
    {
      "cell_type": "markdown",
      "source": [
        "### Connect to compute target"
      ],
      "metadata": {
        "nteract": {
          "transient": {
            "deleting": false
          }
        }
      }
    },
    {
      "cell_type": "code",
      "source": [
        "from azureml.core.compute import ComputeTarget, AmlCompute\n",
        "from azureml.core.compute_target import ComputeTargetException\n",
        "\n",
        "# TODO: Create compute cluster\n",
        "cluster_name = \"capstone-compute-cluster\"\n",
        "\n",
        "# Verify that cluster does not exist already\n",
        "try:\n",
        "    compute_target = ComputeTarget(workspace=ws, name=cluster_name)\n",
        "    print('Found existing cluster, use it.')\n",
        "except ComputeTargetException:\n",
        "    # To use a different region for the compute, add a location='<region>' parameter\n",
        "    compute_config = AmlCompute.provisioning_configuration(vm_size='STANDARD_D2_V2', max_nodes=4)\n",
        "    compute_target = ComputeTarget.create(ws, cluster_name, compute_config)\n",
        "\n",
        "compute_target.wait_for_completion(show_output=True)"
      ],
      "outputs": [
        {
          "output_type": "stream",
          "name": "stdout",
          "text": "Found existing cluster, use it.\nSucceeded\nAmlCompute wait for completion finished\n\nMinimum number of nodes requested have been provisioned\n"
        }
      ],
      "execution_count": 4,
      "metadata": {
        "jupyter": {
          "source_hidden": false,
          "outputs_hidden": false
        },
        "nteract": {
          "transient": {
            "deleting": false
          }
        },
        "gather": {
          "logged": 1663835962843
        }
      }
    },
    {
      "cell_type": "markdown",
      "source": [
        "## AutoML Configuration\n",
        "\n",
        "TODO: Explain why you chose the automl settings and cofiguration you used below."
      ],
      "metadata": {}
    },
    {
      "cell_type": "code",
      "source": [
        "from azureml.train.automl import AutoMLConfig\n",
        "\n",
        "automl_settings = {\n",
        "    \"n_cross_validations\": 2,\n",
        "    \"primary_metric\": 'accuracy',\n",
        "    \"enable_early_stopping\": True,\n",
        "    \"max_concurrent_iterations\": 5,\n",
        "    \"experiment_timeout_hours\": 0.25,\n",
        "    \"featurization\": 'auto',\n",
        "}\n",
        "\n",
        "automl_config = AutoMLConfig(\n",
        "    task = 'classification',\n",
        "    compute_target = compute_target,\n",
        "    training_data = training_dataset,\n",
        "    label_column_name = 'Category',\n",
        "    **automl_settings\n",
        ")"
      ],
      "outputs": [],
      "execution_count": 5,
      "metadata": {
        "gather": {
          "logged": 1663835962912
        },
        "jupyter": {
          "outputs_hidden": false,
          "source_hidden": false
        },
        "nteract": {
          "transient": {
            "deleting": false
          }
        }
      }
    },
    {
      "cell_type": "code",
      "source": [
        "# TODO: Submit your experiment\n",
        "remote_run = experiment.submit(automl_config)"
      ],
      "outputs": [
        {
          "output_type": "stream",
          "name": "stdout",
          "text": "Submitting remote run.\n"
        },
        {
          "output_type": "display_data",
          "data": {
            "text/plain": "<IPython.core.display.HTML object>",
            "text/html": "<table style=\"width:100%\"><tr><th>Experiment</th><th>Id</th><th>Type</th><th>Status</th><th>Details Page</th><th>Docs Page</th></tr><tr><td>capstone-spam-classification-experiment</td><td>AutoML_24da6a42-eeb8-4270-b730-f04a69d8b1be</td><td>automl</td><td>NotStarted</td><td><a href=\"https://ml.azure.com/runs/AutoML_24da6a42-eeb8-4270-b730-f04a69d8b1be?wsid=/subscriptions/3d1a56d2-7c81-4118-9790-f85d1acf0c77/resourcegroups/aml-quickstarts-208297/workspaces/quick-starts-ws-208297&amp;tid=660b3398-b80e-49d2-bc5b-ac1dc93b5254\" target=\"_blank\" rel=\"noopener\">Link to Azure Machine Learning studio</a></td><td><a href=\"https://docs.microsoft.com/en-us/python/api/overview/azure/ml/intro?view=azure-ml-py\" target=\"_blank\" rel=\"noopener\">Link to Documentation</a></td></tr></table>"
          },
          "metadata": {}
        }
      ],
      "execution_count": 6,
      "metadata": {
        "gather": {
          "logged": 1663835966752
        },
        "jupyter": {
          "outputs_hidden": false,
          "source_hidden": false
        },
        "nteract": {
          "transient": {
            "deleting": false
          }
        }
      }
    },
    {
      "cell_type": "markdown",
      "source": [
        "### Run Details"
      ],
      "metadata": {}
    },
    {
      "cell_type": "code",
      "source": [
        "from azureml.widgets import RunDetails\n",
        "RunDetails(remote_run).show()"
      ],
      "outputs": [
        {
          "output_type": "display_data",
          "data": {
            "text/plain": "_AutoMLWidget(widget_settings={'childWidgetDisplay': 'popup', 'send_telemetry': False, 'log_level': 'INFO', 's…",
            "application/vnd.jupyter.widget-view+json": {
              "version_major": 2,
              "version_minor": 0,
              "model_id": "23ca5153e1fc4515ab167ffddf9011af"
            }
          },
          "metadata": {}
        },
        {
          "output_type": "display_data",
          "data": {
            "application/aml.mini.widget.v1": "{\"status\": \"Completed\", \"workbench_run_details_uri\": \"https://ml.azure.com/runs/AutoML_24da6a42-eeb8-4270-b730-f04a69d8b1be?wsid=/subscriptions/3d1a56d2-7c81-4118-9790-f85d1acf0c77/resourcegroups/aml-quickstarts-208297/workspaces/quick-starts-ws-208297&tid=660b3398-b80e-49d2-bc5b-ac1dc93b5254\", \"run_id\": \"AutoML_24da6a42-eeb8-4270-b730-f04a69d8b1be\", \"run_properties\": {\"run_id\": \"AutoML_24da6a42-eeb8-4270-b730-f04a69d8b1be\", \"created_utc\": \"2022-09-22T08:39:25.240893Z\", \"properties\": {\"num_iterations\": \"1000\", \"training_type\": \"TrainFull\", \"acquisition_function\": \"EI\", \"primary_metric\": \"accuracy\", \"train_split\": \"0\", \"acquisition_parameter\": \"0\", \"num_cross_validation\": \"2\", \"target\": \"capstone-compute-cluster\", \"AMLSettingsJsonString\": \"{\\\"path\\\":null,\\\"name\\\":\\\"capstone-spam-classification-experiment\\\",\\\"subscription_id\\\":\\\"3d1a56d2-7c81-4118-9790-f85d1acf0c77\\\",\\\"resource_group\\\":\\\"aml-quickstarts-208297\\\",\\\"workspace_name\\\":\\\"quick-starts-ws-208297\\\",\\\"region\\\":\\\"southcentralus\\\",\\\"compute_target\\\":\\\"capstone-compute-cluster\\\",\\\"spark_service\\\":null,\\\"azure_service\\\":\\\"remote\\\",\\\"many_models\\\":false,\\\"pipeline_fetch_max_batch_size\\\":1,\\\"enable_batch_run\\\":true,\\\"enable_run_restructure\\\":false,\\\"start_auxiliary_runs_before_parent_complete\\\":false,\\\"enable_code_generation\\\":true,\\\"iterations\\\":1000,\\\"primary_metric\\\":\\\"accuracy\\\",\\\"task_type\\\":\\\"classification\\\",\\\"positive_label\\\":null,\\\"data_script\\\":null,\\\"test_size\\\":0.0,\\\"test_include_predictions_only\\\":false,\\\"validation_size\\\":0.0,\\\"n_cross_validations\\\":2,\\\"y_min\\\":null,\\\"y_max\\\":null,\\\"num_classes\\\":null,\\\"featurization\\\":\\\"auto\\\",\\\"_ignore_package_version_incompatibilities\\\":false,\\\"is_timeseries\\\":false,\\\"max_cores_per_iteration\\\":1,\\\"max_concurrent_iterations\\\":5,\\\"iteration_timeout_minutes\\\":null,\\\"mem_in_mb\\\":null,\\\"enforce_time_on_windows\\\":false,\\\"experiment_timeout_minutes\\\":15,\\\"experiment_exit_score\\\":null,\\\"partition_column_names\\\":null,\\\"whitelist_models\\\":null,\\\"blacklist_algos\\\":[\\\"TensorFlowLinearClassifier\\\",\\\"TensorFlowDNN\\\"],\\\"supported_models\\\":[\\\"TabnetClassifier\\\",\\\"DecisionTree\\\",\\\"MultinomialNaiveBayes\\\",\\\"KNN\\\",\\\"BernoulliNaiveBayes\\\",\\\"TensorFlowDNN\\\",\\\"LinearSVM\\\",\\\"AveragedPerceptronClassifier\\\",\\\"SVM\\\",\\\"SGD\\\",\\\"LightGBM\\\",\\\"ExtremeRandomTrees\\\",\\\"RandomForest\\\",\\\"XGBoostClassifier\\\",\\\"TensorFlowLinearClassifier\\\",\\\"GradientBoosting\\\",\\\"LogisticRegression\\\"],\\\"private_models\\\":[],\\\"auto_blacklist\\\":true,\\\"blacklist_samples_reached\\\":false,\\\"exclude_nan_labels\\\":true,\\\"verbosity\\\":20,\\\"_debug_log\\\":\\\"azureml_automl.log\\\",\\\"show_warnings\\\":false,\\\"model_explainability\\\":true,\\\"service_url\\\":null,\\\"sdk_url\\\":null,\\\"sdk_packages\\\":null,\\\"enable_onnx_compatible_models\\\":false,\\\"enable_split_onnx_featurizer_estimator_models\\\":false,\\\"vm_type\\\":\\\"STANDARD_D2_V2\\\",\\\"telemetry_verbosity\\\":20,\\\"send_telemetry\\\":true,\\\"enable_dnn\\\":false,\\\"scenario\\\":\\\"AutoML\\\",\\\"environment_label\\\":null,\\\"save_mlflow\\\":false,\\\"enable_categorical_indicators\\\":false,\\\"force_text_dnn\\\":false,\\\"enable_feature_sweeping\\\":true,\\\"enable_early_stopping\\\":true,\\\"early_stopping_n_iters\\\":10,\\\"arguments\\\":null,\\\"dataset_id\\\":\\\"1e4bd0ae-220a-456f-b757-6d18b95cbbe3\\\",\\\"hyperdrive_config\\\":null,\\\"validation_dataset_id\\\":null,\\\"run_source\\\":null,\\\"metrics\\\":null,\\\"enable_metric_confidence\\\":false,\\\"enable_ensembling\\\":true,\\\"enable_stack_ensembling\\\":true,\\\"ensemble_iterations\\\":15,\\\"enable_tf\\\":false,\\\"enable_subsampling\\\":null,\\\"subsample_seed\\\":null,\\\"enable_nimbusml\\\":false,\\\"enable_streaming\\\":false,\\\"force_streaming\\\":false,\\\"track_child_runs\\\":true,\\\"allowed_private_models\\\":[],\\\"label_column_name\\\":\\\"Category\\\",\\\"weight_column_name\\\":null,\\\"cv_split_column_names\\\":null,\\\"enable_local_managed\\\":false,\\\"_local_managed_run_id\\\":null,\\\"cost_mode\\\":1,\\\"lag_length\\\":0,\\\"metric_operation\\\":\\\"maximize\\\",\\\"preprocess\\\":true}\", \"DataPrepJsonString\": \"{\\\\\\\"training_data\\\\\\\": {\\\\\\\"datasetId\\\\\\\": \\\\\\\"1e4bd0ae-220a-456f-b757-6d18b95cbbe3\\\\\\\"}, \\\\\\\"datasets\\\\\\\": 0}\", \"EnableSubsampling\": null, \"runTemplate\": \"AutoML\", \"azureml.runsource\": \"automl\", \"display_task_type\": \"classification\", \"dependencies_versions\": \"{\\\"azureml-widgets\\\": \\\"1.44.0\\\", \\\"azureml-training-tabular\\\": \\\"1.44.0\\\", \\\"azureml-train\\\": \\\"1.44.0\\\", \\\"azureml-train-restclients-hyperdrive\\\": \\\"1.44.0\\\", \\\"azureml-train-core\\\": \\\"1.44.0\\\", \\\"azureml-train-automl\\\": \\\"1.44.0\\\", \\\"azureml-train-automl-runtime\\\": \\\"1.44.0\\\", \\\"azureml-train-automl-client\\\": \\\"1.44.0\\\", \\\"azureml-tensorboard\\\": \\\"1.44.0\\\", \\\"azureml-telemetry\\\": \\\"1.44.0\\\", \\\"azureml-sdk\\\": \\\"1.44.0\\\", \\\"azureml-samples\\\": \\\"0+unknown\\\", \\\"azureml-responsibleai\\\": \\\"1.44.0\\\", \\\"azureml-pipeline\\\": \\\"1.44.0\\\", \\\"azureml-pipeline-steps\\\": \\\"1.44.0\\\", \\\"azureml-pipeline-core\\\": \\\"1.44.0\\\", \\\"azureml-opendatasets\\\": \\\"1.44.0\\\", \\\"azureml-mlflow\\\": \\\"1.44.0\\\", \\\"azureml-interpret\\\": \\\"1.44.0\\\", \\\"azureml-inference-server-http\\\": \\\"0.7.4\\\", \\\"azureml-explain-model\\\": \\\"1.44.0\\\", \\\"azureml-defaults\\\": \\\"1.44.0\\\", \\\"azureml-dataset-runtime\\\": \\\"1.44.0\\\", \\\"azureml-dataprep\\\": \\\"4.2.2\\\", \\\"azureml-dataprep-rslex\\\": \\\"2.8.1\\\", \\\"azureml-dataprep-native\\\": \\\"38.0.0\\\", \\\"azureml-datadrift\\\": \\\"1.44.0\\\", \\\"azureml-core\\\": \\\"1.44.0\\\", \\\"azureml-contrib-services\\\": \\\"1.44.0\\\", \\\"azureml-contrib-server\\\": \\\"1.44.0\\\", \\\"azureml-contrib-reinforcementlearning\\\": \\\"1.44.0\\\", \\\"azureml-contrib-pipeline-steps\\\": \\\"1.44.0\\\", \\\"azureml-contrib-notebook\\\": \\\"1.44.0\\\", \\\"azureml-contrib-fairness\\\": \\\"1.44.0\\\", \\\"azureml-contrib-dataset\\\": \\\"1.44.0\\\", \\\"azureml-contrib-automl-pipeline-steps\\\": \\\"1.44.0\\\", \\\"azureml-cli-common\\\": \\\"1.44.0\\\", \\\"azureml-automl-runtime\\\": \\\"1.44.0\\\", \\\"azureml-automl-dnn-nlp\\\": \\\"1.44.0\\\", \\\"azureml-automl-core\\\": \\\"1.44.0\\\", \\\"azureml-accel-models\\\": \\\"1.44.0\\\"}\", \"_aml_system_scenario_identification\": \"Remote.Parent\", \"ClientType\": \"SDK\", \"environment_cpu_name\": \"AzureML-AutoML\", \"environment_cpu_label\": \"prod\", \"environment_gpu_name\": \"AzureML-AutoML-GPU\", \"environment_gpu_label\": \"prod\", \"root_attribution\": \"automl\", \"attribution\": \"AutoML\", \"Orchestrator\": \"AutoML\", \"CancelUri\": \"https://southcentralus.api.azureml.ms/jasmine/v1.0/subscriptions/3d1a56d2-7c81-4118-9790-f85d1acf0c77/resourceGroups/aml-quickstarts-208297/providers/Microsoft.MachineLearningServices/workspaces/quick-starts-ws-208297/experimentids/b1497084-46e4-4b08-b609-a40286e4510b/cancel/AutoML_24da6a42-eeb8-4270-b730-f04a69d8b1be\", \"ClientSdkVersion\": \"1.44.0\", \"snapshotId\": \"00000000-0000-0000-0000-000000000000\", \"SetupRunId\": \"AutoML_24da6a42-eeb8-4270-b730-f04a69d8b1be_setup\", \"SetupRunContainerId\": \"dcid.AutoML_24da6a42-eeb8-4270-b730-f04a69d8b1be_setup\", \"FeaturizationRunJsonPath\": \"featurizer_container.json\", \"FeaturizationRunId\": \"AutoML_24da6a42-eeb8-4270-b730-f04a69d8b1be_featurize\", \"ProblemInfoJsonString\": \"{\\\"dataset_num_categorical\\\": 0, \\\"is_sparse\\\": true, \\\"subsampling\\\": false, \\\"has_extra_col\\\": true, \\\"dataset_classes\\\": 4, \\\"dataset_features\\\": 64518, \\\"dataset_samples\\\": 5574, \\\"single_frequency_class_detected\\\": true}\", \"ModelExplainRunId\": \"AutoML_24da6a42-eeb8-4270-b730-f04a69d8b1be_ModelExplain\"}, \"tags\": {\"model_explain_run\": \"best_run\", \"_aml_system_automl_run_workspace_id\": \"e0d6bdad-477e-4296-976e-74dc1cf534b8\", \"_aml_system_azureml.automlComponent\": \"AutoML\", \"pipeline_id\": \"\", \"score\": \"\", \"predicted_cost\": \"\", \"fit_time\": \"\", \"training_percent\": \"\", \"iteration\": \"\", \"run_preprocessor\": \"\", \"run_algorithm\": \"\", \"dynamic_allowlisting_iterations\": \"<25>;<30>;<35>;\", \"_aml_system_azureml.automl_early_exit_message\": \"No scores improved over last 10 iterations, so experiment stopped early. This early stopping behavior can be disabled by setting enable_early_stopping = False in AutoMLConfig for notebook/python SDK runs.\", \"automl_best_child_run_id\": \"AutoML_24da6a42-eeb8-4270-b730-f04a69d8b1be_39\", \"model_explain_best_run_child_id\": \"AutoML_24da6a42-eeb8-4270-b730-f04a69d8b1be_39\"}, \"end_time_utc\": \"2022-09-22T08:57:04.946317Z\", \"status\": \"Completed\", \"log_files\": {}, \"log_groups\": [], \"run_duration\": \"0:17:39\", \"run_number\": \"1663835965\", \"run_queued_details\": {\"status\": \"Completed\", \"details\": null}}, \"child_runs\": [{\"run_id\": \"AutoML_24da6a42-eeb8-4270-b730-f04a69d8b1be_setup\", \"run_number\": 1663835979, \"metric\": null, \"status\": \"Completed\", \"run_type\": \"azureml.scriptrun\", \"training_percent\": null, \"start_time\": \"2022-09-22T08:39:46.843283Z\", \"end_time\": \"2022-09-22T08:42:15.199582Z\", \"created_time\": \"2022-09-22T08:39:39.852976Z\", \"created_time_dt\": \"2022-09-22T08:39:39.852976Z\", \"duration\": \"0:02:35\", \"iteration\": null, \"goal\": null, \"run_name\": \"Completed\", \"run_properties\": null}, {\"run_id\": \"AutoML_24da6a42-eeb8-4270-b730-f04a69d8b1be_featurize\", \"run_number\": 1663836135, \"metric\": null, \"status\": \"Completed\", \"run_type\": \"automl.featurization\", \"training_percent\": null, \"start_time\": \"2022-09-22T08:42:15.85083Z\", \"end_time\": \"2022-09-22T08:44:49.865621Z\", \"created_time\": \"2022-09-22T08:42:15.49381Z\", \"created_time_dt\": \"2022-09-22T08:42:15.49381Z\", \"duration\": \"0:02:34\", \"iteration\": null, \"goal\": null, \"run_name\": \"Completed\", \"run_properties\": null}, {\"run_id\": \"AutoML_24da6a42-eeb8-4270-b730-f04a69d8b1be_0\", \"run_number\": 1663836291, \"metric\": null, \"status\": \"Completed\", \"run_type\": null, \"training_percent\": \"100\", \"start_time\": \"2022-09-22T08:46:24.866283Z\", \"end_time\": \"2022-09-22T08:47:11.128086Z\", \"created_time\": \"2022-09-22T08:44:51.344601Z\", \"created_time_dt\": \"2022-09-22T08:44:51.344601Z\", \"duration\": \"0:02:19\", \"iteration\": \"0\", \"goal\": \"accuracy_max\", \"run_name\": \"MaxAbsScaler, LightGBM\", \"run_properties\": \"copy=True\", \"primary_metric\": 0.98403301, \"best_metric\": 0.98403301}, {\"run_id\": \"AutoML_24da6a42-eeb8-4270-b730-f04a69d8b1be_2\", \"run_number\": 1663836292, \"metric\": null, \"status\": \"Completed\", \"run_type\": null, \"training_percent\": \"100\", \"start_time\": \"2022-09-22T08:48:39.142834Z\", \"end_time\": \"2022-09-22T08:48:56.998649Z\", \"created_time\": \"2022-09-22T08:44:52.460875Z\", \"created_time_dt\": \"2022-09-22T08:44:52.460875Z\", \"duration\": \"0:04:04\", \"iteration\": \"2\", \"goal\": \"accuracy_max\", \"run_name\": \"MaxAbsScaler, ExtremeRandomTrees\", \"run_properties\": \"copy=True\", \"primary_metric\": 0.9632221, \"best_metric\": 0.98403301}, {\"run_id\": \"AutoML_24da6a42-eeb8-4270-b730-f04a69d8b1be_worker_0\", \"run_number\": 1663836293, \"metric\": null, \"status\": \"Completed\", \"run_type\": \"azureml.scriptrun\", \"training_percent\": null, \"start_time\": \"2022-09-22T08:45:04.181004Z\", \"end_time\": \"2022-09-22T08:49:28.251139Z\", \"created_time\": \"2022-09-22T08:44:53.621135Z\", \"created_time_dt\": \"2022-09-22T08:44:53.621135Z\", \"duration\": \"0:04:34\", \"iteration\": null, \"goal\": null, \"run_name\": \"Completed\", \"run_properties\": null}, {\"run_id\": \"AutoML_24da6a42-eeb8-4270-b730-f04a69d8b1be_5\", \"run_number\": 1663836294, \"metric\": null, \"status\": \"Completed\", \"run_type\": null, \"training_percent\": \"100\", \"start_time\": \"2022-09-22T08:46:58.46309Z\", \"end_time\": \"2022-09-22T08:47:21.003588Z\", \"created_time\": \"2022-09-22T08:44:54.413255Z\", \"created_time_dt\": \"2022-09-22T08:44:54.413255Z\", \"duration\": \"0:02:26\", \"iteration\": \"5\", \"goal\": \"accuracy_max\", \"run_name\": \"MaxAbsScaler, LightGBM\", \"run_properties\": \"copy=True\", \"primary_metric\": 0.95837818, \"best_metric\": 0.98403301}, {\"run_id\": \"AutoML_24da6a42-eeb8-4270-b730-f04a69d8b1be_worker_1\", \"run_number\": 1663836295, \"metric\": null, \"status\": \"Completed\", \"run_type\": \"azureml.scriptrun\", \"training_percent\": null, \"start_time\": \"2022-09-22T08:45:04.579284Z\", \"end_time\": \"2022-09-22T08:48:09.752784Z\", \"created_time\": \"2022-09-22T08:44:55.89245Z\", \"created_time_dt\": \"2022-09-22T08:44:55.89245Z\", \"duration\": \"0:03:13\", \"iteration\": null, \"goal\": null, \"run_name\": \"Completed\", \"run_properties\": null}, {\"run_id\": \"AutoML_24da6a42-eeb8-4270-b730-f04a69d8b1be_8\", \"run_number\": 1663836296, \"metric\": null, \"status\": \"Completed\", \"run_type\": null, \"training_percent\": \"100\", \"start_time\": \"2022-09-22T08:45:16.557505Z\", \"end_time\": \"2022-09-22T08:45:36.046652Z\", \"created_time\": \"2022-09-22T08:44:56.053729Z\", \"created_time_dt\": \"2022-09-22T08:44:56.053729Z\", \"duration\": \"0:00:39\", \"iteration\": \"8\", \"goal\": \"accuracy_max\", \"run_name\": \"StandardScalerWrapper, ExtremeRandomTrees\", \"run_properties\": \"copy=True, with_mean=False, with_std=False\", \"primary_metric\": 0.95568712, \"best_metric\": 0.98403301}, {\"run_id\": \"AutoML_24da6a42-eeb8-4270-b730-f04a69d8b1be_10\", \"run_number\": 1663836297, \"metric\": null, \"status\": \"Completed\", \"run_type\": null, \"training_percent\": \"100\", \"start_time\": \"2022-09-22T08:45:59.741132Z\", \"end_time\": \"2022-09-22T08:46:13.449685Z\", \"created_time\": \"2022-09-22T08:44:57.132703Z\", \"created_time_dt\": \"2022-09-22T08:44:57.132703Z\", \"duration\": \"0:01:16\", \"iteration\": \"10\", \"goal\": \"accuracy_max\", \"run_name\": \"SparseNormalizer, LightGBM\", \"run_properties\": \"copy=True, norm='l1'\", \"primary_metric\": 0.9589164, \"best_metric\": 0.98403301}, {\"run_id\": \"AutoML_24da6a42-eeb8-4270-b730-f04a69d8b1be_worker_2\", \"run_number\": 1663836298, \"metric\": null, \"status\": \"Completed\", \"run_type\": \"azureml.scriptrun\", \"training_percent\": null, \"start_time\": \"2022-09-22T08:45:04.42974Z\", \"end_time\": \"2022-09-22T08:46:44.028823Z\", \"created_time\": \"2022-09-22T08:44:58.168472Z\", \"created_time_dt\": \"2022-09-22T08:44:58.168472Z\", \"duration\": \"0:01:45\", \"iteration\": null, \"goal\": null, \"run_name\": \"Completed\", \"run_properties\": null}, {\"run_id\": \"AutoML_24da6a42-eeb8-4270-b730-f04a69d8b1be_13\", \"run_number\": 1663836299, \"metric\": null, \"status\": \"Completed\", \"run_type\": null, \"training_percent\": \"100\", \"start_time\": \"2022-09-22T08:45:39.68821Z\", \"end_time\": \"2022-09-22T08:46:10.183408Z\", \"created_time\": \"2022-09-22T08:44:58.994231Z\", \"created_time_dt\": \"2022-09-22T08:44:58.994231Z\", \"duration\": \"0:01:11\", \"iteration\": \"13\", \"goal\": \"accuracy_max\", \"run_name\": \"StandardScalerWrapper, XGBoostClassifier\", \"run_properties\": \"copy=True, with_mean=False, with_std=False\", \"primary_metric\": 0.97703624, \"best_metric\": 0.98403301}, {\"run_id\": \"AutoML_24da6a42-eeb8-4270-b730-f04a69d8b1be_worker_3\", \"run_number\": 1663836300, \"metric\": null, \"status\": \"Completed\", \"run_type\": \"azureml.scriptrun\", \"training_percent\": null, \"start_time\": \"2022-09-22T08:45:05.388817Z\", \"end_time\": \"2022-09-22T08:47:01.167885Z\", \"created_time\": \"2022-09-22T08:45:00.657761Z\", \"created_time_dt\": \"2022-09-22T08:45:00.657761Z\", \"duration\": \"0:02:00\", \"iteration\": null, \"goal\": null, \"run_name\": \"Completed\", \"run_properties\": null}, {\"run_id\": \"AutoML_24da6a42-eeb8-4270-b730-f04a69d8b1be_17\", \"run_number\": 1663836301, \"metric\": null, \"status\": \"Completed\", \"run_type\": null, \"training_percent\": \"100\", \"start_time\": \"2022-09-22T08:47:33.60147Z\", \"end_time\": \"2022-09-22T08:48:17.753444Z\", \"created_time\": \"2022-09-22T08:45:01.392281Z\", \"created_time_dt\": \"2022-09-22T08:45:01.392281Z\", \"duration\": \"0:03:16\", \"iteration\": \"17\", \"goal\": \"accuracy_max\", \"run_name\": \"StandardScalerWrapper, XGBoostClassifier\", \"run_properties\": \"copy=True, with_mean=False, with_std=False\", \"primary_metric\": 0.98008611, \"best_metric\": 0.98403301}, {\"run_id\": \"AutoML_24da6a42-eeb8-4270-b730-f04a69d8b1be_19\", \"run_number\": 1663836302, \"metric\": null, \"status\": \"Completed\", \"run_type\": null, \"training_percent\": \"100\", \"start_time\": \"2022-09-22T08:49:03.712428Z\", \"end_time\": \"2022-09-22T08:49:46.94729Z\", \"created_time\": \"2022-09-22T08:45:02.582785Z\", \"created_time_dt\": \"2022-09-22T08:45:02.582785Z\", \"duration\": \"0:04:44\", \"iteration\": \"19\", \"goal\": \"accuracy_max\", \"run_name\": \"TruncatedSVDWrapper, RandomForest\", \"run_properties\": \"n_components=0.7026315789473684, random_state=None\", \"primary_metric\": 0.97165411, \"best_metric\": 0.98403301}, {\"run_id\": \"AutoML_24da6a42-eeb8-4270-b730-f04a69d8b1be_worker_4\", \"run_number\": 1663836304, \"metric\": null, \"status\": \"Completed\", \"run_type\": \"azureml.scriptrun\", \"training_percent\": null, \"start_time\": \"2022-09-22T08:46:53.852655Z\", \"end_time\": \"2022-09-22T08:49:52.759042Z\", \"created_time\": \"2022-09-22T08:45:04.338022Z\", \"created_time_dt\": \"2022-09-22T08:45:04.338022Z\", \"duration\": \"0:04:48\", \"iteration\": null, \"goal\": null, \"run_name\": \"Completed\", \"run_properties\": null}, {\"run_id\": \"AutoML_24da6a42-eeb8-4270-b730-f04a69d8b1be_20\", \"run_number\": 1663836521, \"metric\": null, \"status\": \"Completed\", \"run_type\": \"azureml.scriptrun\", \"training_percent\": \"100\", \"start_time\": \"2022-09-22T08:48:55.666113Z\", \"end_time\": \"2022-09-22T08:49:48.99369Z\", \"created_time\": \"2022-09-22T08:48:41.775633Z\", \"created_time_dt\": \"2022-09-22T08:48:41.775633Z\", \"duration\": \"0:01:07\", \"iteration\": \"20\", \"goal\": \"accuracy_max\", \"run_name\": \"StandardScalerWrapper, XGBoostClassifier\", \"run_properties\": \"copy=True, with_mean=False, with_std=False\", \"primary_metric\": 0.98044492, \"best_metric\": 0.98403301}, {\"run_id\": \"AutoML_24da6a42-eeb8-4270-b730-f04a69d8b1be_24\", \"run_number\": 1663836576, \"metric\": null, \"status\": \"Canceled\", \"run_type\": \"azureml.scriptrun\", \"training_percent\": \"100\", \"start_time\": \"2022-09-22T08:49:42.064491Z\", \"end_time\": \"2022-09-22T08:55:49.668326Z\", \"created_time\": \"2022-09-22T08:49:36.268906Z\", \"created_time_dt\": \"2022-09-22T08:49:36.268906Z\", \"duration\": \"0:06:13\", \"iteration\": \"24\", \"goal\": null, \"run_name\": \"StandardScalerWrapper, XGBoostClassifier\", \"run_properties\": null}, {\"run_id\": \"AutoML_24da6a42-eeb8-4270-b730-f04a69d8b1be_25\", \"run_number\": 1663836591, \"metric\": null, \"status\": \"Completed\", \"run_type\": \"azureml.scriptrun\", \"training_percent\": \"100\", \"start_time\": \"2022-09-22T08:50:00.819075Z\", \"end_time\": \"2022-09-22T08:53:40.741012Z\", \"created_time\": \"2022-09-22T08:49:51.584681Z\", \"created_time_dt\": \"2022-09-22T08:49:51.584681Z\", \"duration\": \"0:03:49\", \"iteration\": \"25\", \"goal\": \"accuracy_max\", \"run_name\": \"StandardScalerWrapper, LogisticRegression\", \"run_properties\": \"copy=True, with_mean=False, with_std=False\", \"primary_metric\": 0.98618586, \"best_metric\": 0.98618586}, {\"run_id\": \"AutoML_24da6a42-eeb8-4270-b730-f04a69d8b1be_26\", \"run_number\": 1663836618, \"metric\": null, \"status\": \"Completed\", \"run_type\": \"azureml.scriptrun\", \"training_percent\": \"100\", \"start_time\": \"2022-09-22T08:50:24.195431Z\", \"end_time\": \"2022-09-22T08:53:46.090848Z\", \"created_time\": \"2022-09-22T08:50:18.988085Z\", \"created_time_dt\": \"2022-09-22T08:50:18.988085Z\", \"duration\": \"0:03:27\", \"iteration\": \"26\", \"goal\": \"accuracy_max\", \"run_name\": \"SparseNormalizer, XGBoostClassifier\", \"run_properties\": \"copy=True, norm='max'\", \"primary_metric\": 0.98188016, \"best_metric\": 0.98618586}, {\"run_id\": \"AutoML_24da6a42-eeb8-4270-b730-f04a69d8b1be_28\", \"run_number\": 1663836631, \"metric\": null, \"status\": \"Completed\", \"run_type\": \"azureml.scriptrun\", \"training_percent\": \"100\", \"start_time\": \"2022-09-22T08:51:24.874881Z\", \"end_time\": \"2022-09-22T08:52:01.403221Z\", \"created_time\": \"2022-09-22T08:50:30.992845Z\", \"created_time_dt\": \"2022-09-22T08:50:30.992845Z\", \"duration\": \"0:01:30\", \"iteration\": \"28\", \"goal\": \"accuracy_max\", \"run_name\": \"MaxAbsScaler, LogisticRegression\", \"run_properties\": \"copy=True\", \"primary_metric\": 0.98672408, \"best_metric\": 0.98672408}, {\"run_id\": \"AutoML_24da6a42-eeb8-4270-b730-f04a69d8b1be_29\", \"run_number\": 1663836678, \"metric\": null, \"status\": \"Completed\", \"run_type\": \"azureml.scriptrun\", \"training_percent\": \"100\", \"start_time\": \"2022-09-22T08:52:07.955361Z\", \"end_time\": \"2022-09-22T08:53:48.322381Z\", \"created_time\": \"2022-09-22T08:51:18.600014Z\", \"created_time_dt\": \"2022-09-22T08:51:18.600014Z\", \"duration\": \"0:02:29\", \"iteration\": \"29\", \"goal\": \"accuracy_max\", \"run_name\": \"SparseNormalizer, XGBoostClassifier\", \"run_properties\": \"copy=True, norm='l1'\", \"primary_metric\": 0.97793326, \"best_metric\": 0.98672408}, {\"run_id\": \"AutoML_24da6a42-eeb8-4270-b730-f04a69d8b1be_30\", \"run_number\": 1663836725, \"metric\": null, \"status\": \"Completed\", \"run_type\": \"azureml.scriptrun\", \"training_percent\": \"100\", \"start_time\": \"2022-09-22T08:53:47.692117Z\", \"end_time\": \"2022-09-22T08:54:28.862457Z\", \"created_time\": \"2022-09-22T08:52:05.185332Z\", \"created_time_dt\": \"2022-09-22T08:52:05.185332Z\", \"duration\": \"0:02:23\", \"iteration\": \"30\", \"goal\": \"accuracy_max\", \"run_name\": \"MaxAbsScaler, LogisticRegression\", \"run_properties\": \"copy=True\", \"primary_metric\": 0.98510944, \"best_metric\": 0.98672408}, {\"run_id\": \"AutoML_24da6a42-eeb8-4270-b730-f04a69d8b1be_31\", \"run_number\": 1663836822, \"metric\": null, \"status\": \"Completed\", \"run_type\": \"azureml.scriptrun\", \"training_percent\": \"100\", \"start_time\": \"2022-09-22T08:53:53.594206Z\", \"end_time\": \"2022-09-22T08:55:07.366783Z\", \"created_time\": \"2022-09-22T08:53:42.319122Z\", \"created_time_dt\": \"2022-09-22T08:53:42.319122Z\", \"duration\": \"0:01:25\", \"iteration\": \"31\", \"goal\": \"accuracy_max\", \"run_name\": \"SparseNormalizer, XGBoostClassifier\", \"run_properties\": \"copy=True, norm='l2'\", \"primary_metric\": 0.98295658, \"best_metric\": 0.98672408}, {\"run_id\": \"AutoML_24da6a42-eeb8-4270-b730-f04a69d8b1be_32\", \"run_number\": 1663836827, \"metric\": null, \"status\": \"Completed\", \"run_type\": \"azureml.scriptrun\", \"training_percent\": \"100\", \"start_time\": \"2022-09-22T08:53:54.826972Z\", \"end_time\": \"2022-09-22T08:54:35.613578Z\", \"created_time\": \"2022-09-22T08:53:47.719979Z\", \"created_time_dt\": \"2022-09-22T08:53:47.719979Z\", \"duration\": \"0:00:47\", \"iteration\": \"32\", \"goal\": \"accuracy_max\", \"run_name\": \"StandardScalerWrapper, LogisticRegression\", \"run_properties\": \"copy=True, with_mean=False, with_std=True\", \"primary_metric\": 0.96932185, \"best_metric\": 0.98672408}, {\"run_id\": \"AutoML_24da6a42-eeb8-4270-b730-f04a69d8b1be_33\", \"run_number\": 1663836830, \"metric\": null, \"status\": \"Completed\", \"run_type\": \"azureml.scriptrun\", \"training_percent\": \"100\", \"start_time\": \"2022-09-22T08:54:37.005666Z\", \"end_time\": \"2022-09-22T08:55:13.610352Z\", \"created_time\": \"2022-09-22T08:53:50.194554Z\", \"created_time_dt\": \"2022-09-22T08:53:50.194554Z\", \"duration\": \"0:01:23\", \"iteration\": \"33\", \"goal\": \"accuracy_max\", \"run_name\": \"MaxAbsScaler, LogisticRegression\", \"run_properties\": \"copy=True\", \"primary_metric\": 0.98546825, \"best_metric\": 0.98672408}, {\"run_id\": \"AutoML_24da6a42-eeb8-4270-b730-f04a69d8b1be_34\", \"run_number\": 1663836870, \"metric\": null, \"status\": \"Completed\", \"run_type\": \"azureml.scriptrun\", \"training_percent\": \"100\", \"start_time\": \"2022-09-22T08:54:43.179964Z\", \"end_time\": \"2022-09-22T08:55:48.883029Z\", \"created_time\": \"2022-09-22T08:54:30.42607Z\", \"created_time_dt\": \"2022-09-22T08:54:30.42607Z\", \"duration\": \"0:01:18\", \"iteration\": \"34\", \"goal\": \"accuracy_max\", \"run_name\": \"SparseNormalizer, XGBoostClassifier\", \"run_properties\": \"copy=True, norm='l1'\", \"primary_metric\": 0.98044492, \"best_metric\": 0.98672408}, {\"run_id\": \"AutoML_24da6a42-eeb8-4270-b730-f04a69d8b1be_35\", \"run_number\": 1663836878, \"metric\": null, \"status\": \"Completed\", \"run_type\": \"azureml.scriptrun\", \"training_percent\": \"100\", \"start_time\": \"2022-09-22T08:55:16.093345Z\", \"end_time\": \"2022-09-22T08:55:48.908708Z\", \"created_time\": \"2022-09-22T08:54:38.259689Z\", \"created_time_dt\": \"2022-09-22T08:54:38.259689Z\", \"duration\": \"0:01:10\", \"iteration\": \"35\", \"goal\": \"accuracy_max\", \"run_name\": \"SparseNormalizer, LogisticRegression\", \"run_properties\": \"copy=True, norm='l1'\", \"primary_metric\": 0.86562612, \"best_metric\": 0.98672408}, {\"run_id\": \"AutoML_24da6a42-eeb8-4270-b730-f04a69d8b1be_36\", \"run_number\": 1663836909, \"metric\": null, \"status\": \"Canceled\", \"run_type\": \"azureml.scriptrun\", \"training_percent\": \"100\", \"start_time\": \"2022-09-22T08:55:22.32268Z\", \"end_time\": \"2022-09-22T08:55:49.690031Z\", \"created_time\": \"2022-09-22T08:55:09.433037Z\", \"created_time_dt\": \"2022-09-22T08:55:09.433037Z\", \"duration\": \"0:00:40\", \"iteration\": \"36\", \"goal\": null, \"run_name\": \"StandardScalerWrapper, LogisticRegression\", \"run_properties\": null}, {\"run_id\": \"AutoML_24da6a42-eeb8-4270-b730-f04a69d8b1be_37\", \"run_number\": 1663836915, \"metric\": null, \"status\": \"Canceled\", \"run_type\": \"azureml.scriptrun\", \"training_percent\": \"100\", \"start_time\": \"2022-09-22T08:55:49.506014Z\", \"end_time\": \"2022-09-22T08:55:49.964355Z\", \"created_time\": \"2022-09-22T08:55:15.182477Z\", \"created_time_dt\": \"2022-09-22T08:55:15.182477Z\", \"duration\": \"0:00:34\", \"iteration\": \"37\", \"goal\": null, \"run_name\": \"Canceled\", \"run_properties\": null}, {\"run_id\": \"AutoML_24da6a42-eeb8-4270-b730-f04a69d8b1be_39\", \"run_number\": 1663836950, \"metric\": null, \"status\": \"Completed\", \"run_type\": \"azureml.scriptrun\", \"training_percent\": \"100\", \"start_time\": \"2022-09-22T08:55:55.339851Z\", \"end_time\": \"2022-09-22T08:56:56.07521Z\", \"created_time\": \"2022-09-22T08:55:50.469516Z\", \"created_time_dt\": \"2022-09-22T08:55:50.469516Z\", \"duration\": \"0:01:05\", \"iteration\": \"39\", \"goal\": \"accuracy_max\", \"run_name\": \"StackEnsemble\", \"run_properties\": \"base_learners=[('15', Pipeline(memory=None, steps=[('standardscalerwrapper', StandardScalerWrapper(copy=True, with_mean=False, with_std=False\", \"primary_metric\": 0.98905633, \"best_metric\": 0.98905633}], \"children_metrics\": {\"categories\": [0], \"series\": {\"average_precision_score_weighted\": [{\"categories\": [\"0\", \"2\", \"5\", \"8\", \"10\", \"13\", \"17\", \"19\", \"20\", \"25\", \"26\", \"28\", \"29\", \"30\", \"31\", \"32\", \"33\", \"34\", \"35\", \"39\"], \"mode\": \"markers\", \"name\": \"average_precision_score_weighted\", \"stepped\": false, \"type\": \"scatter\", \"data\": [0.9951378213146298, 0.9849767166939036, 0.9876186871132364, 0.9901412265338885, 0.9846091815003211, 0.9909880371352318, 0.991385200008805, 0.9905368101665566, 0.9921736211530698, 0.99628717146405, 0.9927355693273237, 0.9970578047099754, 0.9918643579546395, 0.9959674322732461, 0.9944220191455888, 0.9977805854708188, 0.9970245771026216, 0.9921744697162896, 0.962091476270863, 0.9969940610360829]}, {\"categories\": [\"0\", \"2\", \"5\", \"8\", \"10\", \"13\", \"17\", \"19\", \"20\", \"25\", \"26\", \"28\", \"29\", \"30\", \"31\", \"32\", \"33\", \"34\", \"35\", \"39\"], \"mode\": \"lines\", \"name\": \"average_precision_score_weighted_max\", \"stepped\": true, \"type\": \"scatter\", \"data\": [0.9951378213146298, 0.9951378213146298, 0.9951378213146298, 0.9951378213146298, 0.9951378213146298, 0.9951378213146298, 0.9951378213146298, 0.9951378213146298, 0.9951378213146298, 0.99628717146405, 0.99628717146405, 0.9970578047099754, 0.9970578047099754, 0.9970578047099754, 0.9970578047099754, 0.9977805854708188, 0.9977805854708188, 0.9977805854708188, 0.9977805854708188, 0.9977805854708188]}], \"balanced_accuracy\": [{\"categories\": [\"0\", \"2\", \"5\", \"8\", \"10\", \"13\", \"17\", \"19\", \"20\", \"25\", \"26\", \"28\", \"29\", \"30\", \"31\", \"32\", \"33\", \"34\", \"35\", \"39\"], \"mode\": \"markers\", \"name\": \"balanced_accuracy\", \"stepped\": false, \"type\": \"scatter\", \"data\": [0.6288092418712359, 0.6310160979644619, 0.5638940675940532, 0.5577434206378731, 0.5654082850222628, 0.6121637236287721, 0.6204513588503024, 0.6002027351684436, 0.6205895291106559, 0.6380308827954606, 0.6241763538901499, 0.6351893890129274, 0.6139089557380896, 0.6312109483608888, 0.6268856134149839, 0.5171271062567779, 0.6320726052278517, 0.6205739929951628, 0.3333333333333333, 0.6425086416103316]}, {\"categories\": [\"0\", \"2\", \"5\", \"8\", \"10\", \"13\", \"17\", \"19\", \"20\", \"25\", \"26\", \"28\", \"29\", \"30\", \"31\", \"32\", \"33\", \"34\", \"35\", \"39\"], \"mode\": \"lines\", \"name\": \"balanced_accuracy_max\", \"stepped\": true, \"type\": \"scatter\", \"data\": [0.6288092418712359, 0.6310160979644619, 0.6310160979644619, 0.6310160979644619, 0.6310160979644619, 0.6310160979644619, 0.6310160979644619, 0.6310160979644619, 0.6310160979644619, 0.6380308827954606, 0.6380308827954606, 0.6380308827954606, 0.6380308827954606, 0.6380308827954606, 0.6380308827954606, 0.6380308827954606, 0.6380308827954606, 0.6380308827954606, 0.6380308827954606, 0.6425086416103316]}], \"recall_score_weighted\": [{\"categories\": [\"0\", \"2\", \"5\", \"8\", \"10\", \"13\", \"17\", \"19\", \"20\", \"25\", \"26\", \"28\", \"29\", \"30\", \"31\", \"32\", \"33\", \"34\", \"35\", \"39\"], \"mode\": \"markers\", \"name\": \"recall_score_weighted\", \"stepped\": false, \"type\": \"scatter\", \"data\": [0.9840330104054539, 0.963222102619304, 0.9583781844277, 0.9556871187656979, 0.9589163975601005, 0.9770362396842482, 0.9800861141011841, 0.971654108360244, 0.9804449228561176, 0.9861858629350556, 0.9818801578758523, 0.986724076067456, 0.9779332615715823, 0.9851094366702547, 0.982956584140653, 0.9693218514531754, 0.9854682454251884, 0.9804449228561177, 0.8656261212773592, 0.9890563329745246]}, {\"categories\": [\"0\", \"2\", \"5\", \"8\", \"10\", \"13\", \"17\", \"19\", \"20\", \"25\", \"26\", \"28\", \"29\", \"30\", \"31\", \"32\", \"33\", \"34\", \"35\", \"39\"], \"mode\": \"lines\", \"name\": \"recall_score_weighted_max\", \"stepped\": true, \"type\": \"scatter\", \"data\": [0.9840330104054539, 0.9840330104054539, 0.9840330104054539, 0.9840330104054539, 0.9840330104054539, 0.9840330104054539, 0.9840330104054539, 0.9840330104054539, 0.9840330104054539, 0.9861858629350556, 0.9861858629350556, 0.986724076067456, 0.986724076067456, 0.986724076067456, 0.986724076067456, 0.986724076067456, 0.986724076067456, 0.986724076067456, 0.986724076067456, 0.9890563329745246]}], \"f1_score_weighted\": [{\"categories\": [\"0\", \"2\", \"5\", \"8\", \"10\", \"13\", \"17\", \"19\", \"20\", \"25\", \"26\", \"28\", \"29\", \"30\", \"31\", \"32\", \"33\", \"34\", \"35\", \"39\"], \"mode\": \"markers\", \"name\": \"f1_score_weighted\", \"stepped\": false, \"type\": \"scatter\", \"data\": [0.983444875070018, 0.9638994228828741, 0.9549025925246061, 0.9516296408161463, 0.9554210555362939, 0.9760132377386967, 0.9792903496912333, 0.9701783066485463, 0.9796467901600401, 0.9858104829955047, 0.9811799325870403, 0.9862736841834545, 0.9769105980034043, 0.9845912028911302, 0.9823309575152068, 0.9675802585196631, 0.9849621803700535, 0.9796391601365324, 0.8032800742815642, 0.9887248051256088]}, {\"categories\": [\"0\", \"2\", \"5\", \"8\", \"10\", \"13\", \"17\", \"19\", \"20\", \"25\", \"26\", \"28\", \"29\", \"30\", \"31\", \"32\", \"33\", \"34\", \"35\", \"39\"], \"mode\": \"lines\", \"name\": \"f1_score_weighted_max\", \"stepped\": true, \"type\": \"scatter\", \"data\": [0.983444875070018, 0.983444875070018, 0.983444875070018, 0.983444875070018, 0.983444875070018, 0.983444875070018, 0.983444875070018, 0.983444875070018, 0.983444875070018, 0.9858104829955047, 0.9858104829955047, 0.9862736841834545, 0.9862736841834545, 0.9862736841834545, 0.9862736841834545, 0.9862736841834545, 0.9862736841834545, 0.9862736841834545, 0.9862736841834545, 0.9887248051256088]}], \"f1_score_micro\": [{\"categories\": [\"0\", \"2\", \"5\", \"8\", \"10\", \"13\", \"17\", \"19\", \"20\", \"25\", \"26\", \"28\", \"29\", \"30\", \"31\", \"32\", \"33\", \"34\", \"35\", \"39\"], \"mode\": \"markers\", \"name\": \"f1_score_micro\", \"stepped\": false, \"type\": \"scatter\", \"data\": [0.9840330104054539, 0.963222102619304, 0.9583781844277, 0.9556871187656979, 0.9589163975601005, 0.9770362396842482, 0.9800861141011841, 0.971654108360244, 0.9804449228561176, 0.9861858629350556, 0.9818801578758523, 0.986724076067456, 0.9779332615715823, 0.9851094366702547, 0.982956584140653, 0.9693218514531754, 0.9854682454251884, 0.9804449228561177, 0.8656261212773593, 0.9890563329745246]}, {\"categories\": [\"0\", \"2\", \"5\", \"8\", \"10\", \"13\", \"17\", \"19\", \"20\", \"25\", \"26\", \"28\", \"29\", \"30\", \"31\", \"32\", \"33\", \"34\", \"35\", \"39\"], \"mode\": \"lines\", \"name\": \"f1_score_micro_max\", \"stepped\": true, \"type\": \"scatter\", \"data\": [0.9840330104054539, 0.9840330104054539, 0.9840330104054539, 0.9840330104054539, 0.9840330104054539, 0.9840330104054539, 0.9840330104054539, 0.9840330104054539, 0.9840330104054539, 0.9861858629350556, 0.9861858629350556, 0.986724076067456, 0.986724076067456, 0.986724076067456, 0.986724076067456, 0.986724076067456, 0.986724076067456, 0.986724076067456, 0.986724076067456, 0.9890563329745246]}], \"recall_score_micro\": [{\"categories\": [\"0\", \"2\", \"5\", \"8\", \"10\", \"13\", \"17\", \"19\", \"20\", \"25\", \"26\", \"28\", \"29\", \"30\", \"31\", \"32\", \"33\", \"34\", \"35\", \"39\"], \"mode\": \"markers\", \"name\": \"recall_score_micro\", \"stepped\": false, \"type\": \"scatter\", \"data\": [0.9840330104054539, 0.963222102619304, 0.9583781844277, 0.9556871187656979, 0.9589163975601005, 0.9770362396842482, 0.9800861141011841, 0.971654108360244, 0.9804449228561176, 0.9861858629350556, 0.9818801578758523, 0.986724076067456, 0.9779332615715823, 0.9851094366702547, 0.982956584140653, 0.9693218514531754, 0.9854682454251884, 0.9804449228561177, 0.8656261212773592, 0.9890563329745246]}, {\"categories\": [\"0\", \"2\", \"5\", \"8\", \"10\", \"13\", \"17\", \"19\", \"20\", \"25\", \"26\", \"28\", \"29\", \"30\", \"31\", \"32\", \"33\", \"34\", \"35\", \"39\"], \"mode\": \"lines\", \"name\": \"recall_score_micro_max\", \"stepped\": true, \"type\": \"scatter\", \"data\": [0.9840330104054539, 0.9840330104054539, 0.9840330104054539, 0.9840330104054539, 0.9840330104054539, 0.9840330104054539, 0.9840330104054539, 0.9840330104054539, 0.9840330104054539, 0.9861858629350556, 0.9861858629350556, 0.986724076067456, 0.986724076067456, 0.986724076067456, 0.986724076067456, 0.986724076067456, 0.986724076067456, 0.986724076067456, 0.986724076067456, 0.9890563329745246]}], \"log_loss\": [{\"categories\": [\"0\", \"2\", \"5\", \"8\", \"10\", \"13\", \"17\", \"19\", \"20\", \"25\", \"26\", \"28\", \"29\", \"30\", \"31\", \"32\", \"33\", \"34\", \"35\", \"39\"], \"mode\": \"markers\", \"name\": \"log_loss\", \"stepped\": false, \"type\": \"scatter\", \"data\": [0.1088762523245495, 0.8468637919366895, 0.18448989256190973, 0.17050438081795583, 0.14399379568599682, 0.12651839697070658, 0.1438655400606235, 0.29865351243907934, 0.08494812723162815, 0.05958450101245659, 0.08690616216519925, 0.06915422426203383, 0.09204508436290985, 0.05964939784992569, 0.07413872287198212, 0.09355952162253174, 0.05783415293035034, 0.08057965390762654, 0.40669740481106215, 0.06003589983333342]}, {\"categories\": [\"0\", \"2\", \"5\", \"8\", \"10\", \"13\", \"17\", \"19\", \"20\", \"25\", \"26\", \"28\", \"29\", \"30\", \"31\", \"32\", \"33\", \"34\", \"35\", \"39\"], \"mode\": \"lines\", \"name\": \"log_loss_min\", \"stepped\": true, \"type\": \"scatter\", \"data\": [0.1088762523245495, 0.1088762523245495, 0.1088762523245495, 0.1088762523245495, 0.1088762523245495, 0.1088762523245495, 0.1088762523245495, 0.1088762523245495, 0.08494812723162815, 0.05958450101245659, 0.05958450101245659, 0.05958450101245659, 0.05958450101245659, 0.05958450101245659, 0.05958450101245659, 0.05958450101245659, 0.05783415293035034, 0.05783415293035034, 0.05783415293035034, 0.05783415293035034]}], \"f1_score_macro\": [{\"categories\": [\"0\", \"2\", \"5\", \"8\", \"10\", \"13\", \"17\", \"19\", \"20\", \"25\", \"26\", \"28\", \"29\", \"30\", \"31\", \"32\", \"33\", \"34\", \"35\", \"39\"], \"mode\": \"markers\", \"name\": \"f1_score_macro\", \"stepped\": false, \"type\": \"scatter\", \"data\": [0.6429259930987699, 0.6167936925361541, 0.5980110108406597, 0.5924045639781983, 0.5986107805268738, 0.6316369522758808, 0.6366480335529402, 0.6226153467162252, 0.6371571763971667, 0.6466889214105028, 0.6394976443607434, 0.6472211437208651, 0.6328803063990075, 0.6447284723688471, 0.6412725483355948, 0.5409127954084259, 0.6452622315863308, 0.6371273906586472, 0.3093240560910514, 0.6509232242831369]}, {\"categories\": [\"0\", \"2\", \"5\", \"8\", \"10\", \"13\", \"17\", \"19\", \"20\", \"25\", \"26\", \"28\", \"29\", \"30\", \"31\", \"32\", \"33\", \"34\", \"35\", \"39\"], \"mode\": \"lines\", \"name\": \"f1_score_macro_max\", \"stepped\": true, \"type\": \"scatter\", \"data\": [0.6429259930987699, 0.6429259930987699, 0.6429259930987699, 0.6429259930987699, 0.6429259930987699, 0.6429259930987699, 0.6429259930987699, 0.6429259930987699, 0.6429259930987699, 0.6466889214105028, 0.6466889214105028, 0.6472211437208651, 0.6472211437208651, 0.6472211437208651, 0.6472211437208651, 0.6472211437208651, 0.6472211437208651, 0.6472211437208651, 0.6472211437208651, 0.6509232242831369]}], \"accuracy\": [{\"categories\": [\"0\", \"2\", \"5\", \"8\", \"10\", \"13\", \"17\", \"19\", \"20\", \"25\", \"26\", \"28\", \"29\", \"30\", \"31\", \"32\", \"33\", \"34\", \"35\", \"39\"], \"mode\": \"markers\", \"name\": \"accuracy\", \"stepped\": false, \"type\": \"scatter\", \"data\": [0.9840330104054539, 0.963222102619304, 0.9583781844277, 0.9556871187656979, 0.9589163975601005, 0.9770362396842482, 0.9800861141011841, 0.971654108360244, 0.9804449228561176, 0.9861858629350556, 0.9818801578758523, 0.986724076067456, 0.9779332615715823, 0.9851094366702547, 0.982956584140653, 0.9693218514531754, 0.9854682454251884, 0.9804449228561177, 0.8656261212773592, 0.9890563329745246]}, {\"categories\": [\"0\", \"2\", \"5\", \"8\", \"10\", \"13\", \"17\", \"19\", \"20\", \"25\", \"26\", \"28\", \"29\", \"30\", \"31\", \"32\", \"33\", \"34\", \"35\", \"39\"], \"mode\": \"lines\", \"name\": \"accuracy_max\", \"stepped\": true, \"type\": \"scatter\", \"data\": [0.9840330104054539, 0.9840330104054539, 0.9840330104054539, 0.9840330104054539, 0.9840330104054539, 0.9840330104054539, 0.9840330104054539, 0.9840330104054539, 0.9840330104054539, 0.9861858629350556, 0.9861858629350556, 0.986724076067456, 0.986724076067456, 0.986724076067456, 0.986724076067456, 0.986724076067456, 0.986724076067456, 0.986724076067456, 0.986724076067456, 0.9890563329745246]}], \"average_precision_score_macro\": [{\"categories\": [\"0\", \"2\", \"5\", \"8\", \"10\", \"13\", \"17\", \"19\", \"20\", \"25\", \"26\", \"28\", \"29\", \"30\", \"31\", \"32\", \"33\", \"34\", \"35\", \"39\"], \"mode\": \"markers\", \"name\": \"average_precision_score_macro\", \"stepped\": false, \"type\": \"scatter\", \"data\": [0.6591151455790679, 0.6415765438055376, 0.6492452172832036, 0.6518895157937585, 0.641710554293376, 0.6531196151621006, 0.6540316316165335, 0.6512790757042313, 0.655573488558233, 0.6605137312707536, 0.6558638199702307, 0.6626664049953142, 0.6540170545371633, 0.6610378102173879, 0.6576056783641695, 0.6636094611285858, 0.6625914117649445, 0.6553358564580507, 0.5961440842576765, 0.6620424359658048]}, {\"categories\": [\"0\", \"2\", \"5\", \"8\", \"10\", \"13\", \"17\", \"19\", \"20\", \"25\", \"26\", \"28\", \"29\", \"30\", \"31\", \"32\", \"33\", \"34\", \"35\", \"39\"], \"mode\": \"lines\", \"name\": \"average_precision_score_macro_max\", \"stepped\": true, \"type\": \"scatter\", \"data\": [0.6591151455790679, 0.6591151455790679, 0.6591151455790679, 0.6591151455790679, 0.6591151455790679, 0.6591151455790679, 0.6591151455790679, 0.6591151455790679, 0.6591151455790679, 0.6605137312707536, 0.6605137312707536, 0.6626664049953142, 0.6626664049953142, 0.6626664049953142, 0.6626664049953142, 0.6636094611285858, 0.6636094611285858, 0.6636094611285858, 0.6636094611285858, 0.6636094611285858]}], \"average_precision_score_micro\": [{\"categories\": [\"0\", \"2\", \"5\", \"8\", \"10\", \"13\", \"17\", \"19\", \"20\", \"25\", \"26\", \"28\", \"29\", \"30\", \"31\", \"32\", \"33\", \"34\", \"35\", \"39\"], \"mode\": \"markers\", \"name\": \"average_precision_score_micro\", \"stepped\": false, \"type\": \"scatter\", \"data\": [0.9963891877680132, 0.9780296154420476, 0.9852292796633347, 0.9887085199548913, 0.986929056475099, 0.9922521465826437, 0.993015907400665, 0.9932617835384971, 0.9937839360961089, 0.9976770236022459, 0.9944501771916692, 0.9976609947254707, 0.9939529692575585, 0.9968612543352122, 0.9959810519702055, 0.9960862584051565, 0.9975066201771337, 0.9943727079016075, 0.9683548207121977, 0.9973630606520251]}, {\"categories\": [\"0\", \"2\", \"5\", \"8\", \"10\", \"13\", \"17\", \"19\", \"20\", \"25\", \"26\", \"28\", \"29\", \"30\", \"31\", \"32\", \"33\", \"34\", \"35\", \"39\"], \"mode\": \"lines\", \"name\": \"average_precision_score_micro_max\", \"stepped\": true, \"type\": \"scatter\", \"data\": [0.9963891877680132, 0.9963891877680132, 0.9963891877680132, 0.9963891877680132, 0.9963891877680132, 0.9963891877680132, 0.9963891877680132, 0.9963891877680132, 0.9963891877680132, 0.9976770236022459, 0.9976770236022459, 0.9976770236022459, 0.9976770236022459, 0.9976770236022459, 0.9976770236022459, 0.9976770236022459, 0.9976770236022459, 0.9976770236022459, 0.9976770236022459, 0.9976770236022459]}], \"AUC_micro\": [{\"categories\": [\"0\", \"2\", \"5\", \"8\", \"10\", \"13\", \"17\", \"19\", \"20\", \"25\", \"26\", \"28\", \"29\", \"30\", \"31\", \"32\", \"33\", \"34\", \"35\", \"39\"], \"mode\": \"markers\", \"name\": \"AUC_micro\", \"stepped\": false, \"type\": \"scatter\", \"data\": [0.9986416035253808, 0.9935004804501155, 0.9955912463194853, 0.9964620474019795, 0.9958416528599753, 0.9973616334351223, 0.9977397537484485, 0.9977323617130416, 0.9979968871484454, 0.9990152821802767, 0.9980113493599527, 0.9990718650463668, 0.997880138049319, 0.9988287325262046, 0.9984539273637358, 0.9984970779680995, 0.9990205177583298, 0.9981072848905896, 0.9898901202367665, 0.9989243032829607]}, {\"categories\": [\"0\", \"2\", \"5\", \"8\", \"10\", \"13\", \"17\", \"19\", \"20\", \"25\", \"26\", \"28\", \"29\", \"30\", \"31\", \"32\", \"33\", \"34\", \"35\", \"39\"], \"mode\": \"lines\", \"name\": \"AUC_micro_max\", \"stepped\": true, \"type\": \"scatter\", \"data\": [0.9986416035253808, 0.9986416035253808, 0.9986416035253808, 0.9986416035253808, 0.9986416035253808, 0.9986416035253808, 0.9986416035253808, 0.9986416035253808, 0.9986416035253808, 0.9990152821802767, 0.9990152821802767, 0.9990718650463668, 0.9990718650463668, 0.9990718650463668, 0.9990718650463668, 0.9990718650463668, 0.9990718650463668, 0.9990718650463668, 0.9990718650463668, 0.9990718650463668]}], \"precision_score_weighted\": [{\"categories\": [\"0\", \"2\", \"5\", \"8\", \"10\", \"13\", \"17\", \"19\", \"20\", \"25\", \"26\", \"28\", \"29\", \"30\", \"31\", \"32\", \"33\", \"34\", \"35\", \"39\"], \"mode\": \"markers\", \"name\": \"precision_score_weighted\", \"stepped\": false, \"type\": \"scatter\", \"data\": [0.9838898987010162, 0.9656060802568052, 0.9599346373464711, 0.9573120185368791, 0.9603896750984924, 0.9770423132663941, 0.9799625511397325, 0.9718052639828672, 0.9803793127546871, 0.985804239729458, 0.9817453186543376, 0.9865283312200002, 0.9780037685347753, 0.9849515647254036, 0.9827847085916612, 0.9701757514375255, 0.985305068428078, 0.9803848110435043, 0.7493140212599658, 0.988746529697736]}, {\"categories\": [\"0\", \"2\", \"5\", \"8\", \"10\", \"13\", \"17\", \"19\", \"20\", \"25\", \"26\", \"28\", \"29\", \"30\", \"31\", \"32\", \"33\", \"34\", \"35\", \"39\"], \"mode\": \"lines\", \"name\": \"precision_score_weighted_max\", \"stepped\": true, \"type\": \"scatter\", \"data\": [0.9838898987010162, 0.9838898987010162, 0.9838898987010162, 0.9838898987010162, 0.9838898987010162, 0.9838898987010162, 0.9838898987010162, 0.9838898987010162, 0.9838898987010162, 0.985804239729458, 0.985804239729458, 0.9865283312200002, 0.9865283312200002, 0.9865283312200002, 0.9865283312200002, 0.9865283312200002, 0.9865283312200002, 0.9865283312200002, 0.9865283312200002, 0.988746529697736]}], \"AUC_weighted\": [{\"categories\": [\"0\", \"2\", \"5\", \"8\", \"10\", \"13\", \"17\", \"19\", \"20\", \"25\", \"26\", \"28\", \"29\", \"30\", \"31\", \"32\", \"33\", \"34\", \"35\", \"39\"], \"mode\": \"markers\", \"name\": \"AUC_weighted\", \"stepped\": false, \"type\": \"scatter\", \"data\": [0.99026514396537, 0.9744424527394591, 0.9759224978690125, 0.9824621025594055, 0.9711081636760202, 0.982935095645644, 0.9838060013952056, 0.9819647985332076, 0.9847382276328698, 0.9936090416728193, 0.9847577829897556, 0.9941791272383819, 0.9835472169361003, 0.9921097027633777, 0.9890437272501365, 0.9960578952289498, 0.9941374859612956, 0.9844834625586456, 0.9503585518202738, 0.9945814354837839]}, {\"categories\": [\"0\", \"2\", \"5\", \"8\", \"10\", \"13\", \"17\", \"19\", \"20\", \"25\", \"26\", \"28\", \"29\", \"30\", \"31\", \"32\", \"33\", \"34\", \"35\", \"39\"], \"mode\": \"lines\", \"name\": \"AUC_weighted_max\", \"stepped\": true, \"type\": \"scatter\", \"data\": [0.99026514396537, 0.99026514396537, 0.99026514396537, 0.99026514396537, 0.99026514396537, 0.99026514396537, 0.99026514396537, 0.99026514396537, 0.99026514396537, 0.9936090416728193, 0.9936090416728193, 0.9941791272383819, 0.9941791272383819, 0.9941791272383819, 0.9941791272383819, 0.9960578952289498, 0.9960578952289498, 0.9960578952289498, 0.9960578952289498, 0.9960578952289498]}], \"precision_score_micro\": [{\"categories\": [\"0\", \"2\", \"5\", \"8\", \"10\", \"13\", \"17\", \"19\", \"20\", \"25\", \"26\", \"28\", \"29\", \"30\", \"31\", \"32\", \"33\", \"34\", \"35\", \"39\"], \"mode\": \"markers\", \"name\": \"precision_score_micro\", \"stepped\": false, \"type\": \"scatter\", \"data\": [0.9840330104054539, 0.963222102619304, 0.9583781844277, 0.9556871187656979, 0.9589163975601005, 0.9770362396842482, 0.9800861141011841, 0.971654108360244, 0.9804449228561176, 0.9861858629350556, 0.9818801578758523, 0.986724076067456, 0.9779332615715823, 0.9851094366702547, 0.982956584140653, 0.9693218514531754, 0.9854682454251884, 0.9804449228561177, 0.8656261212773592, 0.9890563329745246]}, {\"categories\": [\"0\", \"2\", \"5\", \"8\", \"10\", \"13\", \"17\", \"19\", \"20\", \"25\", \"26\", \"28\", \"29\", \"30\", \"31\", \"32\", \"33\", \"34\", \"35\", \"39\"], \"mode\": \"lines\", \"name\": \"precision_score_micro_max\", \"stepped\": true, \"type\": \"scatter\", \"data\": [0.9840330104054539, 0.9840330104054539, 0.9840330104054539, 0.9840330104054539, 0.9840330104054539, 0.9840330104054539, 0.9840330104054539, 0.9840330104054539, 0.9840330104054539, 0.9861858629350556, 0.9861858629350556, 0.986724076067456, 0.986724076067456, 0.986724076067456, 0.986724076067456, 0.986724076067456, 0.986724076067456, 0.986724076067456, 0.986724076067456, 0.9890563329745246]}], \"AUC_macro\": [{\"categories\": [\"0\", \"2\", \"5\", \"8\", \"10\", \"13\", \"17\", \"19\", \"20\", \"25\", \"26\", \"28\", \"29\", \"30\", \"31\", \"32\", \"33\", \"34\", \"35\", \"39\"], \"mode\": \"markers\", \"name\": \"AUC_macro\", \"stepped\": false, \"type\": \"scatter\", \"data\": [0.8273029575949615, 0.816903363177037, 0.8176037662920899, 0.8221259486885593, 0.8142569776780073, 0.8223029880551345, 0.8229802217516677, 0.8218306837576693, 0.8238824147360126, 0.8292912518240718, 0.8235191475469651, 0.8299654624132764, 0.8227960750746867, 0.8285302710013385, 0.8264207720405197, 0.8309660546633377, 0.8299115392706881, 0.8234490899428537, 0.8004612582674655, 0.829965707902784]}, {\"categories\": [\"0\", \"2\", \"5\", \"8\", \"10\", \"13\", \"17\", \"19\", \"20\", \"25\", \"26\", \"28\", \"29\", \"30\", \"31\", \"32\", \"33\", \"34\", \"35\", \"39\"], \"mode\": \"lines\", \"name\": \"AUC_macro_max\", \"stepped\": true, \"type\": \"scatter\", \"data\": [0.8273029575949615, 0.8273029575949615, 0.8273029575949615, 0.8273029575949615, 0.8273029575949615, 0.8273029575949615, 0.8273029575949615, 0.8273029575949615, 0.8273029575949615, 0.8292912518240718, 0.8292912518240718, 0.8299654624132764, 0.8299654624132764, 0.8299654624132764, 0.8299654624132764, 0.8309660546633377, 0.8309660546633377, 0.8309660546633377, 0.8309660546633377, 0.8309660546633377]}], \"recall_score_macro\": [{\"categories\": [\"0\", \"2\", \"5\", \"8\", \"10\", \"13\", \"17\", \"19\", \"20\", \"25\", \"26\", \"28\", \"29\", \"30\", \"31\", \"32\", \"33\", \"34\", \"35\", \"39\"], \"mode\": \"markers\", \"name\": \"recall_score_macro\", \"stepped\": false, \"type\": \"scatter\", \"data\": [0.6288092418712359, 0.6310160979644619, 0.5638940675940532, 0.5577434206378731, 0.5654082850222628, 0.6121637236287721, 0.6204513588503024, 0.6002027351684436, 0.6205895291106559, 0.6380308827954606, 0.6241763538901499, 0.6351893890129274, 0.6139089557380896, 0.6312109483608888, 0.6268856134149839, 0.5171271062567779, 0.6320726052278517, 0.6205739929951628, 0.3333333333333333, 0.6425086416103316]}, {\"categories\": [\"0\", \"2\", \"5\", \"8\", \"10\", \"13\", \"17\", \"19\", \"20\", \"25\", \"26\", \"28\", \"29\", \"30\", \"31\", \"32\", \"33\", \"34\", \"35\", \"39\"], \"mode\": \"lines\", \"name\": \"recall_score_macro_max\", \"stepped\": true, \"type\": \"scatter\", \"data\": [0.6288092418712359, 0.6310160979644619, 0.6310160979644619, 0.6310160979644619, 0.6310160979644619, 0.6310160979644619, 0.6310160979644619, 0.6310160979644619, 0.6310160979644619, 0.6380308827954606, 0.6380308827954606, 0.6380308827954606, 0.6380308827954606, 0.6380308827954606, 0.6380308827954606, 0.6380308827954606, 0.6380308827954606, 0.6380308827954606, 0.6380308827954606, 0.6425086416103316]}], \"precision_score_macro\": [{\"categories\": [\"0\", \"2\", \"5\", \"8\", \"10\", \"13\", \"17\", \"19\", \"20\", \"25\", \"26\", \"28\", \"29\", \"30\", \"31\", \"32\", \"33\", \"34\", \"35\", \"39\"], \"mode\": \"markers\", \"name\": \"precision_score_macro\", \"stepped\": false, \"type\": \"scatter\", \"data\": [0.6593551853239622, 0.6047421338316961, 0.6513788238312063, 0.6492466917061457, 0.651070910313466, 0.6557061022568116, 0.656143539479433, 0.6520336290296211, 0.6571657939367365, 0.6561665142321138, 0.6576574499363472, 0.6608237756796416, 0.6566227532062374, 0.6601995896529271, 0.6580749307735329, 0.5733616160235859, 0.6603434161168626, 0.6571714122740668, 0.2885420404257864, 0.6601240000293928]}, {\"categories\": [\"0\", \"2\", \"5\", \"8\", \"10\", \"13\", \"17\", \"19\", \"20\", \"25\", \"26\", \"28\", \"29\", \"30\", \"31\", \"32\", \"33\", \"34\", \"35\", \"39\"], \"mode\": \"lines\", \"name\": \"precision_score_macro_max\", \"stepped\": true, \"type\": \"scatter\", \"data\": [0.6593551853239622, 0.6593551853239622, 0.6593551853239622, 0.6593551853239622, 0.6593551853239622, 0.6593551853239622, 0.6593551853239622, 0.6593551853239622, 0.6593551853239622, 0.6593551853239622, 0.6593551853239622, 0.6608237756796416, 0.6608237756796416, 0.6608237756796416, 0.6608237756796416, 0.6608237756796416, 0.6608237756796416, 0.6608237756796416, 0.6608237756796416, 0.6608237756796416]}], \"weighted_accuracy\": [{\"categories\": [\"0\", \"2\", \"5\", \"8\", \"10\", \"13\", \"17\", \"19\", \"20\", \"25\", \"26\", \"28\", \"29\", \"30\", \"31\", \"32\", \"33\", \"34\", \"35\", \"39\"], \"mode\": \"markers\", \"name\": \"weighted_accuracy\", \"stepped\": false, \"type\": \"scatter\", \"data\": [0.9967735519890721, 0.9686640166109657, 0.9928016128138353, 0.9920078998132092, 0.9927420122543869, 0.9952092581312149, 0.9954032565007709, 0.99358886586789, 0.99580805892418, 0.9954293460663508, 0.9960581055581419, 0.9974088566230856, 0.9955455337217418, 0.9971233885282422, 0.9962433964299897, 0.9945363526525206, 0.9971888039277415, 0.9958094283400113, 0.9765812329143235, 0.9971306081165174]}, {\"categories\": [\"0\", \"2\", \"5\", \"8\", \"10\", \"13\", \"17\", \"19\", \"20\", \"25\", \"26\", \"28\", \"29\", \"30\", \"31\", \"32\", \"33\", \"34\", \"35\", \"39\"], \"mode\": \"lines\", \"name\": \"weighted_accuracy_max\", \"stepped\": true, \"type\": \"scatter\", \"data\": [0.9967735519890721, 0.9967735519890721, 0.9967735519890721, 0.9967735519890721, 0.9967735519890721, 0.9967735519890721, 0.9967735519890721, 0.9967735519890721, 0.9967735519890721, 0.9967735519890721, 0.9967735519890721, 0.9974088566230856, 0.9974088566230856, 0.9974088566230856, 0.9974088566230856, 0.9974088566230856, 0.9974088566230856, 0.9974088566230856, 0.9974088566230856, 0.9974088566230856]}], \"norm_macro_recall\": [{\"categories\": [\"0\", \"2\", \"5\", \"8\", \"10\", \"13\", \"17\", \"19\", \"20\", \"25\", \"26\", \"28\", \"29\", \"30\", \"31\", \"32\", \"33\", \"34\", \"35\", \"39\"], \"mode\": \"markers\", \"name\": \"norm_macro_recall\", \"stepped\": false, \"type\": \"scatter\", \"data\": [0.4432138628068537, 0.44652414694669273, 0.3458411013910799, 0.3366151309568095, 0.3481124275333941, 0.4182455854431582, 0.43067703827545367, 0.40030410275266526, 0.43088429366598385, 0.4570463241931909, 0.436264530835225, 0.45278408351939115, 0.42086343360713435, 0.446816422541333, 0.4403284201224759, 0.3873423142392597, 0.44810890784177754, 0.4308609894927442, 0.0, 0.4637629624154973]}, {\"categories\": [\"0\", \"2\", \"5\", \"8\", \"10\", \"13\", \"17\", \"19\", \"20\", \"25\", \"26\", \"28\", \"29\", \"30\", \"31\", \"32\", \"33\", \"34\", \"35\", \"39\"], \"mode\": \"lines\", \"name\": \"norm_macro_recall_max\", \"stepped\": true, \"type\": \"scatter\", \"data\": [0.4432138628068537, 0.44652414694669273, 0.44652414694669273, 0.44652414694669273, 0.44652414694669273, 0.44652414694669273, 0.44652414694669273, 0.44652414694669273, 0.44652414694669273, 0.4570463241931909, 0.4570463241931909, 0.4570463241931909, 0.4570463241931909, 0.4570463241931909, 0.4570463241931909, 0.4570463241931909, 0.4570463241931909, 0.4570463241931909, 0.4570463241931909, 0.4637629624154973]}], \"matthews_correlation\": [{\"categories\": [\"0\", \"2\", \"5\", \"8\", \"10\", \"13\", \"17\", \"19\", \"20\", \"25\", \"26\", \"28\", \"29\", \"30\", \"31\", \"32\", \"33\", \"34\", \"35\", \"39\"], \"mode\": \"markers\", \"name\": \"matthews_correlation\", \"stepped\": false, \"type\": \"scatter\", \"data\": [0.9297758488178696, 0.8514354532467017, 0.8111886436564748, 0.7970481099146227, 0.8129363412239876, 0.8981464452244866, 0.9119112296618447, 0.873396194660118, 0.9135717123670937, 0.9396118296450723, 0.9200090288090169, 0.9419315618319481, 0.9020245924254056, 0.9348343813678498, 0.9249219806982552, 0.8631530812607255, 0.9363724030309654, 0.9135287597300494, 0.0, 0.9522639521839865]}, {\"categories\": [\"0\", \"2\", \"5\", \"8\", \"10\", \"13\", \"17\", \"19\", \"20\", \"25\", \"26\", \"28\", \"29\", \"30\", \"31\", \"32\", \"33\", \"34\", \"35\", \"39\"], \"mode\": \"lines\", \"name\": \"matthews_correlation_max\", \"stepped\": true, \"type\": \"scatter\", \"data\": [0.9297758488178696, 0.9297758488178696, 0.9297758488178696, 0.9297758488178696, 0.9297758488178696, 0.9297758488178696, 0.9297758488178696, 0.9297758488178696, 0.9297758488178696, 0.9396118296450723, 0.9396118296450723, 0.9419315618319481, 0.9419315618319481, 0.9419315618319481, 0.9419315618319481, 0.9419315618319481, 0.9419315618319481, 0.9419315618319481, 0.9419315618319481, 0.9522639521839865]}]}, \"metricName\": null, \"primaryMetricName\": \"accuracy\", \"showLegend\": false}, \"run_metrics\": [{\"name\": \"experiment_status\", \"run_id\": \"AutoML_24da6a42-eeb8-4270-b730-f04a69d8b1be\", \"categories\": [0, 1, 2, 3, 4, 5, 6, 7, 8, 9, 10, 11, 12, 13, 14], \"series\": [{\"data\": [\"DatasetEvaluation\", \"FeaturesGeneration\", \"DatasetFeaturization\", \"DatasetFeaturizationCompleted\", \"DatasetBalancing\", \"DatasetCrossValidationSplit\", \"ModelSelection\", \"BestRunExplainModel\", \"ModelExplanationDataSetSetup\", \"PickSurrogateModel\", \"EngineeredFeatureExplanations\", \"EngineeredFeatureExplanations\", \"RawFeaturesExplanations\", \"RawFeaturesExplanations\", \"BestRunExplainModel\"]}]}, {\"name\": \"experiment_status_description\", \"run_id\": \"AutoML_24da6a42-eeb8-4270-b730-f04a69d8b1be\", \"categories\": [0, 1, 2, 3, 4, 5, 6, 7, 8, 9, 10, 11, 12, 13, 14], \"series\": [{\"data\": [\"Gathering dataset statistics.\", \"Generating features for the dataset.\", \"Beginning to fit featurizers and featurize the dataset.\", \"Completed fit featurizers and featurizing the dataset.\", \"Performing class balancing sweeping\", \"Generating individually featurized CV splits.\", \"Beginning model selection.\", \"Best run model explanations started\", \"Model explanations data setup completed\", \"Choosing LightGBM as the surrogate model for explanations\", \"Computation of engineered features started\", \"Computation of engineered features completed\", \"Computation of raw features started\", \"Computation of raw features completed\", \"Best run model explanations completed\"]}]}, {\"name\": \"average_precision_score_macro\", \"run_id\": \"AutoML_24da6a42-eeb8-4270-b730-f04a69d8b1be\", \"categories\": [0], \"series\": [{\"data\": [0.6620424359658048]}]}, {\"name\": \"f1_score_weighted\", \"run_id\": \"AutoML_24da6a42-eeb8-4270-b730-f04a69d8b1be\", \"categories\": [0], \"series\": [{\"data\": [0.9887248051256088]}]}, {\"name\": \"recall_score_micro\", \"run_id\": \"AutoML_24da6a42-eeb8-4270-b730-f04a69d8b1be\", \"categories\": [0], \"series\": [{\"data\": [0.9890563329745246]}]}, {\"name\": \"precision_score_weighted\", \"run_id\": \"AutoML_24da6a42-eeb8-4270-b730-f04a69d8b1be\", \"categories\": [0], \"series\": [{\"data\": [0.988746529697736]}]}, {\"name\": \"precision_score_macro\", \"run_id\": \"AutoML_24da6a42-eeb8-4270-b730-f04a69d8b1be\", \"categories\": [0], \"series\": [{\"data\": [0.6601240000293928]}]}, {\"name\": \"recall_score_macro\", \"run_id\": \"AutoML_24da6a42-eeb8-4270-b730-f04a69d8b1be\", \"categories\": [0], \"series\": [{\"data\": [0.6425086416103316]}]}, {\"name\": \"average_precision_score_weighted\", \"run_id\": \"AutoML_24da6a42-eeb8-4270-b730-f04a69d8b1be\", \"categories\": [0], \"series\": [{\"data\": [0.9969940610360829]}]}, {\"name\": \"norm_macro_recall\", \"run_id\": \"AutoML_24da6a42-eeb8-4270-b730-f04a69d8b1be\", \"categories\": [0], \"series\": [{\"data\": [0.4637629624154973]}]}, {\"name\": \"AUC_weighted\", \"run_id\": \"AutoML_24da6a42-eeb8-4270-b730-f04a69d8b1be\", \"categories\": [0], \"series\": [{\"data\": [0.9945814354837839]}]}, {\"name\": \"AUC_micro\", \"run_id\": \"AutoML_24da6a42-eeb8-4270-b730-f04a69d8b1be\", \"categories\": [0], \"series\": [{\"data\": [0.9989243032829607]}]}, {\"name\": \"recall_score_weighted\", \"run_id\": \"AutoML_24da6a42-eeb8-4270-b730-f04a69d8b1be\", \"categories\": [0], \"series\": [{\"data\": [0.9890563329745246]}]}, {\"name\": \"average_precision_score_micro\", \"run_id\": \"AutoML_24da6a42-eeb8-4270-b730-f04a69d8b1be\", \"categories\": [0], \"series\": [{\"data\": [0.9973630606520251]}]}, {\"name\": \"accuracy\", \"run_id\": \"AutoML_24da6a42-eeb8-4270-b730-f04a69d8b1be\", \"categories\": [0], \"series\": [{\"data\": [0.9890563329745246]}]}, {\"name\": \"matthews_correlation\", \"run_id\": \"AutoML_24da6a42-eeb8-4270-b730-f04a69d8b1be\", \"categories\": [0], \"series\": [{\"data\": [0.9522639521839865]}]}, {\"name\": \"balanced_accuracy\", \"run_id\": \"AutoML_24da6a42-eeb8-4270-b730-f04a69d8b1be\", \"categories\": [0], \"series\": [{\"data\": [0.6425086416103316]}]}, {\"name\": \"precision_score_micro\", \"run_id\": \"AutoML_24da6a42-eeb8-4270-b730-f04a69d8b1be\", \"categories\": [0], \"series\": [{\"data\": [0.9890563329745246]}]}, {\"name\": \"weighted_accuracy\", \"run_id\": \"AutoML_24da6a42-eeb8-4270-b730-f04a69d8b1be\", \"categories\": [0], \"series\": [{\"data\": [0.9971306081165174]}]}, {\"name\": \"AUC_macro\", \"run_id\": \"AutoML_24da6a42-eeb8-4270-b730-f04a69d8b1be\", \"categories\": [0], \"series\": [{\"data\": [0.829965707902784]}]}, {\"name\": \"log_loss\", \"run_id\": \"AutoML_24da6a42-eeb8-4270-b730-f04a69d8b1be\", \"categories\": [0], \"series\": [{\"data\": [0.06003589983333342]}]}, {\"name\": \"f1_score_macro\", \"run_id\": \"AutoML_24da6a42-eeb8-4270-b730-f04a69d8b1be\", \"categories\": [0], \"series\": [{\"data\": [0.6509232242831369]}]}, {\"name\": \"f1_score_micro\", \"run_id\": \"AutoML_24da6a42-eeb8-4270-b730-f04a69d8b1be\", \"categories\": [0], \"series\": [{\"data\": [0.9890563329745246]}]}], \"run_logs\": \"\\nRun is completed.\", \"graph\": {}, \"widget_settings\": {\"childWidgetDisplay\": \"popup\", \"send_telemetry\": false, \"log_level\": \"INFO\", \"sdk_version\": \"1.44.0\"}, \"loading\": false}"
          },
          "metadata": {}
        }
      ],
      "execution_count": 7,
      "metadata": {
        "gather": {
          "logged": 1663835970827
        },
        "jupyter": {
          "outputs_hidden": false,
          "source_hidden": false
        },
        "nteract": {
          "transient": {
            "deleting": false
          }
        }
      }
    },
    {
      "cell_type": "code",
      "source": [
        "remote_run.wait_for_completion()"
      ],
      "outputs": [
        {
          "output_type": "execute_result",
          "execution_count": 8,
          "data": {
            "text/plain": "{'runId': 'AutoML_24da6a42-eeb8-4270-b730-f04a69d8b1be',\n 'target': 'capstone-compute-cluster',\n 'status': 'Completed',\n 'startTimeUtc': '2022-09-22T08:39:40.892634Z',\n 'endTimeUtc': '2022-09-22T08:57:04.946317Z',\n 'services': {},\n 'warnings': [{'source': 'JasmineService',\n   'message': 'No scores improved over last 10 iterations, so experiment stopped early. This early stopping behavior can be disabled by setting enable_early_stopping = False in AutoMLConfig for notebook/python SDK runs.'}],\n 'properties': {'num_iterations': '1000',\n  'training_type': 'TrainFull',\n  'acquisition_function': 'EI',\n  'primary_metric': 'accuracy',\n  'train_split': '0',\n  'acquisition_parameter': '0',\n  'num_cross_validation': '2',\n  'target': 'capstone-compute-cluster',\n  'AMLSettingsJsonString': '{\"path\":null,\"name\":\"capstone-spam-classification-experiment\",\"subscription_id\":\"3d1a56d2-7c81-4118-9790-f85d1acf0c77\",\"resource_group\":\"aml-quickstarts-208297\",\"workspace_name\":\"quick-starts-ws-208297\",\"region\":\"southcentralus\",\"compute_target\":\"capstone-compute-cluster\",\"spark_service\":null,\"azure_service\":\"remote\",\"many_models\":false,\"pipeline_fetch_max_batch_size\":1,\"enable_batch_run\":true,\"enable_run_restructure\":false,\"start_auxiliary_runs_before_parent_complete\":false,\"enable_code_generation\":true,\"iterations\":1000,\"primary_metric\":\"accuracy\",\"task_type\":\"classification\",\"positive_label\":null,\"data_script\":null,\"test_size\":0.0,\"test_include_predictions_only\":false,\"validation_size\":0.0,\"n_cross_validations\":2,\"y_min\":null,\"y_max\":null,\"num_classes\":null,\"featurization\":\"auto\",\"_ignore_package_version_incompatibilities\":false,\"is_timeseries\":false,\"max_cores_per_iteration\":1,\"max_concurrent_iterations\":5,\"iteration_timeout_minutes\":null,\"mem_in_mb\":null,\"enforce_time_on_windows\":false,\"experiment_timeout_minutes\":15,\"experiment_exit_score\":null,\"partition_column_names\":null,\"whitelist_models\":null,\"blacklist_algos\":[\"TensorFlowLinearClassifier\",\"TensorFlowDNN\"],\"supported_models\":[\"TabnetClassifier\",\"DecisionTree\",\"MultinomialNaiveBayes\",\"KNN\",\"BernoulliNaiveBayes\",\"TensorFlowDNN\",\"LinearSVM\",\"AveragedPerceptronClassifier\",\"SVM\",\"SGD\",\"LightGBM\",\"ExtremeRandomTrees\",\"RandomForest\",\"XGBoostClassifier\",\"TensorFlowLinearClassifier\",\"GradientBoosting\",\"LogisticRegression\"],\"private_models\":[],\"auto_blacklist\":true,\"blacklist_samples_reached\":false,\"exclude_nan_labels\":true,\"verbosity\":20,\"_debug_log\":\"azureml_automl.log\",\"show_warnings\":false,\"model_explainability\":true,\"service_url\":null,\"sdk_url\":null,\"sdk_packages\":null,\"enable_onnx_compatible_models\":false,\"enable_split_onnx_featurizer_estimator_models\":false,\"vm_type\":\"STANDARD_D2_V2\",\"telemetry_verbosity\":20,\"send_telemetry\":true,\"enable_dnn\":false,\"scenario\":\"AutoML\",\"environment_label\":null,\"save_mlflow\":false,\"enable_categorical_indicators\":false,\"force_text_dnn\":false,\"enable_feature_sweeping\":true,\"enable_early_stopping\":true,\"early_stopping_n_iters\":10,\"arguments\":null,\"dataset_id\":\"1e4bd0ae-220a-456f-b757-6d18b95cbbe3\",\"hyperdrive_config\":null,\"validation_dataset_id\":null,\"run_source\":null,\"metrics\":null,\"enable_metric_confidence\":false,\"enable_ensembling\":true,\"enable_stack_ensembling\":true,\"ensemble_iterations\":15,\"enable_tf\":false,\"enable_subsampling\":null,\"subsample_seed\":null,\"enable_nimbusml\":false,\"enable_streaming\":false,\"force_streaming\":false,\"track_child_runs\":true,\"allowed_private_models\":[],\"label_column_name\":\"Category\",\"weight_column_name\":null,\"cv_split_column_names\":null,\"enable_local_managed\":false,\"_local_managed_run_id\":null,\"cost_mode\":1,\"lag_length\":0,\"metric_operation\":\"maximize\",\"preprocess\":true}',\n  'DataPrepJsonString': '{\\\\\"training_data\\\\\": {\\\\\"datasetId\\\\\": \\\\\"1e4bd0ae-220a-456f-b757-6d18b95cbbe3\\\\\"}, \\\\\"datasets\\\\\": 0}',\n  'EnableSubsampling': None,\n  'runTemplate': 'AutoML',\n  'azureml.runsource': 'automl',\n  'display_task_type': 'classification',\n  'dependencies_versions': '{\"azureml-widgets\": \"1.44.0\", \"azureml-training-tabular\": \"1.44.0\", \"azureml-train\": \"1.44.0\", \"azureml-train-restclients-hyperdrive\": \"1.44.0\", \"azureml-train-core\": \"1.44.0\", \"azureml-train-automl\": \"1.44.0\", \"azureml-train-automl-runtime\": \"1.44.0\", \"azureml-train-automl-client\": \"1.44.0\", \"azureml-tensorboard\": \"1.44.0\", \"azureml-telemetry\": \"1.44.0\", \"azureml-sdk\": \"1.44.0\", \"azureml-samples\": \"0+unknown\", \"azureml-responsibleai\": \"1.44.0\", \"azureml-pipeline\": \"1.44.0\", \"azureml-pipeline-steps\": \"1.44.0\", \"azureml-pipeline-core\": \"1.44.0\", \"azureml-opendatasets\": \"1.44.0\", \"azureml-mlflow\": \"1.44.0\", \"azureml-interpret\": \"1.44.0\", \"azureml-inference-server-http\": \"0.7.4\", \"azureml-explain-model\": \"1.44.0\", \"azureml-defaults\": \"1.44.0\", \"azureml-dataset-runtime\": \"1.44.0\", \"azureml-dataprep\": \"4.2.2\", \"azureml-dataprep-rslex\": \"2.8.1\", \"azureml-dataprep-native\": \"38.0.0\", \"azureml-datadrift\": \"1.44.0\", \"azureml-core\": \"1.44.0\", \"azureml-contrib-services\": \"1.44.0\", \"azureml-contrib-server\": \"1.44.0\", \"azureml-contrib-reinforcementlearning\": \"1.44.0\", \"azureml-contrib-pipeline-steps\": \"1.44.0\", \"azureml-contrib-notebook\": \"1.44.0\", \"azureml-contrib-fairness\": \"1.44.0\", \"azureml-contrib-dataset\": \"1.44.0\", \"azureml-contrib-automl-pipeline-steps\": \"1.44.0\", \"azureml-cli-common\": \"1.44.0\", \"azureml-automl-runtime\": \"1.44.0\", \"azureml-automl-dnn-nlp\": \"1.44.0\", \"azureml-automl-core\": \"1.44.0\", \"azureml-accel-models\": \"1.44.0\"}',\n  '_aml_system_scenario_identification': 'Remote.Parent',\n  'ClientType': 'SDK',\n  'environment_cpu_name': 'AzureML-AutoML',\n  'environment_cpu_label': 'prod',\n  'environment_gpu_name': 'AzureML-AutoML-GPU',\n  'environment_gpu_label': 'prod',\n  'root_attribution': 'automl',\n  'attribution': 'AutoML',\n  'Orchestrator': 'AutoML',\n  'CancelUri': 'https://southcentralus.api.azureml.ms/jasmine/v1.0/subscriptions/3d1a56d2-7c81-4118-9790-f85d1acf0c77/resourceGroups/aml-quickstarts-208297/providers/Microsoft.MachineLearningServices/workspaces/quick-starts-ws-208297/experimentids/b1497084-46e4-4b08-b609-a40286e4510b/cancel/AutoML_24da6a42-eeb8-4270-b730-f04a69d8b1be',\n  'ClientSdkVersion': '1.44.0',\n  'snapshotId': '00000000-0000-0000-0000-000000000000',\n  'SetupRunId': 'AutoML_24da6a42-eeb8-4270-b730-f04a69d8b1be_setup',\n  'SetupRunContainerId': 'dcid.AutoML_24da6a42-eeb8-4270-b730-f04a69d8b1be_setup',\n  'FeaturizationRunJsonPath': 'featurizer_container.json',\n  'FeaturizationRunId': 'AutoML_24da6a42-eeb8-4270-b730-f04a69d8b1be_featurize',\n  'ProblemInfoJsonString': '{\"dataset_num_categorical\": 0, \"is_sparse\": true, \"subsampling\": false, \"has_extra_col\": true, \"dataset_classes\": 4, \"dataset_features\": 64518, \"dataset_samples\": 5574, \"single_frequency_class_detected\": true}',\n  'ModelExplainRunId': 'AutoML_24da6a42-eeb8-4270-b730-f04a69d8b1be_ModelExplain'},\n 'inputDatasets': [{'dataset': {'id': '1e4bd0ae-220a-456f-b757-6d18b95cbbe3'}, 'consumptionDetails': {'type': 'RunInput', 'inputName': 'training_data', 'mechanism': 'Direct'}}],\n 'outputDatasets': [],\n 'logFiles': {},\n 'submittedBy': 'ODL_User 208297'}"
          },
          "metadata": {}
        }
      ],
      "execution_count": 8,
      "metadata": {
        "jupyter": {
          "source_hidden": false,
          "outputs_hidden": false
        },
        "nteract": {
          "transient": {
            "deleting": false
          }
        },
        "gather": {
          "logged": 1663837030829
        }
      }
    },
    {
      "cell_type": "markdown",
      "source": [
        "### Get the best model and display its properties"
      ],
      "metadata": {}
    },
    {
      "cell_type": "code",
      "source": [
        "best_run, fitted_model = remote_run.get_output()\n",
        "\n",
        "# Get best_run metrics\n",
        "best_run_metrics = best_run.get_metrics()\n",
        "for name, value in best_run_metrics.items():\n",
        "    print(f\"{name}: {value}\")"
      ],
      "outputs": [
        {
          "output_type": "stream",
          "name": "stdout",
          "text": "f1_score_micro: 0.9890563329745246\nf1_score_macro: 0.6509232242831369\naverage_precision_score_macro: 0.6620424359658048\nrecall_score_weighted: 0.9890563329745246\nAUC_micro: 0.9989243032829607\nprecision_score_weighted: 0.988746529697736\nf1_score_weighted: 0.9887248051256088\nAUC_weighted: 0.9945814354837839\naverage_precision_score_weighted: 0.9969940610360829\naccuracy: 0.9890563329745246\nbalanced_accuracy: 0.6425086416103316\nlog_loss: 0.06003589983333342\nweighted_accuracy: 0.9971306081165174\naverage_precision_score_micro: 0.9973630606520251\nprecision_score_micro: 0.9890563329745246\nnorm_macro_recall: 0.4637629624154973\nrecall_score_micro: 0.9890563329745246\nAUC_macro: 0.829965707902784\nrecall_score_macro: 0.6425086416103316\nprecision_score_macro: 0.6601240000293928\nmatthews_correlation: 0.9522639521839865\naccuracy_table: aml://artifactId/ExperimentRun/dcid.AutoML_24da6a42-eeb8-4270-b730-f04a69d8b1be_39/accuracy_table\nconfusion_matrix: aml://artifactId/ExperimentRun/dcid.AutoML_24da6a42-eeb8-4270-b730-f04a69d8b1be_39/confusion_matrix\n"
        }
      ],
      "execution_count": 9,
      "metadata": {
        "gather": {
          "logged": 1663837042575
        },
        "jupyter": {
          "outputs_hidden": false,
          "source_hidden": false
        },
        "nteract": {
          "transient": {
            "deleting": false
          }
        }
      }
    },
    {
      "cell_type": "markdown",
      "source": [
        "### Save the best model\n"
      ],
      "metadata": {
        "nteract": {
          "transient": {
            "deleting": false
          }
        }
      }
    },
    {
      "cell_type": "code",
      "source": [
        "import joblib, os\n",
        "os.mkdir(\"output\")\n",
        "joblib.dump(value=fitted_model, filename='output/best-automl.pkl')"
      ],
      "outputs": [
        {
          "output_type": "execute_result",
          "execution_count": 10,
          "data": {
            "text/plain": "['output/best-automl.pkl']"
          },
          "metadata": {}
        }
      ],
      "execution_count": 10,
      "metadata": {
        "gather": {
          "logged": 1663837046822
        },
        "jupyter": {
          "outputs_hidden": false,
          "source_hidden": false
        },
        "nteract": {
          "transient": {
            "deleting": false
          }
        }
      }
    },
    {
      "cell_type": "code",
      "source": [
        "best_run.get_file_names()"
      ],
      "outputs": [
        {
          "output_type": "execute_result",
          "execution_count": 11,
          "data": {
            "text/plain": "['accuracy_table',\n 'automl_driver.py',\n 'confusion_matrix',\n 'logs/azureml/azureml_automl.log',\n 'outputs/conda_env_v_1_0_0.yml',\n 'outputs/engineered_feature_names.json',\n 'outputs/env_dependencies.json',\n 'outputs/featurization_summary.json',\n 'outputs/generated_code/conda_environment.yaml',\n 'outputs/generated_code/script.py',\n 'outputs/generated_code/script_run_notebook.ipynb',\n 'outputs/internal_cross_validated_models.pkl',\n 'outputs/model.pkl',\n 'outputs/pipeline_graph.json',\n 'outputs/run_id.txt',\n 'outputs/scoring_file_pbi_v_1_0_0.py',\n 'outputs/scoring_file_v_1_0_0.py',\n 'outputs/scoring_file_v_2_0_0.py',\n 'system_logs/cs_capability/cs-capability.log',\n 'system_logs/hosttools_capability/hosttools-capability.log',\n 'system_logs/lifecycler/execution-wrapper.log',\n 'system_logs/lifecycler/lifecycler.log',\n 'system_logs/metrics_capability/metrics-capability.log',\n 'system_logs/snapshot_capability/snapshot-capability.log',\n 'user_logs/std_log.txt']"
          },
          "metadata": {}
        }
      ],
      "execution_count": 11,
      "metadata": {
        "jupyter": {
          "source_hidden": false,
          "outputs_hidden": false
        },
        "nteract": {
          "transient": {
            "deleting": false
          }
        },
        "gather": {
          "logged": 1663837046879
        }
      }
    },
    {
      "cell_type": "markdown",
      "source": [
        "### Register the best model"
      ],
      "metadata": {
        "nteract": {
          "transient": {
            "deleting": false
          }
        }
      }
    },
    {
      "cell_type": "code",
      "source": [
        "best_run.register_model(model_name='automl-best-model', model_path='outputs/model.pkl')"
      ],
      "outputs": [
        {
          "output_type": "execute_result",
          "execution_count": 12,
          "data": {
            "text/plain": "Model(workspace=Workspace.create(name='quick-starts-ws-208297', subscription_id='3d1a56d2-7c81-4118-9790-f85d1acf0c77', resource_group='aml-quickstarts-208297'), name=automl-best-model, id=automl-best-model:1, version=1, tags={}, properties={})"
          },
          "metadata": {}
        }
      ],
      "execution_count": 12,
      "metadata": {
        "jupyter": {
          "source_hidden": false,
          "outputs_hidden": false
        },
        "nteract": {
          "transient": {
            "deleting": false
          }
        },
        "gather": {
          "logged": 1663837047395
        }
      }
    },
    {
      "cell_type": "markdown",
      "source": [
        "## Model Deployment\n",
        "\n",
        "Remember you have to deploy only one of the two models you trained but you still need to register both the models. Perform the steps in the rest of this notebook only if you wish to deploy this model.\n",
        "\n",
        "TODO: In the cell below, register the model, create an inference config and deploy the model as a web service."
      ],
      "metadata": {}
    },
    {
      "cell_type": "code",
      "source": [],
      "outputs": [],
      "execution_count": null,
      "metadata": {
        "gather": {
          "logged": 1598431435189
        },
        "jupyter": {
          "outputs_hidden": false,
          "source_hidden": false
        },
        "nteract": {
          "transient": {
            "deleting": false
          }
        }
      }
    },
    {
      "cell_type": "markdown",
      "source": [
        "TODO: In the cell below, send a request to the web service you deployed to test it."
      ],
      "metadata": {
        "collapsed": true,
        "gather": {
          "logged": 1598431657736
        },
        "jupyter": {
          "outputs_hidden": false,
          "source_hidden": false
        },
        "nteract": {
          "transient": {
            "deleting": false
          }
        }
      }
    },
    {
      "cell_type": "code",
      "source": [],
      "outputs": [],
      "execution_count": null,
      "metadata": {
        "gather": {
          "logged": 1598432707604
        },
        "jupyter": {
          "outputs_hidden": false,
          "source_hidden": false
        },
        "nteract": {
          "transient": {
            "deleting": false
          }
        }
      }
    },
    {
      "cell_type": "markdown",
      "source": [
        "TODO: In the cell below, print the logs of the web service and delete the service"
      ],
      "metadata": {
        "collapsed": true,
        "gather": {
          "logged": 1598432765711
        },
        "jupyter": {
          "outputs_hidden": false,
          "source_hidden": false
        },
        "nteract": {
          "transient": {
            "deleting": false
          }
        }
      }
    },
    {
      "cell_type": "code",
      "source": [],
      "outputs": [],
      "execution_count": null,
      "metadata": {
        "jupyter": {
          "outputs_hidden": false,
          "source_hidden": false
        },
        "nteract": {
          "transient": {
            "deleting": false
          }
        }
      }
    },
    {
      "cell_type": "markdown",
      "source": [
        "**Submission Checklist**\n",
        "- I have registered the model.\n",
        "- I have deployed the model with the best accuracy as a webservice.\n",
        "- I have tested the webservice by sending a request to the model endpoint.\n",
        "- I have deleted the webservice and shutdown all the computes that I have used.\n",
        "- I have taken a screenshot showing the model endpoint as active.\n",
        "- The project includes a file containing the environment details.\n"
      ],
      "metadata": {}
    },
    {
      "cell_type": "markdown",
      "source": [],
      "metadata": {}
    }
  ],
  "metadata": {
    "kernel_info": {
      "name": "python3"
    },
    "kernelspec": {
      "name": "python3",
      "language": "python",
      "display_name": "Python 3 (ipykernel)"
    },
    "language_info": {
      "name": "python",
      "version": "3.8.5",
      "mimetype": "text/x-python",
      "codemirror_mode": {
        "name": "ipython",
        "version": 3
      },
      "pygments_lexer": "ipython3",
      "nbconvert_exporter": "python",
      "file_extension": ".py"
    },
    "nteract": {
      "version": "nteract-front-end@1.0.0"
    },
    "microsoft": {
      "host": {
        "AzureML": {
          "notebookHasBeenCompleted": true
        }
      }
    }
  },
  "nbformat": 4,
  "nbformat_minor": 2
}